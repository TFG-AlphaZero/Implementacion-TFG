{
 "cells": [
  {
   "cell_type": "code",
   "execution_count": 1,
   "metadata": {},
   "outputs": [],
   "source": [
    "import os\n",
    "\n",
    "\n",
    "if 'tfg' not in os.listdir():\n",
    "    os.chdir('..')"
   ]
  },
  {
   "cell_type": "code",
   "execution_count": 2,
   "metadata": {},
   "outputs": [],
   "source": [
    "from tfg.alphaZero import create_alphazero\n",
    "from tfg.alphaZeroCallbacks import Checkpoint\n",
    "from tfg.alphaZeroAdapters import TicTacToeAdapter\n",
    "from tfg.util import enable_gpu\n",
    "from tfg.alphaZeroConfig import AlphaZeroConfig\n",
    "from game.tictactoe import TicTacToe\n",
    "\n",
    "import time"
   ]
  },
  {
   "cell_type": "code",
   "execution_count": 3,
   "metadata": {},
   "outputs": [],
   "source": [
    "enable_gpu()\n",
    "\n",
    "game = TicTacToe()"
   ]
  },
  {
   "cell_type": "code",
   "execution_count": 4,
   "metadata": {
    "scrolled": true
   },
   "outputs": [
    {
     "name": "stderr",
     "output_type": "stream",
     "text": [
      "2021-05-11 18:33:16,761\tINFO services.py:1172 -- View the Ray dashboard at \u001B[1m\u001B[32mhttp://127.0.0.1:8265\u001B[39m\u001B[22m\n"
     ]
    },
    {
     "name": "stdout",
     "output_type": "stream",
     "text": [
      "Epoch 1/5\n",
      "32/32 - 5s - loss: 1.3492 - value_head_loss: 0.4768 - policy_head_loss: 2.2216\n",
      "Epoch 2/5\n",
      "32/32 - 0s - loss: 1.2505 - value_head_loss: 0.4113 - policy_head_loss: 2.0898\n",
      "Epoch 3/5\n",
      "32/32 - 0s - loss: 1.1535 - value_head_loss: 0.3877 - policy_head_loss: 1.9194\n",
      "Epoch 4/5\n",
      "32/32 - 0s - loss: 1.0918 - value_head_loss: 0.3635 - policy_head_loss: 1.8201\n",
      "Epoch 5/5\n",
      "32/32 - 0s - loss: 1.0375 - value_head_loss: 0.3364 - policy_head_loss: 1.7385\n",
      "Games played: 120\n",
      "Epoch 1/5\n",
      "32/32 - 1s - loss: 0.8922 - value_head_loss: 0.2707 - policy_head_loss: 1.5136\n",
      "Epoch 2/5\n",
      "32/32 - 0s - loss: 0.7746 - value_head_loss: 0.2397 - policy_head_loss: 1.3096\n",
      "Epoch 3/5\n",
      "32/32 - 0s - loss: 0.7370 - value_head_loss: 0.2291 - policy_head_loss: 1.2448\n",
      "Epoch 4/5\n",
      "32/32 - 0s - loss: 0.6946 - value_head_loss: 0.2188 - policy_head_loss: 1.1704\n",
      "Epoch 5/5\n",
      "32/32 - 0s - loss: 0.6809 - value_head_loss: 0.2169 - policy_head_loss: 1.1448\n",
      "Games played: 240\n",
      "Epoch 1/5\n",
      "32/32 - 0s - loss: 0.5858 - value_head_loss: 0.1420 - policy_head_loss: 1.0297\n",
      "Epoch 2/5\n",
      "32/32 - 0s - loss: 0.5311 - value_head_loss: 0.1223 - policy_head_loss: 0.9399\n",
      "Epoch 3/5\n",
      "32/32 - 0s - loss: 0.5153 - value_head_loss: 0.1148 - policy_head_loss: 0.9157\n",
      "Epoch 4/5\n",
      "32/32 - 0s - loss: 0.4983 - value_head_loss: 0.1114 - policy_head_loss: 0.8852\n",
      "Epoch 5/5\n",
      "32/32 - 0s - loss: 0.4918 - value_head_loss: 0.1055 - policy_head_loss: 0.8781\n",
      "Games played: 360\n",
      "Epoch 1/5\n",
      "32/32 - 0s - loss: 0.4927 - value_head_loss: 0.1040 - policy_head_loss: 0.8814\n",
      "Epoch 2/5\n",
      "32/32 - 0s - loss: 0.4643 - value_head_loss: 0.0964 - policy_head_loss: 0.8323\n",
      "Epoch 3/5\n",
      "32/32 - 0s - loss: 0.4460 - value_head_loss: 0.0907 - policy_head_loss: 0.8014\n",
      "Epoch 4/5\n",
      "32/32 - 0s - loss: 0.4369 - value_head_loss: 0.0882 - policy_head_loss: 0.7857\n",
      "Epoch 5/5\n",
      "32/32 - 0s - loss: 0.4344 - value_head_loss: 0.0850 - policy_head_loss: 0.7838\n",
      "Games played: 480\n",
      "Epoch 1/5\n",
      "32/32 - 0s - loss: 0.4535 - value_head_loss: 0.0679 - policy_head_loss: 0.8391\n",
      "Epoch 2/5\n",
      "32/32 - 0s - loss: 0.4446 - value_head_loss: 0.0601 - policy_head_loss: 0.8291\n",
      "Epoch 3/5\n",
      "32/32 - 0s - loss: 0.4175 - value_head_loss: 0.0569 - policy_head_loss: 0.7782\n",
      "Epoch 4/5\n",
      "32/32 - 0s - loss: 0.4091 - value_head_loss: 0.0545 - policy_head_loss: 0.7637\n",
      "Epoch 5/5\n",
      "32/32 - 0s - loss: 0.4042 - value_head_loss: 0.0510 - policy_head_loss: 0.7575\n",
      "Games played: 600\n",
      "Finished training after 136.58645176887512 seconds\n"
     ]
    }
   ],
   "source": [
    "config = AlphaZeroConfig(\n",
    "    learning_rate=.01,\n",
    "    regularizer_constant=.0,\n",
    "    residual_layers=3,\n",
    "    filters=32,\n",
    "    kernel_size=(3, 3)\n",
    ")\n",
    "\n",
    "start = time.time()\n",
    "\n",
    "alphazero = create_alphazero(game, TicTacToeAdapter(), max_workers=10,\n",
    "                             self_play_times=120, max_games_counter=600,\n",
    "                             buffer_size=1500, batch_size=1024, temperature=100,\n",
    "                             epochs=5, c_puct=1, exploration_noise=(.25, .045),\n",
    "                             mcts_iter=200, nn_config=config)\n",
    "\n",
    "print(\"Finished training after\", time.time() - start, \"seconds\")"
   ]
  },
  {
   "cell_type": "code",
   "execution_count": 5,
   "metadata": {},
   "outputs": [],
   "source": [
    "alphazero.save('models/TicTacToe_copy.h5')"
   ]
  },
  {
   "cell_type": "code",
   "execution_count": 1,
   "metadata": {},
   "outputs": [],
   "source": [
    "import os\n",
    "\n",
    "\n",
    "if 'tfg' not in os.listdir():\n",
    "    os.chdir('..')\n",
    "    \n",
    "from tfg.strategies import Minimax, MonteCarloTree\n",
    "from tfg.alphaZero import parallel_play\n",
    "from tfg.alphaZeroAdapters import TicTacToeAdapter\n",
    "from tfg.util import enable_gpu,play\n",
    "from game.tictactoe import TicTacToe"
   ]
  },
  {
   "cell_type": "code",
   "execution_count": 2,
   "metadata": {},
   "outputs": [],
   "source": [
    "enable_gpu()\n",
    "\n",
    "game = TicTacToe()\n",
    "minimax = Minimax(game)"
   ]
  },
  {
   "cell_type": "code",
   "execution_count": 3,
   "metadata": {},
   "outputs": [
    {
     "data": {
      "text/plain": [
       "(12, 88, 0)"
      ]
     },
     "execution_count": 3,
     "metadata": {},
     "output_type": "execute_result"
    }
   ],
   "source": [
    "parallel_play(game, TicTacToeAdapter(), Minimax(game),\n",
    "              'models/TicTacToe_copy.h5', 'black', max_workers=10,\n",
    "              mcts_iter=2, games=100)"
   ]
  },
  {
   "cell_type": "code",
   "execution_count": 4,
   "metadata": {},
   "outputs": [
    {
     "data": {
      "text/plain": [
       "(0, 100, 0)"
      ]
     },
     "execution_count": 4,
     "metadata": {},
     "output_type": "execute_result"
    }
   ],
   "source": [
    "parallel_play(game, TicTacToeAdapter(), Minimax(game),\n",
    "              'models/TicTacToe_copy.h5', 'black', max_workers=10,\n",
    "              mcts_iter=200, games=100)"
   ]
  },
  {
   "cell_type": "code",
   "execution_count": null,
   "metadata": {},
   "outputs": [],
   "source": []
  }
 ],
 "metadata": {
  "kernelspec": {
   "display_name": "Python 3",
   "language": "python",
   "name": "python3"
  },
  "language_info": {
   "codemirror_mode": {
    "name": "ipython",
    "version": 3
   },
   "file_extension": ".py",
   "mimetype": "text/x-python",
   "name": "python",
   "nbconvert_exporter": "python",
   "pygments_lexer": "ipython3",
   "version": "3.8.8"
  }
 },
 "nbformat": 4,
 "nbformat_minor": 1
}