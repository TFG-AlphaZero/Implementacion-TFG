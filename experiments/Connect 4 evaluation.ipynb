{
 "cells": [
  {
   "cell_type": "code",
   "execution_count": 1,
   "metadata": {},
   "outputs": [],
   "source": [
    "import os\n",
    "\n",
    "\n",
    "if 'tfg' not in os.listdir():\n",
    "    os.chdir('..')"
   ]
  },
  {
   "cell_type": "code",
   "execution_count": 2,
   "metadata": {},
   "outputs": [],
   "source": [
    "from game.connect_n import ConnectN, n_connected_heuristic\n",
    "from tfg.strategies import Minimax, MonteCarloTree\n",
    "from tfg.alphaZero import parallel_play\n",
    "from tfg.alphaZeroAdapters import ConnectNAdapter\n",
    "from tfg.alphaZeroConfig import AlphaZeroConfig"
   ]
  },
  {
   "cell_type": "code",
   "execution_count": 3,
   "metadata": {},
   "outputs": [],
   "source": [
    "game = ConnectN()\n",
    "adapter = ConnectNAdapter(game)\n",
    "\n",
    "rivals = {\n",
    "    'minimax_5_2': Minimax(game, 5, n_connected_heuristic(2)),\n",
    "    'minimax_6_2': Minimax(game, 6, n_connected_heuristic(2)),\n",
    "    'mcts_200': MonteCarloTree(game, max_iter=200, reset_tree=False),\n",
    "    'mcts_400': MonteCarloTree(game, max_iter=400, reset_tree=False),\n",
    "    'mcts_600': MonteCarloTree(game, max_iter=600, reset_tree=False)\n",
    "}"
   ]
  },
  {
   "cell_type": "code",
   "execution_count": 4,
   "metadata": {},
   "outputs": [
    {
     "name": "stdout",
     "output_type": "stream",
     "text": [
      "AlphaZero 30 - 12 minimax_5_2 (8 draws)\n",
      "minimax_5_2 37 - 12 AlphaZero (1 draws)\n",
      "AlphaZero 18 - 18 minimax_6_2 (14 draws)\n",
      "minimax_6_2 29 - 16 AlphaZero (5 draws)\n",
      "AlphaZero 28 - 20 mcts_200 (2 draws)\n",
      "mcts_200 27 - 20 AlphaZero (3 draws)\n",
      "AlphaZero 21 - 24 mcts_400 (5 draws)\n",
      "mcts_400 34 - 15 AlphaZero (1 draws)\n",
      "AlphaZero 11 - 37 mcts_600 (2 draws)\n",
      "mcts_600 30 - 16 AlphaZero (4 draws)\n"
     ]
    }
   ],
   "source": [
    "results = {'white': dict(), 'black': dict()}\n",
    "\n",
    "for rival_name, rival in rivals.items():\n",
    "    for color in ('white', 'black'):\n",
    "        match_result = parallel_play(game, adapter, rival, 'experiments/models/checkpoints/connect4/checkpoint3.h5',\n",
    "                                     color=color, games=50, max_workers=10, mcts_iter=400, c_puct=1)\n",
    "        results[color][rival_name] = match_result\n",
    "        if color == 'white':\n",
    "            print(\"AlphaZero\", match_result[0], \"-\", match_result[2], rival_name, f\"({match_result[1]} draws)\")\n",
    "        else:\n",
    "            print(rival_name, match_result[0], \"-\", match_result[2], \"AlphaZero\", f\"({match_result[1]} draws)\")"
   ]
  }
 ],
 "metadata": {
  "kernelspec": {
   "display_name": "Python 3",
   "language": "python",
   "name": "python3"
  },
  "language_info": {
   "codemirror_mode": {
    "name": "ipython",
    "version": 3
   },
   "file_extension": ".py",
   "mimetype": "text/x-python",
   "name": "python",
   "nbconvert_exporter": "python",
   "pygments_lexer": "ipython3",
   "version": "3.8.8"
  }
 },
 "nbformat": 4,
 "nbformat_minor": 1
}
