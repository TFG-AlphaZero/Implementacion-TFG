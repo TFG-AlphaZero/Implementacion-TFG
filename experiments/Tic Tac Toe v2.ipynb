{
 "cells": [
  {
   "cell_type": "code",
   "execution_count": 1,
   "metadata": {},
   "outputs": [],
   "source": [
    "from tfg.alphaZero import create_alphazero, AlphaZero\n",
    "from tfg.alphaZeroCallbacks import GameStore\n",
    "from tfg.alphaZeroAdapters import TicTacToeAdapter\n",
    "from tfg.util import enable_gpu, play\n",
    "from tfg.strategies import Minimax, MonteCarloTree\n",
    "from game.tictactoe import TicTacToe"
   ]
  },
  {
   "cell_type": "code",
   "execution_count": 2,
   "metadata": {},
   "outputs": [],
   "source": [
    "enable_gpu()\n",
    "\n",
    "game = TicTacToe()"
   ]
  },
  {
   "cell_type": "code",
   "execution_count": 4,
   "metadata": {
    "scrolled": true
   },
   "outputs": [
    {
     "name": "stdout",
     "output_type": "stream",
     "text": [
      "Epoch 1/20\n",
      "16/16 - 4s - loss: 1.5844 - value_head_loss: 0.6146 - policy_head_loss: 2.2427\n",
      "Epoch 2/20\n",
      "16/16 - 0s - loss: 1.5801 - value_head_loss: 0.5067 - policy_head_loss: 2.1871\n",
      "Epoch 3/20\n",
      "16/16 - 0s - loss: 1.5656 - value_head_loss: 0.4661 - policy_head_loss: 2.1811\n",
      "Epoch 4/20\n",
      "16/16 - 0s - loss: 1.5444 - value_head_loss: 0.4556 - policy_head_loss: 2.1721\n",
      "Epoch 5/20\n",
      "16/16 - 0s - loss: 1.5020 - value_head_loss: 0.4272 - policy_head_loss: 2.1459\n",
      "Epoch 6/20\n",
      "16/16 - 0s - loss: 1.4518 - value_head_loss: 0.4147 - policy_head_loss: 2.0870\n",
      "Epoch 7/20\n",
      "16/16 - 0s - loss: 1.3838 - value_head_loss: 0.3906 - policy_head_loss: 1.9971\n",
      "Epoch 8/20\n",
      "16/16 - 0s - loss: 1.3422 - value_head_loss: 0.3893 - policy_head_loss: 1.9273\n",
      "Epoch 9/20\n",
      "16/16 - 0s - loss: 1.2973 - value_head_loss: 0.3766 - policy_head_loss: 1.8581\n",
      "Epoch 10/20\n",
      "16/16 - 0s - loss: 1.2670 - value_head_loss: 0.3640 - policy_head_loss: 1.8173\n",
      "Epoch 11/20\n",
      "16/16 - 0s - loss: 1.2091 - value_head_loss: 0.3481 - policy_head_loss: 1.7239\n",
      "Epoch 12/20\n",
      "16/16 - 0s - loss: 1.1617 - value_head_loss: 0.3225 - policy_head_loss: 1.6643\n",
      "Epoch 13/20\n",
      "16/16 - 0s - loss: 1.1577 - value_head_loss: 0.3266 - policy_head_loss: 1.6619\n",
      "Epoch 14/20\n",
      "16/16 - 0s - loss: 1.1292 - value_head_loss: 0.3253 - policy_head_loss: 1.6128\n",
      "Epoch 15/20\n",
      "16/16 - 0s - loss: 1.0971 - value_head_loss: 0.3088 - policy_head_loss: 1.5730\n",
      "Epoch 16/20\n",
      "16/16 - 0s - loss: 1.0744 - value_head_loss: 0.2978 - policy_head_loss: 1.5464\n",
      "Epoch 17/20\n",
      "16/16 - 0s - loss: 1.0834 - value_head_loss: 0.3099 - policy_head_loss: 1.5577\n",
      "Epoch 18/20\n",
      "16/16 - 0s - loss: 1.0578 - value_head_loss: 0.2872 - policy_head_loss: 1.5354\n",
      "Epoch 19/20\n",
      "16/16 - 0s - loss: 1.0448 - value_head_loss: 0.2755 - policy_head_loss: 1.5286\n",
      "Epoch 20/20\n",
      "16/16 - 0s - loss: 1.0058 - value_head_loss: 0.2517 - policy_head_loss: 1.4819\n",
      "Games played: 120\n",
      "Epoch 1/20\n",
      "16/16 - 0s - loss: 1.1349 - value_head_loss: 0.3538 - policy_head_loss: 1.6400\n",
      "Epoch 2/20\n",
      "16/16 - 0s - loss: 1.0089 - value_head_loss: 0.2969 - policy_head_loss: 1.4299\n",
      "Epoch 3/20\n",
      "16/16 - 0s - loss: 0.9279 - value_head_loss: 0.2641 - policy_head_loss: 1.2993\n",
      "Epoch 4/20\n",
      "16/16 - 0s - loss: 0.8996 - value_head_loss: 0.2714 - policy_head_loss: 1.2444\n",
      "Epoch 5/20\n",
      "16/16 - 0s - loss: 0.8532 - value_head_loss: 0.2396 - policy_head_loss: 1.1963\n",
      "Epoch 6/20\n",
      "16/16 - 0s - loss: 0.8315 - value_head_loss: 0.2169 - policy_head_loss: 1.1883\n",
      "Epoch 7/20\n",
      "16/16 - 0s - loss: 0.8373 - value_head_loss: 0.2376 - policy_head_loss: 1.1888\n",
      "Epoch 8/20\n",
      "16/16 - 0s - loss: 0.8287 - value_head_loss: 0.2343 - policy_head_loss: 1.1807\n",
      "Epoch 9/20\n",
      "16/16 - 0s - loss: 0.8003 - value_head_loss: 0.2076 - policy_head_loss: 1.1559\n",
      "Epoch 10/20\n",
      "16/16 - 0s - loss: 0.8151 - value_head_loss: 0.2101 - policy_head_loss: 1.1903\n",
      "Epoch 11/20\n",
      "16/16 - 0s - loss: 0.8099 - value_head_loss: 0.1987 - policy_head_loss: 1.1938\n",
      "Epoch 12/20\n",
      "16/16 - 0s - loss: 0.7795 - value_head_loss: 0.1962 - policy_head_loss: 1.1372\n",
      "Epoch 13/20\n",
      "16/16 - 0s - loss: 0.8024 - value_head_loss: 0.2245 - policy_head_loss: 1.1593\n",
      "Epoch 14/20\n",
      "16/16 - 0s - loss: 0.7880 - value_head_loss: 0.2005 - policy_head_loss: 1.1583\n",
      "Epoch 15/20\n",
      "16/16 - 0s - loss: 0.7887 - value_head_loss: 0.1999 - policy_head_loss: 1.1634\n",
      "Epoch 16/20\n",
      "16/16 - 0s - loss: 0.7969 - value_head_loss: 0.2062 - policy_head_loss: 1.1746\n",
      "Epoch 17/20\n",
      "16/16 - 0s - loss: 0.7718 - value_head_loss: 0.1876 - policy_head_loss: 1.1452\n",
      "Epoch 18/20\n",
      "16/16 - 0s - loss: 0.7608 - value_head_loss: 0.1947 - policy_head_loss: 1.1214\n",
      "Epoch 19/20\n",
      "16/16 - 0s - loss: 0.7520 - value_head_loss: 0.1704 - policy_head_loss: 1.1346\n",
      "Epoch 20/20\n",
      "16/16 - 0s - loss: 0.7568 - value_head_loss: 0.1858 - policy_head_loss: 1.1346\n",
      "Games played: 240\n",
      "Epoch 1/20\n",
      "16/16 - 0s - loss: 0.8084 - value_head_loss: 0.1863 - policy_head_loss: 1.2384\n",
      "Epoch 2/20\n",
      "16/16 - 0s - loss: 0.7570 - value_head_loss: 0.1614 - policy_head_loss: 1.1446\n",
      "Epoch 3/20\n",
      "16/16 - 0s - loss: 0.7030 - value_head_loss: 0.1509 - policy_head_loss: 1.0447\n",
      "Epoch 4/20\n",
      "16/16 - 0s - loss: 0.6757 - value_head_loss: 0.1362 - policy_head_loss: 1.0151\n",
      "Epoch 5/20\n",
      "16/16 - 0s - loss: 0.6597 - value_head_loss: 0.1283 - policy_head_loss: 1.0028\n",
      "Epoch 6/20\n",
      "16/16 - 0s - loss: 0.6426 - value_head_loss: 0.1215 - policy_head_loss: 0.9857\n",
      "Epoch 7/20\n",
      "16/16 - 0s - loss: 0.6386 - value_head_loss: 0.1184 - policy_head_loss: 0.9901\n",
      "Epoch 8/20\n",
      "16/16 - 0s - loss: 0.6370 - value_head_loss: 0.1146 - policy_head_loss: 0.9984\n",
      "Epoch 9/20\n",
      "16/16 - 0s - loss: 0.6494 - value_head_loss: 0.1200 - policy_head_loss: 1.0222\n",
      "Epoch 10/20\n",
      "16/16 - 0s - loss: 0.6741 - value_head_loss: 0.1399 - policy_head_loss: 1.0435\n",
      "Epoch 11/20\n",
      "16/16 - 0s - loss: 0.6665 - value_head_loss: 0.1232 - policy_head_loss: 1.0388\n",
      "Epoch 12/20\n",
      "16/16 - 0s - loss: 0.6542 - value_head_loss: 0.1138 - policy_head_loss: 1.0232\n",
      "Epoch 13/20\n",
      "16/16 - 0s - loss: 0.6426 - value_head_loss: 0.1114 - policy_head_loss: 1.0057\n",
      "Epoch 14/20\n",
      "16/16 - 0s - loss: 0.6243 - value_head_loss: 0.1012 - policy_head_loss: 0.9851\n",
      "Epoch 15/20\n",
      "16/16 - 0s - loss: 0.6203 - value_head_loss: 0.0986 - policy_head_loss: 0.9876\n",
      "Epoch 16/20\n",
      "16/16 - 0s - loss: 0.6299 - value_head_loss: 0.1185 - policy_head_loss: 0.9890\n",
      "Epoch 17/20\n",
      "16/16 - 0s - loss: 0.6271 - value_head_loss: 0.1163 - policy_head_loss: 0.9856\n",
      "Epoch 18/20\n",
      "16/16 - 0s - loss: 0.6187 - value_head_loss: 0.1084 - policy_head_loss: 0.9812\n",
      "Epoch 19/20\n",
      "16/16 - 0s - loss: 0.6092 - value_head_loss: 0.0926 - policy_head_loss: 0.9825\n",
      "Epoch 20/20\n",
      "16/16 - 0s - loss: 0.6041 - value_head_loss: 0.0893 - policy_head_loss: 0.9810\n",
      "Games played: 360\n",
      "Epoch 1/20\n",
      "16/16 - 0s - loss: 0.7619 - value_head_loss: 0.1802 - policy_head_loss: 1.2054\n",
      "Epoch 2/20\n",
      "16/16 - 0s - loss: 0.7148 - value_head_loss: 0.1598 - policy_head_loss: 1.1094\n",
      "Epoch 3/20\n",
      "16/16 - 0s - loss: 0.6750 - value_head_loss: 0.1460 - policy_head_loss: 1.0327\n",
      "Epoch 4/20\n",
      "16/16 - 0s - loss: 0.6447 - value_head_loss: 0.1385 - policy_head_loss: 0.9815\n",
      "Epoch 5/20\n",
      "16/16 - 0s - loss: 0.6283 - value_head_loss: 0.1235 - policy_head_loss: 0.9674\n",
      "Epoch 6/20\n",
      "16/16 - 0s - loss: 0.6183 - value_head_loss: 0.1185 - policy_head_loss: 0.9580\n",
      "Epoch 7/20\n",
      "16/16 - 0s - loss: 0.6116 - value_head_loss: 0.1091 - policy_head_loss: 0.9581\n",
      "Epoch 8/20\n",
      "16/16 - 0s - loss: 0.6220 - value_head_loss: 0.1103 - policy_head_loss: 0.9810\n",
      "Epoch 9/20\n",
      "16/16 - 0s - loss: 0.6153 - value_head_loss: 0.1077 - policy_head_loss: 0.9688\n",
      "Epoch 10/20\n",
      "16/16 - 0s - loss: 0.6136 - value_head_loss: 0.1064 - policy_head_loss: 0.9659\n",
      "Epoch 11/20\n",
      "16/16 - 0s - loss: 0.5978 - value_head_loss: 0.0943 - policy_head_loss: 0.9494\n",
      "Epoch 12/20\n",
      "16/16 - 0s - loss: 0.5842 - value_head_loss: 0.0892 - policy_head_loss: 0.9334\n",
      "Epoch 13/20\n",
      "16/16 - 0s - loss: 0.5909 - value_head_loss: 0.0943 - policy_head_loss: 0.9474\n",
      "Epoch 14/20\n",
      "16/16 - 0s - loss: 0.5835 - value_head_loss: 0.0871 - policy_head_loss: 0.9435\n",
      "Epoch 15/20\n",
      "16/16 - 0s - loss: 0.5740 - value_head_loss: 0.0807 - policy_head_loss: 0.9350\n",
      "Epoch 16/20\n",
      "16/16 - 0s - loss: 0.5754 - value_head_loss: 0.0875 - policy_head_loss: 0.9348\n",
      "Epoch 17/20\n",
      "16/16 - 0s - loss: 0.5678 - value_head_loss: 0.0801 - policy_head_loss: 0.9301\n",
      "Epoch 18/20\n",
      "16/16 - 0s - loss: 0.5756 - value_head_loss: 0.0869 - policy_head_loss: 0.9414\n",
      "Epoch 19/20\n",
      "16/16 - 0s - loss: 0.5877 - value_head_loss: 0.0953 - policy_head_loss: 0.9547\n",
      "Epoch 20/20\n",
      "16/16 - 0s - loss: 0.5720 - value_head_loss: 0.0821 - policy_head_loss: 0.9346\n",
      "Games played: 480\n",
      "Epoch 1/20\n",
      "16/16 - 0s - loss: 0.7280 - value_head_loss: 0.1513 - policy_head_loss: 1.1729\n",
      "Epoch 2/20\n",
      "16/16 - 0s - loss: 0.6901 - value_head_loss: 0.1339 - policy_head_loss: 1.0914\n",
      "Epoch 3/20\n",
      "16/16 - 0s - loss: 0.6432 - value_head_loss: 0.1159 - policy_head_loss: 1.0056\n",
      "Epoch 4/20\n",
      "16/16 - 0s - loss: 0.6213 - value_head_loss: 0.1091 - policy_head_loss: 0.9731\n",
      "Epoch 5/20\n",
      "16/16 - 0s - loss: 0.5935 - value_head_loss: 0.0988 - policy_head_loss: 0.9394\n",
      "Epoch 6/20\n",
      "16/16 - 0s - loss: 0.5943 - value_head_loss: 0.1025 - policy_head_loss: 0.9478\n",
      "Epoch 7/20\n",
      "16/16 - 0s - loss: 0.5885 - value_head_loss: 0.1001 - policy_head_loss: 0.9459\n",
      "Epoch 8/20\n",
      "16/16 - 0s - loss: 0.5797 - value_head_loss: 0.0908 - policy_head_loss: 0.9440\n",
      "Epoch 9/20\n",
      "16/16 - 0s - loss: 0.5740 - value_head_loss: 0.0941 - policy_head_loss: 0.9355\n",
      "Epoch 10/20\n",
      "16/16 - 0s - loss: 0.5716 - value_head_loss: 0.0880 - policy_head_loss: 0.9419\n"
     ]
    },
    {
     "name": "stdout",
     "output_type": "stream",
     "text": [
      "Epoch 11/20\n",
      "16/16 - 0s - loss: 0.5706 - value_head_loss: 0.0856 - policy_head_loss: 0.9452\n",
      "Epoch 12/20\n",
      "16/16 - 0s - loss: 0.5765 - value_head_loss: 0.0903 - policy_head_loss: 0.9528\n",
      "Epoch 13/20\n",
      "16/16 - 0s - loss: 0.5836 - value_head_loss: 0.0958 - policy_head_loss: 0.9570\n",
      "Epoch 14/20\n",
      "16/16 - 0s - loss: 0.5856 - value_head_loss: 0.0934 - policy_head_loss: 0.9612\n",
      "Epoch 15/20\n",
      "16/16 - 0s - loss: 0.5668 - value_head_loss: 0.0833 - policy_head_loss: 0.9352\n",
      "Epoch 16/20\n",
      "16/16 - 0s - loss: 0.5695 - value_head_loss: 0.0871 - policy_head_loss: 0.9399\n",
      "Epoch 17/20\n",
      "16/16 - 0s - loss: 0.5676 - value_head_loss: 0.0860 - policy_head_loss: 0.9391\n",
      "Epoch 18/20\n",
      "16/16 - 0s - loss: 0.5637 - value_head_loss: 0.0808 - policy_head_loss: 0.9388\n",
      "Epoch 19/20\n",
      "16/16 - 0s - loss: 0.5576 - value_head_loss: 0.0813 - policy_head_loss: 0.9298\n",
      "Epoch 20/20\n",
      "16/16 - 0s - loss: 0.5576 - value_head_loss: 0.0759 - policy_head_loss: 0.9388\n",
      "Games played: 600\n",
      "Epoch 1/20\n",
      "16/16 - 0s - loss: 0.6858 - value_head_loss: 0.1604 - policy_head_loss: 1.1098\n",
      "Epoch 2/20\n",
      "16/16 - 0s - loss: 0.6615 - value_head_loss: 0.1338 - policy_head_loss: 1.0722\n",
      "Epoch 3/20\n",
      "16/16 - 0s - loss: 0.6450 - value_head_loss: 0.1298 - policy_head_loss: 1.0221\n",
      "Epoch 4/20\n",
      "16/16 - 0s - loss: 0.6241 - value_head_loss: 0.1203 - policy_head_loss: 0.9854\n",
      "Epoch 5/20\n",
      "16/16 - 0s - loss: 0.6027 - value_head_loss: 0.1132 - policy_head_loss: 0.9568\n",
      "Epoch 6/20\n",
      "16/16 - 0s - loss: 0.5867 - value_head_loss: 0.1046 - policy_head_loss: 0.9436\n",
      "Epoch 7/20\n",
      "16/16 - 0s - loss: 0.5961 - value_head_loss: 0.0949 - policy_head_loss: 0.9795\n",
      "Epoch 8/20\n",
      "16/16 - 0s - loss: 0.5993 - value_head_loss: 0.0960 - policy_head_loss: 0.9836\n",
      "Epoch 9/20\n",
      "16/16 - 0s - loss: 0.5831 - value_head_loss: 0.0939 - policy_head_loss: 0.9533\n",
      "Epoch 10/20\n",
      "16/16 - 0s - loss: 0.5789 - value_head_loss: 0.0958 - policy_head_loss: 0.9457\n",
      "Epoch 11/20\n",
      "16/16 - 0s - loss: 0.5805 - value_head_loss: 0.0913 - policy_head_loss: 0.9571\n",
      "Epoch 12/20\n",
      "16/16 - 0s - loss: 0.5700 - value_head_loss: 0.0813 - policy_head_loss: 0.9493\n",
      "Epoch 13/20\n",
      "16/16 - 0s - loss: 0.5623 - value_head_loss: 0.0774 - policy_head_loss: 0.9422\n",
      "Epoch 14/20\n",
      "16/16 - 0s - loss: 0.5656 - value_head_loss: 0.0793 - policy_head_loss: 0.9506\n",
      "Epoch 15/20\n",
      "16/16 - 0s - loss: 0.5701 - value_head_loss: 0.0852 - policy_head_loss: 0.9542\n",
      "Epoch 16/20\n",
      "16/16 - 0s - loss: 0.5668 - value_head_loss: 0.0846 - policy_head_loss: 0.9462\n",
      "Epoch 17/20\n",
      "16/16 - 0s - loss: 0.5571 - value_head_loss: 0.0783 - policy_head_loss: 0.9344\n",
      "Epoch 18/20\n",
      "16/16 - 0s - loss: 0.5581 - value_head_loss: 0.0859 - policy_head_loss: 0.9330\n",
      "Epoch 19/20\n",
      "16/16 - 0s - loss: 0.5658 - value_head_loss: 0.0915 - policy_head_loss: 0.9434\n",
      "Epoch 20/20\n",
      "16/16 - 0s - loss: 0.5832 - value_head_loss: 0.0955 - policy_head_loss: 0.9673\n",
      "Games played: 720\n",
      "Epoch 1/20\n",
      "16/16 - 0s - loss: 0.7614 - value_head_loss: 0.1947 - policy_head_loss: 1.2105\n",
      "Epoch 2/20\n",
      "16/16 - 0s - loss: 0.7283 - value_head_loss: 0.1736 - policy_head_loss: 1.1306\n",
      "Epoch 3/20\n",
      "16/16 - 0s - loss: 0.6842 - value_head_loss: 0.1540 - policy_head_loss: 1.0572\n",
      "Epoch 4/20\n",
      "16/16 - 0s - loss: 0.6578 - value_head_loss: 0.1375 - policy_head_loss: 1.0298\n",
      "Epoch 5/20\n",
      "16/16 - 0s - loss: 0.6386 - value_head_loss: 0.1276 - policy_head_loss: 1.0080\n",
      "Epoch 6/20\n",
      "16/16 - 0s - loss: 0.6330 - value_head_loss: 0.1296 - policy_head_loss: 0.9965\n",
      "Epoch 7/20\n",
      "16/16 - 0s - loss: 0.6219 - value_head_loss: 0.1182 - policy_head_loss: 0.9895\n",
      "Epoch 8/20\n",
      "16/16 - 0s - loss: 0.6195 - value_head_loss: 0.1277 - policy_head_loss: 0.9807\n",
      "Epoch 9/20\n",
      "16/16 - 0s - loss: 0.6086 - value_head_loss: 0.1153 - policy_head_loss: 0.9741\n",
      "Epoch 10/20\n",
      "16/16 - 0s - loss: 0.5939 - value_head_loss: 0.0980 - policy_head_loss: 0.9648\n",
      "Epoch 11/20\n",
      "16/16 - 0s - loss: 0.5958 - value_head_loss: 0.0892 - policy_head_loss: 0.9827\n",
      "Epoch 12/20\n",
      "16/16 - 0s - loss: 0.5877 - value_head_loss: 0.0926 - policy_head_loss: 0.9669\n",
      "Epoch 13/20\n",
      "16/16 - 0s - loss: 0.5957 - value_head_loss: 0.1037 - policy_head_loss: 0.9714\n",
      "Epoch 14/20\n",
      "16/16 - 0s - loss: 0.6187 - value_head_loss: 0.0918 - policy_head_loss: 1.0205\n",
      "Epoch 15/20\n",
      "16/16 - 0s - loss: 0.6075 - value_head_loss: 0.0905 - policy_head_loss: 0.9961\n",
      "Epoch 16/20\n",
      "16/16 - 0s - loss: 0.6084 - value_head_loss: 0.0927 - policy_head_loss: 0.9958\n",
      "Epoch 17/20\n",
      "16/16 - 0s - loss: 0.5958 - value_head_loss: 0.0887 - policy_head_loss: 0.9774\n",
      "Epoch 18/20\n",
      "16/16 - 0s - loss: 0.5839 - value_head_loss: 0.0836 - policy_head_loss: 0.9636\n",
      "Epoch 19/20\n",
      "16/16 - 0s - loss: 0.5738 - value_head_loss: 0.0767 - policy_head_loss: 0.9567\n",
      "Epoch 20/20\n",
      "16/16 - 0s - loss: 0.5665 - value_head_loss: 0.0787 - policy_head_loss: 0.9468\n",
      "Games played: 840\n",
      "Epoch 1/20\n",
      "16/16 - 0s - loss: 0.7032 - value_head_loss: 0.1686 - policy_head_loss: 1.1291\n",
      "Epoch 2/20\n",
      "16/16 - 0s - loss: 0.6989 - value_head_loss: 0.1640 - policy_head_loss: 1.0932\n",
      "Epoch 3/20\n",
      "16/16 - 0s - loss: 0.6565 - value_head_loss: 0.1466 - policy_head_loss: 1.0198\n",
      "Epoch 4/20\n",
      "16/16 - 0s - loss: 0.6383 - value_head_loss: 0.1367 - policy_head_loss: 1.0048\n",
      "Epoch 5/20\n",
      "16/16 - 0s - loss: 0.6210 - value_head_loss: 0.1280 - policy_head_loss: 0.9867\n",
      "Epoch 6/20\n",
      "16/16 - 0s - loss: 0.6061 - value_head_loss: 0.1182 - policy_head_loss: 0.9706\n",
      "Epoch 7/20\n",
      "16/16 - 0s - loss: 0.6028 - value_head_loss: 0.1185 - policy_head_loss: 0.9674\n",
      "Epoch 8/20\n",
      "16/16 - 0s - loss: 0.5845 - value_head_loss: 0.1080 - policy_head_loss: 0.9486\n",
      "Epoch 9/20\n",
      "16/16 - 0s - loss: 0.5858 - value_head_loss: 0.1056 - policy_head_loss: 0.9533\n",
      "Epoch 10/20\n",
      "16/16 - 0s - loss: 0.5760 - value_head_loss: 0.0984 - policy_head_loss: 0.9423\n",
      "Epoch 11/20\n",
      "16/16 - 0s - loss: 0.5713 - value_head_loss: 0.0935 - policy_head_loss: 0.9445\n",
      "Epoch 12/20\n",
      "16/16 - 0s - loss: 0.5695 - value_head_loss: 0.0970 - policy_head_loss: 0.9427\n",
      "Epoch 13/20\n",
      "16/16 - 0s - loss: 0.5767 - value_head_loss: 0.1036 - policy_head_loss: 0.9509\n",
      "Epoch 14/20\n",
      "16/16 - 0s - loss: 0.5719 - value_head_loss: 0.0970 - policy_head_loss: 0.9470\n",
      "Epoch 15/20\n",
      "16/16 - 0s - loss: 0.5667 - value_head_loss: 0.0896 - policy_head_loss: 0.9457\n",
      "Epoch 16/20\n",
      "16/16 - 0s - loss: 0.5627 - value_head_loss: 0.0884 - policy_head_loss: 0.9430\n",
      "Epoch 17/20\n",
      "16/16 - 0s - loss: 0.5692 - value_head_loss: 0.0967 - policy_head_loss: 0.9517\n",
      "Epoch 18/20\n",
      "16/16 - 0s - loss: 0.5720 - value_head_loss: 0.0982 - policy_head_loss: 0.9555\n",
      "Epoch 19/20\n",
      "16/16 - 0s - loss: 0.5833 - value_head_loss: 0.0950 - policy_head_loss: 0.9807\n",
      "Epoch 20/20\n",
      "16/16 - 0s - loss: 0.5746 - value_head_loss: 0.0935 - policy_head_loss: 0.9634\n",
      "Games played: 960\n",
      "Epoch 1/20\n",
      "16/16 - 0s - loss: 0.7275 - value_head_loss: 0.2051 - policy_head_loss: 1.1489\n",
      "Epoch 2/20\n",
      "16/16 - 0s - loss: 0.7109 - value_head_loss: 0.1980 - policy_head_loss: 1.0960\n",
      "Epoch 3/20\n",
      "16/16 - 0s - loss: 0.6538 - value_head_loss: 0.1874 - policy_head_loss: 0.9867\n",
      "Epoch 4/20\n",
      "16/16 - 0s - loss: 0.6253 - value_head_loss: 0.1698 - policy_head_loss: 0.9542\n",
      "Epoch 5/20\n",
      "16/16 - 0s - loss: 0.6086 - value_head_loss: 0.1618 - policy_head_loss: 0.9367\n",
      "Epoch 6/20\n",
      "16/16 - 0s - loss: 0.6128 - value_head_loss: 0.1776 - policy_head_loss: 0.9348\n",
      "Epoch 7/20\n",
      "16/16 - 0s - loss: 0.5965 - value_head_loss: 0.1543 - policy_head_loss: 0.9266\n",
      "Epoch 8/20\n",
      "16/16 - 0s - loss: 0.5906 - value_head_loss: 0.1492 - policy_head_loss: 0.9241\n",
      "Epoch 9/20\n",
      "16/16 - 0s - loss: 0.6066 - value_head_loss: 0.1548 - policy_head_loss: 0.9466\n",
      "Epoch 10/20\n",
      "16/16 - 0s - loss: 0.6208 - value_head_loss: 0.1516 - policy_head_loss: 0.9731\n",
      "Epoch 11/20\n",
      "16/16 - 0s - loss: 0.6162 - value_head_loss: 0.1426 - policy_head_loss: 0.9721\n",
      "Epoch 12/20\n",
      "16/16 - 0s - loss: 0.5928 - value_head_loss: 0.1290 - policy_head_loss: 0.9395\n",
      "Epoch 13/20\n",
      "16/16 - 0s - loss: 0.5817 - value_head_loss: 0.1235 - policy_head_loss: 0.9286\n",
      "Epoch 14/20\n",
      "16/16 - 0s - loss: 0.5744 - value_head_loss: 0.1216 - policy_head_loss: 0.9215\n",
      "Epoch 15/20\n",
      "16/16 - 0s - loss: 0.5733 - value_head_loss: 0.1297 - policy_head_loss: 0.9151\n",
      "Epoch 16/20\n",
      "16/16 - 0s - loss: 0.5653 - value_head_loss: 0.1194 - policy_head_loss: 0.9116\n",
      "Epoch 17/20\n",
      "16/16 - 0s - loss: 0.5604 - value_head_loss: 0.1115 - policy_head_loss: 0.9131\n",
      "Epoch 18/20\n",
      "16/16 - 0s - loss: 0.5667 - value_head_loss: 0.1237 - policy_head_loss: 0.9163\n",
      "Epoch 19/20\n",
      "16/16 - 0s - loss: 0.5583 - value_head_loss: 0.1178 - policy_head_loss: 0.9072\n",
      "Epoch 20/20\n",
      "16/16 - 0s - loss: 0.5598 - value_head_loss: 0.1094 - policy_head_loss: 0.9203\n"
     ]
    },
    {
     "name": "stdout",
     "output_type": "stream",
     "text": [
      "Games played: 1080\n",
      "Epoch 1/20\n",
      "16/16 - 0s - loss: 0.6718 - value_head_loss: 0.1948 - policy_head_loss: 1.0530\n",
      "Epoch 2/20\n",
      "16/16 - 0s - loss: 0.6397 - value_head_loss: 0.1608 - policy_head_loss: 1.0011\n",
      "Epoch 3/20\n",
      "16/16 - 0s - loss: 0.6073 - value_head_loss: 0.1544 - policy_head_loss: 0.9414\n",
      "Epoch 4/20\n",
      "16/16 - 0s - loss: 0.5910 - value_head_loss: 0.1490 - policy_head_loss: 0.9207\n",
      "Epoch 5/20\n",
      "16/16 - 0s - loss: 0.5708 - value_head_loss: 0.1354 - policy_head_loss: 0.9003\n",
      "Epoch 6/20\n",
      "16/16 - 0s - loss: 0.5606 - value_head_loss: 0.1249 - policy_head_loss: 0.8953\n",
      "Epoch 7/20\n",
      "16/16 - 0s - loss: 0.5494 - value_head_loss: 0.1143 - policy_head_loss: 0.8871\n",
      "Epoch 8/20\n",
      "16/16 - 0s - loss: 0.5546 - value_head_loss: 0.1100 - policy_head_loss: 0.9052\n",
      "Epoch 9/20\n",
      "16/16 - 0s - loss: 0.5597 - value_head_loss: 0.1136 - policy_head_loss: 0.9139\n",
      "Epoch 10/20\n",
      "16/16 - 0s - loss: 0.5579 - value_head_loss: 0.1147 - policy_head_loss: 0.9066\n",
      "Epoch 11/20\n",
      "16/16 - 0s - loss: 0.5463 - value_head_loss: 0.1060 - policy_head_loss: 0.8932\n",
      "Epoch 12/20\n",
      "16/16 - 0s - loss: 0.5420 - value_head_loss: 0.1015 - policy_head_loss: 0.8914\n",
      "Epoch 13/20\n",
      "16/16 - 0s - loss: 0.5391 - value_head_loss: 0.0989 - policy_head_loss: 0.8898\n",
      "Epoch 14/20\n",
      "16/16 - 0s - loss: 0.5601 - value_head_loss: 0.1233 - policy_head_loss: 0.9037\n",
      "Epoch 15/20\n",
      "16/16 - 0s - loss: 0.5596 - value_head_loss: 0.1155 - policy_head_loss: 0.9024\n",
      "Epoch 16/20\n",
      "16/16 - 0s - loss: 0.5538 - value_head_loss: 0.1040 - policy_head_loss: 0.9039\n",
      "Epoch 17/20\n",
      "16/16 - 0s - loss: 0.5493 - value_head_loss: 0.0956 - policy_head_loss: 0.9070\n",
      "Epoch 18/20\n",
      "16/16 - 0s - loss: 0.5438 - value_head_loss: 0.0932 - policy_head_loss: 0.9020\n",
      "Epoch 19/20\n",
      "16/16 - 0s - loss: 0.5349 - value_head_loss: 0.0891 - policy_head_loss: 0.8913\n",
      "Epoch 20/20\n",
      "16/16 - 0s - loss: 0.5325 - value_head_loss: 0.0891 - policy_head_loss: 0.8898\n",
      "Games played: 1200\n",
      "Epoch 1/20\n",
      "16/16 - 0s - loss: 0.6783 - value_head_loss: 0.1951 - policy_head_loss: 1.0695\n",
      "Epoch 2/20\n",
      "16/16 - 0s - loss: 0.6605 - value_head_loss: 0.1643 - policy_head_loss: 1.0391\n",
      "Epoch 3/20\n",
      "16/16 - 0s - loss: 0.6252 - value_head_loss: 0.1379 - policy_head_loss: 0.9903\n",
      "Epoch 4/20\n",
      "16/16 - 0s - loss: 0.6068 - value_head_loss: 0.1356 - policy_head_loss: 0.9631\n",
      "Epoch 5/20\n",
      "16/16 - 0s - loss: 0.5995 - value_head_loss: 0.1263 - policy_head_loss: 0.9611\n",
      "Epoch 6/20\n",
      "16/16 - 0s - loss: 0.6049 - value_head_loss: 0.1412 - policy_head_loss: 0.9563\n",
      "Epoch 7/20\n",
      "16/16 - 0s - loss: 0.5885 - value_head_loss: 0.1257 - policy_head_loss: 0.9390\n",
      "Epoch 8/20\n",
      "16/16 - 0s - loss: 0.5814 - value_head_loss: 0.1217 - policy_head_loss: 0.9322\n",
      "Epoch 9/20\n",
      "16/16 - 0s - loss: 0.5773 - value_head_loss: 0.1129 - policy_head_loss: 0.9359\n",
      "Epoch 10/20\n",
      "16/16 - 0s - loss: 0.5682 - value_head_loss: 0.1039 - policy_head_loss: 0.9301\n",
      "Epoch 11/20\n",
      "16/16 - 0s - loss: 0.5569 - value_head_loss: 0.0984 - policy_head_loss: 0.9176\n",
      "Epoch 12/20\n",
      "16/16 - 0s - loss: 0.5485 - value_head_loss: 0.0942 - policy_head_loss: 0.9089\n",
      "Epoch 13/20\n",
      "16/16 - 0s - loss: 0.5465 - value_head_loss: 0.0996 - policy_head_loss: 0.9038\n",
      "Epoch 14/20\n",
      "16/16 - 0s - loss: 0.5485 - value_head_loss: 0.1029 - policy_head_loss: 0.9081\n",
      "Epoch 15/20\n",
      "16/16 - 0s - loss: 0.5586 - value_head_loss: 0.1055 - policy_head_loss: 0.9255\n",
      "Epoch 16/20\n",
      "16/16 - 0s - loss: 0.5587 - value_head_loss: 0.1045 - policy_head_loss: 0.9259\n",
      "Epoch 17/20\n",
      "16/16 - 0s - loss: 0.5571 - value_head_loss: 0.1025 - policy_head_loss: 0.9248\n",
      "Epoch 18/20\n",
      "16/16 - 0s - loss: 0.5498 - value_head_loss: 0.0974 - policy_head_loss: 0.9167\n",
      "Epoch 19/20\n",
      "16/16 - 0s - loss: 0.5652 - value_head_loss: 0.1183 - policy_head_loss: 0.9269\n",
      "Epoch 20/20\n",
      "16/16 - 0s - loss: 0.5815 - value_head_loss: 0.1160 - policy_head_loss: 0.9509\n",
      "Games played: 1320\n",
      "Epoch 1/20\n",
      "16/16 - 0s - loss: 0.6955 - value_head_loss: 0.1576 - policy_head_loss: 1.1246\n",
      "Epoch 2/20\n",
      "16/16 - 0s - loss: 0.6466 - value_head_loss: 0.1427 - policy_head_loss: 1.0335\n",
      "Epoch 3/20\n",
      "16/16 - 0s - loss: 0.6189 - value_head_loss: 0.1305 - policy_head_loss: 0.9928\n",
      "Epoch 4/20\n",
      "16/16 - 0s - loss: 0.5980 - value_head_loss: 0.1275 - policy_head_loss: 0.9584\n",
      "Epoch 5/20\n",
      "16/16 - 0s - loss: 0.5764 - value_head_loss: 0.1243 - policy_head_loss: 0.9235\n",
      "Epoch 6/20\n",
      "16/16 - 0s - loss: 0.5662 - value_head_loss: 0.1170 - policy_head_loss: 0.9160\n",
      "Epoch 7/20\n",
      "16/16 - 0s - loss: 0.5621 - value_head_loss: 0.1157 - policy_head_loss: 0.9128\n",
      "Epoch 8/20\n",
      "16/16 - 0s - loss: 0.5557 - value_head_loss: 0.1067 - policy_head_loss: 0.9111\n",
      "Epoch 9/20\n",
      "16/16 - 0s - loss: 0.5572 - value_head_loss: 0.1078 - policy_head_loss: 0.9162\n",
      "Epoch 10/20\n",
      "16/16 - 0s - loss: 0.5618 - value_head_loss: 0.1064 - policy_head_loss: 0.9269\n",
      "Epoch 11/20\n",
      "16/16 - 0s - loss: 0.5551 - value_head_loss: 0.1035 - policy_head_loss: 0.9186\n",
      "Epoch 12/20\n",
      "16/16 - 0s - loss: 0.5459 - value_head_loss: 0.0985 - policy_head_loss: 0.9082\n",
      "Epoch 13/20\n",
      "16/16 - 0s - loss: 0.5488 - value_head_loss: 0.0986 - policy_head_loss: 0.9159\n",
      "Epoch 14/20\n",
      "16/16 - 0s - loss: 0.5421 - value_head_loss: 0.0970 - policy_head_loss: 0.9055\n",
      "Epoch 15/20\n",
      "16/16 - 0s - loss: 0.5324 - value_head_loss: 0.0897 - policy_head_loss: 0.8968\n",
      "Epoch 16/20\n",
      "16/16 - 0s - loss: 0.5364 - value_head_loss: 0.0974 - policy_head_loss: 0.8997\n",
      "Epoch 17/20\n",
      "16/16 - 0s - loss: 0.5446 - value_head_loss: 0.1000 - policy_head_loss: 0.9087\n",
      "Epoch 18/20\n",
      "16/16 - 0s - loss: 0.5456 - value_head_loss: 0.0956 - policy_head_loss: 0.9126\n",
      "Epoch 19/20\n",
      "16/16 - 0s - loss: 0.5414 - value_head_loss: 0.0910 - policy_head_loss: 0.9116\n",
      "Epoch 20/20\n",
      "16/16 - 0s - loss: 0.5332 - value_head_loss: 0.0848 - policy_head_loss: 0.9054\n",
      "Games played: 1440\n",
      "Epoch 1/20\n",
      "16/16 - 0s - loss: 0.6539 - value_head_loss: 0.2049 - policy_head_loss: 1.0221\n",
      "Epoch 2/20\n",
      "16/16 - 0s - loss: 0.6364 - value_head_loss: 0.1825 - policy_head_loss: 0.9923\n",
      "Epoch 3/20\n",
      "16/16 - 0s - loss: 0.6026 - value_head_loss: 0.1621 - policy_head_loss: 0.9469\n",
      "Epoch 4/20\n",
      "16/16 - 0s - loss: 0.5907 - value_head_loss: 0.1551 - policy_head_loss: 0.9353\n",
      "Epoch 5/20\n",
      "16/16 - 0s - loss: 0.5789 - value_head_loss: 0.1455 - policy_head_loss: 0.9246\n",
      "Epoch 6/20\n",
      "16/16 - 0s - loss: 0.5707 - value_head_loss: 0.1337 - policy_head_loss: 0.9222\n",
      "Epoch 7/20\n",
      "16/16 - 0s - loss: 0.5637 - value_head_loss: 0.1301 - policy_head_loss: 0.9124\n",
      "Epoch 8/20\n",
      "16/16 - 0s - loss: 0.5567 - value_head_loss: 0.1249 - policy_head_loss: 0.9055\n",
      "Epoch 9/20\n",
      "16/16 - 0s - loss: 0.5599 - value_head_loss: 0.1282 - policy_head_loss: 0.9104\n",
      "Epoch 10/20\n",
      "16/16 - 0s - loss: 0.5536 - value_head_loss: 0.1206 - policy_head_loss: 0.9055\n",
      "Epoch 11/20\n",
      "16/16 - 0s - loss: 0.5545 - value_head_loss: 0.1193 - policy_head_loss: 0.9092\n",
      "Epoch 12/20\n",
      "16/16 - 0s - loss: 0.5554 - value_head_loss: 0.1169 - policy_head_loss: 0.9117\n",
      "Epoch 13/20\n",
      "16/16 - 0s - loss: 0.5553 - value_head_loss: 0.1172 - policy_head_loss: 0.9126\n",
      "Epoch 14/20\n",
      "16/16 - 0s - loss: 0.5528 - value_head_loss: 0.1144 - policy_head_loss: 0.9117\n",
      "Epoch 15/20\n",
      "16/16 - 0s - loss: 0.5494 - value_head_loss: 0.1141 - policy_head_loss: 0.9066\n",
      "Epoch 16/20\n",
      "16/16 - 0s - loss: 0.5475 - value_head_loss: 0.1137 - policy_head_loss: 0.9022\n",
      "Epoch 17/20\n",
      "16/16 - 0s - loss: 0.5533 - value_head_loss: 0.1155 - policy_head_loss: 0.9113\n",
      "Epoch 18/20\n",
      "16/16 - 0s - loss: 0.5479 - value_head_loss: 0.1081 - policy_head_loss: 0.9085\n",
      "Epoch 19/20\n",
      "16/16 - 0s - loss: 0.5406 - value_head_loss: 0.1029 - policy_head_loss: 0.9006\n",
      "Epoch 20/20\n",
      "16/16 - 0s - loss: 0.5457 - value_head_loss: 0.1084 - policy_head_loss: 0.9079\n",
      "Games played: 1560\n",
      "Epoch 1/20\n",
      "16/16 - 0s - loss: 0.6763 - value_head_loss: 0.1926 - policy_head_loss: 1.0836\n",
      "Epoch 2/20\n",
      "16/16 - 0s - loss: 0.6479 - value_head_loss: 0.1719 - policy_head_loss: 1.0318\n",
      "Epoch 3/20\n",
      "16/16 - 0s - loss: 0.6115 - value_head_loss: 0.1548 - policy_head_loss: 0.9719\n",
      "Epoch 4/20\n",
      "16/16 - 0s - loss: 0.5910 - value_head_loss: 0.1443 - policy_head_loss: 0.9462\n",
      "Epoch 5/20\n",
      "16/16 - 0s - loss: 0.5777 - value_head_loss: 0.1334 - policy_head_loss: 0.9343\n",
      "Epoch 6/20\n",
      "16/16 - 0s - loss: 0.5734 - value_head_loss: 0.1262 - policy_head_loss: 0.9365\n",
      "Epoch 7/20\n",
      "16/16 - 0s - loss: 0.5632 - value_head_loss: 0.1244 - policy_head_loss: 0.9210\n",
      "Epoch 8/20\n",
      "16/16 - 0s - loss: 0.5591 - value_head_loss: 0.1236 - policy_head_loss: 0.9161\n",
      "Epoch 9/20\n",
      "16/16 - 0s - loss: 0.5565 - value_head_loss: 0.1185 - policy_head_loss: 0.9178\n",
      "Epoch 10/20\n",
      "16/16 - 0s - loss: 0.5504 - value_head_loss: 0.1175 - policy_head_loss: 0.9087\n"
     ]
    },
    {
     "name": "stdout",
     "output_type": "stream",
     "text": [
      "Epoch 11/20\n",
      "16/16 - 0s - loss: 0.5468 - value_head_loss: 0.1128 - policy_head_loss: 0.9083\n",
      "Epoch 12/20\n",
      "16/16 - 0s - loss: 0.5451 - value_head_loss: 0.1148 - policy_head_loss: 0.9050\n",
      "Epoch 13/20\n",
      "16/16 - 0s - loss: 0.5440 - value_head_loss: 0.1104 - policy_head_loss: 0.9089\n",
      "Epoch 14/20\n",
      "16/16 - 0s - loss: 0.5491 - value_head_loss: 0.1147 - policy_head_loss: 0.9152\n",
      "Epoch 15/20\n",
      "16/16 - 0s - loss: 0.5508 - value_head_loss: 0.1146 - policy_head_loss: 0.9170\n",
      "Epoch 16/20\n",
      "16/16 - 0s - loss: 0.5440 - value_head_loss: 0.1088 - policy_head_loss: 0.9099\n",
      "Epoch 17/20\n",
      "16/16 - 0s - loss: 0.5365 - value_head_loss: 0.1051 - policy_head_loss: 0.9006\n",
      "Epoch 18/20\n",
      "16/16 - 0s - loss: 0.5426 - value_head_loss: 0.1157 - policy_head_loss: 0.9030\n",
      "Epoch 19/20\n",
      "16/16 - 0s - loss: 0.5504 - value_head_loss: 0.1148 - policy_head_loss: 0.9142\n",
      "Epoch 20/20\n",
      "16/16 - 0s - loss: 0.5510 - value_head_loss: 0.1097 - policy_head_loss: 0.9191\n",
      "Games played: 1680\n",
      "Epoch 1/20\n",
      "16/16 - 0s - loss: 0.6680 - value_head_loss: 0.1905 - policy_head_loss: 1.0699\n",
      "Epoch 2/20\n",
      "16/16 - 0s - loss: 0.6360 - value_head_loss: 0.1582 - policy_head_loss: 1.0271\n",
      "Epoch 3/20\n",
      "16/16 - 0s - loss: 0.5901 - value_head_loss: 0.1370 - policy_head_loss: 0.9528\n",
      "Epoch 4/20\n",
      "16/16 - 0s - loss: 0.5717 - value_head_loss: 0.1235 - policy_head_loss: 0.9312\n",
      "Epoch 5/20\n",
      "16/16 - 0s - loss: 0.5677 - value_head_loss: 0.1190 - policy_head_loss: 0.9297\n",
      "Epoch 6/20\n",
      "16/16 - 0s - loss: 0.5527 - value_head_loss: 0.1063 - policy_head_loss: 0.9150\n",
      "Epoch 7/20\n",
      "16/16 - 0s - loss: 0.5446 - value_head_loss: 0.1005 - policy_head_loss: 0.9075\n",
      "Epoch 8/20\n",
      "16/16 - 0s - loss: 0.5507 - value_head_loss: 0.1052 - policy_head_loss: 0.9169\n",
      "Epoch 9/20\n",
      "16/16 - 0s - loss: 0.5432 - value_head_loss: 0.1027 - policy_head_loss: 0.9039\n",
      "Epoch 10/20\n",
      "16/16 - 0s - loss: 0.5457 - value_head_loss: 0.1033 - policy_head_loss: 0.9075\n",
      "Epoch 11/20\n",
      "16/16 - 0s - loss: 0.5443 - value_head_loss: 0.1013 - policy_head_loss: 0.9082\n",
      "Epoch 12/20\n",
      "16/16 - 0s - loss: 0.5455 - value_head_loss: 0.1038 - policy_head_loss: 0.9089\n",
      "Epoch 13/20\n",
      "16/16 - 0s - loss: 0.5407 - value_head_loss: 0.0986 - policy_head_loss: 0.9041\n",
      "Epoch 14/20\n",
      "16/16 - 0s - loss: 0.5330 - value_head_loss: 0.0917 - policy_head_loss: 0.8979\n",
      "Epoch 15/20\n",
      "16/16 - 0s - loss: 0.5263 - value_head_loss: 0.0920 - policy_head_loss: 0.8867\n",
      "Epoch 16/20\n",
      "16/16 - 0s - loss: 0.5243 - value_head_loss: 0.0905 - policy_head_loss: 0.8868\n",
      "Epoch 17/20\n",
      "16/16 - 0s - loss: 0.5290 - value_head_loss: 0.0915 - policy_head_loss: 0.8970\n",
      "Epoch 18/20\n",
      "16/16 - 0s - loss: 0.5203 - value_head_loss: 0.0839 - policy_head_loss: 0.8888\n",
      "Epoch 19/20\n",
      "16/16 - 0s - loss: 0.5186 - value_head_loss: 0.0825 - policy_head_loss: 0.8887\n",
      "Epoch 20/20\n",
      "16/16 - 0s - loss: 0.5215 - value_head_loss: 0.0834 - policy_head_loss: 0.8952\n",
      "Games played: 1800\n",
      "Epoch 1/20\n",
      "16/16 - 0s - loss: 0.7272 - value_head_loss: 0.1967 - policy_head_loss: 1.1886\n",
      "Epoch 2/20\n",
      "16/16 - 0s - loss: 0.6908 - value_head_loss: 0.1633 - policy_head_loss: 1.1242\n",
      "Epoch 3/20\n",
      "16/16 - 0s - loss: 0.6542 - value_head_loss: 0.1569 - policy_head_loss: 1.0524\n",
      "Epoch 4/20\n",
      "16/16 - 0s - loss: 0.6278 - value_head_loss: 0.1413 - policy_head_loss: 1.0193\n",
      "Epoch 5/20\n",
      "16/16 - 0s - loss: 0.5991 - value_head_loss: 0.1256 - policy_head_loss: 0.9817\n",
      "Epoch 6/20\n",
      "16/16 - 0s - loss: 0.5914 - value_head_loss: 0.1233 - policy_head_loss: 0.9711\n",
      "Epoch 7/20\n",
      "16/16 - 0s - loss: 0.5826 - value_head_loss: 0.1106 - policy_head_loss: 0.9694\n",
      "Epoch 8/20\n",
      "16/16 - 0s - loss: 0.5720 - value_head_loss: 0.1048 - policy_head_loss: 0.9573\n",
      "Epoch 9/20\n",
      "16/16 - 0s - loss: 0.5725 - value_head_loss: 0.1064 - policy_head_loss: 0.9590\n",
      "Epoch 10/20\n",
      "16/16 - 0s - loss: 0.5628 - value_head_loss: 0.1028 - policy_head_loss: 0.9455\n",
      "Epoch 11/20\n",
      "16/16 - 0s - loss: 0.5660 - value_head_loss: 0.1043 - policy_head_loss: 0.9528\n",
      "Epoch 12/20\n",
      "16/16 - 0s - loss: 0.5707 - value_head_loss: 0.1126 - policy_head_loss: 0.9544\n",
      "Epoch 13/20\n",
      "16/16 - 0s - loss: 0.5810 - value_head_loss: 0.1225 - policy_head_loss: 0.9596\n",
      "Epoch 14/20\n",
      "16/16 - 0s - loss: 0.5684 - value_head_loss: 0.1076 - policy_head_loss: 0.9477\n",
      "Epoch 15/20\n",
      "16/16 - 0s - loss: 0.5647 - value_head_loss: 0.0991 - policy_head_loss: 0.9520\n",
      "Epoch 16/20\n",
      "16/16 - 0s - loss: 0.5679 - value_head_loss: 0.0997 - policy_head_loss: 0.9605\n",
      "Epoch 17/20\n",
      "16/16 - 0s - loss: 0.5653 - value_head_loss: 0.0920 - policy_head_loss: 0.9639\n",
      "Epoch 18/20\n",
      "16/16 - 0s - loss: 0.5659 - value_head_loss: 0.0932 - policy_head_loss: 0.9643\n",
      "Epoch 19/20\n",
      "16/16 - 0s - loss: 0.5583 - value_head_loss: 0.0903 - policy_head_loss: 0.9532\n",
      "Epoch 20/20\n",
      "16/16 - 0s - loss: 0.5563 - value_head_loss: 0.0913 - policy_head_loss: 0.9497\n",
      "Games played: 1920\n"
     ]
    }
   ],
   "source": [
    "store = GameStore()\n",
    "\n",
    "alphazero = create_alphazero(game, TicTacToeAdapter(),\n",
    "                             max_workers=10, self_play_times=120,\n",
    "                             max_games_counter=1920, buffer_size=1500,\n",
    "                             callbacks=[store], mcts_iter=400, c_puct=1,\n",
    "                             exploration_noise=(.25, .045), epochs=20, batch_size=512)"
   ]
  },
  {
   "cell_type": "code",
   "execution_count": 10,
   "metadata": {},
   "outputs": [],
   "source": [
    "alphazero.save('models/experiment_tictactoe_v2.h5')"
   ]
  },
  {
   "cell_type": "code",
   "execution_count": 7,
   "metadata": {},
   "outputs": [
    {
     "data": {
      "text/plain": [
       "(6, 4, 0)"
      ]
     },
     "execution_count": 7,
     "metadata": {},
     "output_type": "execute_result"
    }
   ],
   "source": [
    "#alphazero.set_max_iter(400)\n",
    "\n",
    "play(game, Minimax(game), alphazero, games=10)"
   ]
  },
  {
   "cell_type": "code",
   "execution_count": 5,
   "metadata": {},
   "outputs": [],
   "source": [
    "alphazero = AlphaZero(game, buffer_size=1024, mcts_iter=100)"
   ]
  },
  {
   "cell_type": "code",
   "execution_count": 6,
   "metadata": {},
   "outputs": [],
   "source": [
    "alphazero.load('models/experiment_tictactoe_v2.h5')"
   ]
  },
  {
   "cell_type": "code",
   "execution_count": 8,
   "metadata": {},
   "outputs": [
    {
     "data": {
      "text/plain": [
       "([0, 9, 35, 53, 60, 80], [79, 90, 86, 87, 85, 92])"
      ]
     },
     "execution_count": 8,
     "metadata": {},
     "output_type": "execute_result"
    }
   ],
   "source": [
    "mcts_draws = list()\n",
    "az_draws = list()\n",
    "minimax = Minimax(game)\n",
    "iters = (2, 10, 50, 100, 200, 400)\n",
    "\n",
    "for m in iters:\n",
    "    mcts = MonteCarloTree(game, max_iter=m, reset_tree=False)\n",
    "    _, draws, _ = play(game, minimax, mcts, games=100, max_workers=10)\n",
    "    mcts_draws.append(draws)\n",
    "    \n",
    "    alphazero.set_max_iter(m)\n",
    "    _, draws, _ = play(game, minimax, alphazero, games=100)\n",
    "    az_draws.append(draws)\n",
    "\n",
    "mcts_draws, az_draws"
   ]
  },
  {
   "cell_type": "code",
   "execution_count": 25,
   "metadata": {},
   "outputs": [
    {
     "data": {
      "application/vnd.plotly.v1+json": {
       "config": {
        "plotlyServerURL": "https://plot.ly"
       },
       "data": [
        {
         "mode": "lines+markers",
         "name": "MCTS draws",
         "type": "scatter",
         "x": [
          2,
          10,
          50,
          100,
          200,
          400
         ],
         "y": [
          0,
          9,
          35,
          53,
          60,
          80
         ]
        },
        {
         "mode": "lines+markers",
         "name": "AZ draws",
         "type": "scatter",
         "x": [
          2,
          10,
          50,
          100,
          200,
          400
         ],
         "y": [
          79,
          90,
          86,
          87,
          85,
          92
         ]
        }
       ],
       "layout": {
        "template": {
         "data": {
          "bar": [
           {
            "error_x": {
             "color": "#2a3f5f"
            },
            "error_y": {
             "color": "#2a3f5f"
            },
            "marker": {
             "line": {
              "color": "#E5ECF6",
              "width": 0.5
             }
            },
            "type": "bar"
           }
          ],
          "barpolar": [
           {
            "marker": {
             "line": {
              "color": "#E5ECF6",
              "width": 0.5
             }
            },
            "type": "barpolar"
           }
          ],
          "carpet": [
           {
            "aaxis": {
             "endlinecolor": "#2a3f5f",
             "gridcolor": "white",
             "linecolor": "white",
             "minorgridcolor": "white",
             "startlinecolor": "#2a3f5f"
            },
            "baxis": {
             "endlinecolor": "#2a3f5f",
             "gridcolor": "white",
             "linecolor": "white",
             "minorgridcolor": "white",
             "startlinecolor": "#2a3f5f"
            },
            "type": "carpet"
           }
          ],
          "choropleth": [
           {
            "colorbar": {
             "outlinewidth": 0,
             "ticks": ""
            },
            "type": "choropleth"
           }
          ],
          "contour": [
           {
            "colorbar": {
             "outlinewidth": 0,
             "ticks": ""
            },
            "colorscale": [
             [
              0,
              "#0d0887"
             ],
             [
              0.1111111111111111,
              "#46039f"
             ],
             [
              0.2222222222222222,
              "#7201a8"
             ],
             [
              0.3333333333333333,
              "#9c179e"
             ],
             [
              0.4444444444444444,
              "#bd3786"
             ],
             [
              0.5555555555555556,
              "#d8576b"
             ],
             [
              0.6666666666666666,
              "#ed7953"
             ],
             [
              0.7777777777777778,
              "#fb9f3a"
             ],
             [
              0.8888888888888888,
              "#fdca26"
             ],
             [
              1,
              "#f0f921"
             ]
            ],
            "type": "contour"
           }
          ],
          "contourcarpet": [
           {
            "colorbar": {
             "outlinewidth": 0,
             "ticks": ""
            },
            "type": "contourcarpet"
           }
          ],
          "heatmap": [
           {
            "colorbar": {
             "outlinewidth": 0,
             "ticks": ""
            },
            "colorscale": [
             [
              0,
              "#0d0887"
             ],
             [
              0.1111111111111111,
              "#46039f"
             ],
             [
              0.2222222222222222,
              "#7201a8"
             ],
             [
              0.3333333333333333,
              "#9c179e"
             ],
             [
              0.4444444444444444,
              "#bd3786"
             ],
             [
              0.5555555555555556,
              "#d8576b"
             ],
             [
              0.6666666666666666,
              "#ed7953"
             ],
             [
              0.7777777777777778,
              "#fb9f3a"
             ],
             [
              0.8888888888888888,
              "#fdca26"
             ],
             [
              1,
              "#f0f921"
             ]
            ],
            "type": "heatmap"
           }
          ],
          "heatmapgl": [
           {
            "colorbar": {
             "outlinewidth": 0,
             "ticks": ""
            },
            "colorscale": [
             [
              0,
              "#0d0887"
             ],
             [
              0.1111111111111111,
              "#46039f"
             ],
             [
              0.2222222222222222,
              "#7201a8"
             ],
             [
              0.3333333333333333,
              "#9c179e"
             ],
             [
              0.4444444444444444,
              "#bd3786"
             ],
             [
              0.5555555555555556,
              "#d8576b"
             ],
             [
              0.6666666666666666,
              "#ed7953"
             ],
             [
              0.7777777777777778,
              "#fb9f3a"
             ],
             [
              0.8888888888888888,
              "#fdca26"
             ],
             [
              1,
              "#f0f921"
             ]
            ],
            "type": "heatmapgl"
           }
          ],
          "histogram": [
           {
            "marker": {
             "colorbar": {
              "outlinewidth": 0,
              "ticks": ""
             }
            },
            "type": "histogram"
           }
          ],
          "histogram2d": [
           {
            "colorbar": {
             "outlinewidth": 0,
             "ticks": ""
            },
            "colorscale": [
             [
              0,
              "#0d0887"
             ],
             [
              0.1111111111111111,
              "#46039f"
             ],
             [
              0.2222222222222222,
              "#7201a8"
             ],
             [
              0.3333333333333333,
              "#9c179e"
             ],
             [
              0.4444444444444444,
              "#bd3786"
             ],
             [
              0.5555555555555556,
              "#d8576b"
             ],
             [
              0.6666666666666666,
              "#ed7953"
             ],
             [
              0.7777777777777778,
              "#fb9f3a"
             ],
             [
              0.8888888888888888,
              "#fdca26"
             ],
             [
              1,
              "#f0f921"
             ]
            ],
            "type": "histogram2d"
           }
          ],
          "histogram2dcontour": [
           {
            "colorbar": {
             "outlinewidth": 0,
             "ticks": ""
            },
            "colorscale": [
             [
              0,
              "#0d0887"
             ],
             [
              0.1111111111111111,
              "#46039f"
             ],
             [
              0.2222222222222222,
              "#7201a8"
             ],
             [
              0.3333333333333333,
              "#9c179e"
             ],
             [
              0.4444444444444444,
              "#bd3786"
             ],
             [
              0.5555555555555556,
              "#d8576b"
             ],
             [
              0.6666666666666666,
              "#ed7953"
             ],
             [
              0.7777777777777778,
              "#fb9f3a"
             ],
             [
              0.8888888888888888,
              "#fdca26"
             ],
             [
              1,
              "#f0f921"
             ]
            ],
            "type": "histogram2dcontour"
           }
          ],
          "mesh3d": [
           {
            "colorbar": {
             "outlinewidth": 0,
             "ticks": ""
            },
            "type": "mesh3d"
           }
          ],
          "parcoords": [
           {
            "line": {
             "colorbar": {
              "outlinewidth": 0,
              "ticks": ""
             }
            },
            "type": "parcoords"
           }
          ],
          "pie": [
           {
            "automargin": true,
            "type": "pie"
           }
          ],
          "scatter": [
           {
            "marker": {
             "colorbar": {
              "outlinewidth": 0,
              "ticks": ""
             }
            },
            "type": "scatter"
           }
          ],
          "scatter3d": [
           {
            "line": {
             "colorbar": {
              "outlinewidth": 0,
              "ticks": ""
             }
            },
            "marker": {
             "colorbar": {
              "outlinewidth": 0,
              "ticks": ""
             }
            },
            "type": "scatter3d"
           }
          ],
          "scattercarpet": [
           {
            "marker": {
             "colorbar": {
              "outlinewidth": 0,
              "ticks": ""
             }
            },
            "type": "scattercarpet"
           }
          ],
          "scattergeo": [
           {
            "marker": {
             "colorbar": {
              "outlinewidth": 0,
              "ticks": ""
             }
            },
            "type": "scattergeo"
           }
          ],
          "scattergl": [
           {
            "marker": {
             "colorbar": {
              "outlinewidth": 0,
              "ticks": ""
             }
            },
            "type": "scattergl"
           }
          ],
          "scattermapbox": [
           {
            "marker": {
             "colorbar": {
              "outlinewidth": 0,
              "ticks": ""
             }
            },
            "type": "scattermapbox"
           }
          ],
          "scatterpolar": [
           {
            "marker": {
             "colorbar": {
              "outlinewidth": 0,
              "ticks": ""
             }
            },
            "type": "scatterpolar"
           }
          ],
          "scatterpolargl": [
           {
            "marker": {
             "colorbar": {
              "outlinewidth": 0,
              "ticks": ""
             }
            },
            "type": "scatterpolargl"
           }
          ],
          "scatterternary": [
           {
            "marker": {
             "colorbar": {
              "outlinewidth": 0,
              "ticks": ""
             }
            },
            "type": "scatterternary"
           }
          ],
          "surface": [
           {
            "colorbar": {
             "outlinewidth": 0,
             "ticks": ""
            },
            "colorscale": [
             [
              0,
              "#0d0887"
             ],
             [
              0.1111111111111111,
              "#46039f"
             ],
             [
              0.2222222222222222,
              "#7201a8"
             ],
             [
              0.3333333333333333,
              "#9c179e"
             ],
             [
              0.4444444444444444,
              "#bd3786"
             ],
             [
              0.5555555555555556,
              "#d8576b"
             ],
             [
              0.6666666666666666,
              "#ed7953"
             ],
             [
              0.7777777777777778,
              "#fb9f3a"
             ],
             [
              0.8888888888888888,
              "#fdca26"
             ],
             [
              1,
              "#f0f921"
             ]
            ],
            "type": "surface"
           }
          ],
          "table": [
           {
            "cells": {
             "fill": {
              "color": "#EBF0F8"
             },
             "line": {
              "color": "white"
             }
            },
            "header": {
             "fill": {
              "color": "#C8D4E3"
             },
             "line": {
              "color": "white"
             }
            },
            "type": "table"
           }
          ]
         },
         "layout": {
          "annotationdefaults": {
           "arrowcolor": "#2a3f5f",
           "arrowhead": 0,
           "arrowwidth": 1
          },
          "autotypenumbers": "strict",
          "coloraxis": {
           "colorbar": {
            "outlinewidth": 0,
            "ticks": ""
           }
          },
          "colorscale": {
           "diverging": [
            [
             0,
             "#8e0152"
            ],
            [
             0.1,
             "#c51b7d"
            ],
            [
             0.2,
             "#de77ae"
            ],
            [
             0.3,
             "#f1b6da"
            ],
            [
             0.4,
             "#fde0ef"
            ],
            [
             0.5,
             "#f7f7f7"
            ],
            [
             0.6,
             "#e6f5d0"
            ],
            [
             0.7,
             "#b8e186"
            ],
            [
             0.8,
             "#7fbc41"
            ],
            [
             0.9,
             "#4d9221"
            ],
            [
             1,
             "#276419"
            ]
           ],
           "sequential": [
            [
             0,
             "#0d0887"
            ],
            [
             0.1111111111111111,
             "#46039f"
            ],
            [
             0.2222222222222222,
             "#7201a8"
            ],
            [
             0.3333333333333333,
             "#9c179e"
            ],
            [
             0.4444444444444444,
             "#bd3786"
            ],
            [
             0.5555555555555556,
             "#d8576b"
            ],
            [
             0.6666666666666666,
             "#ed7953"
            ],
            [
             0.7777777777777778,
             "#fb9f3a"
            ],
            [
             0.8888888888888888,
             "#fdca26"
            ],
            [
             1,
             "#f0f921"
            ]
           ],
           "sequentialminus": [
            [
             0,
             "#0d0887"
            ],
            [
             0.1111111111111111,
             "#46039f"
            ],
            [
             0.2222222222222222,
             "#7201a8"
            ],
            [
             0.3333333333333333,
             "#9c179e"
            ],
            [
             0.4444444444444444,
             "#bd3786"
            ],
            [
             0.5555555555555556,
             "#d8576b"
            ],
            [
             0.6666666666666666,
             "#ed7953"
            ],
            [
             0.7777777777777778,
             "#fb9f3a"
            ],
            [
             0.8888888888888888,
             "#fdca26"
            ],
            [
             1,
             "#f0f921"
            ]
           ]
          },
          "colorway": [
           "#636efa",
           "#EF553B",
           "#00cc96",
           "#ab63fa",
           "#FFA15A",
           "#19d3f3",
           "#FF6692",
           "#B6E880",
           "#FF97FF",
           "#FECB52"
          ],
          "font": {
           "color": "#2a3f5f"
          },
          "geo": {
           "bgcolor": "white",
           "lakecolor": "white",
           "landcolor": "#E5ECF6",
           "showlakes": true,
           "showland": true,
           "subunitcolor": "white"
          },
          "hoverlabel": {
           "align": "left"
          },
          "hovermode": "closest",
          "mapbox": {
           "style": "light"
          },
          "paper_bgcolor": "white",
          "plot_bgcolor": "#E5ECF6",
          "polar": {
           "angularaxis": {
            "gridcolor": "white",
            "linecolor": "white",
            "ticks": ""
           },
           "bgcolor": "#E5ECF6",
           "radialaxis": {
            "gridcolor": "white",
            "linecolor": "white",
            "ticks": ""
           }
          },
          "scene": {
           "xaxis": {
            "backgroundcolor": "#E5ECF6",
            "gridcolor": "white",
            "gridwidth": 2,
            "linecolor": "white",
            "showbackground": true,
            "ticks": "",
            "zerolinecolor": "white"
           },
           "yaxis": {
            "backgroundcolor": "#E5ECF6",
            "gridcolor": "white",
            "gridwidth": 2,
            "linecolor": "white",
            "showbackground": true,
            "ticks": "",
            "zerolinecolor": "white"
           },
           "zaxis": {
            "backgroundcolor": "#E5ECF6",
            "gridcolor": "white",
            "gridwidth": 2,
            "linecolor": "white",
            "showbackground": true,
            "ticks": "",
            "zerolinecolor": "white"
           }
          },
          "shapedefaults": {
           "line": {
            "color": "#2a3f5f"
           }
          },
          "ternary": {
           "aaxis": {
            "gridcolor": "white",
            "linecolor": "white",
            "ticks": ""
           },
           "baxis": {
            "gridcolor": "white",
            "linecolor": "white",
            "ticks": ""
           },
           "bgcolor": "#E5ECF6",
           "caxis": {
            "gridcolor": "white",
            "linecolor": "white",
            "ticks": ""
           }
          },
          "title": {
           "x": 0.05
          },
          "xaxis": {
           "automargin": true,
           "gridcolor": "white",
           "linecolor": "white",
           "ticks": "",
           "title": {
            "standoff": 15
           },
           "zerolinecolor": "white",
           "zerolinewidth": 2
          },
          "yaxis": {
           "automargin": true,
           "gridcolor": "white",
           "linecolor": "white",
           "ticks": "",
           "title": {
            "standoff": 15
           },
           "zerolinecolor": "white",
           "zerolinewidth": 2
          }
         }
        },
        "xaxis": {
         "title": {
          "text": "Iterations"
         }
        },
        "yaxis": {
         "title": {
          "text": "Draws"
         }
        }
       }
      },
      "text/html": [
       "<div>                            <div id=\"9c6e2974-1dd9-4ce3-9942-2dbfdaf2e228\" class=\"plotly-graph-div\" style=\"height:525px; width:100%;\"></div>            <script type=\"text/javascript\">                require([\"plotly\"], function(Plotly) {                    window.PLOTLYENV=window.PLOTLYENV || {};                                    if (document.getElementById(\"9c6e2974-1dd9-4ce3-9942-2dbfdaf2e228\")) {                    Plotly.newPlot(                        \"9c6e2974-1dd9-4ce3-9942-2dbfdaf2e228\",                        [{\"mode\": \"lines+markers\", \"name\": \"MCTS draws\", \"type\": \"scatter\", \"x\": [2, 10, 50, 100, 200, 400], \"y\": [0, 9, 35, 53, 60, 80]}, {\"mode\": \"lines+markers\", \"name\": \"AZ draws\", \"type\": \"scatter\", \"x\": [2, 10, 50, 100, 200, 400], \"y\": [79, 90, 86, 87, 85, 92]}],                        {\"template\": {\"data\": {\"bar\": [{\"error_x\": {\"color\": \"#2a3f5f\"}, \"error_y\": {\"color\": \"#2a3f5f\"}, \"marker\": {\"line\": {\"color\": \"#E5ECF6\", \"width\": 0.5}}, \"type\": \"bar\"}], \"barpolar\": [{\"marker\": {\"line\": {\"color\": \"#E5ECF6\", \"width\": 0.5}}, \"type\": \"barpolar\"}], \"carpet\": [{\"aaxis\": {\"endlinecolor\": \"#2a3f5f\", \"gridcolor\": \"white\", \"linecolor\": \"white\", \"minorgridcolor\": \"white\", \"startlinecolor\": \"#2a3f5f\"}, \"baxis\": {\"endlinecolor\": \"#2a3f5f\", \"gridcolor\": \"white\", \"linecolor\": \"white\", \"minorgridcolor\": \"white\", \"startlinecolor\": \"#2a3f5f\"}, \"type\": \"carpet\"}], \"choropleth\": [{\"colorbar\": {\"outlinewidth\": 0, \"ticks\": \"\"}, \"type\": \"choropleth\"}], \"contour\": [{\"colorbar\": {\"outlinewidth\": 0, \"ticks\": \"\"}, \"colorscale\": [[0.0, \"#0d0887\"], [0.1111111111111111, \"#46039f\"], [0.2222222222222222, \"#7201a8\"], [0.3333333333333333, \"#9c179e\"], [0.4444444444444444, \"#bd3786\"], [0.5555555555555556, \"#d8576b\"], [0.6666666666666666, \"#ed7953\"], [0.7777777777777778, \"#fb9f3a\"], [0.8888888888888888, \"#fdca26\"], [1.0, \"#f0f921\"]], \"type\": \"contour\"}], \"contourcarpet\": [{\"colorbar\": {\"outlinewidth\": 0, \"ticks\": \"\"}, \"type\": \"contourcarpet\"}], \"heatmap\": [{\"colorbar\": {\"outlinewidth\": 0, \"ticks\": \"\"}, \"colorscale\": [[0.0, \"#0d0887\"], [0.1111111111111111, \"#46039f\"], [0.2222222222222222, \"#7201a8\"], [0.3333333333333333, \"#9c179e\"], [0.4444444444444444, \"#bd3786\"], [0.5555555555555556, \"#d8576b\"], [0.6666666666666666, \"#ed7953\"], [0.7777777777777778, \"#fb9f3a\"], [0.8888888888888888, \"#fdca26\"], [1.0, \"#f0f921\"]], \"type\": \"heatmap\"}], \"heatmapgl\": [{\"colorbar\": {\"outlinewidth\": 0, \"ticks\": \"\"}, \"colorscale\": [[0.0, \"#0d0887\"], [0.1111111111111111, \"#46039f\"], [0.2222222222222222, \"#7201a8\"], [0.3333333333333333, \"#9c179e\"], [0.4444444444444444, \"#bd3786\"], [0.5555555555555556, \"#d8576b\"], [0.6666666666666666, \"#ed7953\"], [0.7777777777777778, \"#fb9f3a\"], [0.8888888888888888, \"#fdca26\"], [1.0, \"#f0f921\"]], \"type\": \"heatmapgl\"}], \"histogram\": [{\"marker\": {\"colorbar\": {\"outlinewidth\": 0, \"ticks\": \"\"}}, \"type\": \"histogram\"}], \"histogram2d\": [{\"colorbar\": {\"outlinewidth\": 0, \"ticks\": \"\"}, \"colorscale\": [[0.0, \"#0d0887\"], [0.1111111111111111, \"#46039f\"], [0.2222222222222222, \"#7201a8\"], [0.3333333333333333, \"#9c179e\"], [0.4444444444444444, \"#bd3786\"], [0.5555555555555556, \"#d8576b\"], [0.6666666666666666, \"#ed7953\"], [0.7777777777777778, \"#fb9f3a\"], [0.8888888888888888, \"#fdca26\"], [1.0, \"#f0f921\"]], \"type\": \"histogram2d\"}], \"histogram2dcontour\": [{\"colorbar\": {\"outlinewidth\": 0, \"ticks\": \"\"}, \"colorscale\": [[0.0, \"#0d0887\"], [0.1111111111111111, \"#46039f\"], [0.2222222222222222, \"#7201a8\"], [0.3333333333333333, \"#9c179e\"], [0.4444444444444444, \"#bd3786\"], [0.5555555555555556, \"#d8576b\"], [0.6666666666666666, \"#ed7953\"], [0.7777777777777778, \"#fb9f3a\"], [0.8888888888888888, \"#fdca26\"], [1.0, \"#f0f921\"]], \"type\": \"histogram2dcontour\"}], \"mesh3d\": [{\"colorbar\": {\"outlinewidth\": 0, \"ticks\": \"\"}, \"type\": \"mesh3d\"}], \"parcoords\": [{\"line\": {\"colorbar\": {\"outlinewidth\": 0, \"ticks\": \"\"}}, \"type\": \"parcoords\"}], \"pie\": [{\"automargin\": true, \"type\": \"pie\"}], \"scatter\": [{\"marker\": {\"colorbar\": {\"outlinewidth\": 0, \"ticks\": \"\"}}, \"type\": \"scatter\"}], \"scatter3d\": [{\"line\": {\"colorbar\": {\"outlinewidth\": 0, \"ticks\": \"\"}}, \"marker\": {\"colorbar\": {\"outlinewidth\": 0, \"ticks\": \"\"}}, \"type\": \"scatter3d\"}], \"scattercarpet\": [{\"marker\": {\"colorbar\": {\"outlinewidth\": 0, \"ticks\": \"\"}}, \"type\": \"scattercarpet\"}], \"scattergeo\": [{\"marker\": {\"colorbar\": {\"outlinewidth\": 0, \"ticks\": \"\"}}, \"type\": \"scattergeo\"}], \"scattergl\": [{\"marker\": {\"colorbar\": {\"outlinewidth\": 0, \"ticks\": \"\"}}, \"type\": \"scattergl\"}], \"scattermapbox\": [{\"marker\": {\"colorbar\": {\"outlinewidth\": 0, \"ticks\": \"\"}}, \"type\": \"scattermapbox\"}], \"scatterpolar\": [{\"marker\": {\"colorbar\": {\"outlinewidth\": 0, \"ticks\": \"\"}}, \"type\": \"scatterpolar\"}], \"scatterpolargl\": [{\"marker\": {\"colorbar\": {\"outlinewidth\": 0, \"ticks\": \"\"}}, \"type\": \"scatterpolargl\"}], \"scatterternary\": [{\"marker\": {\"colorbar\": {\"outlinewidth\": 0, \"ticks\": \"\"}}, \"type\": \"scatterternary\"}], \"surface\": [{\"colorbar\": {\"outlinewidth\": 0, \"ticks\": \"\"}, \"colorscale\": [[0.0, \"#0d0887\"], [0.1111111111111111, \"#46039f\"], [0.2222222222222222, \"#7201a8\"], [0.3333333333333333, \"#9c179e\"], [0.4444444444444444, \"#bd3786\"], [0.5555555555555556, \"#d8576b\"], [0.6666666666666666, \"#ed7953\"], [0.7777777777777778, \"#fb9f3a\"], [0.8888888888888888, \"#fdca26\"], [1.0, \"#f0f921\"]], \"type\": \"surface\"}], \"table\": [{\"cells\": {\"fill\": {\"color\": \"#EBF0F8\"}, \"line\": {\"color\": \"white\"}}, \"header\": {\"fill\": {\"color\": \"#C8D4E3\"}, \"line\": {\"color\": \"white\"}}, \"type\": \"table\"}]}, \"layout\": {\"annotationdefaults\": {\"arrowcolor\": \"#2a3f5f\", \"arrowhead\": 0, \"arrowwidth\": 1}, \"autotypenumbers\": \"strict\", \"coloraxis\": {\"colorbar\": {\"outlinewidth\": 0, \"ticks\": \"\"}}, \"colorscale\": {\"diverging\": [[0, \"#8e0152\"], [0.1, \"#c51b7d\"], [0.2, \"#de77ae\"], [0.3, \"#f1b6da\"], [0.4, \"#fde0ef\"], [0.5, \"#f7f7f7\"], [0.6, \"#e6f5d0\"], [0.7, \"#b8e186\"], [0.8, \"#7fbc41\"], [0.9, \"#4d9221\"], [1, \"#276419\"]], \"sequential\": [[0.0, \"#0d0887\"], [0.1111111111111111, \"#46039f\"], [0.2222222222222222, \"#7201a8\"], [0.3333333333333333, \"#9c179e\"], [0.4444444444444444, \"#bd3786\"], [0.5555555555555556, \"#d8576b\"], [0.6666666666666666, \"#ed7953\"], [0.7777777777777778, \"#fb9f3a\"], [0.8888888888888888, \"#fdca26\"], [1.0, \"#f0f921\"]], \"sequentialminus\": [[0.0, \"#0d0887\"], [0.1111111111111111, \"#46039f\"], [0.2222222222222222, \"#7201a8\"], [0.3333333333333333, \"#9c179e\"], [0.4444444444444444, \"#bd3786\"], [0.5555555555555556, \"#d8576b\"], [0.6666666666666666, \"#ed7953\"], [0.7777777777777778, \"#fb9f3a\"], [0.8888888888888888, \"#fdca26\"], [1.0, \"#f0f921\"]]}, \"colorway\": [\"#636efa\", \"#EF553B\", \"#00cc96\", \"#ab63fa\", \"#FFA15A\", \"#19d3f3\", \"#FF6692\", \"#B6E880\", \"#FF97FF\", \"#FECB52\"], \"font\": {\"color\": \"#2a3f5f\"}, \"geo\": {\"bgcolor\": \"white\", \"lakecolor\": \"white\", \"landcolor\": \"#E5ECF6\", \"showlakes\": true, \"showland\": true, \"subunitcolor\": \"white\"}, \"hoverlabel\": {\"align\": \"left\"}, \"hovermode\": \"closest\", \"mapbox\": {\"style\": \"light\"}, \"paper_bgcolor\": \"white\", \"plot_bgcolor\": \"#E5ECF6\", \"polar\": {\"angularaxis\": {\"gridcolor\": \"white\", \"linecolor\": \"white\", \"ticks\": \"\"}, \"bgcolor\": \"#E5ECF6\", \"radialaxis\": {\"gridcolor\": \"white\", \"linecolor\": \"white\", \"ticks\": \"\"}}, \"scene\": {\"xaxis\": {\"backgroundcolor\": \"#E5ECF6\", \"gridcolor\": \"white\", \"gridwidth\": 2, \"linecolor\": \"white\", \"showbackground\": true, \"ticks\": \"\", \"zerolinecolor\": \"white\"}, \"yaxis\": {\"backgroundcolor\": \"#E5ECF6\", \"gridcolor\": \"white\", \"gridwidth\": 2, \"linecolor\": \"white\", \"showbackground\": true, \"ticks\": \"\", \"zerolinecolor\": \"white\"}, \"zaxis\": {\"backgroundcolor\": \"#E5ECF6\", \"gridcolor\": \"white\", \"gridwidth\": 2, \"linecolor\": \"white\", \"showbackground\": true, \"ticks\": \"\", \"zerolinecolor\": \"white\"}}, \"shapedefaults\": {\"line\": {\"color\": \"#2a3f5f\"}}, \"ternary\": {\"aaxis\": {\"gridcolor\": \"white\", \"linecolor\": \"white\", \"ticks\": \"\"}, \"baxis\": {\"gridcolor\": \"white\", \"linecolor\": \"white\", \"ticks\": \"\"}, \"bgcolor\": \"#E5ECF6\", \"caxis\": {\"gridcolor\": \"white\", \"linecolor\": \"white\", \"ticks\": \"\"}}, \"title\": {\"x\": 0.05}, \"xaxis\": {\"automargin\": true, \"gridcolor\": \"white\", \"linecolor\": \"white\", \"ticks\": \"\", \"title\": {\"standoff\": 15}, \"zerolinecolor\": \"white\", \"zerolinewidth\": 2}, \"yaxis\": {\"automargin\": true, \"gridcolor\": \"white\", \"linecolor\": \"white\", \"ticks\": \"\", \"title\": {\"standoff\": 15}, \"zerolinecolor\": \"white\", \"zerolinewidth\": 2}}}, \"xaxis\": {\"title\": {\"text\": \"Iterations\"}}, \"yaxis\": {\"title\": {\"text\": \"Draws\"}}},                        {\"responsive\": true}                    ).then(function(){\n",
       "                            \n",
       "var gd = document.getElementById('9c6e2974-1dd9-4ce3-9942-2dbfdaf2e228');\n",
       "var x = new MutationObserver(function (mutations, observer) {{\n",
       "        var display = window.getComputedStyle(gd).display;\n",
       "        if (!display || display === 'none') {{\n",
       "            console.log([gd, 'removed!']);\n",
       "            Plotly.purge(gd);\n",
       "            observer.disconnect();\n",
       "        }}\n",
       "}});\n",
       "\n",
       "// Listen for the removal of the full notebook cells\n",
       "var notebookContainer = gd.closest('#notebook-container');\n",
       "if (notebookContainer) {{\n",
       "    x.observe(notebookContainer, {childList: true});\n",
       "}}\n",
       "\n",
       "// Listen for the clearing of the current output cell\n",
       "var outputEl = gd.closest('.output');\n",
       "if (outputEl) {{\n",
       "    x.observe(outputEl, {childList: true});\n",
       "}}\n",
       "\n",
       "                        })                };                });            </script>        </div>"
      ]
     },
     "metadata": {},
     "output_type": "display_data"
    }
   ],
   "source": [
    "import plotly.graph_objects as go\n",
    "\n",
    "\n",
    "fig = go.Figure()\n",
    "fig.add_trace(go.Scatter(x=iters, y=mcts_draws, mode='lines+markers', name='MCTS draws'))\n",
    "fig.add_trace(go.Scatter(x=iters, y=az_draws, mode='lines+markers', name='AZ draws'))\n",
    "fig.update_xaxes(title_text='Iterations')\n",
    "fig.update_yaxes(title_text='Draws')\n",
    "fig.show()"
   ]
  },
  {
   "cell_type": "code",
   "execution_count": null,
   "metadata": {},
   "outputs": [
    {
     "name": "stdout",
     "output_type": "stream",
     "text": [
      " | | \n",
      "-+-+-\n",
      " | | \n",
      "-+-+-\n",
      " | | \n",
      "\n",
      "\n",
      "[PLAYER] choose action: 0, 1, 2, 3, 4, 5, 6, 7, 8\n",
      "> 8\n",
      " | | \n",
      "-+-+-\n",
      " | | \n",
      "-+-+-\n",
      " | |X\n",
      "\n",
      "O| | \n",
      "-+-+-\n",
      " | | \n",
      "-+-+-\n",
      " | |X\n",
      "\n",
      "\n",
      "[PLAYER] choose action: 1, 2, 3, 4, 5, 6, 7\n"
     ]
    }
   ],
   "source": [
    "from tfg.strategies import HumanStrategy\n",
    "\n",
    "\n",
    "alphazero.set_max_iter(400)\n",
    "\n",
    "play(game, HumanStrategy(game), alphazero, render=True, print_results=True)"
   ]
  },
  {
   "cell_type": "code",
   "execution_count": 5,
   "metadata": {},
   "outputs": [],
   "source": [
    "model = alphazero.neural_network.model"
   ]
  },
  {
   "cell_type": "code",
   "execution_count": 6,
   "metadata": {},
   "outputs": [
    {
     "data": {
      "text/plain": [
       "(-0.0033795643,\n",
       " array([0.09475057, 0.0194478 , 0.05071083, 0.06710757, 0.2650528 ,\n",
       "        0.19979826, 0.08726399, 0.1512179 , 0.06465028], dtype=float32),\n",
       " 4)"
      ]
     },
     "execution_count": 6,
     "metadata": {},
     "output_type": "execute_result"
    }
   ],
   "source": [
    "import numpy as np\n",
    "board = np.array([[\n",
    "    [[0, 0, 0],\n",
    "     [0, 0, 0],\n",
    "     [0, 0, 0]],\n",
    "    [[0, 0, 0],\n",
    "     [0, 0, 0],\n",
    "     [0, 0, 0]],\n",
    "    [[0] * 3] * 3\n",
    "]])\n",
    "v, p = model(board)\n",
    "v = v.numpy()[0, 0]\n",
    "p = p.numpy()[0]\n",
    "v, p, np.argmax(p)"
   ]
  },
  {
   "cell_type": "code",
   "execution_count": 7,
   "metadata": {},
   "outputs": [
    {
     "name": "stdout",
     "output_type": "stream",
     "text": [
      "[[16. 11. 13.]\n",
      " [ 9. 14. 14.]\n",
      " [15. 15. 13.]]\n",
      "\n",
      "[[10.  4.  6.]\n",
      " [ 4. 56.  0.]\n",
      " [18.  7. 15.]]\n",
      "\n",
      "[[15. 20. 19.]\n",
      " [ 4. 22.  4.]\n",
      " [21.  8.  7.]]\n",
      "\n",
      "[[35.  5. 18.]\n",
      " [10. 25.  7.]\n",
      " [ 4.  6. 10.]]\n",
      "\n",
      "[[13.  5.  2.]\n",
      " [ 5. 79.  4.]\n",
      " [ 7.  2.  3.]]\n",
      "\n",
      "[[17.  2.  5.]\n",
      " [ 4. 43.  5.]\n",
      " [23. 14.  7.]]\n",
      "\n",
      "[[ 5.  4.  6.]\n",
      " [ 1. 71.  2.]\n",
      " [ 8. 17.  6.]]\n",
      "\n",
      "[[29.  3. 11.]\n",
      " [ 4. 20.  3.]\n",
      " [10. 26. 14.]]\n",
      "\n",
      "[[12.  6.  4.]\n",
      " [11. 19.  8.]\n",
      " [ 8. 45.  7.]]\n",
      "\n",
      "[[ 5.  7. 12.]\n",
      " [16. 51.  3.]\n",
      " [ 5. 18.  3.]]\n",
      "\n",
      "[[ 6.  6.  6.]\n",
      " [10. 71.  6.]\n",
      " [ 5.  9.  1.]]\n",
      "\n",
      "[[14.  1. 54.]\n",
      " [16. 10.  4.]\n",
      " [ 6. 10.  5.]]\n",
      "\n",
      "[[ 3.  2.  9.]\n",
      " [40. 22.  2.]\n",
      " [ 9.  4. 29.]]\n",
      "\n",
      "[[ 1.  2.  7.]\n",
      " [10. 87.  1.]\n",
      " [ 6.  2.  4.]]\n",
      "\n",
      "[[14.  1.  4.]\n",
      " [12. 44.  6.]\n",
      " [ 6. 27.  6.]]\n",
      "\n",
      "[[13.  1.  2.]\n",
      " [ 6. 33. 33.]\n",
      " [ 4. 21.  7.]]\n",
      "\n"
     ]
    }
   ],
   "source": [
    "games = np.zeros((3, 3))\n",
    "\n",
    "for i, g in enumerate(store.games):\n",
    "    if i % 120 == 0:\n",
    "        games[...] = 0\n",
    "    games += g[1]\n",
    "    if i % 120 == 119:\n",
    "        print(games)\n",
    "        print()"
   ]
  },
  {
   "cell_type": "code",
   "execution_count": 8,
   "metadata": {},
   "outputs": [
    {
     "name": "stdout",
     "output_type": "stream",
     "text": [
      "O| | \n",
      "-+-+-\n",
      " | | \n",
      "-+-+-\n",
      " | |X\n",
      "\n",
      "O| | \n",
      "-+-+-\n",
      " | | \n",
      "-+-+-\n",
      "X| |X\n",
      "\n"
     ]
    }
   ],
   "source": [
    "observation = game.reset()\n",
    "alphazero.update(None)\n",
    "observation, _, _, _ = game.step(8)\n",
    "alphazero.update(8)\n",
    "observation, _, _, _ = game.step(0)\n",
    "alphazero.update(0)\n",
    "game.render()\n",
    "action = alphazero.move(observation)\n",
    "game.step(action)\n",
    "game.render()"
   ]
  },
  {
   "cell_type": "code",
   "execution_count": 9,
   "metadata": {},
   "outputs": [
    {
     "name": "stdout",
     "output_type": "stream",
     "text": [
      "action       pi        P      value\n",
      "action 1    0.000    0.017    0.000\n",
      "action 2    0.003    0.082    -0.454\n",
      "action 3    0.003    0.087    -0.064\n",
      "action 4    0.015    0.281    -0.040\n",
      "action 5    0.015    0.240    0.038\n",
      "action 6    0.965    0.264    0.832\n",
      "action 7    0.000    0.029    0.000\n"
     ]
    }
   ],
   "source": [
    "actions = alphazero._mcts.stats['actions']\n",
    "N = sum(n.visit_count for n in actions.values())\n",
    "print(\"action  \", \" pi \", \"   P  \", \"value\", sep='    ')\n",
    "for a, n in actions.items():\n",
    "    print(f\"action {a}\", f\"{n.visit_count / N:.3f}\", f\"{n.probability:.3f}\", f\"{n.value:.3f}\", sep='    ')"
   ]
  },
  {
   "cell_type": "code",
   "execution_count": 44,
   "metadata": {},
   "outputs": [
    {
     "data": {
      "text/plain": [
       "True"
      ]
     },
     "execution_count": 44,
     "metadata": {},
     "output_type": "execute_result"
    }
   ],
   "source": [
    "alphazero._mcts._root.root"
   ]
  },
  {
   "cell_type": "code",
   "execution_count": null,
   "metadata": {},
   "outputs": [],
   "source": []
  }
 ],
 "metadata": {
  "kernelspec": {
   "display_name": "AlphaZero",
   "language": "python",
   "name": "alphazero"
  },
  "language_info": {
   "codemirror_mode": {
    "name": "ipython",
    "version": 3
   },
   "file_extension": ".py",
   "mimetype": "text/x-python",
   "name": "python",
   "nbconvert_exporter": "python",
   "pygments_lexer": "ipython3",
   "version": "3.8.8"
  }
 },
 "nbformat": 4,
 "nbformat_minor": 1
}