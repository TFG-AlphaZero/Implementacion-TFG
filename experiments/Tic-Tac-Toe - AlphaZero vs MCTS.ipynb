{
 "cells": [
  {
   "cell_type": "code",
   "execution_count": 1,
   "metadata": {},
   "outputs": [],
   "source": [
    "import os\n",
    "\n",
    "\n",
    "if 'tfg' not in os.listdir():\n",
    "    os.chdir('..')"
   ]
  },
  {
   "cell_type": "code",
   "execution_count": 2,
   "metadata": {},
   "outputs": [],
   "source": [
    "from tfg.strategies import Minimax, MonteCarloTree\n",
    "from tfg.alphaZero import parallel_play\n",
    "from tfg.alphaZeroAdapters import TicTacToeAdapter\n",
    "from tfg.util import enable_gpu,play\n",
    "from game.tictactoe import TicTacToe"
   ]
  },
  {
   "cell_type": "code",
   "execution_count": 3,
   "metadata": {},
   "outputs": [],
   "source": [
    "enable_gpu()\n",
    "\n",
    "game = TicTacToe()"
   ]
  },
  {
   "cell_type": "markdown",
   "metadata": {},
   "source": [
    "## Performance during training"
   ]
  },
  {
   "cell_type": "code",
   "execution_count": 4,
   "metadata": {},
   "outputs": [
    {
     "data": {
      "text/plain": [
       "[27, 85, 95, 88, 96, 100, 100, 98, 100]"
      ]
     },
     "execution_count": 4,
     "metadata": {},
     "output_type": "execute_result"
    }
   ],
   "source": [
    "MCTS_ITER = 100\n",
    "DIR = 'models/checkpoints/tictactoe'\n",
    "\n",
    "az_games_played = list(range(0, 960 + 1, 120))\n",
    "az_training_draws = list()\n",
    "\n",
    "minimax = Minimax(game)\n",
    "\n",
    "# Before starting training\n",
    "_, draws, _ = parallel_play(game, TicTacToeAdapter(), minimax,\n",
    "                            color='black', max_workers=10,\n",
    "                            mcts_iter=MCTS_ITER, games=100)\n",
    "az_training_draws.append(draws)\n",
    "\n",
    "for filename in os.listdir(DIR):\n",
    "    _, draws, _ = parallel_play(game, TicTacToeAdapter(), minimax,\n",
    "                                os.path.join(DIR, filename),\n",
    "                                color='black', max_workers=10,\n",
    "                                mcts_iter=MCTS_ITER, games=100)\n",
    "    az_training_draws.append(draws)\n",
    "\n",
    "az_training_draws"
   ]
  },
  {
   "cell_type": "code",
   "execution_count": 5,
   "metadata": {},
   "outputs": [
    {
     "data": {
      "text/plain": [
       "55"
      ]
     },
     "execution_count": 5,
     "metadata": {},
     "output_type": "execute_result"
    }
   ],
   "source": [
    "mcts = MonteCarloTree(game, max_iter=MCTS_ITER, reset_tree=False)\n",
    "_, mcts_draws_, _ = play(game, minimax, mcts, games=100, max_workers=10)\n",
    "mcts_draws_"
   ]
  },
  {
   "cell_type": "code",
   "execution_count": 5,
   "metadata": {},
   "outputs": [
    {
     "data": {
      "image/png": "[encoded data removed]",
      "text/plain": [
       "<Figure size 432x288 with 1 Axes>"
      ]
     },
     "metadata": {
      "needs_background": "light"
     },
     "output_type": "display_data"
    }
   ],
   "source": [
    "import matplotlib.pyplot as plt\n",
    "\n",
    "\n",
    "plt.plot([az_games_played[0], az_games_played[-1]], [mcts_draws_, mcts_draws_], '--')\n",
    "plt.plot(az_games_played, az_training_draws, '-o')\n",
    "plt.legend(['MCTS', 'AlphaZero'])\n",
    "plt.xlabel('games played')\n",
    "plt.ylabel('draws with black')\n",
    "plt.savefig('images/az_training.png')"
   ]
  },
  {
   "cell_type": "markdown",
   "metadata": {},
   "source": [
    "## Performance after training"
   ]
  },
  {
   "cell_type": "code",
   "execution_count": 7,
   "metadata": {},
   "outputs": [
    {
     "data": {
      "text/plain": [
       "([0, 28, 56, 67], [97, 100, 100, 100])"
      ]
     },
     "execution_count": 7,
     "metadata": {},
     "output_type": "execute_result"
    }
   ],
   "source": [
    "mcts_draws = list()\n",
    "az_draws = list()\n",
    "iters = (2, 20, 100, 200)\n",
    "\n",
    "for m in iters:\n",
    "    _, draws, _ = parallel_play(game, TicTacToeAdapter(), Minimax(game),\n",
    "                                'models/TicTacToe.h5', 'black', max_workers=10,\n",
    "                                mcts_iter=m, games=100)\n",
    "    az_draws.append(draws)\n",
    "\n",
    "for m in iters:\n",
    "    mcts = MonteCarloTree(game, max_iter=m, reset_tree=False)\n",
    "    _, draws, _ = play(game, minimax, mcts, games=100, max_workers=10)\n",
    "    mcts_draws.append(draws)\n",
    "\n",
    "mcts_draws, az_draws"
   ]
  },
  {
   "cell_type": "code",
   "execution_count": 8,
   "metadata": {},
   "outputs": [
    {
     "data": {
      "image/png": "[encoded data removed]",
      "text/plain": [
       "<Figure size 432x288 with 1 Axes>"
      ]
     },
     "metadata": {
      "needs_background": "light"
     },
     "output_type": "display_data"
    }
   ],
   "source": [
    "plt.plot(iters, mcts_draws, '-o')\n",
    "plt.plot(iters, az_draws, '-o')\n",
    "plt.legend(['MCTS', 'AlphaZero'])\n",
    "plt.xlabel('iterations')\n",
    "plt.ylabel('draws with black')\n",
    "plt.savefig('images/az_vs_mcts.png')"
   ]
  }
 ],
 "metadata": {
  "kernelspec": {
   "display_name": "Python 3",
   "language": "python",
   "name": "python3"
  },
  "language_info": {
   "codemirror_mode": {
    "name": "ipython",
    "version": 3
   },
   "file_extension": ".py",
   "mimetype": "text/x-python",
   "name": "python",
   "nbconvert_exporter": "python",
   "pygments_lexer": "ipython3",
   "version": "3.8.8"
  }
 },
 "nbformat": 4,
 "nbformat_minor": 1
}
