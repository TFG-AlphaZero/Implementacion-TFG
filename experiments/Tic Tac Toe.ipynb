{
 "cells": [
  {
   "cell_type": "code",
   "execution_count": 1,
   "metadata": {
    "pycharm": {
     "is_executing": true
    }
   },
   "outputs": [],
   "source": [
    "from tfg.alphaZero import create_alphazero, AlphaZero\n",
    "from tfg.alphaZeroCallbacks import Checkpoint\n",
    "from tfg.util import enable_gpu, play\n",
    "from tfg.strategies import Minimax, MonteCarloTree\n",
    "from game.tictactoe import TicTacToe"
   ]
  },
  {
   "cell_type": "code",
   "execution_count": 2,
   "metadata": {},
   "outputs": [],
   "source": [
    "enable_gpu()\n",
    "\n",
    "game = TicTacToe()"
   ]
  },
  {
   "cell_type": "code",
   "execution_count": 14,
   "metadata": {
    "scrolled": true
   },
   "outputs": [
    {
     "name": "stdout",
     "output_type": "stream",
     "text": [
      "Epoch 1/10\n",
      "4/4 - 1s - loss: 1.7673 - value_head_loss: 0.7989 - policy_head_loss: 2.5845\n",
      "Epoch 2/10\n",
      "4/4 - 0s - loss: 1.5132 - value_head_loss: 0.5836 - policy_head_loss: 2.2378\n",
      "Epoch 3/10\n",
      "4/4 - 0s - loss: 1.4752 - value_head_loss: 0.5637 - policy_head_loss: 2.1317\n",
      "Epoch 4/10\n",
      "4/4 - 0s - loss: 1.4207 - value_head_loss: 0.5003 - policy_head_loss: 2.0476\n",
      "Epoch 5/10\n",
      "4/4 - 0s - loss: 1.3690 - value_head_loss: 0.4212 - policy_head_loss: 1.9948\n",
      "Epoch 6/10\n",
      "4/4 - 0s - loss: 1.3230 - value_head_loss: 0.3596 - policy_head_loss: 1.9444\n",
      "Epoch 7/10\n",
      "4/4 - 0s - loss: 1.2709 - value_head_loss: 0.3406 - policy_head_loss: 1.8454\n",
      "Epoch 8/10\n",
      "4/4 - 0s - loss: 1.2187 - value_head_loss: 0.3161 - policy_head_loss: 1.7566\n",
      "Epoch 9/10\n",
      "4/4 - 0s - loss: 1.1718 - value_head_loss: 0.2971 - policy_head_loss: 1.6764\n",
      "Epoch 10/10\n",
      "4/4 - 0s - loss: 1.1167 - value_head_loss: 0.2506 - policy_head_loss: 1.6098\n",
      "Games played: 64\n",
      "Epoch 1/10\n",
      "4/4 - 0s - loss: 1.4966 - value_head_loss: 0.4923 - policy_head_loss: 2.1268\n",
      "Epoch 2/10\n",
      "4/4 - 0s - loss: 1.3232 - value_head_loss: 0.3966 - policy_head_loss: 1.8744\n",
      "Epoch 3/10\n",
      "4/4 - 0s - loss: 1.2326 - value_head_loss: 0.3122 - policy_head_loss: 1.7760\n",
      "Epoch 4/10\n",
      "4/4 - 0s - loss: 1.1612 - value_head_loss: 0.2767 - policy_head_loss: 1.6674\n",
      "Epoch 5/10\n",
      "4/4 - 0s - loss: 1.0989 - value_head_loss: 0.2497 - policy_head_loss: 1.5692\n",
      "Epoch 6/10\n",
      "4/4 - 0s - loss: 1.0361 - value_head_loss: 0.2312 - policy_head_loss: 1.4625\n",
      "Epoch 7/10\n",
      "4/4 - 0s - loss: 1.0008 - value_head_loss: 0.2229 - policy_head_loss: 1.4012\n",
      "Epoch 8/10\n",
      "4/4 - 0s - loss: 0.9539 - value_head_loss: 0.1892 - policy_head_loss: 1.3430\n",
      "Epoch 9/10\n",
      "4/4 - 0s - loss: 0.9056 - value_head_loss: 0.1676 - policy_head_loss: 1.2705\n",
      "Epoch 10/10\n",
      "4/4 - 0s - loss: 0.8698 - value_head_loss: 0.1564 - policy_head_loss: 1.2133\n",
      "Games played: 128\n",
      "Epoch 1/10\n",
      "4/4 - 0s - loss: 1.5221 - value_head_loss: 0.5171 - policy_head_loss: 2.1605\n",
      "Epoch 2/10\n",
      "4/4 - 0s - loss: 1.2737 - value_head_loss: 0.4089 - policy_head_loss: 1.7735\n",
      "Epoch 3/10\n",
      "4/4 - 0s - loss: 1.1958 - value_head_loss: 0.3746 - policy_head_loss: 1.6514\n",
      "Epoch 4/10\n",
      "4/4 - 0s - loss: 1.1195 - value_head_loss: 0.3462 - policy_head_loss: 1.5259\n",
      "Epoch 5/10\n",
      "4/4 - 0s - loss: 1.0589 - value_head_loss: 0.3120 - policy_head_loss: 1.4380\n",
      "Epoch 6/10\n",
      "4/4 - 0s - loss: 0.9909 - value_head_loss: 0.2839 - policy_head_loss: 1.3306\n",
      "Epoch 7/10\n",
      "4/4 - 0s - loss: 0.9538 - value_head_loss: 0.2543 - policy_head_loss: 1.2875\n",
      "Epoch 8/10\n",
      "4/4 - 0s - loss: 0.9063 - value_head_loss: 0.2223 - policy_head_loss: 1.2267\n",
      "Epoch 9/10\n",
      "4/4 - 0s - loss: 0.8755 - value_head_loss: 0.2021 - policy_head_loss: 1.1885\n",
      "Epoch 10/10\n",
      "4/4 - 0s - loss: 0.8435 - value_head_loss: 0.1699 - policy_head_loss: 1.1604\n",
      "Games played: 192\n",
      "Epoch 1/10\n",
      "4/4 - 0s - loss: 1.4602 - value_head_loss: 0.5357 - policy_head_loss: 2.0316\n",
      "Epoch 2/10\n",
      "4/4 - 0s - loss: 1.2350 - value_head_loss: 0.3808 - policy_head_loss: 1.7376\n",
      "Epoch 3/10\n",
      "4/4 - 0s - loss: 1.1324 - value_head_loss: 0.3308 - policy_head_loss: 1.5813\n",
      "Epoch 4/10\n",
      "4/4 - 0s - loss: 1.0610 - value_head_loss: 0.3075 - policy_head_loss: 1.4598\n",
      "Epoch 5/10\n",
      "4/4 - 0s - loss: 1.0077 - value_head_loss: 0.2926 - policy_head_loss: 1.3670\n",
      "Epoch 6/10\n",
      "4/4 - 0s - loss: 0.9515 - value_head_loss: 0.2524 - policy_head_loss: 1.2950\n",
      "Epoch 7/10\n",
      "4/4 - 0s - loss: 0.9278 - value_head_loss: 0.2532 - policy_head_loss: 1.2484\n",
      "Epoch 8/10\n",
      "4/4 - 0s - loss: 0.8967 - value_head_loss: 0.2308 - policy_head_loss: 1.2112\n",
      "Epoch 9/10\n",
      "4/4 - 0s - loss: 0.8959 - value_head_loss: 0.2619 - policy_head_loss: 1.1820\n",
      "Epoch 10/10\n",
      "4/4 - 0s - loss: 0.8352 - value_head_loss: 0.1969 - policy_head_loss: 1.1295\n",
      "Checkpoint saved at models/checkpoints/exp_chk1.h5\n",
      "Games played: 256\n",
      "Epoch 1/10\n",
      "4/4 - 0s - loss: 1.3280 - value_head_loss: 0.3863 - policy_head_loss: 1.9301\n",
      "Epoch 2/10\n",
      "4/4 - 0s - loss: 1.1290 - value_head_loss: 0.3146 - policy_head_loss: 1.6068\n",
      "Epoch 3/10\n",
      "4/4 - 0s - loss: 1.0426 - value_head_loss: 0.2520 - policy_head_loss: 1.4975\n",
      "Epoch 4/10\n",
      "4/4 - 0s - loss: 0.9809 - value_head_loss: 0.2184 - policy_head_loss: 1.4084\n",
      "Epoch 5/10\n",
      "4/4 - 0s - loss: 0.9362 - value_head_loss: 0.1912 - policy_head_loss: 1.3472\n",
      "Epoch 6/10\n",
      "4/4 - 0s - loss: 0.9167 - value_head_loss: 0.1688 - policy_head_loss: 1.3323\n",
      "Epoch 7/10\n",
      "4/4 - 0s - loss: 0.8750 - value_head_loss: 0.1422 - policy_head_loss: 1.2778\n",
      "Epoch 8/10\n",
      "4/4 - 0s - loss: 0.8459 - value_head_loss: 0.1278 - policy_head_loss: 1.2372\n",
      "Epoch 9/10\n",
      "4/4 - 0s - loss: 0.8332 - value_head_loss: 0.1149 - policy_head_loss: 1.2284\n",
      "Epoch 10/10\n",
      "4/4 - 0s - loss: 0.8139 - value_head_loss: 0.1066 - policy_head_loss: 1.2025\n",
      "Games played: 320\n",
      "Epoch 1/10\n",
      "4/4 - 0s - loss: 1.3871 - value_head_loss: 0.4459 - policy_head_loss: 2.0143\n",
      "Epoch 2/10\n",
      "4/4 - 0s - loss: 1.1669 - value_head_loss: 0.3294 - policy_head_loss: 1.6924\n",
      "Epoch 3/10\n",
      "4/4 - 0s - loss: 1.0933 - value_head_loss: 0.2862 - policy_head_loss: 1.5879\n",
      "Epoch 4/10\n",
      "4/4 - 0s - loss: 1.0016 - value_head_loss: 0.2377 - policy_head_loss: 1.4518\n",
      "Epoch 5/10\n",
      "4/4 - 0s - loss: 0.9678 - value_head_loss: 0.2254 - policy_head_loss: 1.3959\n",
      "Epoch 6/10\n",
      "4/4 - 0s - loss: 0.9187 - value_head_loss: 0.1986 - policy_head_loss: 1.3249\n",
      "Epoch 7/10\n",
      "4/4 - 0s - loss: 0.8907 - value_head_loss: 0.1645 - policy_head_loss: 1.3044\n",
      "Epoch 8/10\n",
      "4/4 - 0s - loss: 0.8613 - value_head_loss: 0.1472 - policy_head_loss: 1.2655\n",
      "Epoch 9/10\n",
      "4/4 - 0s - loss: 0.8527 - value_head_loss: 0.1442 - policy_head_loss: 1.2547\n",
      "Epoch 10/10\n",
      "4/4 - 0s - loss: 0.8304 - value_head_loss: 0.1358 - policy_head_loss: 1.2230\n",
      "Games played: 384\n",
      "Epoch 1/10\n",
      "4/4 - 0s - loss: 1.3007 - value_head_loss: 0.3804 - policy_head_loss: 1.9234\n",
      "Epoch 2/10\n",
      "4/4 - 0s - loss: 1.0563 - value_head_loss: 0.2922 - policy_head_loss: 1.5247\n",
      "Epoch 3/10\n",
      "4/4 - 0s - loss: 0.9551 - value_head_loss: 0.2440 - policy_head_loss: 1.3698\n",
      "Epoch 4/10\n",
      "4/4 - 0s - loss: 0.9192 - value_head_loss: 0.2108 - policy_head_loss: 1.3299\n",
      "Epoch 5/10\n",
      "4/4 - 0s - loss: 0.8593 - value_head_loss: 0.1904 - policy_head_loss: 1.2301\n",
      "Epoch 6/10\n",
      "4/4 - 0s - loss: 0.8290 - value_head_loss: 0.1750 - policy_head_loss: 1.1855\n",
      "Epoch 7/10\n",
      "4/4 - 0s - loss: 0.8012 - value_head_loss: 0.1559 - policy_head_loss: 1.1509\n",
      "Epoch 8/10\n",
      "4/4 - 0s - loss: 0.7659 - value_head_loss: 0.1401 - policy_head_loss: 1.0988\n",
      "Epoch 9/10\n",
      "4/4 - 0s - loss: 0.7508 - value_head_loss: 0.1320 - policy_head_loss: 1.0801\n",
      "Epoch 10/10\n",
      "4/4 - 0s - loss: 0.7272 - value_head_loss: 0.1148 - policy_head_loss: 1.0543\n",
      "Games played: 448\n",
      "Epoch 1/10\n",
      "4/4 - 0s - loss: 1.4419 - value_head_loss: 0.4372 - policy_head_loss: 2.1654\n",
      "Epoch 2/10\n",
      "4/4 - 0s - loss: 1.1160 - value_head_loss: 0.3089 - policy_head_loss: 1.6429\n",
      "Epoch 3/10\n",
      "4/4 - 0s - loss: 1.0118 - value_head_loss: 0.2581 - policy_head_loss: 1.4823\n",
      "Epoch 4/10\n",
      "4/4 - 0s - loss: 0.9417 - value_head_loss: 0.2203 - policy_head_loss: 1.3763\n",
      "Epoch 5/10\n",
      "4/4 - 0s - loss: 0.8947 - value_head_loss: 0.1886 - policy_head_loss: 1.3114\n",
      "Epoch 6/10\n",
      "4/4 - 0s - loss: 0.8440 - value_head_loss: 0.1405 - policy_head_loss: 1.2570\n",
      "Epoch 7/10\n",
      "4/4 - 0s - loss: 0.8234 - value_head_loss: 0.1332 - policy_head_loss: 1.2234\n",
      "Epoch 8/10\n",
      "4/4 - 0s - loss: 0.7901 - value_head_loss: 0.1005 - policy_head_loss: 1.1916\n",
      "Epoch 9/10\n",
      "4/4 - 0s - loss: 0.7757 - value_head_loss: 0.0979 - policy_head_loss: 1.1686\n",
      "Epoch 10/10\n",
      "4/4 - 0s - loss: 0.7699 - value_head_loss: 0.0888 - policy_head_loss: 1.1703\n",
      "Checkpoint saved at models/checkpoints/exp_chk2.h5\n",
      "Games played: 512\n",
      "Epoch 1/10\n",
      "4/4 - 0s - loss: 1.3013 - value_head_loss: 0.4993 - policy_head_loss: 1.8273\n",
      "Epoch 2/10\n",
      "4/4 - 0s - loss: 1.1293 - value_head_loss: 0.3313 - policy_head_loss: 1.6533\n",
      "Epoch 3/10\n",
      "4/4 - 0s - loss: 1.0283 - value_head_loss: 0.3013 - policy_head_loss: 1.4806\n",
      "Epoch 4/10\n",
      "4/4 - 0s - loss: 0.9660 - value_head_loss: 0.2584 - policy_head_loss: 1.3975\n",
      "Epoch 5/10\n",
      "4/4 - 0s - loss: 0.9286 - value_head_loss: 0.2438 - policy_head_loss: 1.3365\n",
      "Epoch 6/10\n",
      "4/4 - 0s - loss: 0.8849 - value_head_loss: 0.1934 - policy_head_loss: 1.2997\n",
      "Epoch 7/10\n",
      "4/4 - 0s - loss: 0.8747 - value_head_loss: 0.1871 - policy_head_loss: 1.2871\n",
      "Epoch 8/10\n",
      "4/4 - 0s - loss: 0.8318 - value_head_loss: 0.1435 - policy_head_loss: 1.2475\n",
      "Epoch 9/10\n",
      "4/4 - 0s - loss: 0.8147 - value_head_loss: 0.1320 - policy_head_loss: 1.2282\n",
      "Epoch 10/10\n",
      "4/4 - 0s - loss: 0.8015 - value_head_loss: 0.1257 - policy_head_loss: 1.2122\n",
      "Games played: 576\n",
      "Epoch 1/10\n",
      "4/4 - 0s - loss: 1.1615 - value_head_loss: 0.3292 - policy_head_loss: 1.7331\n"
     ]
    },
    {
     "name": "stdout",
     "output_type": "stream",
     "text": [
      "Epoch 2/10\n",
      "4/4 - 0s - loss: 1.0019 - value_head_loss: 0.2720 - policy_head_loss: 1.4736\n",
      "Epoch 3/10\n",
      "4/4 - 0s - loss: 0.9211 - value_head_loss: 0.2501 - policy_head_loss: 1.3336\n",
      "Epoch 4/10\n",
      "4/4 - 0s - loss: 0.8816 - value_head_loss: 0.1948 - policy_head_loss: 1.3077\n",
      "Epoch 5/10\n",
      "4/4 - 0s - loss: 0.8150 - value_head_loss: 0.1872 - policy_head_loss: 1.1796\n",
      "Epoch 6/10\n",
      "4/4 - 0s - loss: 0.7961 - value_head_loss: 0.1750 - policy_head_loss: 1.1528\n",
      "Epoch 7/10\n",
      "4/4 - 0s - loss: 0.7637 - value_head_loss: 0.1554 - policy_head_loss: 1.1077\n",
      "Epoch 8/10\n",
      "4/4 - 0s - loss: 0.7536 - value_head_loss: 0.1474 - policy_head_loss: 1.0967\n",
      "Epoch 9/10\n",
      "4/4 - 0s - loss: 0.7300 - value_head_loss: 0.1308 - policy_head_loss: 1.0684\n",
      "Epoch 10/10\n",
      "4/4 - 0s - loss: 0.7126 - value_head_loss: 0.1144 - policy_head_loss: 1.0533\n",
      "Games played: 640\n",
      "Epoch 1/10\n",
      "4/4 - 0s - loss: 1.1057 - value_head_loss: 0.3126 - policy_head_loss: 1.6448\n",
      "Epoch 2/10\n",
      "4/4 - 0s - loss: 0.9157 - value_head_loss: 0.2425 - policy_head_loss: 1.3366\n",
      "Epoch 3/10\n",
      "4/4 - 0s - loss: 0.8212 - value_head_loss: 0.2271 - policy_head_loss: 1.1621\n",
      "Epoch 4/10\n",
      "4/4 - 0s - loss: 0.7687 - value_head_loss: 0.1581 - policy_head_loss: 1.1241\n",
      "Epoch 5/10\n",
      "4/4 - 0s - loss: 0.7287 - value_head_loss: 0.1575 - policy_head_loss: 1.0433\n",
      "Epoch 6/10\n",
      "4/4 - 0s - loss: 0.7077 - value_head_loss: 0.1390 - policy_head_loss: 1.0197\n",
      "Epoch 7/10\n",
      "4/4 - 0s - loss: 0.6813 - value_head_loss: 0.1273 - policy_head_loss: 0.9796\n",
      "Epoch 8/10\n",
      "4/4 - 0s - loss: 0.6611 - value_head_loss: 0.1130 - policy_head_loss: 0.9558\n",
      "Epoch 9/10\n",
      "4/4 - 0s - loss: 0.6538 - value_head_loss: 0.1139 - policy_head_loss: 0.9436\n",
      "Epoch 10/10\n",
      "4/4 - 0s - loss: 0.6425 - value_head_loss: 0.0996 - policy_head_loss: 0.9395\n",
      "Games played: 704\n",
      "Epoch 1/10\n",
      "4/4 - 0s - loss: 1.2824 - value_head_loss: 0.4576 - policy_head_loss: 1.8658\n",
      "Epoch 2/10\n",
      "4/4 - 0s - loss: 1.0170 - value_head_loss: 0.2856 - policy_head_loss: 1.5080\n",
      "Epoch 3/10\n",
      "4/4 - 0s - loss: 0.9272 - value_head_loss: 0.2301 - policy_head_loss: 1.3802\n",
      "Epoch 4/10\n",
      "4/4 - 0s - loss: 0.8715 - value_head_loss: 0.2192 - policy_head_loss: 1.2748\n",
      "Epoch 5/10\n",
      "4/4 - 0s - loss: 0.8243 - value_head_loss: 0.1941 - policy_head_loss: 1.2014\n",
      "Epoch 6/10\n",
      "4/4 - 0s - loss: 0.8012 - value_head_loss: 0.1748 - policy_head_loss: 1.1720\n",
      "Epoch 7/10\n",
      "4/4 - 0s - loss: 0.7687 - value_head_loss: 0.1592 - policy_head_loss: 1.1222\n",
      "Epoch 8/10\n",
      "4/4 - 0s - loss: 0.7481 - value_head_loss: 0.1396 - policy_head_loss: 1.1019\n",
      "Epoch 9/10\n",
      "4/4 - 0s - loss: 0.7390 - value_head_loss: 0.1315 - policy_head_loss: 1.0945\n",
      "Epoch 10/10\n",
      "4/4 - 0s - loss: 0.7253 - value_head_loss: 0.1184 - policy_head_loss: 1.0839\n",
      "Checkpoint saved at models/checkpoints/exp_chk3.h5\n",
      "Games played: 768\n",
      "Epoch 1/10\n",
      "4/4 - 0s - loss: 1.2831 - value_head_loss: 0.5595 - policy_head_loss: 1.7620\n",
      "Epoch 2/10\n",
      "4/4 - 0s - loss: 0.9805 - value_head_loss: 0.3501 - policy_head_loss: 1.3672\n",
      "Epoch 3/10\n",
      "4/4 - 0s - loss: 0.9187 - value_head_loss: 0.3198 - policy_head_loss: 1.2710\n",
      "Epoch 4/10\n",
      "4/4 - 0s - loss: 0.8514 - value_head_loss: 0.2811 - policy_head_loss: 1.1715\n",
      "Epoch 5/10\n",
      "4/4 - 0s - loss: 0.8173 - value_head_loss: 0.2650 - policy_head_loss: 1.1171\n",
      "Epoch 6/10\n",
      "4/4 - 0s - loss: 0.8054 - value_head_loss: 0.2435 - policy_head_loss: 1.1139\n",
      "Epoch 7/10\n",
      "4/4 - 0s - loss: 0.7669 - value_head_loss: 0.2149 - policy_head_loss: 1.0663\n",
      "Epoch 8/10\n",
      "4/4 - 0s - loss: 0.7399 - value_head_loss: 0.1853 - policy_head_loss: 1.0441\n",
      "Epoch 9/10\n",
      "4/4 - 0s - loss: 0.7170 - value_head_loss: 0.1592 - policy_head_loss: 1.0275\n",
      "Epoch 10/10\n",
      "4/4 - 0s - loss: 0.6984 - value_head_loss: 0.1327 - policy_head_loss: 1.0207\n",
      "Games played: 832\n",
      "Epoch 1/10\n",
      "4/4 - 0s - loss: 1.4659 - value_head_loss: 0.5136 - policy_head_loss: 2.1787\n",
      "Epoch 2/10\n",
      "4/4 - 0s - loss: 1.1273 - value_head_loss: 0.3616 - policy_head_loss: 1.6523\n",
      "Epoch 3/10\n",
      "4/4 - 0s - loss: 1.0312 - value_head_loss: 0.3106 - policy_head_loss: 1.5038\n",
      "Epoch 4/10\n",
      "4/4 - 0s - loss: 0.9742 - value_head_loss: 0.2863 - policy_head_loss: 1.4059\n",
      "Epoch 5/10\n",
      "4/4 - 0s - loss: 0.9315 - value_head_loss: 0.2693 - policy_head_loss: 1.3311\n",
      "Epoch 6/10\n",
      "4/4 - 0s - loss: 0.8843 - value_head_loss: 0.2402 - policy_head_loss: 1.2621\n",
      "Epoch 7/10\n",
      "4/4 - 0s - loss: 0.8640 - value_head_loss: 0.2299 - policy_head_loss: 1.2306\n",
      "Epoch 8/10\n",
      "4/4 - 0s - loss: 0.8576 - value_head_loss: 0.2309 - policy_head_loss: 1.2178\n",
      "Epoch 9/10\n",
      "4/4 - 0s - loss: 0.8285 - value_head_loss: 0.2065 - policy_head_loss: 1.1866\n",
      "Epoch 10/10\n",
      "4/4 - 0s - loss: 0.8209 - value_head_loss: 0.1983 - policy_head_loss: 1.1833\n",
      "Games played: 896\n",
      "Epoch 1/10\n",
      "4/4 - 0s - loss: 1.1574 - value_head_loss: 0.4303 - policy_head_loss: 1.6286\n",
      "Epoch 2/10\n",
      "4/4 - 0s - loss: 0.9833 - value_head_loss: 0.3374 - policy_head_loss: 1.3757\n",
      "Epoch 3/10\n",
      "4/4 - 0s - loss: 0.8467 - value_head_loss: 0.2553 - policy_head_loss: 1.1839\n",
      "Epoch 4/10\n",
      "4/4 - 0s - loss: 0.8368 - value_head_loss: 0.2629 - policy_head_loss: 1.1547\n",
      "Epoch 5/10\n",
      "4/4 - 0s - loss: 0.7802 - value_head_loss: 0.2198 - policy_head_loss: 1.0835\n",
      "Epoch 6/10\n",
      "4/4 - 0s - loss: 0.7559 - value_head_loss: 0.2104 - policy_head_loss: 1.0445\n",
      "Epoch 7/10\n",
      "4/4 - 0s - loss: 0.7369 - value_head_loss: 0.2018 - policy_head_loss: 1.0165\n",
      "Epoch 8/10\n",
      "4/4 - 0s - loss: 0.7073 - value_head_loss: 0.1776 - policy_head_loss: 0.9842\n",
      "Epoch 9/10\n",
      "4/4 - 0s - loss: 0.6855 - value_head_loss: 0.1586 - policy_head_loss: 0.9631\n",
      "Epoch 10/10\n",
      "4/4 - 0s - loss: 0.6821 - value_head_loss: 0.1517 - policy_head_loss: 0.9675\n",
      "Games played: 960\n",
      "Epoch 1/10\n",
      "4/4 - 0s - loss: 1.1509 - value_head_loss: 0.4911 - policy_head_loss: 1.5704\n",
      "Epoch 2/10\n",
      "4/4 - 0s - loss: 0.9665 - value_head_loss: 0.4019 - policy_head_loss: 1.2924\n",
      "Epoch 3/10\n",
      "4/4 - 0s - loss: 0.8936 - value_head_loss: 0.3313 - policy_head_loss: 1.2151\n",
      "Epoch 4/10\n",
      "4/4 - 0s - loss: 0.8302 - value_head_loss: 0.2967 - policy_head_loss: 1.1195\n",
      "Epoch 5/10\n",
      "4/4 - 0s - loss: 0.7807 - value_head_loss: 0.2510 - policy_head_loss: 1.0625\n",
      "Epoch 6/10\n",
      "4/4 - 0s - loss: 0.7348 - value_head_loss: 0.2131 - policy_head_loss: 1.0065\n",
      "Epoch 7/10\n",
      "4/4 - 0s - loss: 0.7303 - value_head_loss: 0.1983 - policy_head_loss: 1.0119\n",
      "Epoch 8/10\n",
      "4/4 - 0s - loss: 0.6924 - value_head_loss: 0.1768 - policy_head_loss: 0.9589\n",
      "Epoch 9/10\n",
      "4/4 - 0s - loss: 0.6801 - value_head_loss: 0.1579 - policy_head_loss: 0.9559\n",
      "Epoch 10/10\n",
      "4/4 - 0s - loss: 0.6736 - value_head_loss: 0.1660 - policy_head_loss: 0.9386\n",
      "Checkpoint saved at models/checkpoints/exp_chk4.h5\n",
      "Games played: 1024\n"
     ]
    }
   ],
   "source": [
    "callback = Checkpoint('exp_chk', 'models/checkpoints', delay=4)\n",
    "\n",
    "alphazero = create_alphazero(game, max_workers=8, self_play_times=64,\n",
    "                             max_games_counter=1024, buffer_size=1024,\n",
    "                             callbacks=[callback], mcts_iter=100, c_puct=2,\n",
    "                             temperature=4, exploration_noise=(.25, .045),\n",
    "                             nn_config=dict(residual_layers=7, filters=256))"
   ]
  },
  {
   "cell_type": "code",
   "execution_count": 4,
   "metadata": {},
   "outputs": [],
   "source": [
    "alphazero.save('models/experiment_tictactoe.h5')"
   ]
  },
  {
   "cell_type": "code",
   "execution_count": 6,
   "metadata": {},
   "outputs": [
    {
     "data": {
      "text/plain": [
       "(5, 0, 0)"
      ]
     },
     "execution_count": 6,
     "metadata": {},
     "output_type": "execute_result"
    }
   ],
   "source": [
    "alphazero.c_puct = 1.5\n",
    "play(game, Minimax(game), alphazero, games=5)"
   ]
  },
  {
   "cell_type": "code",
   "execution_count": 5,
   "metadata": {},
   "outputs": [],
   "source": [
    "alphazero = AlphaZero(game, buffer_size=1024, mcts_iter=100)"
   ]
  },
  {
   "cell_type": "code",
   "execution_count": 6,
   "metadata": {},
   "outputs": [],
   "source": [
    "alphazero.load('models/experiment_tictactoe.h5')"
   ]
  },
  {
   "cell_type": "code",
   "execution_count": 8,
   "metadata": {},
   "outputs": [
    {
     "data": {
      "text/plain": [
       "([0, 9, 35, 53, 60, 80], [79, 90, 86, 87, 85, 92])"
      ]
     },
     "execution_count": 8,
     "metadata": {},
     "output_type": "execute_result"
    }
   ],
   "source": [
    "mcts_draws = list()\n",
    "az_draws = list()\n",
    "minimax = Minimax(game)\n",
    "iters = (2, 10, 50, 100, 200, 400)\n",
    "\n",
    "for m in iters:\n",
    "    mcts = MonteCarloTree(game, max_iter=m, reset_tree=False)\n",
    "    _, draws, _ = play(game, minimax, mcts, games=100, max_workers=10)\n",
    "    mcts_draws.append(draws)\n",
    "    \n",
    "    alphazero.set_max_iter(m)\n",
    "    _, draws, _ = play(game, minimax, alphazero, games=100)\n",
    "    az_draws.append(draws)\n",
    "\n",
    "mcts_draws, az_draws"
   ]
  },
  {
   "cell_type": "code",
   "execution_count": 25,
   "metadata": {},
   "outputs": [
    {
     "data": {
      "application/vnd.plotly.v1+json": {
       "config": {
        "plotlyServerURL": "https://plot.ly"
       },
       "data": [
        {
         "mode": "lines+markers",
         "name": "MCTS draws",
         "type": "scatter",
         "x": [
          2,
          10,
          50,
          100,
          200,
          400
         ],
         "y": [
          0,
          9,
          35,
          53,
          60,
          80
         ]
        },
        {
         "mode": "lines+markers",
         "name": "AZ draws",
         "type": "scatter",
         "x": [
          2,
          10,
          50,
          100,
          200,
          400
         ],
         "y": [
          79,
          90,
          86,
          87,
          85,
          92
         ]
        }
       ],
       "layout": {
        "template": {
         "data": {
          "bar": [
           {
            "error_x": {
             "color": "#2a3f5f"
            },
            "error_y": {
             "color": "#2a3f5f"
            },
            "marker": {
             "line": {
              "color": "#E5ECF6",
              "width": 0.5
             }
            },
            "type": "bar"
           }
          ],
          "barpolar": [
           {
            "marker": {
             "line": {
              "color": "#E5ECF6",
              "width": 0.5
             }
            },
            "type": "barpolar"
           }
          ],
          "carpet": [
           {
            "aaxis": {
             "endlinecolor": "#2a3f5f",
             "gridcolor": "white",
             "linecolor": "white",
             "minorgridcolor": "white",
             "startlinecolor": "#2a3f5f"
            },
            "baxis": {
             "endlinecolor": "#2a3f5f",
             "gridcolor": "white",
             "linecolor": "white",
             "minorgridcolor": "white",
             "startlinecolor": "#2a3f5f"
            },
            "type": "carpet"
           }
          ],
          "choropleth": [
           {
            "colorbar": {
             "outlinewidth": 0,
             "ticks": ""
            },
            "type": "choropleth"
           }
          ],
          "contour": [
           {
            "colorbar": {
             "outlinewidth": 0,
             "ticks": ""
            },
            "colorscale": [
             [
              0,
              "#0d0887"
             ],
             [
              0.1111111111111111,
              "#46039f"
             ],
             [
              0.2222222222222222,
              "#7201a8"
             ],
             [
              0.3333333333333333,
              "#9c179e"
             ],
             [
              0.4444444444444444,
              "#bd3786"
             ],
             [
              0.5555555555555556,
              "#d8576b"
             ],
             [
              0.6666666666666666,
              "#ed7953"
             ],
             [
              0.7777777777777778,
              "#fb9f3a"
             ],
             [
              0.8888888888888888,
              "#fdca26"
             ],
             [
              1,
              "#f0f921"
             ]
            ],
            "type": "contour"
           }
          ],
          "contourcarpet": [
           {
            "colorbar": {
             "outlinewidth": 0,
             "ticks": ""
            },
            "type": "contourcarpet"
           }
          ],
          "heatmap": [
           {
            "colorbar": {
             "outlinewidth": 0,
             "ticks": ""
            },
            "colorscale": [
             [
              0,
              "#0d0887"
             ],
             [
              0.1111111111111111,
              "#46039f"
             ],
             [
              0.2222222222222222,
              "#7201a8"
             ],
             [
              0.3333333333333333,
              "#9c179e"
             ],
             [
              0.4444444444444444,
              "#bd3786"
             ],
             [
              0.5555555555555556,
              "#d8576b"
             ],
             [
              0.6666666666666666,
              "#ed7953"
             ],
             [
              0.7777777777777778,
              "#fb9f3a"
             ],
             [
              0.8888888888888888,
              "#fdca26"
             ],
             [
              1,
              "#f0f921"
             ]
            ],
            "type": "heatmap"
           }
          ],
          "heatmapgl": [
           {
            "colorbar": {
             "outlinewidth": 0,
             "ticks": ""
            },
            "colorscale": [
             [
              0,
              "#0d0887"
             ],
             [
              0.1111111111111111,
              "#46039f"
             ],
             [
              0.2222222222222222,
              "#7201a8"
             ],
             [
              0.3333333333333333,
              "#9c179e"
             ],
             [
              0.4444444444444444,
              "#bd3786"
             ],
             [
              0.5555555555555556,
              "#d8576b"
             ],
             [
              0.6666666666666666,
              "#ed7953"
             ],
             [
              0.7777777777777778,
              "#fb9f3a"
             ],
             [
              0.8888888888888888,
              "#fdca26"
             ],
             [
              1,
              "#f0f921"
             ]
            ],
            "type": "heatmapgl"
           }
          ],
          "histogram": [
           {
            "marker": {
             "colorbar": {
              "outlinewidth": 0,
              "ticks": ""
             }
            },
            "type": "histogram"
           }
          ],
          "histogram2d": [
           {
            "colorbar": {
             "outlinewidth": 0,
             "ticks": ""
            },
            "colorscale": [
             [
              0,
              "#0d0887"
             ],
             [
              0.1111111111111111,
              "#46039f"
             ],
             [
              0.2222222222222222,
              "#7201a8"
             ],
             [
              0.3333333333333333,
              "#9c179e"
             ],
             [
              0.4444444444444444,
              "#bd3786"
             ],
             [
              0.5555555555555556,
              "#d8576b"
             ],
             [
              0.6666666666666666,
              "#ed7953"
             ],
             [
              0.7777777777777778,
              "#fb9f3a"
             ],
             [
              0.8888888888888888,
              "#fdca26"
             ],
             [
              1,
              "#f0f921"
             ]
            ],
            "type": "histogram2d"
           }
          ],
          "histogram2dcontour": [
           {
            "colorbar": {
             "outlinewidth": 0,
             "ticks": ""
            },
            "colorscale": [
             [
              0,
              "#0d0887"
             ],
             [
              0.1111111111111111,
              "#46039f"
             ],
             [
              0.2222222222222222,
              "#7201a8"
             ],
             [
              0.3333333333333333,
              "#9c179e"
             ],
             [
              0.4444444444444444,
              "#bd3786"
             ],
             [
              0.5555555555555556,
              "#d8576b"
             ],
             [
              0.6666666666666666,
              "#ed7953"
             ],
             [
              0.7777777777777778,
              "#fb9f3a"
             ],
             [
              0.8888888888888888,
              "#fdca26"
             ],
             [
              1,
              "#f0f921"
             ]
            ],
            "type": "histogram2dcontour"
           }
          ],
          "mesh3d": [
           {
            "colorbar": {
             "outlinewidth": 0,
             "ticks": ""
            },
            "type": "mesh3d"
           }
          ],
          "parcoords": [
           {
            "line": {
             "colorbar": {
              "outlinewidth": 0,
              "ticks": ""
             }
            },
            "type": "parcoords"
           }
          ],
          "pie": [
           {
            "automargin": true,
            "type": "pie"
           }
          ],
          "scatter": [
           {
            "marker": {
             "colorbar": {
              "outlinewidth": 0,
              "ticks": ""
             }
            },
            "type": "scatter"
           }
          ],
          "scatter3d": [
           {
            "line": {
             "colorbar": {
              "outlinewidth": 0,
              "ticks": ""
             }
            },
            "marker": {
             "colorbar": {
              "outlinewidth": 0,
              "ticks": ""
             }
            },
            "type": "scatter3d"
           }
          ],
          "scattercarpet": [
           {
            "marker": {
             "colorbar": {
              "outlinewidth": 0,
              "ticks": ""
             }
            },
            "type": "scattercarpet"
           }
          ],
          "scattergeo": [
           {
            "marker": {
             "colorbar": {
              "outlinewidth": 0,
              "ticks": ""
             }
            },
            "type": "scattergeo"
           }
          ],
          "scattergl": [
           {
            "marker": {
             "colorbar": {
              "outlinewidth": 0,
              "ticks": ""
             }
            },
            "type": "scattergl"
           }
          ],
          "scattermapbox": [
           {
            "marker": {
             "colorbar": {
              "outlinewidth": 0,
              "ticks": ""
             }
            },
            "type": "scattermapbox"
           }
          ],
          "scatterpolar": [
           {
            "marker": {
             "colorbar": {
              "outlinewidth": 0,
              "ticks": ""
             }
            },
            "type": "scatterpolar"
           }
          ],
          "scatterpolargl": [
           {
            "marker": {
             "colorbar": {
              "outlinewidth": 0,
              "ticks": ""
             }
            },
            "type": "scatterpolargl"
           }
          ],
          "scatterternary": [
           {
            "marker": {
             "colorbar": {
              "outlinewidth": 0,
              "ticks": ""
             }
            },
            "type": "scatterternary"
           }
          ],
          "surface": [
           {
            "colorbar": {
             "outlinewidth": 0,
             "ticks": ""
            },
            "colorscale": [
             [
              0,
              "#0d0887"
             ],
             [
              0.1111111111111111,
              "#46039f"
             ],
             [
              0.2222222222222222,
              "#7201a8"
             ],
             [
              0.3333333333333333,
              "#9c179e"
             ],
             [
              0.4444444444444444,
              "#bd3786"
             ],
             [
              0.5555555555555556,
              "#d8576b"
             ],
             [
              0.6666666666666666,
              "#ed7953"
             ],
             [
              0.7777777777777778,
              "#fb9f3a"
             ],
             [
              0.8888888888888888,
              "#fdca26"
             ],
             [
              1,
              "#f0f921"
             ]
            ],
            "type": "surface"
           }
          ],
          "table": [
           {
            "cells": {
             "fill": {
              "color": "#EBF0F8"
             },
             "line": {
              "color": "white"
             }
            },
            "header": {
             "fill": {
              "color": "#C8D4E3"
             },
             "line": {
              "color": "white"
             }
            },
            "type": "table"
           }
          ]
         },
         "layout": {
          "annotationdefaults": {
           "arrowcolor": "#2a3f5f",
           "arrowhead": 0,
           "arrowwidth": 1
          },
          "autotypenumbers": "strict",
          "coloraxis": {
           "colorbar": {
            "outlinewidth": 0,
            "ticks": ""
           }
          },
          "colorscale": {
           "diverging": [
            [
             0,
             "#8e0152"
            ],
            [
             0.1,
             "#c51b7d"
            ],
            [
             0.2,
             "#de77ae"
            ],
            [
             0.3,
             "#f1b6da"
            ],
            [
             0.4,
             "#fde0ef"
            ],
            [
             0.5,
             "#f7f7f7"
            ],
            [
             0.6,
             "#e6f5d0"
            ],
            [
             0.7,
             "#b8e186"
            ],
            [
             0.8,
             "#7fbc41"
            ],
            [
             0.9,
             "#4d9221"
            ],
            [
             1,
             "#276419"
            ]
           ],
           "sequential": [
            [
             0,
             "#0d0887"
            ],
            [
             0.1111111111111111,
             "#46039f"
            ],
            [
             0.2222222222222222,
             "#7201a8"
            ],
            [
             0.3333333333333333,
             "#9c179e"
            ],
            [
             0.4444444444444444,
             "#bd3786"
            ],
            [
             0.5555555555555556,
             "#d8576b"
            ],
            [
             0.6666666666666666,
             "#ed7953"
            ],
            [
             0.7777777777777778,
             "#fb9f3a"
            ],
            [
             0.8888888888888888,
             "#fdca26"
            ],
            [
             1,
             "#f0f921"
            ]
           ],
           "sequentialminus": [
            [
             0,
             "#0d0887"
            ],
            [
             0.1111111111111111,
             "#46039f"
            ],
            [
             0.2222222222222222,
             "#7201a8"
            ],
            [
             0.3333333333333333,
             "#9c179e"
            ],
            [
             0.4444444444444444,
             "#bd3786"
            ],
            [
             0.5555555555555556,
             "#d8576b"
            ],
            [
             0.6666666666666666,
             "#ed7953"
            ],
            [
             0.7777777777777778,
             "#fb9f3a"
            ],
            [
             0.8888888888888888,
             "#fdca26"
            ],
            [
             1,
             "#f0f921"
            ]
           ]
          },
          "colorway": [
           "#636efa",
           "#EF553B",
           "#00cc96",
           "#ab63fa",
           "#FFA15A",
           "#19d3f3",
           "#FF6692",
           "#B6E880",
           "#FF97FF",
           "#FECB52"
          ],
          "font": {
           "color": "#2a3f5f"
          },
          "geo": {
           "bgcolor": "white",
           "lakecolor": "white",
           "landcolor": "#E5ECF6",
           "showlakes": true,
           "showland": true,
           "subunitcolor": "white"
          },
          "hoverlabel": {
           "align": "left"
          },
          "hovermode": "closest",
          "mapbox": {
           "style": "light"
          },
          "paper_bgcolor": "white",
          "plot_bgcolor": "#E5ECF6",
          "polar": {
           "angularaxis": {
            "gridcolor": "white",
            "linecolor": "white",
            "ticks": ""
           },
           "bgcolor": "#E5ECF6",
           "radialaxis": {
            "gridcolor": "white",
            "linecolor": "white",
            "ticks": ""
           }
          },
          "scene": {
           "xaxis": {
            "backgroundcolor": "#E5ECF6",
            "gridcolor": "white",
            "gridwidth": 2,
            "linecolor": "white",
            "showbackground": true,
            "ticks": "",
            "zerolinecolor": "white"
           },
           "yaxis": {
            "backgroundcolor": "#E5ECF6",
            "gridcolor": "white",
            "gridwidth": 2,
            "linecolor": "white",
            "showbackground": true,
            "ticks": "",
            "zerolinecolor": "white"
           },
           "zaxis": {
            "backgroundcolor": "#E5ECF6",
            "gridcolor": "white",
            "gridwidth": 2,
            "linecolor": "white",
            "showbackground": true,
            "ticks": "",
            "zerolinecolor": "white"
           }
          },
          "shapedefaults": {
           "line": {
            "color": "#2a3f5f"
           }
          },
          "ternary": {
           "aaxis": {
            "gridcolor": "white",
            "linecolor": "white",
            "ticks": ""
           },
           "baxis": {
            "gridcolor": "white",
            "linecolor": "white",
            "ticks": ""
           },
           "bgcolor": "#E5ECF6",
           "caxis": {
            "gridcolor": "white",
            "linecolor": "white",
            "ticks": ""
           }
          },
          "title": {
           "x": 0.05
          },
          "xaxis": {
           "automargin": true,
           "gridcolor": "white",
           "linecolor": "white",
           "ticks": "",
           "title": {
            "standoff": 15
           },
           "zerolinecolor": "white",
           "zerolinewidth": 2
          },
          "yaxis": {
           "automargin": true,
           "gridcolor": "white",
           "linecolor": "white",
           "ticks": "",
           "title": {
            "standoff": 15
           },
           "zerolinecolor": "white",
           "zerolinewidth": 2
          }
         }
        },
        "xaxis": {
         "title": {
          "text": "Iterations"
         }
        },
        "yaxis": {
         "title": {
          "text": "Draws"
         }
        }
       }
      },
      "text/html": [
       "<div>                            <div id=\"9c6e2974-1dd9-4ce3-9942-2dbfdaf2e228\" class=\"plotly-graph-div\" style=\"height:525px; width:100%;\"></div>            <script type=\"text/javascript\">                require([\"plotly\"], function(Plotly) {                    window.PLOTLYENV=window.PLOTLYENV || {};                                    if (document.getElementById(\"9c6e2974-1dd9-4ce3-9942-2dbfdaf2e228\")) {                    Plotly.newPlot(                        \"9c6e2974-1dd9-4ce3-9942-2dbfdaf2e228\",                        [{\"mode\": \"lines+markers\", \"name\": \"MCTS draws\", \"type\": \"scatter\", \"x\": [2, 10, 50, 100, 200, 400], \"y\": [0, 9, 35, 53, 60, 80]}, {\"mode\": \"lines+markers\", \"name\": \"AZ draws\", \"type\": \"scatter\", \"x\": [2, 10, 50, 100, 200, 400], \"y\": [79, 90, 86, 87, 85, 92]}],                        {\"template\": {\"data\": {\"bar\": [{\"error_x\": {\"color\": \"#2a3f5f\"}, \"error_y\": {\"color\": \"#2a3f5f\"}, \"marker\": {\"line\": {\"color\": \"#E5ECF6\", \"width\": 0.5}}, \"type\": \"bar\"}], \"barpolar\": [{\"marker\": {\"line\": {\"color\": \"#E5ECF6\", \"width\": 0.5}}, \"type\": \"barpolar\"}], \"carpet\": [{\"aaxis\": {\"endlinecolor\": \"#2a3f5f\", \"gridcolor\": \"white\", \"linecolor\": \"white\", \"minorgridcolor\": \"white\", \"startlinecolor\": \"#2a3f5f\"}, \"baxis\": {\"endlinecolor\": \"#2a3f5f\", \"gridcolor\": \"white\", \"linecolor\": \"white\", \"minorgridcolor\": \"white\", \"startlinecolor\": \"#2a3f5f\"}, \"type\": \"carpet\"}], \"choropleth\": [{\"colorbar\": {\"outlinewidth\": 0, \"ticks\": \"\"}, \"type\": \"choropleth\"}], \"contour\": [{\"colorbar\": {\"outlinewidth\": 0, \"ticks\": \"\"}, \"colorscale\": [[0.0, \"#0d0887\"], [0.1111111111111111, \"#46039f\"], [0.2222222222222222, \"#7201a8\"], [0.3333333333333333, \"#9c179e\"], [0.4444444444444444, \"#bd3786\"], [0.5555555555555556, \"#d8576b\"], [0.6666666666666666, \"#ed7953\"], [0.7777777777777778, \"#fb9f3a\"], [0.8888888888888888, \"#fdca26\"], [1.0, \"#f0f921\"]], \"type\": \"contour\"}], \"contourcarpet\": [{\"colorbar\": {\"outlinewidth\": 0, \"ticks\": \"\"}, \"type\": \"contourcarpet\"}], \"heatmap\": [{\"colorbar\": {\"outlinewidth\": 0, \"ticks\": \"\"}, \"colorscale\": [[0.0, \"#0d0887\"], [0.1111111111111111, \"#46039f\"], [0.2222222222222222, \"#7201a8\"], [0.3333333333333333, \"#9c179e\"], [0.4444444444444444, \"#bd3786\"], [0.5555555555555556, \"#d8576b\"], [0.6666666666666666, \"#ed7953\"], [0.7777777777777778, \"#fb9f3a\"], [0.8888888888888888, \"#fdca26\"], [1.0, \"#f0f921\"]], \"type\": \"heatmap\"}], \"heatmapgl\": [{\"colorbar\": {\"outlinewidth\": 0, \"ticks\": \"\"}, \"colorscale\": [[0.0, \"#0d0887\"], [0.1111111111111111, \"#46039f\"], [0.2222222222222222, \"#7201a8\"], [0.3333333333333333, \"#9c179e\"], [0.4444444444444444, \"#bd3786\"], [0.5555555555555556, \"#d8576b\"], [0.6666666666666666, \"#ed7953\"], [0.7777777777777778, \"#fb9f3a\"], [0.8888888888888888, \"#fdca26\"], [1.0, \"#f0f921\"]], \"type\": \"heatmapgl\"}], \"histogram\": [{\"marker\": {\"colorbar\": {\"outlinewidth\": 0, \"ticks\": \"\"}}, \"type\": \"histogram\"}], \"histogram2d\": [{\"colorbar\": {\"outlinewidth\": 0, \"ticks\": \"\"}, \"colorscale\": [[0.0, \"#0d0887\"], [0.1111111111111111, \"#46039f\"], [0.2222222222222222, \"#7201a8\"], [0.3333333333333333, \"#9c179e\"], [0.4444444444444444, \"#bd3786\"], [0.5555555555555556, \"#d8576b\"], [0.6666666666666666, \"#ed7953\"], [0.7777777777777778, \"#fb9f3a\"], [0.8888888888888888, \"#fdca26\"], [1.0, \"#f0f921\"]], \"type\": \"histogram2d\"}], \"histogram2dcontour\": [{\"colorbar\": {\"outlinewidth\": 0, \"ticks\": \"\"}, \"colorscale\": [[0.0, \"#0d0887\"], [0.1111111111111111, \"#46039f\"], [0.2222222222222222, \"#7201a8\"], [0.3333333333333333, \"#9c179e\"], [0.4444444444444444, \"#bd3786\"], [0.5555555555555556, \"#d8576b\"], [0.6666666666666666, \"#ed7953\"], [0.7777777777777778, \"#fb9f3a\"], [0.8888888888888888, \"#fdca26\"], [1.0, \"#f0f921\"]], \"type\": \"histogram2dcontour\"}], \"mesh3d\": [{\"colorbar\": {\"outlinewidth\": 0, \"ticks\": \"\"}, \"type\": \"mesh3d\"}], \"parcoords\": [{\"line\": {\"colorbar\": {\"outlinewidth\": 0, \"ticks\": \"\"}}, \"type\": \"parcoords\"}], \"pie\": [{\"automargin\": true, \"type\": \"pie\"}], \"scatter\": [{\"marker\": {\"colorbar\": {\"outlinewidth\": 0, \"ticks\": \"\"}}, \"type\": \"scatter\"}], \"scatter3d\": [{\"line\": {\"colorbar\": {\"outlinewidth\": 0, \"ticks\": \"\"}}, \"marker\": {\"colorbar\": {\"outlinewidth\": 0, \"ticks\": \"\"}}, \"type\": \"scatter3d\"}], \"scattercarpet\": [{\"marker\": {\"colorbar\": {\"outlinewidth\": 0, \"ticks\": \"\"}}, \"type\": \"scattercarpet\"}], \"scattergeo\": [{\"marker\": {\"colorbar\": {\"outlinewidth\": 0, \"ticks\": \"\"}}, \"type\": \"scattergeo\"}], \"scattergl\": [{\"marker\": {\"colorbar\": {\"outlinewidth\": 0, \"ticks\": \"\"}}, \"type\": \"scattergl\"}], \"scattermapbox\": [{\"marker\": {\"colorbar\": {\"outlinewidth\": 0, \"ticks\": \"\"}}, \"type\": \"scattermapbox\"}], \"scatterpolar\": [{\"marker\": {\"colorbar\": {\"outlinewidth\": 0, \"ticks\": \"\"}}, \"type\": \"scatterpolar\"}], \"scatterpolargl\": [{\"marker\": {\"colorbar\": {\"outlinewidth\": 0, \"ticks\": \"\"}}, \"type\": \"scatterpolargl\"}], \"scatterternary\": [{\"marker\": {\"colorbar\": {\"outlinewidth\": 0, \"ticks\": \"\"}}, \"type\": \"scatterternary\"}], \"surface\": [{\"colorbar\": {\"outlinewidth\": 0, \"ticks\": \"\"}, \"colorscale\": [[0.0, \"#0d0887\"], [0.1111111111111111, \"#46039f\"], [0.2222222222222222, \"#7201a8\"], [0.3333333333333333, \"#9c179e\"], [0.4444444444444444, \"#bd3786\"], [0.5555555555555556, \"#d8576b\"], [0.6666666666666666, \"#ed7953\"], [0.7777777777777778, \"#fb9f3a\"], [0.8888888888888888, \"#fdca26\"], [1.0, \"#f0f921\"]], \"type\": \"surface\"}], \"table\": [{\"cells\": {\"fill\": {\"color\": \"#EBF0F8\"}, \"line\": {\"color\": \"white\"}}, \"header\": {\"fill\": {\"color\": \"#C8D4E3\"}, \"line\": {\"color\": \"white\"}}, \"type\": \"table\"}]}, \"layout\": {\"annotationdefaults\": {\"arrowcolor\": \"#2a3f5f\", \"arrowhead\": 0, \"arrowwidth\": 1}, \"autotypenumbers\": \"strict\", \"coloraxis\": {\"colorbar\": {\"outlinewidth\": 0, \"ticks\": \"\"}}, \"colorscale\": {\"diverging\": [[0, \"#8e0152\"], [0.1, \"#c51b7d\"], [0.2, \"#de77ae\"], [0.3, \"#f1b6da\"], [0.4, \"#fde0ef\"], [0.5, \"#f7f7f7\"], [0.6, \"#e6f5d0\"], [0.7, \"#b8e186\"], [0.8, \"#7fbc41\"], [0.9, \"#4d9221\"], [1, \"#276419\"]], \"sequential\": [[0.0, \"#0d0887\"], [0.1111111111111111, \"#46039f\"], [0.2222222222222222, \"#7201a8\"], [0.3333333333333333, \"#9c179e\"], [0.4444444444444444, \"#bd3786\"], [0.5555555555555556, \"#d8576b\"], [0.6666666666666666, \"#ed7953\"], [0.7777777777777778, \"#fb9f3a\"], [0.8888888888888888, \"#fdca26\"], [1.0, \"#f0f921\"]], \"sequentialminus\": [[0.0, \"#0d0887\"], [0.1111111111111111, \"#46039f\"], [0.2222222222222222, \"#7201a8\"], [0.3333333333333333, \"#9c179e\"], [0.4444444444444444, \"#bd3786\"], [0.5555555555555556, \"#d8576b\"], [0.6666666666666666, \"#ed7953\"], [0.7777777777777778, \"#fb9f3a\"], [0.8888888888888888, \"#fdca26\"], [1.0, \"#f0f921\"]]}, \"colorway\": [\"#636efa\", \"#EF553B\", \"#00cc96\", \"#ab63fa\", \"#FFA15A\", \"#19d3f3\", \"#FF6692\", \"#B6E880\", \"#FF97FF\", \"#FECB52\"], \"font\": {\"color\": \"#2a3f5f\"}, \"geo\": {\"bgcolor\": \"white\", \"lakecolor\": \"white\", \"landcolor\": \"#E5ECF6\", \"showlakes\": true, \"showland\": true, \"subunitcolor\": \"white\"}, \"hoverlabel\": {\"align\": \"left\"}, \"hovermode\": \"closest\", \"mapbox\": {\"style\": \"light\"}, \"paper_bgcolor\": \"white\", \"plot_bgcolor\": \"#E5ECF6\", \"polar\": {\"angularaxis\": {\"gridcolor\": \"white\", \"linecolor\": \"white\", \"ticks\": \"\"}, \"bgcolor\": \"#E5ECF6\", \"radialaxis\": {\"gridcolor\": \"white\", \"linecolor\": \"white\", \"ticks\": \"\"}}, \"scene\": {\"xaxis\": {\"backgroundcolor\": \"#E5ECF6\", \"gridcolor\": \"white\", \"gridwidth\": 2, \"linecolor\": \"white\", \"showbackground\": true, \"ticks\": \"\", \"zerolinecolor\": \"white\"}, \"yaxis\": {\"backgroundcolor\": \"#E5ECF6\", \"gridcolor\": \"white\", \"gridwidth\": 2, \"linecolor\": \"white\", \"showbackground\": true, \"ticks\": \"\", \"zerolinecolor\": \"white\"}, \"zaxis\": {\"backgroundcolor\": \"#E5ECF6\", \"gridcolor\": \"white\", \"gridwidth\": 2, \"linecolor\": \"white\", \"showbackground\": true, \"ticks\": \"\", \"zerolinecolor\": \"white\"}}, \"shapedefaults\": {\"line\": {\"color\": \"#2a3f5f\"}}, \"ternary\": {\"aaxis\": {\"gridcolor\": \"white\", \"linecolor\": \"white\", \"ticks\": \"\"}, \"baxis\": {\"gridcolor\": \"white\", \"linecolor\": \"white\", \"ticks\": \"\"}, \"bgcolor\": \"#E5ECF6\", \"caxis\": {\"gridcolor\": \"white\", \"linecolor\": \"white\", \"ticks\": \"\"}}, \"title\": {\"x\": 0.05}, \"xaxis\": {\"automargin\": true, \"gridcolor\": \"white\", \"linecolor\": \"white\", \"ticks\": \"\", \"title\": {\"standoff\": 15}, \"zerolinecolor\": \"white\", \"zerolinewidth\": 2}, \"yaxis\": {\"automargin\": true, \"gridcolor\": \"white\", \"linecolor\": \"white\", \"ticks\": \"\", \"title\": {\"standoff\": 15}, \"zerolinecolor\": \"white\", \"zerolinewidth\": 2}}}, \"xaxis\": {\"title\": {\"text\": \"Iterations\"}}, \"yaxis\": {\"title\": {\"text\": \"Draws\"}}},                        {\"responsive\": true}                    ).then(function(){\n",
       "                            \n",
       "var gd = document.getElementById('9c6e2974-1dd9-4ce3-9942-2dbfdaf2e228');\n",
       "var x = new MutationObserver(function (mutations, observer) {{\n",
       "        var display = window.getComputedStyle(gd).display;\n",
       "        if (!display || display === 'none') {{\n",
       "            console.log([gd, 'removed!']);\n",
       "            Plotly.purge(gd);\n",
       "            observer.disconnect();\n",
       "        }}\n",
       "}});\n",
       "\n",
       "// Listen for the removal of the full notebook cells\n",
       "var notebookContainer = gd.closest('#notebook-container');\n",
       "if (notebookContainer) {{\n",
       "    x.observe(notebookContainer, {childList: true});\n",
       "}}\n",
       "\n",
       "// Listen for the clearing of the current output cell\n",
       "var outputEl = gd.closest('.output');\n",
       "if (outputEl) {{\n",
       "    x.observe(outputEl, {childList: true});\n",
       "}}\n",
       "\n",
       "                        })                };                });            </script>        </div>"
      ]
     },
     "metadata": {},
     "output_type": "display_data"
    }
   ],
   "source": [
    "import plotly.graph_objects as go\n",
    "\n",
    "\n",
    "fig = go.Figure()\n",
    "fig.add_trace(go.Scatter(x=iters, y=mcts_draws, mode='lines+markers', name='MCTS draws'))\n",
    "fig.add_trace(go.Scatter(x=iters, y=az_draws, mode='lines+markers', name='AZ draws'))\n",
    "fig.update_xaxes(title_text='Iterations')\n",
    "fig.update_yaxes(title_text='Draws')\n",
    "fig.show()"
   ]
  },
  {
   "cell_type": "code",
   "execution_count": 13,
   "metadata": {},
   "outputs": [
    {
     "name": "stdout",
     "output_type": "stream",
     "text": [
      " | | \n",
      "-+-+-\n",
      " | | \n",
      "-+-+-\n",
      " | | \n",
      "\n",
      "\n",
      "[PLAYER] choose action: 0, 1, 2, 3, 4, 5, 6, 7, 8\n",
      "> 4\n",
      " | | \n",
      "-+-+-\n",
      " |X| \n",
      "-+-+-\n",
      " | | \n",
      "\n",
      " | | \n",
      "-+-+-\n",
      " |X|O\n",
      "-+-+-\n",
      " | | \n",
      "\n",
      "\n",
      "[PLAYER] choose action: 0, 1, 2, 3, 6, 7, 8\n",
      "> 0\n",
      "X| | \n",
      "-+-+-\n",
      " |X|O\n",
      "-+-+-\n",
      " | | \n",
      "\n",
      "X| | \n",
      "-+-+-\n",
      " |X|O\n",
      "-+-+-\n",
      " | |O\n",
      "\n",
      "\n",
      "[PLAYER] choose action: 1, 2, 3, 6, 7\n",
      "> 2\n",
      "X| |X\n",
      "-+-+-\n",
      " |X|O\n",
      "-+-+-\n",
      " | |O\n",
      "\n",
      "X| |X\n",
      "-+-+-\n",
      " |X|O\n",
      "-+-+-\n",
      "O| |O\n",
      "\n",
      "\n",
      "[PLAYER] choose action: 1, 3, 7\n",
      "> 1\n",
      "X|X|X\n",
      "-+-+-\n",
      " |X|O\n",
      "-+-+-\n",
      "O| |O\n",
      "\n",
      "PLAYER 1 WON\n"
     ]
    },
    {
     "data": {
      "text/plain": [
       "(1, 0, 0)"
      ]
     },
     "execution_count": 13,
     "metadata": {},
     "output_type": "execute_result"
    }
   ],
   "source": [
    "from tfg.strategies import HumanStrategy\n",
    "\n",
    "\n",
    "alphazero.set_max_iter(1000)\n",
    "\n",
    "play(game, HumanStrategy(game), alphazero, render=True, print_results=True)"
   ]
  },
  {
   "cell_type": "code",
   "execution_count": 7,
   "metadata": {},
   "outputs": [],
   "source": [
    "model = alphazero.neural_network.model"
   ]
  },
  {
   "cell_type": "code",
   "execution_count": 10,
   "metadata": {},
   "outputs": [
    {
     "data": {
      "text/plain": [
       "(0.070715435,\n",
       " array([3.8721971e-02, 5.0386719e-02, 3.7229776e-01, 3.6403816e-02,\n",
       "        3.0246456e-04, 2.9178083e-04, 3.6230662e-01, 5.1153586e-03,\n",
       "        1.3417354e-01], dtype=float32),\n",
       " 2)"
      ]
     },
     "execution_count": 10,
     "metadata": {},
     "output_type": "execute_result"
    }
   ],
   "source": [
    "import numpy as np\n",
    "board = np.array([[\n",
    "    [[1, 0, 0],\n",
    "     [0, 1, 0],\n",
    "     [0, 0, 0]],\n",
    "    [[0, 0, 0],\n",
    "     [1, 0, 0],\n",
    "     [0, 1, 0]],\n",
    "    [[0] * 3] * 3\n",
    "]])\n",
    "v, p = model(board)\n",
    "v = v.numpy()[0, 0]\n",
    "p = p.numpy()[0]\n",
    "v, p, np.argmax(p)"
   ]
  },
  {
   "cell_type": "code",
   "execution_count": null,
   "metadata": {},
   "outputs": [],
   "source": []
  }
 ],
 "metadata": {
  "kernelspec": {
   "display_name": "AlphaZero",
   "language": "python",
   "name": "alphazero"
  },
  "language_info": {
   "codemirror_mode": {
    "name": "ipython",
    "version": 3
   },
   "file_extension": ".py",
   "mimetype": "text/x-python",
   "name": "python",
   "nbconvert_exporter": "python",
   "pygments_lexer": "ipython3",
   "version": "3.8.8"
  }
 },
 "nbformat": 4,
 "nbformat_minor": 1
}