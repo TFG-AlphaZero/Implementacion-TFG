{
 "cells": [
  {
   "cell_type": "code",
   "execution_count": 1,
   "metadata": {},
   "outputs": [],
   "source": [
    "from tfg.alphaZero import create_alphazero, AlphaZero\n",
    "from tfg.alphaZeroCallbacks import GameStore\n",
    "from tfg.alphaZeroAdapters import TicTacToeAdapter\n",
    "from tfg.util import enable_gpu, play\n",
    "from tfg.strategies import Minimax, MonteCarloTree\n",
    "from game.tictactoe import TicTacToe"
   ]
  },
  {
   "cell_type": "code",
   "execution_count": 2,
   "metadata": {},
   "outputs": [],
   "source": [
    "enable_gpu()\n",
    "\n",
    "game = TicTacToe()"
   ]
  },
  {
   "cell_type": "code",
   "execution_count": 3,
   "metadata": {
    "scrolled": true
   },
   "outputs": [
    {
     "name": "stderr",
     "output_type": "stream",
     "text": [
      "2021-04-02 10:39:28,521\tINFO services.py:1172 -- View the Ray dashboard at \u001B[1m\u001B[32mhttp://127.0.0.1:8265\u001B[39m\u001B[22m\n"
     ]
    },
    {
     "name": "stdout",
     "output_type": "stream",
     "text": [
      "Epoch 1/30\n",
      "16/16 - 7s - loss: 1.6253 - value_head_loss: 0.6730 - policy_head_loss: 2.2691\n",
      "Epoch 2/30\n",
      "16/16 - 0s - loss: 1.6239 - value_head_loss: 0.6008 - policy_head_loss: 2.1873\n",
      "Epoch 3/30\n",
      "16/16 - 0s - loss: 1.5903 - value_head_loss: 0.5487 - policy_head_loss: 2.1595\n",
      "Epoch 4/30\n",
      "16/16 - 0s - loss: 1.5386 - value_head_loss: 0.5203 - policy_head_loss: 2.1105\n",
      "Epoch 5/30\n",
      "16/16 - 0s - loss: 1.4897 - value_head_loss: 0.5193 - policy_head_loss: 2.0429\n",
      "Epoch 6/30\n",
      "16/16 - 0s - loss: 1.4290 - value_head_loss: 0.5035 - policy_head_loss: 1.9650\n",
      "Epoch 7/30\n",
      "16/16 - 0s - loss: 1.3651 - value_head_loss: 0.4773 - policy_head_loss: 1.8876\n",
      "Epoch 8/30\n",
      "16/16 - 0s - loss: 1.3335 - value_head_loss: 0.4684 - policy_head_loss: 1.8510\n",
      "Epoch 9/30\n",
      "16/16 - 0s - loss: 1.3057 - value_head_loss: 0.4840 - policy_head_loss: 1.7928\n",
      "Epoch 10/30\n",
      "16/16 - 0s - loss: 1.2551 - value_head_loss: 0.4365 - policy_head_loss: 1.7512\n",
      "Epoch 11/30\n",
      "16/16 - 0s - loss: 1.2298 - value_head_loss: 0.4382 - policy_head_loss: 1.7096\n",
      "Epoch 12/30\n",
      "16/16 - 0s - loss: 1.1906 - value_head_loss: 0.3904 - policy_head_loss: 1.6877\n",
      "Epoch 13/30\n",
      "16/16 - 0s - loss: 1.1982 - value_head_loss: 0.4195 - policy_head_loss: 1.6773\n",
      "Epoch 14/30\n",
      "16/16 - 0s - loss: 1.1879 - value_head_loss: 0.4134 - policy_head_loss: 1.6649\n",
      "Epoch 15/30\n",
      "16/16 - 0s - loss: 1.1487 - value_head_loss: 0.3797 - policy_head_loss: 1.6244\n",
      "Epoch 16/30\n",
      "16/16 - 0s - loss: 1.1367 - value_head_loss: 0.3914 - policy_head_loss: 1.5939\n",
      "Epoch 17/30\n",
      "16/16 - 0s - loss: 1.1208 - value_head_loss: 0.3595 - policy_head_loss: 1.5953\n",
      "Epoch 18/30\n",
      "16/16 - 0s - loss: 1.1015 - value_head_loss: 0.3486 - policy_head_loss: 1.5704\n",
      "Epoch 19/30\n",
      "16/16 - 0s - loss: 1.0950 - value_head_loss: 0.3489 - policy_head_loss: 1.5593\n",
      "Epoch 20/30\n",
      "16/16 - 0s - loss: 1.0557 - value_head_loss: 0.3062 - policy_head_loss: 1.5309\n",
      "Epoch 21/30\n",
      "16/16 - 0s - loss: 1.0446 - value_head_loss: 0.2989 - policy_head_loss: 1.5234\n",
      "Epoch 22/30\n",
      "16/16 - 0s - loss: 1.0542 - value_head_loss: 0.3303 - policy_head_loss: 1.5154\n",
      "Epoch 23/30\n",
      "16/16 - 0s - loss: 1.0237 - value_head_loss: 0.2867 - policy_head_loss: 1.5008\n",
      "Epoch 24/30\n",
      "16/16 - 0s - loss: 1.0570 - value_head_loss: 0.3503 - policy_head_loss: 1.5053\n",
      "Epoch 25/30\n",
      "16/16 - 0s - loss: 1.0438 - value_head_loss: 0.3066 - policy_head_loss: 1.5191\n",
      "Epoch 26/30\n",
      "16/16 - 0s - loss: 1.0309 - value_head_loss: 0.3093 - policy_head_loss: 1.4925\n",
      "Epoch 27/30\n",
      "16/16 - 0s - loss: 1.0433 - value_head_loss: 0.3153 - policy_head_loss: 1.5116\n",
      "Epoch 28/30\n",
      "16/16 - 0s - loss: 1.0265 - value_head_loss: 0.3078 - policy_head_loss: 1.4866\n",
      "Epoch 29/30\n",
      "16/16 - 0s - loss: 1.0107 - value_head_loss: 0.2793 - policy_head_loss: 1.4848\n",
      "Epoch 30/30\n",
      "16/16 - 0s - loss: 1.0071 - value_head_loss: 0.2716 - policy_head_loss: 1.4870\n",
      "Games played: 120\n",
      "Epoch 1/30\n",
      "16/16 - 0s - loss: 1.1608 - value_head_loss: 0.4135 - policy_head_loss: 1.6516\n",
      "Epoch 2/30\n",
      "16/16 - 0s - loss: 1.0684 - value_head_loss: 0.3230 - policy_head_loss: 1.5505\n",
      "Epoch 3/30\n",
      "16/16 - 0s - loss: 0.9936 - value_head_loss: 0.2807 - policy_head_loss: 1.4493\n",
      "Epoch 4/30\n",
      "16/16 - 0s - loss: 0.9621 - value_head_loss: 0.2747 - policy_head_loss: 1.4020\n",
      "Epoch 5/30\n",
      "16/16 - 0s - loss: 0.9504 - value_head_loss: 0.2729 - policy_head_loss: 1.3889\n",
      "Epoch 6/30\n",
      "16/16 - 0s - loss: 0.9168 - value_head_loss: 0.2407 - policy_head_loss: 1.3615\n",
      "Epoch 7/30\n",
      "16/16 - 0s - loss: 0.8964 - value_head_loss: 0.2296 - policy_head_loss: 1.3411\n",
      "Epoch 8/30\n",
      "16/16 - 0s - loss: 0.8871 - value_head_loss: 0.2204 - policy_head_loss: 1.3409\n",
      "Epoch 9/30\n",
      "16/16 - 0s - loss: 0.9016 - value_head_loss: 0.2298 - policy_head_loss: 1.3652\n",
      "Epoch 10/30\n",
      "16/16 - 0s - loss: 0.8750 - value_head_loss: 0.2075 - policy_head_loss: 1.3339\n",
      "Epoch 11/30\n",
      "16/16 - 0s - loss: 0.8877 - value_head_loss: 0.2390 - policy_head_loss: 1.3304\n",
      "Epoch 12/30\n",
      "16/16 - 0s - loss: 0.9119 - value_head_loss: 0.2596 - policy_head_loss: 1.3545\n",
      "Epoch 13/30\n",
      "16/16 - 0s - loss: 0.9000 - value_head_loss: 0.2196 - policy_head_loss: 1.3624\n",
      "Epoch 14/30\n",
      "16/16 - 0s - loss: 0.8876 - value_head_loss: 0.2336 - policy_head_loss: 1.3249\n",
      "Epoch 15/30\n",
      "16/16 - 0s - loss: 0.8636 - value_head_loss: 0.1933 - policy_head_loss: 1.3238\n",
      "Epoch 16/30\n",
      "16/16 - 0s - loss: 0.8695 - value_head_loss: 0.2186 - policy_head_loss: 1.3193\n",
      "Epoch 17/30\n",
      "16/16 - 0s - loss: 0.8893 - value_head_loss: 0.2443 - policy_head_loss: 1.3368\n",
      "Epoch 18/30\n",
      "16/16 - 0s - loss: 0.9053 - value_head_loss: 0.2448 - policy_head_loss: 1.3592\n",
      "Epoch 19/30\n",
      "16/16 - 0s - loss: 0.8931 - value_head_loss: 0.2255 - policy_head_loss: 1.3476\n",
      "Epoch 20/30\n",
      "16/16 - 0s - loss: 0.8804 - value_head_loss: 0.2024 - policy_head_loss: 1.3474\n",
      "Epoch 21/30\n",
      "16/16 - 0s - loss: 0.8576 - value_head_loss: 0.1940 - policy_head_loss: 1.3170\n",
      "Epoch 22/30\n",
      "16/16 - 0s - loss: 0.8461 - value_head_loss: 0.1872 - policy_head_loss: 1.3104\n",
      "Epoch 23/30\n",
      "16/16 - 0s - loss: 0.8450 - value_head_loss: 0.2021 - policy_head_loss: 1.2994\n",
      "Epoch 24/30\n",
      "16/16 - 0s - loss: 0.8369 - value_head_loss: 0.1999 - policy_head_loss: 1.2889\n",
      "Epoch 25/30\n",
      "16/16 - 0s - loss: 0.8228 - value_head_loss: 0.1831 - policy_head_loss: 1.2790\n",
      "Epoch 26/30\n",
      "16/16 - 0s - loss: 0.8482 - value_head_loss: 0.2076 - policy_head_loss: 1.3073\n",
      "Epoch 27/30\n",
      "16/16 - 0s - loss: 0.8696 - value_head_loss: 0.2125 - policy_head_loss: 1.3434\n",
      "Epoch 28/30\n",
      "16/16 - 0s - loss: 0.8491 - value_head_loss: 0.1933 - policy_head_loss: 1.3189\n",
      "Epoch 29/30\n",
      "16/16 - 0s - loss: 0.8429 - value_head_loss: 0.1821 - policy_head_loss: 1.3190\n",
      "Epoch 30/30\n",
      "16/16 - 0s - loss: 0.8568 - value_head_loss: 0.2018 - policy_head_loss: 1.3247\n",
      "Games played: 240\n",
      "Epoch 1/30\n",
      "16/16 - 0s - loss: 0.9789 - value_head_loss: 0.2959 - policy_head_loss: 1.4650\n",
      "Epoch 2/30\n",
      "16/16 - 0s - loss: 0.9157 - value_head_loss: 0.2345 - policy_head_loss: 1.3832\n",
      "Epoch 3/30\n",
      "16/16 - 0s - loss: 0.8730 - value_head_loss: 0.2293 - policy_head_loss: 1.3020\n",
      "Epoch 4/30\n",
      "16/16 - 0s - loss: 0.8496 - value_head_loss: 0.2157 - policy_head_loss: 1.2741\n",
      "Epoch 5/30\n",
      "16/16 - 0s - loss: 0.8217 - value_head_loss: 0.1936 - policy_head_loss: 1.2521\n",
      "Epoch 6/30\n",
      "16/16 - 0s - loss: 0.8029 - value_head_loss: 0.1785 - policy_head_loss: 1.2419\n",
      "Epoch 7/30\n",
      "16/16 - 0s - loss: 0.7923 - value_head_loss: 0.1773 - policy_head_loss: 1.2327\n",
      "Epoch 8/30\n",
      "16/16 - 0s - loss: 0.7847 - value_head_loss: 0.1771 - policy_head_loss: 1.2249\n",
      "Epoch 9/30\n",
      "16/16 - 0s - loss: 0.7949 - value_head_loss: 0.1831 - policy_head_loss: 1.2406\n",
      "Epoch 10/30\n",
      "16/16 - 0s - loss: 0.7986 - value_head_loss: 0.1931 - policy_head_loss: 1.2383\n",
      "Epoch 11/30\n",
      "16/16 - 0s - loss: 0.8022 - value_head_loss: 0.2044 - policy_head_loss: 1.2288\n",
      "Epoch 12/30\n",
      "16/16 - 0s - loss: 0.7917 - value_head_loss: 0.1797 - policy_head_loss: 1.2332\n",
      "Epoch 13/30\n",
      "16/16 - 0s - loss: 0.7744 - value_head_loss: 0.1670 - policy_head_loss: 1.2175\n",
      "Epoch 14/30\n",
      "16/16 - 0s - loss: 0.7764 - value_head_loss: 0.1708 - policy_head_loss: 1.2236\n",
      "Epoch 15/30\n",
      "16/16 - 0s - loss: 0.7759 - value_head_loss: 0.1603 - policy_head_loss: 1.2359\n",
      "Epoch 16/30\n",
      "16/16 - 0s - loss: 0.7669 - value_head_loss: 0.1631 - policy_head_loss: 1.2182\n",
      "Epoch 17/30\n",
      "16/16 - 0s - loss: 0.7816 - value_head_loss: 0.1834 - policy_head_loss: 1.2271\n",
      "Epoch 18/30\n",
      "16/16 - 0s - loss: 0.8039 - value_head_loss: 0.1980 - policy_head_loss: 1.2475\n",
      "Epoch 19/30\n",
      "16/16 - 0s - loss: 0.7974 - value_head_loss: 0.1870 - policy_head_loss: 1.2307\n",
      "Epoch 20/30\n",
      "16/16 - 0s - loss: 0.7803 - value_head_loss: 0.1680 - policy_head_loss: 1.2167\n",
      "Epoch 21/30\n",
      "16/16 - 0s - loss: 0.7810 - value_head_loss: 0.1765 - policy_head_loss: 1.2174\n",
      "Epoch 22/30\n",
      "16/16 - 0s - loss: 0.7667 - value_head_loss: 0.1654 - policy_head_loss: 1.2069\n",
      "Epoch 23/30\n",
      "16/16 - 0s - loss: 0.7616 - value_head_loss: 0.1574 - policy_head_loss: 1.2112\n",
      "Epoch 24/30\n",
      "16/16 - 0s - loss: 0.7645 - value_head_loss: 0.1600 - policy_head_loss: 1.2182\n",
      "Epoch 25/30\n",
      "16/16 - 0s - loss: 0.7555 - value_head_loss: 0.1592 - policy_head_loss: 1.2035\n",
      "Epoch 26/30\n",
      "16/16 - 0s - loss: 0.7491 - value_head_loss: 0.1567 - policy_head_loss: 1.1950\n",
      "Epoch 27/30\n",
      "16/16 - 0s - loss: 0.7561 - value_head_loss: 0.1704 - policy_head_loss: 1.1973\n",
      "Epoch 28/30\n",
      "16/16 - 0s - loss: 0.7647 - value_head_loss: 0.1756 - policy_head_loss: 1.2121\n",
      "Epoch 29/30\n",
      "16/16 - 0s - loss: 0.7908 - value_head_loss: 0.1803 - policy_head_loss: 1.2542\n",
      "Epoch 30/30\n",
      "16/16 - 0s - loss: 0.7753 - value_head_loss: 0.1600 - policy_head_loss: 1.2358\n"
     ]
    },
    {
     "name": "stdout",
     "output_type": "stream",
     "text": [
      "Games played: 360\n",
      "Epoch 1/30\n",
      "16/16 - 0s - loss: 0.9555 - value_head_loss: 0.3746 - policy_head_loss: 1.3775\n",
      "Epoch 2/30\n",
      "16/16 - 0s - loss: 0.8690 - value_head_loss: 0.2873 - policy_head_loss: 1.2730\n",
      "Epoch 3/30\n",
      "16/16 - 0s - loss: 0.8385 - value_head_loss: 0.2671 - policy_head_loss: 1.2256\n",
      "Epoch 4/30\n",
      "16/16 - 0s - loss: 0.8057 - value_head_loss: 0.2312 - policy_head_loss: 1.1952\n",
      "Epoch 5/30\n",
      "16/16 - 0s - loss: 0.7837 - value_head_loss: 0.2219 - policy_head_loss: 1.1657\n",
      "Epoch 6/30\n",
      "16/16 - 0s - loss: 0.7686 - value_head_loss: 0.2090 - policy_head_loss: 1.1580\n",
      "Epoch 7/30\n",
      "16/16 - 0s - loss: 0.7590 - value_head_loss: 0.1932 - policy_head_loss: 1.1615\n",
      "Epoch 8/30\n",
      "16/16 - 0s - loss: 0.7444 - value_head_loss: 0.1864 - policy_head_loss: 1.1424\n",
      "Epoch 9/30\n",
      "16/16 - 0s - loss: 0.7428 - value_head_loss: 0.1831 - policy_head_loss: 1.1464\n",
      "Epoch 10/30\n",
      "16/16 - 0s - loss: 0.7350 - value_head_loss: 0.1786 - policy_head_loss: 1.1383\n",
      "Epoch 11/30\n",
      "16/16 - 0s - loss: 0.7482 - value_head_loss: 0.1840 - policy_head_loss: 1.1579\n",
      "Epoch 12/30\n",
      "16/16 - 0s - loss: 0.7552 - value_head_loss: 0.1998 - policy_head_loss: 1.1541\n",
      "Epoch 13/30\n",
      "16/16 - 0s - loss: 0.7590 - value_head_loss: 0.2073 - policy_head_loss: 1.1478\n",
      "Epoch 14/30\n",
      "16/16 - 0s - loss: 0.7474 - value_head_loss: 0.1878 - policy_head_loss: 1.1436\n",
      "Epoch 15/30\n",
      "16/16 - 0s - loss: 0.7344 - value_head_loss: 0.1750 - policy_head_loss: 1.1353\n",
      "Epoch 16/30\n",
      "16/16 - 0s - loss: 0.7277 - value_head_loss: 0.1694 - policy_head_loss: 1.1339\n",
      "Epoch 17/30\n",
      "16/16 - 0s - loss: 0.7202 - value_head_loss: 0.1647 - policy_head_loss: 1.1280\n",
      "Epoch 18/30\n",
      "16/16 - 0s - loss: 0.7098 - value_head_loss: 0.1592 - policy_head_loss: 1.1160\n",
      "Epoch 19/30\n",
      "16/16 - 0s - loss: 0.7162 - value_head_loss: 0.1792 - policy_head_loss: 1.1131\n",
      "Epoch 20/30\n",
      "16/16 - 0s - loss: 0.7310 - value_head_loss: 0.1795 - policy_head_loss: 1.1433\n",
      "Epoch 21/30\n",
      "16/16 - 0s - loss: 0.7261 - value_head_loss: 0.1830 - policy_head_loss: 1.1264\n",
      "Epoch 22/30\n",
      "16/16 - 0s - loss: 0.7250 - value_head_loss: 0.1640 - policy_head_loss: 1.1379\n",
      "Epoch 23/30\n",
      "16/16 - 0s - loss: 0.7111 - value_head_loss: 0.1535 - policy_head_loss: 1.1223\n",
      "Epoch 24/30\n",
      "16/16 - 0s - loss: 0.7056 - value_head_loss: 0.1613 - policy_head_loss: 1.1121\n",
      "Epoch 25/30\n",
      "16/16 - 0s - loss: 0.7139 - value_head_loss: 0.1746 - policy_head_loss: 1.1183\n",
      "Epoch 26/30\n",
      "16/16 - 0s - loss: 0.7300 - value_head_loss: 0.1922 - policy_head_loss: 1.1319\n",
      "Epoch 27/30\n",
      "16/16 - 0s - loss: 0.7317 - value_head_loss: 0.1872 - policy_head_loss: 1.1365\n",
      "Epoch 28/30\n",
      "16/16 - 0s - loss: 0.7399 - value_head_loss: 0.1740 - policy_head_loss: 1.1595\n",
      "Epoch 29/30\n",
      "16/16 - 0s - loss: 0.7240 - value_head_loss: 0.1641 - policy_head_loss: 1.1314\n",
      "Epoch 30/30\n",
      "16/16 - 0s - loss: 0.7235 - value_head_loss: 0.1705 - policy_head_loss: 1.1265\n",
      "Games played: 480\n"
     ]
    }
   ],
   "source": [
    "store = GameStore()\n",
    "\n",
    "alphazero = create_alphazero(game, TicTacToeAdapter(),\n",
    "                             max_workers=10, self_play_times=120,\n",
    "                             max_games_counter=480, buffer_size=1500,\n",
    "                             callbacks=[store], mcts_iter=200, c_puct=1,\n",
    "                             exploration_noise=(.25, .045), epochs=30, batch_size=512)"
   ]
  },
  {
   "cell_type": "code",
   "execution_count": 4,
   "metadata": {},
   "outputs": [],
   "source": [
    "alphazero.save('models/experiment_tictactoe.h5')"
   ]
  },
  {
   "cell_type": "code",
   "execution_count": 7,
   "metadata": {},
   "outputs": [
    {
     "data": {
      "text/plain": [
       "(6, 4, 0)"
      ]
     },
     "execution_count": 7,
     "metadata": {},
     "output_type": "execute_result"
    }
   ],
   "source": [
    "#alphazero.set_max_iter(400)\n",
    "\n",
    "play(game, Minimax(game), alphazero, games=10)"
   ]
  },
  {
   "cell_type": "code",
   "execution_count": 5,
   "metadata": {},
   "outputs": [],
   "source": [
    "alphazero = AlphaZero(game, buffer_size=1024, mcts_iter=100)"
   ]
  },
  {
   "cell_type": "code",
   "execution_count": 6,
   "metadata": {},
   "outputs": [],
   "source": [
    "alphazero.load('models/experiment_tictactoe.h5')"
   ]
  },
  {
   "cell_type": "code",
   "execution_count": 8,
   "metadata": {},
   "outputs": [
    {
     "data": {
      "text/plain": [
       "([0, 9, 35, 53, 60, 80], [79, 90, 86, 87, 85, 92])"
      ]
     },
     "execution_count": 8,
     "metadata": {},
     "output_type": "execute_result"
    }
   ],
   "source": [
    "mcts_draws = list()\n",
    "az_draws = list()\n",
    "minimax = Minimax(game)\n",
    "iters = (2, 10, 50, 100, 200, 400)\n",
    "\n",
    "for m in iters:\n",
    "    mcts = MonteCarloTree(game, max_iter=m, reset_tree=False)\n",
    "    _, draws, _ = play(game, minimax, mcts, games=100, max_workers=10)\n",
    "    mcts_draws.append(draws)\n",
    "    \n",
    "    alphazero.set_max_iter(m)\n",
    "    _, draws, _ = play(game, minimax, alphazero, games=100)\n",
    "    az_draws.append(draws)\n",
    "\n",
    "mcts_draws, az_draws"
   ]
  },
  {
   "cell_type": "code",
   "execution_count": 25,
   "metadata": {},
   "outputs": [
    {
     "data": {
      "application/vnd.plotly.v1+json": {
       "config": {
        "plotlyServerURL": "https://plot.ly"
       },
       "data": [
        {
         "mode": "lines+markers",
         "name": "MCTS draws",
         "type": "scatter",
         "x": [
          2,
          10,
          50,
          100,
          200,
          400
         ],
         "y": [
          0,
          9,
          35,
          53,
          60,
          80
         ]
        },
        {
         "mode": "lines+markers",
         "name": "AZ draws",
         "type": "scatter",
         "x": [
          2,
          10,
          50,
          100,
          200,
          400
         ],
         "y": [
          79,
          90,
          86,
          87,
          85,
          92
         ]
        }
       ],
       "layout": {
        "template": {
         "data": {
          "bar": [
           {
            "error_x": {
             "color": "#2a3f5f"
            },
            "error_y": {
             "color": "#2a3f5f"
            },
            "marker": {
             "line": {
              "color": "#E5ECF6",
              "width": 0.5
             }
            },
            "type": "bar"
           }
          ],
          "barpolar": [
           {
            "marker": {
             "line": {
              "color": "#E5ECF6",
              "width": 0.5
             }
            },
            "type": "barpolar"
           }
          ],
          "carpet": [
           {
            "aaxis": {
             "endlinecolor": "#2a3f5f",
             "gridcolor": "white",
             "linecolor": "white",
             "minorgridcolor": "white",
             "startlinecolor": "#2a3f5f"
            },
            "baxis": {
             "endlinecolor": "#2a3f5f",
             "gridcolor": "white",
             "linecolor": "white",
             "minorgridcolor": "white",
             "startlinecolor": "#2a3f5f"
            },
            "type": "carpet"
           }
          ],
          "choropleth": [
           {
            "colorbar": {
             "outlinewidth": 0,
             "ticks": ""
            },
            "type": "choropleth"
           }
          ],
          "contour": [
           {
            "colorbar": {
             "outlinewidth": 0,
             "ticks": ""
            },
            "colorscale": [
             [
              0,
              "#0d0887"
             ],
             [
              0.1111111111111111,
              "#46039f"
             ],
             [
              0.2222222222222222,
              "#7201a8"
             ],
             [
              0.3333333333333333,
              "#9c179e"
             ],
             [
              0.4444444444444444,
              "#bd3786"
             ],
             [
              0.5555555555555556,
              "#d8576b"
             ],
             [
              0.6666666666666666,
              "#ed7953"
             ],
             [
              0.7777777777777778,
              "#fb9f3a"
             ],
             [
              0.8888888888888888,
              "#fdca26"
             ],
             [
              1,
              "#f0f921"
             ]
            ],
            "type": "contour"
           }
          ],
          "contourcarpet": [
           {
            "colorbar": {
             "outlinewidth": 0,
             "ticks": ""
            },
            "type": "contourcarpet"
           }
          ],
          "heatmap": [
           {
            "colorbar": {
             "outlinewidth": 0,
             "ticks": ""
            },
            "colorscale": [
             [
              0,
              "#0d0887"
             ],
             [
              0.1111111111111111,
              "#46039f"
             ],
             [
              0.2222222222222222,
              "#7201a8"
             ],
             [
              0.3333333333333333,
              "#9c179e"
             ],
             [
              0.4444444444444444,
              "#bd3786"
             ],
             [
              0.5555555555555556,
              "#d8576b"
             ],
             [
              0.6666666666666666,
              "#ed7953"
             ],
             [
              0.7777777777777778,
              "#fb9f3a"
             ],
             [
              0.8888888888888888,
              "#fdca26"
             ],
             [
              1,
              "#f0f921"
             ]
            ],
            "type": "heatmap"
           }
          ],
          "heatmapgl": [
           {
            "colorbar": {
             "outlinewidth": 0,
             "ticks": ""
            },
            "colorscale": [
             [
              0,
              "#0d0887"
             ],
             [
              0.1111111111111111,
              "#46039f"
             ],
             [
              0.2222222222222222,
              "#7201a8"
             ],
             [
              0.3333333333333333,
              "#9c179e"
             ],
             [
              0.4444444444444444,
              "#bd3786"
             ],
             [
              0.5555555555555556,
              "#d8576b"
             ],
             [
              0.6666666666666666,
              "#ed7953"
             ],
             [
              0.7777777777777778,
              "#fb9f3a"
             ],
             [
              0.8888888888888888,
              "#fdca26"
             ],
             [
              1,
              "#f0f921"
             ]
            ],
            "type": "heatmapgl"
           }
          ],
          "histogram": [
           {
            "marker": {
             "colorbar": {
              "outlinewidth": 0,
              "ticks": ""
             }
            },
            "type": "histogram"
           }
          ],
          "histogram2d": [
           {
            "colorbar": {
             "outlinewidth": 0,
             "ticks": ""
            },
            "colorscale": [
             [
              0,
              "#0d0887"
             ],
             [
              0.1111111111111111,
              "#46039f"
             ],
             [
              0.2222222222222222,
              "#7201a8"
             ],
             [
              0.3333333333333333,
              "#9c179e"
             ],
             [
              0.4444444444444444,
              "#bd3786"
             ],
             [
              0.5555555555555556,
              "#d8576b"
             ],
             [
              0.6666666666666666,
              "#ed7953"
             ],
             [
              0.7777777777777778,
              "#fb9f3a"
             ],
             [
              0.8888888888888888,
              "#fdca26"
             ],
             [
              1,
              "#f0f921"
             ]
            ],
            "type": "histogram2d"
           }
          ],
          "histogram2dcontour": [
           {
            "colorbar": {
             "outlinewidth": 0,
             "ticks": ""
            },
            "colorscale": [
             [
              0,
              "#0d0887"
             ],
             [
              0.1111111111111111,
              "#46039f"
             ],
             [
              0.2222222222222222,
              "#7201a8"
             ],
             [
              0.3333333333333333,
              "#9c179e"
             ],
             [
              0.4444444444444444,
              "#bd3786"
             ],
             [
              0.5555555555555556,
              "#d8576b"
             ],
             [
              0.6666666666666666,
              "#ed7953"
             ],
             [
              0.7777777777777778,
              "#fb9f3a"
             ],
             [
              0.8888888888888888,
              "#fdca26"
             ],
             [
              1,
              "#f0f921"
             ]
            ],
            "type": "histogram2dcontour"
           }
          ],
          "mesh3d": [
           {
            "colorbar": {
             "outlinewidth": 0,
             "ticks": ""
            },
            "type": "mesh3d"
           }
          ],
          "parcoords": [
           {
            "line": {
             "colorbar": {
              "outlinewidth": 0,
              "ticks": ""
             }
            },
            "type": "parcoords"
           }
          ],
          "pie": [
           {
            "automargin": true,
            "type": "pie"
           }
          ],
          "scatter": [
           {
            "marker": {
             "colorbar": {
              "outlinewidth": 0,
              "ticks": ""
             }
            },
            "type": "scatter"
           }
          ],
          "scatter3d": [
           {
            "line": {
             "colorbar": {
              "outlinewidth": 0,
              "ticks": ""
             }
            },
            "marker": {
             "colorbar": {
              "outlinewidth": 0,
              "ticks": ""
             }
            },
            "type": "scatter3d"
           }
          ],
          "scattercarpet": [
           {
            "marker": {
             "colorbar": {
              "outlinewidth": 0,
              "ticks": ""
             }
            },
            "type": "scattercarpet"
           }
          ],
          "scattergeo": [
           {
            "marker": {
             "colorbar": {
              "outlinewidth": 0,
              "ticks": ""
             }
            },
            "type": "scattergeo"
           }
          ],
          "scattergl": [
           {
            "marker": {
             "colorbar": {
              "outlinewidth": 0,
              "ticks": ""
             }
            },
            "type": "scattergl"
           }
          ],
          "scattermapbox": [
           {
            "marker": {
             "colorbar": {
              "outlinewidth": 0,
              "ticks": ""
             }
            },
            "type": "scattermapbox"
           }
          ],
          "scatterpolar": [
           {
            "marker": {
             "colorbar": {
              "outlinewidth": 0,
              "ticks": ""
             }
            },
            "type": "scatterpolar"
           }
          ],
          "scatterpolargl": [
           {
            "marker": {
             "colorbar": {
              "outlinewidth": 0,
              "ticks": ""
             }
            },
            "type": "scatterpolargl"
           }
          ],
          "scatterternary": [
           {
            "marker": {
             "colorbar": {
              "outlinewidth": 0,
              "ticks": ""
             }
            },
            "type": "scatterternary"
           }
          ],
          "surface": [
           {
            "colorbar": {
             "outlinewidth": 0,
             "ticks": ""
            },
            "colorscale": [
             [
              0,
              "#0d0887"
             ],
             [
              0.1111111111111111,
              "#46039f"
             ],
             [
              0.2222222222222222,
              "#7201a8"
             ],
             [
              0.3333333333333333,
              "#9c179e"
             ],
             [
              0.4444444444444444,
              "#bd3786"
             ],
             [
              0.5555555555555556,
              "#d8576b"
             ],
             [
              0.6666666666666666,
              "#ed7953"
             ],
             [
              0.7777777777777778,
              "#fb9f3a"
             ],
             [
              0.8888888888888888,
              "#fdca26"
             ],
             [
              1,
              "#f0f921"
             ]
            ],
            "type": "surface"
           }
          ],
          "table": [
           {
            "cells": {
             "fill": {
              "color": "#EBF0F8"
             },
             "line": {
              "color": "white"
             }
            },
            "header": {
             "fill": {
              "color": "#C8D4E3"
             },
             "line": {
              "color": "white"
             }
            },
            "type": "table"
           }
          ]
         },
         "layout": {
          "annotationdefaults": {
           "arrowcolor": "#2a3f5f",
           "arrowhead": 0,
           "arrowwidth": 1
          },
          "autotypenumbers": "strict",
          "coloraxis": {
           "colorbar": {
            "outlinewidth": 0,
            "ticks": ""
           }
          },
          "colorscale": {
           "diverging": [
            [
             0,
             "#8e0152"
            ],
            [
             0.1,
             "#c51b7d"
            ],
            [
             0.2,
             "#de77ae"
            ],
            [
             0.3,
             "#f1b6da"
            ],
            [
             0.4,
             "#fde0ef"
            ],
            [
             0.5,
             "#f7f7f7"
            ],
            [
             0.6,
             "#e6f5d0"
            ],
            [
             0.7,
             "#b8e186"
            ],
            [
             0.8,
             "#7fbc41"
            ],
            [
             0.9,
             "#4d9221"
            ],
            [
             1,
             "#276419"
            ]
           ],
           "sequential": [
            [
             0,
             "#0d0887"
            ],
            [
             0.1111111111111111,
             "#46039f"
            ],
            [
             0.2222222222222222,
             "#7201a8"
            ],
            [
             0.3333333333333333,
             "#9c179e"
            ],
            [
             0.4444444444444444,
             "#bd3786"
            ],
            [
             0.5555555555555556,
             "#d8576b"
            ],
            [
             0.6666666666666666,
             "#ed7953"
            ],
            [
             0.7777777777777778,
             "#fb9f3a"
            ],
            [
             0.8888888888888888,
             "#fdca26"
            ],
            [
             1,
             "#f0f921"
            ]
           ],
           "sequentialminus": [
            [
             0,
             "#0d0887"
            ],
            [
             0.1111111111111111,
             "#46039f"
            ],
            [
             0.2222222222222222,
             "#7201a8"
            ],
            [
             0.3333333333333333,
             "#9c179e"
            ],
            [
             0.4444444444444444,
             "#bd3786"
            ],
            [
             0.5555555555555556,
             "#d8576b"
            ],
            [
             0.6666666666666666,
             "#ed7953"
            ],
            [
             0.7777777777777778,
             "#fb9f3a"
            ],
            [
             0.8888888888888888,
             "#fdca26"
            ],
            [
             1,
             "#f0f921"
            ]
           ]
          },
          "colorway": [
           "#636efa",
           "#EF553B",
           "#00cc96",
           "#ab63fa",
           "#FFA15A",
           "#19d3f3",
           "#FF6692",
           "#B6E880",
           "#FF97FF",
           "#FECB52"
          ],
          "font": {
           "color": "#2a3f5f"
          },
          "geo": {
           "bgcolor": "white",
           "lakecolor": "white",
           "landcolor": "#E5ECF6",
           "showlakes": true,
           "showland": true,
           "subunitcolor": "white"
          },
          "hoverlabel": {
           "align": "left"
          },
          "hovermode": "closest",
          "mapbox": {
           "style": "light"
          },
          "paper_bgcolor": "white",
          "plot_bgcolor": "#E5ECF6",
          "polar": {
           "angularaxis": {
            "gridcolor": "white",
            "linecolor": "white",
            "ticks": ""
           },
           "bgcolor": "#E5ECF6",
           "radialaxis": {
            "gridcolor": "white",
            "linecolor": "white",
            "ticks": ""
           }
          },
          "scene": {
           "xaxis": {
            "backgroundcolor": "#E5ECF6",
            "gridcolor": "white",
            "gridwidth": 2,
            "linecolor": "white",
            "showbackground": true,
            "ticks": "",
            "zerolinecolor": "white"
           },
           "yaxis": {
            "backgroundcolor": "#E5ECF6",
            "gridcolor": "white",
            "gridwidth": 2,
            "linecolor": "white",
            "showbackground": true,
            "ticks": "",
            "zerolinecolor": "white"
           },
           "zaxis": {
            "backgroundcolor": "#E5ECF6",
            "gridcolor": "white",
            "gridwidth": 2,
            "linecolor": "white",
            "showbackground": true,
            "ticks": "",
            "zerolinecolor": "white"
           }
          },
          "shapedefaults": {
           "line": {
            "color": "#2a3f5f"
           }
          },
          "ternary": {
           "aaxis": {
            "gridcolor": "white",
            "linecolor": "white",
            "ticks": ""
           },
           "baxis": {
            "gridcolor": "white",
            "linecolor": "white",
            "ticks": ""
           },
           "bgcolor": "#E5ECF6",
           "caxis": {
            "gridcolor": "white",
            "linecolor": "white",
            "ticks": ""
           }
          },
          "title": {
           "x": 0.05
          },
          "xaxis": {
           "automargin": true,
           "gridcolor": "white",
           "linecolor": "white",
           "ticks": "",
           "title": {
            "standoff": 15
           },
           "zerolinecolor": "white",
           "zerolinewidth": 2
          },
          "yaxis": {
           "automargin": true,
           "gridcolor": "white",
           "linecolor": "white",
           "ticks": "",
           "title": {
            "standoff": 15
           },
           "zerolinecolor": "white",
           "zerolinewidth": 2
          }
         }
        },
        "xaxis": {
         "title": {
          "text": "Iterations"
         }
        },
        "yaxis": {
         "title": {
          "text": "Draws"
         }
        }
       }
      },
      "text/html": [
       "<div>                            <div id=\"9c6e2974-1dd9-4ce3-9942-2dbfdaf2e228\" class=\"plotly-graph-div\" style=\"height:525px; width:100%;\"></div>            <script type=\"text/javascript\">                require([\"plotly\"], function(Plotly) {                    window.PLOTLYENV=window.PLOTLYENV || {};                                    if (document.getElementById(\"9c6e2974-1dd9-4ce3-9942-2dbfdaf2e228\")) {                    Plotly.newPlot(                        \"9c6e2974-1dd9-4ce3-9942-2dbfdaf2e228\",                        [{\"mode\": \"lines+markers\", \"name\": \"MCTS draws\", \"type\": \"scatter\", \"x\": [2, 10, 50, 100, 200, 400], \"y\": [0, 9, 35, 53, 60, 80]}, {\"mode\": \"lines+markers\", \"name\": \"AZ draws\", \"type\": \"scatter\", \"x\": [2, 10, 50, 100, 200, 400], \"y\": [79, 90, 86, 87, 85, 92]}],                        {\"template\": {\"data\": {\"bar\": [{\"error_x\": {\"color\": \"#2a3f5f\"}, \"error_y\": {\"color\": \"#2a3f5f\"}, \"marker\": {\"line\": {\"color\": \"#E5ECF6\", \"width\": 0.5}}, \"type\": \"bar\"}], \"barpolar\": [{\"marker\": {\"line\": {\"color\": \"#E5ECF6\", \"width\": 0.5}}, \"type\": \"barpolar\"}], \"carpet\": [{\"aaxis\": {\"endlinecolor\": \"#2a3f5f\", \"gridcolor\": \"white\", \"linecolor\": \"white\", \"minorgridcolor\": \"white\", \"startlinecolor\": \"#2a3f5f\"}, \"baxis\": {\"endlinecolor\": \"#2a3f5f\", \"gridcolor\": \"white\", \"linecolor\": \"white\", \"minorgridcolor\": \"white\", \"startlinecolor\": \"#2a3f5f\"}, \"type\": \"carpet\"}], \"choropleth\": [{\"colorbar\": {\"outlinewidth\": 0, \"ticks\": \"\"}, \"type\": \"choropleth\"}], \"contour\": [{\"colorbar\": {\"outlinewidth\": 0, \"ticks\": \"\"}, \"colorscale\": [[0.0, \"#0d0887\"], [0.1111111111111111, \"#46039f\"], [0.2222222222222222, \"#7201a8\"], [0.3333333333333333, \"#9c179e\"], [0.4444444444444444, \"#bd3786\"], [0.5555555555555556, \"#d8576b\"], [0.6666666666666666, \"#ed7953\"], [0.7777777777777778, \"#fb9f3a\"], [0.8888888888888888, \"#fdca26\"], [1.0, \"#f0f921\"]], \"type\": \"contour\"}], \"contourcarpet\": [{\"colorbar\": {\"outlinewidth\": 0, \"ticks\": \"\"}, \"type\": \"contourcarpet\"}], \"heatmap\": [{\"colorbar\": {\"outlinewidth\": 0, \"ticks\": \"\"}, \"colorscale\": [[0.0, \"#0d0887\"], [0.1111111111111111, \"#46039f\"], [0.2222222222222222, \"#7201a8\"], [0.3333333333333333, \"#9c179e\"], [0.4444444444444444, \"#bd3786\"], [0.5555555555555556, \"#d8576b\"], [0.6666666666666666, \"#ed7953\"], [0.7777777777777778, \"#fb9f3a\"], [0.8888888888888888, \"#fdca26\"], [1.0, \"#f0f921\"]], \"type\": \"heatmap\"}], \"heatmapgl\": [{\"colorbar\": {\"outlinewidth\": 0, \"ticks\": \"\"}, \"colorscale\": [[0.0, \"#0d0887\"], [0.1111111111111111, \"#46039f\"], [0.2222222222222222, \"#7201a8\"], [0.3333333333333333, \"#9c179e\"], [0.4444444444444444, \"#bd3786\"], [0.5555555555555556, \"#d8576b\"], [0.6666666666666666, \"#ed7953\"], [0.7777777777777778, \"#fb9f3a\"], [0.8888888888888888, \"#fdca26\"], [1.0, \"#f0f921\"]], \"type\": \"heatmapgl\"}], \"histogram\": [{\"marker\": {\"colorbar\": {\"outlinewidth\": 0, \"ticks\": \"\"}}, \"type\": \"histogram\"}], \"histogram2d\": [{\"colorbar\": {\"outlinewidth\": 0, \"ticks\": \"\"}, \"colorscale\": [[0.0, \"#0d0887\"], [0.1111111111111111, \"#46039f\"], [0.2222222222222222, \"#7201a8\"], [0.3333333333333333, \"#9c179e\"], [0.4444444444444444, \"#bd3786\"], [0.5555555555555556, \"#d8576b\"], [0.6666666666666666, \"#ed7953\"], [0.7777777777777778, \"#fb9f3a\"], [0.8888888888888888, \"#fdca26\"], [1.0, \"#f0f921\"]], \"type\": \"histogram2d\"}], \"histogram2dcontour\": [{\"colorbar\": {\"outlinewidth\": 0, \"ticks\": \"\"}, \"colorscale\": [[0.0, \"#0d0887\"], [0.1111111111111111, \"#46039f\"], [0.2222222222222222, \"#7201a8\"], [0.3333333333333333, \"#9c179e\"], [0.4444444444444444, \"#bd3786\"], [0.5555555555555556, \"#d8576b\"], [0.6666666666666666, \"#ed7953\"], [0.7777777777777778, \"#fb9f3a\"], [0.8888888888888888, \"#fdca26\"], [1.0, \"#f0f921\"]], \"type\": \"histogram2dcontour\"}], \"mesh3d\": [{\"colorbar\": {\"outlinewidth\": 0, \"ticks\": \"\"}, \"type\": \"mesh3d\"}], \"parcoords\": [{\"line\": {\"colorbar\": {\"outlinewidth\": 0, \"ticks\": \"\"}}, \"type\": \"parcoords\"}], \"pie\": [{\"automargin\": true, \"type\": \"pie\"}], \"scatter\": [{\"marker\": {\"colorbar\": {\"outlinewidth\": 0, \"ticks\": \"\"}}, \"type\": \"scatter\"}], \"scatter3d\": [{\"line\": {\"colorbar\": {\"outlinewidth\": 0, \"ticks\": \"\"}}, \"marker\": {\"colorbar\": {\"outlinewidth\": 0, \"ticks\": \"\"}}, \"type\": \"scatter3d\"}], \"scattercarpet\": [{\"marker\": {\"colorbar\": {\"outlinewidth\": 0, \"ticks\": \"\"}}, \"type\": \"scattercarpet\"}], \"scattergeo\": [{\"marker\": {\"colorbar\": {\"outlinewidth\": 0, \"ticks\": \"\"}}, \"type\": \"scattergeo\"}], \"scattergl\": [{\"marker\": {\"colorbar\": {\"outlinewidth\": 0, \"ticks\": \"\"}}, \"type\": \"scattergl\"}], \"scattermapbox\": [{\"marker\": {\"colorbar\": {\"outlinewidth\": 0, \"ticks\": \"\"}}, \"type\": \"scattermapbox\"}], \"scatterpolar\": [{\"marker\": {\"colorbar\": {\"outlinewidth\": 0, \"ticks\": \"\"}}, \"type\": \"scatterpolar\"}], \"scatterpolargl\": [{\"marker\": {\"colorbar\": {\"outlinewidth\": 0, \"ticks\": \"\"}}, \"type\": \"scatterpolargl\"}], \"scatterternary\": [{\"marker\": {\"colorbar\": {\"outlinewidth\": 0, \"ticks\": \"\"}}, \"type\": \"scatterternary\"}], \"surface\": [{\"colorbar\": {\"outlinewidth\": 0, \"ticks\": \"\"}, \"colorscale\": [[0.0, \"#0d0887\"], [0.1111111111111111, \"#46039f\"], [0.2222222222222222, \"#7201a8\"], [0.3333333333333333, \"#9c179e\"], [0.4444444444444444, \"#bd3786\"], [0.5555555555555556, \"#d8576b\"], [0.6666666666666666, \"#ed7953\"], [0.7777777777777778, \"#fb9f3a\"], [0.8888888888888888, \"#fdca26\"], [1.0, \"#f0f921\"]], \"type\": \"surface\"}], \"table\": [{\"cells\": {\"fill\": {\"color\": \"#EBF0F8\"}, \"line\": {\"color\": \"white\"}}, \"header\": {\"fill\": {\"color\": \"#C8D4E3\"}, \"line\": {\"color\": \"white\"}}, \"type\": \"table\"}]}, \"layout\": {\"annotationdefaults\": {\"arrowcolor\": \"#2a3f5f\", \"arrowhead\": 0, \"arrowwidth\": 1}, \"autotypenumbers\": \"strict\", \"coloraxis\": {\"colorbar\": {\"outlinewidth\": 0, \"ticks\": \"\"}}, \"colorscale\": {\"diverging\": [[0, \"#8e0152\"], [0.1, \"#c51b7d\"], [0.2, \"#de77ae\"], [0.3, \"#f1b6da\"], [0.4, \"#fde0ef\"], [0.5, \"#f7f7f7\"], [0.6, \"#e6f5d0\"], [0.7, \"#b8e186\"], [0.8, \"#7fbc41\"], [0.9, \"#4d9221\"], [1, \"#276419\"]], \"sequential\": [[0.0, \"#0d0887\"], [0.1111111111111111, \"#46039f\"], [0.2222222222222222, \"#7201a8\"], [0.3333333333333333, \"#9c179e\"], [0.4444444444444444, \"#bd3786\"], [0.5555555555555556, \"#d8576b\"], [0.6666666666666666, \"#ed7953\"], [0.7777777777777778, \"#fb9f3a\"], [0.8888888888888888, \"#fdca26\"], [1.0, \"#f0f921\"]], \"sequentialminus\": [[0.0, \"#0d0887\"], [0.1111111111111111, \"#46039f\"], [0.2222222222222222, \"#7201a8\"], [0.3333333333333333, \"#9c179e\"], [0.4444444444444444, \"#bd3786\"], [0.5555555555555556, \"#d8576b\"], [0.6666666666666666, \"#ed7953\"], [0.7777777777777778, \"#fb9f3a\"], [0.8888888888888888, \"#fdca26\"], [1.0, \"#f0f921\"]]}, \"colorway\": [\"#636efa\", \"#EF553B\", \"#00cc96\", \"#ab63fa\", \"#FFA15A\", \"#19d3f3\", \"#FF6692\", \"#B6E880\", \"#FF97FF\", \"#FECB52\"], \"font\": {\"color\": \"#2a3f5f\"}, \"geo\": {\"bgcolor\": \"white\", \"lakecolor\": \"white\", \"landcolor\": \"#E5ECF6\", \"showlakes\": true, \"showland\": true, \"subunitcolor\": \"white\"}, \"hoverlabel\": {\"align\": \"left\"}, \"hovermode\": \"closest\", \"mapbox\": {\"style\": \"light\"}, \"paper_bgcolor\": \"white\", \"plot_bgcolor\": \"#E5ECF6\", \"polar\": {\"angularaxis\": {\"gridcolor\": \"white\", \"linecolor\": \"white\", \"ticks\": \"\"}, \"bgcolor\": \"#E5ECF6\", \"radialaxis\": {\"gridcolor\": \"white\", \"linecolor\": \"white\", \"ticks\": \"\"}}, \"scene\": {\"xaxis\": {\"backgroundcolor\": \"#E5ECF6\", \"gridcolor\": \"white\", \"gridwidth\": 2, \"linecolor\": \"white\", \"showbackground\": true, \"ticks\": \"\", \"zerolinecolor\": \"white\"}, \"yaxis\": {\"backgroundcolor\": \"#E5ECF6\", \"gridcolor\": \"white\", \"gridwidth\": 2, \"linecolor\": \"white\", \"showbackground\": true, \"ticks\": \"\", \"zerolinecolor\": \"white\"}, \"zaxis\": {\"backgroundcolor\": \"#E5ECF6\", \"gridcolor\": \"white\", \"gridwidth\": 2, \"linecolor\": \"white\", \"showbackground\": true, \"ticks\": \"\", \"zerolinecolor\": \"white\"}}, \"shapedefaults\": {\"line\": {\"color\": \"#2a3f5f\"}}, \"ternary\": {\"aaxis\": {\"gridcolor\": \"white\", \"linecolor\": \"white\", \"ticks\": \"\"}, \"baxis\": {\"gridcolor\": \"white\", \"linecolor\": \"white\", \"ticks\": \"\"}, \"bgcolor\": \"#E5ECF6\", \"caxis\": {\"gridcolor\": \"white\", \"linecolor\": \"white\", \"ticks\": \"\"}}, \"title\": {\"x\": 0.05}, \"xaxis\": {\"automargin\": true, \"gridcolor\": \"white\", \"linecolor\": \"white\", \"ticks\": \"\", \"title\": {\"standoff\": 15}, \"zerolinecolor\": \"white\", \"zerolinewidth\": 2}, \"yaxis\": {\"automargin\": true, \"gridcolor\": \"white\", \"linecolor\": \"white\", \"ticks\": \"\", \"title\": {\"standoff\": 15}, \"zerolinecolor\": \"white\", \"zerolinewidth\": 2}}}, \"xaxis\": {\"title\": {\"text\": \"Iterations\"}}, \"yaxis\": {\"title\": {\"text\": \"Draws\"}}},                        {\"responsive\": true}                    ).then(function(){\n",
       "                            \n",
       "var gd = document.getElementById('9c6e2974-1dd9-4ce3-9942-2dbfdaf2e228');\n",
       "var x = new MutationObserver(function (mutations, observer) {{\n",
       "        var display = window.getComputedStyle(gd).display;\n",
       "        if (!display || display === 'none') {{\n",
       "            console.log([gd, 'removed!']);\n",
       "            Plotly.purge(gd);\n",
       "            observer.disconnect();\n",
       "        }}\n",
       "}});\n",
       "\n",
       "// Listen for the removal of the full notebook cells\n",
       "var notebookContainer = gd.closest('#notebook-container');\n",
       "if (notebookContainer) {{\n",
       "    x.observe(notebookContainer, {childList: true});\n",
       "}}\n",
       "\n",
       "// Listen for the clearing of the current output cell\n",
       "var outputEl = gd.closest('.output');\n",
       "if (outputEl) {{\n",
       "    x.observe(outputEl, {childList: true});\n",
       "}}\n",
       "\n",
       "                        })                };                });            </script>        </div>"
      ]
     },
     "metadata": {},
     "output_type": "display_data"
    }
   ],
   "source": [
    "import plotly.graph_objects as go\n",
    "\n",
    "\n",
    "fig = go.Figure()\n",
    "fig.add_trace(go.Scatter(x=iters, y=mcts_draws, mode='lines+markers', name='MCTS draws'))\n",
    "fig.add_trace(go.Scatter(x=iters, y=az_draws, mode='lines+markers', name='AZ draws'))\n",
    "fig.update_xaxes(title_text='Iterations')\n",
    "fig.update_yaxes(title_text='Draws')\n",
    "fig.show()"
   ]
  },
  {
   "cell_type": "code",
   "execution_count": null,
   "metadata": {},
   "outputs": [
    {
     "name": "stdout",
     "output_type": "stream",
     "text": [
      " | | \n",
      "-+-+-\n",
      " | | \n",
      "-+-+-\n",
      " | | \n",
      "\n",
      "\n",
      "[PLAYER] choose action: 0, 1, 2, 3, 4, 5, 6, 7, 8\n",
      "> 8\n",
      " | | \n",
      "-+-+-\n",
      " | | \n",
      "-+-+-\n",
      " | |X\n",
      "\n",
      "O| | \n",
      "-+-+-\n",
      " | | \n",
      "-+-+-\n",
      " | |X\n",
      "\n",
      "\n",
      "[PLAYER] choose action: 1, 2, 3, 4, 5, 6, 7\n"
     ]
    }
   ],
   "source": [
    "from tfg.strategies import HumanStrategy\n",
    "\n",
    "\n",
    "alphazero.set_max_iter(400)\n",
    "\n",
    "play(game, HumanStrategy(game), alphazero, render=True, print_results=True)"
   ]
  },
  {
   "cell_type": "code",
   "execution_count": 5,
   "metadata": {},
   "outputs": [],
   "source": [
    "model = alphazero.neural_network.model"
   ]
  },
  {
   "cell_type": "code",
   "execution_count": 6,
   "metadata": {},
   "outputs": [
    {
     "data": {
      "text/plain": [
       "(0.46693388,\n",
       " array([0.35438573, 0.02306549, 0.01683437, 0.01510538, 0.5563846 ,\n",
       "        0.01145097, 0.00673587, 0.01082927, 0.00520825], dtype=float32),\n",
       " 4)"
      ]
     },
     "execution_count": 6,
     "metadata": {},
     "output_type": "execute_result"
    }
   ],
   "source": [
    "import numpy as np\n",
    "board = np.array([[\n",
    "    [[0, 0, 0],\n",
    "     [0, 0, 0],\n",
    "     [0, 0, 0]],\n",
    "    [[0, 0, 0],\n",
    "     [0, 0, 0],\n",
    "     [0, 0, 0]],\n",
    "    [[0] * 3] * 3\n",
    "]])\n",
    "v, p = model(board)\n",
    "v = v.numpy()[0, 0]\n",
    "p = p.numpy()[0]\n",
    "v, p, np.argmax(p)"
   ]
  },
  {
   "cell_type": "code",
   "execution_count": 7,
   "metadata": {},
   "outputs": [
    {
     "name": "stdout",
     "output_type": "stream",
     "text": [
      "[[15. 12.  6.]\n",
      " [23. 10. 19.]\n",
      " [ 7.  9. 19.]]\n",
      "\n",
      "[[13.  0.  5.]\n",
      " [ 7. 85.  3.]\n",
      " [ 2.  2.  3.]]\n",
      "\n",
      "[[17.  6.  2.]\n",
      " [ 3. 81.  3.]\n",
      " [ 1.  7.  0.]]\n",
      "\n",
      "[[59.  1.  2.]\n",
      " [ 3. 49.  2.]\n",
      " [ 1.  3.  0.]]\n",
      "\n"
     ]
    }
   ],
   "source": [
    "games = np.zeros((3, 3))\n",
    "\n",
    "for i, g in enumerate(store.games):\n",
    "    if i % 120 == 0:\n",
    "        games[...] = 0\n",
    "    games += g[1]\n",
    "    if i % 120 == 119:\n",
    "        print(games)\n",
    "        print()"
   ]
  },
  {
   "cell_type": "code",
   "execution_count": 45,
   "metadata": {},
   "outputs": [
    {
     "name": "stdout",
     "output_type": "stream",
     "text": [
      "O| | \n",
      "-+-+-\n",
      " | | \n",
      "-+-+-\n",
      " | |X\n",
      "\n",
      "O| | \n",
      "-+-+-\n",
      " |X| \n",
      "-+-+-\n",
      " | |X\n",
      "\n"
     ]
    }
   ],
   "source": [
    "observation = game.reset()\n",
    "alphazero.update(None)\n",
    "observation, _, _, _ = game.step(8)\n",
    "alphazero.update(8)\n",
    "observation, _, _, _ = game.step(0)\n",
    "alphazero.update(0)\n",
    "game.render()\n",
    "action = alphazero.move(observation)\n",
    "game.step(action)\n",
    "game.render()"
   ]
  },
  {
   "cell_type": "code",
   "execution_count": 47,
   "metadata": {},
   "outputs": [
    {
     "name": "stdout",
     "output_type": "stream",
     "text": [
      "action       pi        P      value\n",
      "action 1    0.015    0.043    -0.169\n",
      "action 2    0.251    0.257    0.067\n",
      "action 3    0.005    0.009    -0.472\n",
      "action 4    0.719    0.449    0.027\n",
      "action 5    0.005    0.143    -0.977\n",
      "action 6    0.000    0.000    0.000\n",
      "action 7    0.005    0.099    -0.762\n"
     ]
    }
   ],
   "source": [
    "actions = alphazero._mcts.stats['actions']\n",
    "N = sum(n.visit_count for n in actions.values())\n",
    "print(\"action  \", \" pi \", \"   P  \", \"value\", sep='    ')\n",
    "for a, n in actions.items():\n",
    "    print(f\"action {a}\", f\"{n.visit_count / N:.3f}\", f\"{n.probability:.3f}\", f\"{n.value:.3f}\", sep='    ')"
   ]
  },
  {
   "cell_type": "code",
   "execution_count": 44,
   "metadata": {},
   "outputs": [
    {
     "data": {
      "text/plain": [
       "True"
      ]
     },
     "execution_count": 44,
     "metadata": {},
     "output_type": "execute_result"
    }
   ],
   "source": [
    "alphazero._mcts._root.root"
   ]
  },
  {
   "cell_type": "code",
   "execution_count": null,
   "metadata": {},
   "outputs": [],
   "source": []
  }
 ],
 "metadata": {
  "kernelspec": {
   "display_name": "AlphaZero",
   "language": "python",
   "name": "alphazero"
  },
  "language_info": {
   "codemirror_mode": {
    "name": "ipython",
    "version": 3
   },
   "file_extension": ".py",
   "mimetype": "text/x-python",
   "name": "python",
   "nbconvert_exporter": "python",
   "pygments_lexer": "ipython3",
   "version": "3.8.8"
  }
 },
 "nbformat": 4,
 "nbformat_minor": 1
}