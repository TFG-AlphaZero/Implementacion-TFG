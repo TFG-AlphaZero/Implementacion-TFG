{
 "cells": [
  {
   "cell_type": "code",
   "execution_count": 1,
   "metadata": {},
   "outputs": [],
   "source": [
    "from tfg.alphaZero import create_alphazero, AlphaZero\n",
    "from tfg.alphaZeroCallbacks import Checkpoint\n",
    "from tfg.alphaZeroAdapters import TicTacToeAdapter\n",
    "from tfg.util import enable_gpu, play\n",
    "from tfg.strategies import Minimax, MonteCarloTree\n",
    "from game.tictactoe import TicTacToe"
   ]
  },
  {
   "cell_type": "code",
   "execution_count": 2,
   "metadata": {},
   "outputs": [],
   "source": [
    "enable_gpu()\n",
    "\n",
    "game = TicTacToe()"
   ]
  },
  {
   "cell_type": "code",
   "execution_count": 4,
   "metadata": {
    "scrolled": true
   },
   "outputs": [
    {
     "name": "stderr",
     "output_type": "stream",
     "text": [
      "2021-03-24 20:39:56,508\tINFO services.py:1172 -- View the Ray dashboard at \u001B[1m\u001B[32mhttp://127.0.0.1:8265\u001B[39m\u001B[22m\n"
     ]
    },
    {
     "name": "stdout",
     "output_type": "stream",
     "text": [
      "Epoch 1/10\n",
      "4/4 - 2s - loss: 1.5691 - value_head_loss: 0.6122 - policy_head_loss: 2.3758\n",
      "Epoch 2/10\n",
      "4/4 - 0s - loss: 1.4381 - value_head_loss: 0.4824 - policy_head_loss: 2.1917\n",
      "Epoch 3/10\n",
      "4/4 - 0s - loss: 1.3864 - value_head_loss: 0.4417 - policy_head_loss: 2.0808\n",
      "Epoch 4/10\n",
      "4/4 - 0s - loss: 1.3749 - value_head_loss: 0.4337 - policy_head_loss: 2.0286\n",
      "Epoch 5/10\n",
      "4/4 - 0s - loss: 1.3416 - value_head_loss: 0.4108 - policy_head_loss: 1.9583\n",
      "Epoch 6/10\n",
      "4/4 - 0s - loss: 1.3026 - value_head_loss: 0.4072 - policy_head_loss: 1.8661\n",
      "Epoch 7/10\n",
      "4/4 - 0s - loss: 1.2304 - value_head_loss: 0.3793 - policy_head_loss: 1.7377\n",
      "Epoch 8/10\n",
      "4/4 - 0s - loss: 1.1726 - value_head_loss: 0.3453 - policy_head_loss: 1.6488\n",
      "Epoch 9/10\n",
      "4/4 - 0s - loss: 1.1459 - value_head_loss: 0.3682 - policy_head_loss: 1.5686\n",
      "Epoch 10/10\n",
      "4/4 - 0s - loss: 1.0808 - value_head_loss: 0.3298 - policy_head_loss: 1.4748\n",
      "Games played: 64\n",
      "Epoch 1/10\n",
      "4/4 - 0s - loss: 1.5211 - value_head_loss: 0.5456 - policy_head_loss: 2.1390\n",
      "Epoch 2/10\n",
      "4/4 - 0s - loss: 1.3007 - value_head_loss: 0.4474 - policy_head_loss: 1.7957\n",
      "Epoch 3/10\n",
      "4/4 - 0s - loss: 1.2008 - value_head_loss: 0.4045 - policy_head_loss: 1.6368\n",
      "Epoch 4/10\n",
      "4/4 - 0s - loss: 1.1318 - value_head_loss: 0.3885 - policy_head_loss: 1.5132\n",
      "Epoch 5/10\n",
      "4/4 - 0s - loss: 1.0785 - value_head_loss: 0.3827 - policy_head_loss: 1.4116\n",
      "Epoch 6/10\n",
      "4/4 - 0s - loss: 1.0551 - value_head_loss: 0.3541 - policy_head_loss: 1.3942\n",
      "Epoch 7/10\n",
      "4/4 - 0s - loss: 1.0118 - value_head_loss: 0.3343 - policy_head_loss: 1.3290\n",
      "Epoch 8/10\n",
      "4/4 - 0s - loss: 0.9930 - value_head_loss: 0.3363 - policy_head_loss: 1.2922\n",
      "Epoch 9/10\n",
      "4/4 - 0s - loss: 0.9644 - value_head_loss: 0.2940 - policy_head_loss: 1.2807\n",
      "Epoch 10/10\n",
      "4/4 - 0s - loss: 0.9370 - value_head_loss: 0.2842 - policy_head_loss: 1.2400\n",
      "Games played: 128\n",
      "Epoch 1/10\n",
      "4/4 - 0s - loss: 1.4462 - value_head_loss: 0.7377 - policy_head_loss: 1.8094\n",
      "Epoch 2/10\n",
      "4/4 - 0s - loss: 1.1109 - value_head_loss: 0.4468 - policy_head_loss: 1.4306\n",
      "Epoch 3/10\n",
      "4/4 - 0s - loss: 1.0199 - value_head_loss: 0.3957 - policy_head_loss: 1.2967\n",
      "Epoch 4/10\n",
      "4/4 - 0s - loss: 0.9448 - value_head_loss: 0.3853 - policy_head_loss: 1.1533\n",
      "Epoch 5/10\n",
      "4/4 - 0s - loss: 0.8901 - value_head_loss: 0.3550 - policy_head_loss: 1.0718\n",
      "Epoch 6/10\n",
      "4/4 - 0s - loss: 0.8603 - value_head_loss: 0.3427 - policy_head_loss: 1.0241\n",
      "Epoch 7/10\n",
      "4/4 - 0s - loss: 0.8298 - value_head_loss: 0.3239 - policy_head_loss: 0.9831\n",
      "Epoch 8/10\n",
      "4/4 - 0s - loss: 0.8005 - value_head_loss: 0.3143 - policy_head_loss: 0.9373\n",
      "Epoch 9/10\n",
      "4/4 - 0s - loss: 0.7876 - value_head_loss: 0.3029 - policy_head_loss: 0.9273\n",
      "Epoch 10/10\n",
      "4/4 - 0s - loss: 0.7737 - value_head_loss: 0.2766 - policy_head_loss: 0.9309\n",
      "Games played: 192\n",
      "Epoch 1/10\n",
      "4/4 - 0s - loss: 1.3568 - value_head_loss: 0.5067 - policy_head_loss: 1.8725\n",
      "Epoch 2/10\n",
      "4/4 - 0s - loss: 1.1092 - value_head_loss: 0.4501 - policy_head_loss: 1.4361\n",
      "Epoch 3/10\n",
      "4/4 - 0s - loss: 0.9816 - value_head_loss: 0.3610 - policy_head_loss: 1.2684\n",
      "Epoch 4/10\n",
      "4/4 - 0s - loss: 0.9169 - value_head_loss: 0.3625 - policy_head_loss: 1.1352\n",
      "Epoch 5/10\n",
      "4/4 - 0s - loss: 0.8563 - value_head_loss: 0.3074 - policy_head_loss: 1.0678\n",
      "Epoch 6/10\n",
      "4/4 - 0s - loss: 0.8118 - value_head_loss: 0.2710 - policy_head_loss: 1.0153\n",
      "Epoch 7/10\n",
      "4/4 - 0s - loss: 0.7736 - value_head_loss: 0.2394 - policy_head_loss: 0.9721\n",
      "Epoch 8/10\n",
      "4/4 - 0s - loss: 0.7442 - value_head_loss: 0.2244 - policy_head_loss: 0.9312\n",
      "Epoch 9/10\n",
      "4/4 - 0s - loss: 0.7205 - value_head_loss: 0.2119 - policy_head_loss: 0.9003\n",
      "Epoch 10/10\n",
      "4/4 - 0s - loss: 0.7012 - value_head_loss: 0.1995 - policy_head_loss: 0.8791\n",
      "Games played: 256\n",
      "Epoch 1/10\n",
      "4/4 - 0s - loss: 1.5141 - value_head_loss: 0.7907 - policy_head_loss: 1.9190\n",
      "Epoch 2/10\n",
      "4/4 - 0s - loss: 1.2011 - value_head_loss: 0.5201 - policy_head_loss: 1.5645\n",
      "Epoch 3/10\n",
      "4/4 - 0s - loss: 1.1647 - value_head_loss: 0.4767 - policy_head_loss: 1.5321\n",
      "Epoch 4/10\n",
      "4/4 - 0s - loss: 1.0358 - value_head_loss: 0.4096 - policy_head_loss: 1.3375\n",
      "Epoch 5/10\n",
      "4/4 - 0s - loss: 1.0083 - value_head_loss: 0.3894 - policy_head_loss: 1.2997\n",
      "Epoch 6/10\n",
      "4/4 - 0s - loss: 0.9437 - value_head_loss: 0.3458 - policy_head_loss: 1.2128\n",
      "Epoch 7/10\n",
      "4/4 - 0s - loss: 0.9089 - value_head_loss: 0.3120 - policy_head_loss: 1.1773\n",
      "Epoch 8/10\n",
      "4/4 - 0s - loss: 0.8710 - value_head_loss: 0.2830 - policy_head_loss: 1.1323\n",
      "Epoch 9/10\n",
      "4/4 - 0s - loss: 0.8453 - value_head_loss: 0.2613 - policy_head_loss: 1.1057\n",
      "Epoch 10/10\n",
      "4/4 - 0s - loss: 0.8326 - value_head_loss: 0.2468 - policy_head_loss: 1.0993\n",
      "Games played: 320\n",
      "Epoch 1/10\n",
      "4/4 - 0s - loss: 1.4375 - value_head_loss: 0.8728 - policy_head_loss: 1.6876\n",
      "Epoch 2/10\n",
      "4/4 - 0s - loss: 1.1849 - value_head_loss: 0.6862 - policy_head_loss: 1.3711\n",
      "Epoch 3/10\n",
      "4/4 - 0s - loss: 1.0471 - value_head_loss: 0.4785 - policy_head_loss: 1.3019\n",
      "Epoch 4/10\n",
      "4/4 - 0s - loss: 0.9962 - value_head_loss: 0.4204 - policy_head_loss: 1.2554\n",
      "Epoch 5/10\n",
      "4/4 - 0s - loss: 0.9133 - value_head_loss: 0.3491 - policy_head_loss: 1.1588\n",
      "Epoch 6/10\n",
      "4/4 - 0s - loss: 0.8891 - value_head_loss: 0.3440 - policy_head_loss: 1.1149\n",
      "Epoch 7/10\n",
      "4/4 - 0s - loss: 0.8713 - value_head_loss: 0.3309 - policy_head_loss: 1.0936\n",
      "Epoch 8/10\n",
      "4/4 - 0s - loss: 0.8256 - value_head_loss: 0.2936 - policy_head_loss: 1.0419\n",
      "Epoch 9/10\n",
      "4/4 - 0s - loss: 0.8091 - value_head_loss: 0.2689 - policy_head_loss: 1.0379\n",
      "Epoch 10/10\n",
      "4/4 - 0s - loss: 0.7944 - value_head_loss: 0.2625 - policy_head_loss: 1.0202\n",
      "Games played: 384\n",
      "Epoch 1/10\n",
      "4/4 - 0s - loss: 1.3305 - value_head_loss: 0.7179 - policy_head_loss: 1.6428\n",
      "Epoch 2/10\n",
      "4/4 - 0s - loss: 1.1320 - value_head_loss: 0.5772 - policy_head_loss: 1.3877\n",
      "Epoch 3/10\n",
      "4/4 - 0s - loss: 0.9966 - value_head_loss: 0.5037 - policy_head_loss: 1.1873\n",
      "Epoch 4/10\n",
      "4/4 - 0s - loss: 0.9414 - value_head_loss: 0.4624 - policy_head_loss: 1.1140\n",
      "Epoch 5/10\n",
      "4/4 - 0s - loss: 0.8945 - value_head_loss: 0.4531 - policy_head_loss: 1.0266\n",
      "Epoch 6/10\n",
      "4/4 - 0s - loss: 0.8530 - value_head_loss: 0.4211 - policy_head_loss: 0.9750\n",
      "Epoch 7/10\n",
      "4/4 - 0s - loss: 0.8199 - value_head_loss: 0.3943 - policy_head_loss: 0.9374\n",
      "Epoch 8/10\n",
      "4/4 - 0s - loss: 0.7900 - value_head_loss: 0.3623 - policy_head_loss: 0.9129\n",
      "Epoch 9/10\n",
      "4/4 - 0s - loss: 0.7609 - value_head_loss: 0.3266 - policy_head_loss: 0.8951\n",
      "Epoch 10/10\n",
      "4/4 - 0s - loss: 0.7379 - value_head_loss: 0.2934 - policy_head_loss: 0.8881\n",
      "Games played: 448\n",
      "Epoch 1/10\n",
      "4/4 - 0s - loss: 1.3798 - value_head_loss: 0.6242 - policy_head_loss: 1.8466\n",
      "Epoch 2/10\n",
      "4/4 - 0s - loss: 1.0409 - value_head_loss: 0.3524 - policy_head_loss: 1.4411\n",
      "Epoch 3/10\n",
      "4/4 - 0s - loss: 0.9511 - value_head_loss: 0.3454 - policy_head_loss: 1.2636\n",
      "Epoch 4/10\n",
      "4/4 - 0s - loss: 0.8745 - value_head_loss: 0.2890 - policy_head_loss: 1.1609\n",
      "Epoch 5/10\n",
      "4/4 - 0s - loss: 0.8282 - value_head_loss: 0.2765 - policy_head_loss: 1.0764\n",
      "Epoch 6/10\n",
      "4/4 - 0s - loss: 0.7995 - value_head_loss: 0.2550 - policy_head_loss: 1.0380\n",
      "Epoch 7/10\n",
      "4/4 - 0s - loss: 0.7567 - value_head_loss: 0.2183 - policy_head_loss: 0.9894\n",
      "Epoch 8/10\n",
      "4/4 - 0s - loss: 0.7249 - value_head_loss: 0.1966 - policy_head_loss: 0.9499\n",
      "Epoch 9/10\n",
      "4/4 - 0s - loss: 0.7114 - value_head_loss: 0.1910 - policy_head_loss: 0.9327\n",
      "Epoch 10/10\n",
      "4/4 - 0s - loss: 0.6975 - value_head_loss: 0.1743 - policy_head_loss: 0.9272\n",
      "Games played: 512\n",
      "Epoch 1/10\n",
      "4/4 - 0s - loss: 1.1566 - value_head_loss: 0.5531 - policy_head_loss: 1.4726\n",
      "Epoch 2/10\n",
      "4/4 - 0s - loss: 0.9336 - value_head_loss: 0.3409 - policy_head_loss: 1.2414\n",
      "Epoch 3/10\n",
      "4/4 - 0s - loss: 0.8453 - value_head_loss: 0.3081 - policy_head_loss: 1.0969\n",
      "Epoch 4/10\n",
      "4/4 - 0s - loss: 0.8035 - value_head_loss: 0.2912 - policy_head_loss: 1.0280\n",
      "Epoch 5/10\n",
      "4/4 - 0s - loss: 0.7683 - value_head_loss: 0.2717 - policy_head_loss: 0.9754\n",
      "Epoch 6/10\n",
      "4/4 - 0s - loss: 0.7463 - value_head_loss: 0.2629 - policy_head_loss: 0.9391\n",
      "Epoch 7/10\n",
      "4/4 - 0s - loss: 0.7172 - value_head_loss: 0.2534 - policy_head_loss: 0.8912\n",
      "Epoch 8/10\n",
      "4/4 - 0s - loss: 0.6940 - value_head_loss: 0.2306 - policy_head_loss: 0.8699\n",
      "Epoch 9/10\n",
      "4/4 - 0s - loss: 0.6819 - value_head_loss: 0.2200 - policy_head_loss: 0.8602\n",
      "Epoch 10/10\n",
      "4/4 - 0s - loss: 0.6545 - value_head_loss: 0.1976 - policy_head_loss: 0.8329\n",
      "Games played: 576\n",
      "Epoch 1/10\n",
      "4/4 - 0s - loss: 1.1900 - value_head_loss: 0.5882 - policy_head_loss: 1.5186\n",
      "Epoch 2/10\n",
      "4/4 - 0s - loss: 0.8945 - value_head_loss: 0.4053 - policy_head_loss: 1.1133\n"
     ]
    },
    {
     "name": "stdout",
     "output_type": "stream",
     "text": [
      "Epoch 3/10\n",
      "4/4 - 0s - loss: 0.8371 - value_head_loss: 0.3822 - policy_head_loss: 1.0214\n",
      "Epoch 4/10\n",
      "4/4 - 0s - loss: 0.7923 - value_head_loss: 0.3493 - policy_head_loss: 0.9642\n",
      "Epoch 5/10\n",
      "4/4 - 0s - loss: 0.7522 - value_head_loss: 0.3143 - policy_head_loss: 0.9192\n",
      "Epoch 6/10\n",
      "4/4 - 0s - loss: 0.7341 - value_head_loss: 0.2987 - policy_head_loss: 0.9002\n",
      "Epoch 7/10\n",
      "4/4 - 0s - loss: 0.7146 - value_head_loss: 0.2912 - policy_head_loss: 0.8720\n",
      "Epoch 8/10\n",
      "4/4 - 0s - loss: 0.6988 - value_head_loss: 0.2666 - policy_head_loss: 0.8693\n",
      "Epoch 9/10\n",
      "4/4 - 0s - loss: 0.6874 - value_head_loss: 0.2583 - policy_head_loss: 0.8601\n",
      "Epoch 10/10\n",
      "4/4 - 0s - loss: 0.6731 - value_head_loss: 0.2391 - policy_head_loss: 0.8562\n",
      "Games played: 640\n",
      "Epoch 1/10\n",
      "4/4 - 0s - loss: 1.0421 - value_head_loss: 0.4870 - policy_head_loss: 1.3523\n",
      "Epoch 2/10\n",
      "4/4 - 0s - loss: 0.8339 - value_head_loss: 0.3613 - policy_head_loss: 1.0639\n",
      "Epoch 3/10\n",
      "4/4 - 0s - loss: 0.7702 - value_head_loss: 0.3020 - policy_head_loss: 0.9939\n",
      "Epoch 4/10\n",
      "4/4 - 0s - loss: 0.7330 - value_head_loss: 0.2794 - policy_head_loss: 0.9387\n",
      "Epoch 5/10\n",
      "4/4 - 0s - loss: 0.6965 - value_head_loss: 0.2597 - policy_head_loss: 0.8822\n",
      "Epoch 6/10\n",
      "4/4 - 0s - loss: 0.6721 - value_head_loss: 0.2338 - policy_head_loss: 0.8578\n",
      "Epoch 7/10\n",
      "4/4 - 0s - loss: 0.6346 - value_head_loss: 0.2045 - policy_head_loss: 0.8125\n",
      "Epoch 8/10\n",
      "4/4 - 0s - loss: 0.6200 - value_head_loss: 0.1890 - policy_head_loss: 0.8008\n",
      "Epoch 9/10\n",
      "4/4 - 0s - loss: 0.6190 - value_head_loss: 0.2005 - policy_head_loss: 0.7907\n",
      "Epoch 10/10\n",
      "4/4 - 0s - loss: 0.5923 - value_head_loss: 0.1697 - policy_head_loss: 0.7723\n",
      "Games played: 704\n",
      "Epoch 1/10\n",
      "4/4 - 0s - loss: 1.2403 - value_head_loss: 0.6560 - policy_head_loss: 1.5865\n",
      "Epoch 2/10\n",
      "4/4 - 0s - loss: 1.0212 - value_head_loss: 0.5012 - policy_head_loss: 1.3032\n",
      "Epoch 3/10\n",
      "4/4 - 0s - loss: 0.9199 - value_head_loss: 0.4593 - policy_head_loss: 1.1374\n",
      "Epoch 4/10\n",
      "4/4 - 0s - loss: 0.8923 - value_head_loss: 0.3960 - policy_head_loss: 1.1396\n",
      "Epoch 5/10\n",
      "4/4 - 0s - loss: 0.8194 - value_head_loss: 0.3574 - policy_head_loss: 1.0275\n",
      "Epoch 6/10\n",
      "4/4 - 0s - loss: 0.7911 - value_head_loss: 0.3283 - policy_head_loss: 0.9970\n",
      "Epoch 7/10\n",
      "4/4 - 0s - loss: 0.7667 - value_head_loss: 0.3087 - policy_head_loss: 0.9674\n",
      "Epoch 8/10\n",
      "4/4 - 0s - loss: 0.7639 - value_head_loss: 0.3239 - policy_head_loss: 0.9478\n",
      "Epoch 9/10\n",
      "4/4 - 0s - loss: 0.7336 - value_head_loss: 0.2637 - policy_head_loss: 0.9502\n",
      "Epoch 10/10\n",
      "4/4 - 0s - loss: 0.7191 - value_head_loss: 0.2639 - policy_head_loss: 0.9245\n",
      "Games played: 768\n",
      "Epoch 1/10\n",
      "4/4 - 0s - loss: 1.2485 - value_head_loss: 0.6499 - policy_head_loss: 1.6011\n",
      "Epoch 2/10\n",
      "4/4 - 0s - loss: 1.0581 - value_head_loss: 0.5617 - policy_head_loss: 1.3081\n",
      "Epoch 3/10\n",
      "4/4 - 0s - loss: 0.9244 - value_head_loss: 0.4305 - policy_head_loss: 1.1674\n",
      "Epoch 4/10\n",
      "4/4 - 0s - loss: 0.8570 - value_head_loss: 0.4120 - policy_head_loss: 1.0452\n",
      "Epoch 5/10\n",
      "4/4 - 0s - loss: 0.8148 - value_head_loss: 0.3642 - policy_head_loss: 1.0044\n",
      "Epoch 6/10\n",
      "4/4 - 0s - loss: 0.7758 - value_head_loss: 0.3399 - policy_head_loss: 0.9486\n",
      "Epoch 7/10\n",
      "4/4 - 0s - loss: 0.7454 - value_head_loss: 0.3084 - policy_head_loss: 0.9194\n",
      "Epoch 8/10\n",
      "4/4 - 0s - loss: 0.7183 - value_head_loss: 0.2832 - policy_head_loss: 0.8927\n",
      "Epoch 9/10\n",
      "4/4 - 0s - loss: 0.6881 - value_head_loss: 0.2475 - policy_head_loss: 0.8716\n",
      "Epoch 10/10\n",
      "4/4 - 0s - loss: 0.6748 - value_head_loss: 0.2399 - policy_head_loss: 0.8575\n",
      "Games played: 832\n",
      "Epoch 1/10\n",
      "4/4 - 0s - loss: 1.3495 - value_head_loss: 0.5698 - policy_head_loss: 1.8821\n",
      "Epoch 2/10\n",
      "4/4 - 0s - loss: 1.0224 - value_head_loss: 0.3746 - policy_head_loss: 1.4239\n",
      "Epoch 3/10\n",
      "4/4 - 0s - loss: 0.8911 - value_head_loss: 0.3095 - policy_head_loss: 1.2220\n",
      "Epoch 4/10\n",
      "4/4 - 0s - loss: 0.8183 - value_head_loss: 0.2467 - policy_head_loss: 1.1342\n",
      "Epoch 5/10\n",
      "4/4 - 0s - loss: 0.7823 - value_head_loss: 0.2245 - policy_head_loss: 1.0803\n",
      "Epoch 6/10\n",
      "4/4 - 0s - loss: 0.7413 - value_head_loss: 0.2000 - policy_head_loss: 1.0211\n",
      "Epoch 7/10\n",
      "4/4 - 0s - loss: 0.7247 - value_head_loss: 0.1851 - policy_head_loss: 1.0036\n",
      "Epoch 8/10\n",
      "4/4 - 0s - loss: 0.7083 - value_head_loss: 0.1708 - policy_head_loss: 0.9875\n",
      "Epoch 9/10\n",
      "4/4 - 0s - loss: 0.6883 - value_head_loss: 0.1651 - policy_head_loss: 0.9573\n",
      "Epoch 10/10\n",
      "4/4 - 0s - loss: 0.6698 - value_head_loss: 0.1525 - policy_head_loss: 0.9381\n",
      "Games played: 896\n",
      "Epoch 1/10\n",
      "4/4 - 0s - loss: 1.2450 - value_head_loss: 0.5261 - policy_head_loss: 1.7200\n",
      "Epoch 2/10\n",
      "4/4 - 0s - loss: 0.9834 - value_head_loss: 0.3246 - policy_head_loss: 1.3991\n",
      "Epoch 3/10\n",
      "4/4 - 0s - loss: 0.8643 - value_head_loss: 0.3082 - policy_head_loss: 1.1729\n",
      "Epoch 4/10\n",
      "4/4 - 0s - loss: 0.8255 - value_head_loss: 0.2969 - policy_head_loss: 1.1018\n",
      "Epoch 5/10\n",
      "4/4 - 0s - loss: 0.8039 - value_head_loss: 0.2827 - policy_head_loss: 1.0695\n",
      "Epoch 6/10\n",
      "4/4 - 0s - loss: 0.7745 - value_head_loss: 0.2629 - policy_head_loss: 1.0295\n",
      "Epoch 7/10\n",
      "4/4 - 0s - loss: 0.7457 - value_head_loss: 0.2459 - policy_head_loss: 0.9904\n",
      "Epoch 8/10\n",
      "4/4 - 0s - loss: 0.7361 - value_head_loss: 0.2357 - policy_head_loss: 0.9846\n",
      "Epoch 9/10\n",
      "4/4 - 0s - loss: 0.7146 - value_head_loss: 0.2147 - policy_head_loss: 0.9672\n",
      "Epoch 10/10\n",
      "4/4 - 0s - loss: 0.7046 - value_head_loss: 0.2057 - policy_head_loss: 0.9618\n",
      "Games played: 960\n",
      "Epoch 1/10\n",
      "4/4 - 0s - loss: 1.4386 - value_head_loss: 0.6567 - policy_head_loss: 1.9845\n",
      "Epoch 2/10\n",
      "4/4 - 0s - loss: 1.0765 - value_head_loss: 0.5116 - policy_head_loss: 1.4065\n",
      "Epoch 3/10\n",
      "4/4 - 0s - loss: 0.9753 - value_head_loss: 0.4577 - policy_head_loss: 1.2527\n",
      "Epoch 4/10\n",
      "4/4 - 0s - loss: 0.8945 - value_head_loss: 0.4132 - policy_head_loss: 1.1289\n",
      "Epoch 5/10\n",
      "4/4 - 0s - loss: 0.8499 - value_head_loss: 0.3959 - policy_head_loss: 1.0514\n",
      "Epoch 6/10\n",
      "4/4 - 0s - loss: 0.8277 - value_head_loss: 0.3639 - policy_head_loss: 1.0360\n",
      "Epoch 7/10\n",
      "4/4 - 0s - loss: 0.7931 - value_head_loss: 0.3341 - policy_head_loss: 0.9960\n",
      "Epoch 8/10\n",
      "4/4 - 0s - loss: 0.7762 - value_head_loss: 0.3318 - policy_head_loss: 0.9660\n",
      "Epoch 9/10\n",
      "4/4 - 0s - loss: 0.7471 - value_head_loss: 0.2887 - policy_head_loss: 0.9543\n",
      "Epoch 10/10\n",
      "4/4 - 0s - loss: 0.7281 - value_head_loss: 0.2668 - policy_head_loss: 0.9429\n",
      "Games played: 1024\n"
     ]
    }
   ],
   "source": [
    "callback = Checkpoint('exp_chk', 'models/checkpoints', delay=4)\n",
    "\n",
    "alphazero = create_alphazero(game, TicTacToeAdapter(),\n",
    "                             max_workers=8, self_play_times=64,\n",
    "                             max_games_counter=1024, buffer_size=512,\n",
    "                             callbacks=None, mcts_iter=100, c_puct=1.25,\n",
    "                             temperature=5, exploration_noise=(.25, .045))"
   ]
  },
  {
   "cell_type": "code",
   "execution_count": 4,
   "metadata": {},
   "outputs": [],
   "source": [
    "alphazero.save('models/experiment_tictactoe.h5')"
   ]
  },
  {
   "cell_type": "code",
   "execution_count": 5,
   "metadata": {},
   "outputs": [
    {
     "data": {
      "text/plain": [
       "(73, 27, 0)"
      ]
     },
     "execution_count": 5,
     "metadata": {},
     "output_type": "execute_result"
    }
   ],
   "source": [
    "play(game, Minimax(game), alphazero, games=100)"
   ]
  },
  {
   "cell_type": "code",
   "execution_count": 5,
   "metadata": {},
   "outputs": [],
   "source": [
    "alphazero = AlphaZero(game, buffer_size=1024, mcts_iter=100)"
   ]
  },
  {
   "cell_type": "code",
   "execution_count": 6,
   "metadata": {},
   "outputs": [],
   "source": [
    "alphazero.load('models/experiment_tictactoe.h5')"
   ]
  },
  {
   "cell_type": "code",
   "execution_count": 8,
   "metadata": {},
   "outputs": [
    {
     "data": {
      "text/plain": [
       "([0, 9, 35, 53, 60, 80], [79, 90, 86, 87, 85, 92])"
      ]
     },
     "execution_count": 8,
     "metadata": {},
     "output_type": "execute_result"
    }
   ],
   "source": [
    "mcts_draws = list()\n",
    "az_draws = list()\n",
    "minimax = Minimax(game)\n",
    "iters = (2, 10, 50, 100, 200, 400)\n",
    "\n",
    "for m in iters:\n",
    "    mcts = MonteCarloTree(game, max_iter=m, reset_tree=False)\n",
    "    _, draws, _ = play(game, minimax, mcts, games=100, max_workers=10)\n",
    "    mcts_draws.append(draws)\n",
    "    \n",
    "    alphazero.set_max_iter(m)\n",
    "    _, draws, _ = play(game, minimax, alphazero, games=100)\n",
    "    az_draws.append(draws)\n",
    "\n",
    "mcts_draws, az_draws"
   ]
  },
  {
   "cell_type": "code",
   "execution_count": 25,
   "metadata": {},
   "outputs": [
    {
     "data": {
      "application/vnd.plotly.v1+json": {
       "config": {
        "plotlyServerURL": "https://plot.ly"
       },
       "data": [
        {
         "mode": "lines+markers",
         "name": "MCTS draws",
         "type": "scatter",
         "x": [
          2,
          10,
          50,
          100,
          200,
          400
         ],
         "y": [
          0,
          9,
          35,
          53,
          60,
          80
         ]
        },
        {
         "mode": "lines+markers",
         "name": "AZ draws",
         "type": "scatter",
         "x": [
          2,
          10,
          50,
          100,
          200,
          400
         ],
         "y": [
          79,
          90,
          86,
          87,
          85,
          92
         ]
        }
       ],
       "layout": {
        "template": {
         "data": {
          "bar": [
           {
            "error_x": {
             "color": "#2a3f5f"
            },
            "error_y": {
             "color": "#2a3f5f"
            },
            "marker": {
             "line": {
              "color": "#E5ECF6",
              "width": 0.5
             }
            },
            "type": "bar"
           }
          ],
          "barpolar": [
           {
            "marker": {
             "line": {
              "color": "#E5ECF6",
              "width": 0.5
             }
            },
            "type": "barpolar"
           }
          ],
          "carpet": [
           {
            "aaxis": {
             "endlinecolor": "#2a3f5f",
             "gridcolor": "white",
             "linecolor": "white",
             "minorgridcolor": "white",
             "startlinecolor": "#2a3f5f"
            },
            "baxis": {
             "endlinecolor": "#2a3f5f",
             "gridcolor": "white",
             "linecolor": "white",
             "minorgridcolor": "white",
             "startlinecolor": "#2a3f5f"
            },
            "type": "carpet"
           }
          ],
          "choropleth": [
           {
            "colorbar": {
             "outlinewidth": 0,
             "ticks": ""
            },
            "type": "choropleth"
           }
          ],
          "contour": [
           {
            "colorbar": {
             "outlinewidth": 0,
             "ticks": ""
            },
            "colorscale": [
             [
              0,
              "#0d0887"
             ],
             [
              0.1111111111111111,
              "#46039f"
             ],
             [
              0.2222222222222222,
              "#7201a8"
             ],
             [
              0.3333333333333333,
              "#9c179e"
             ],
             [
              0.4444444444444444,
              "#bd3786"
             ],
             [
              0.5555555555555556,
              "#d8576b"
             ],
             [
              0.6666666666666666,
              "#ed7953"
             ],
             [
              0.7777777777777778,
              "#fb9f3a"
             ],
             [
              0.8888888888888888,
              "#fdca26"
             ],
             [
              1,
              "#f0f921"
             ]
            ],
            "type": "contour"
           }
          ],
          "contourcarpet": [
           {
            "colorbar": {
             "outlinewidth": 0,
             "ticks": ""
            },
            "type": "contourcarpet"
           }
          ],
          "heatmap": [
           {
            "colorbar": {
             "outlinewidth": 0,
             "ticks": ""
            },
            "colorscale": [
             [
              0,
              "#0d0887"
             ],
             [
              0.1111111111111111,
              "#46039f"
             ],
             [
              0.2222222222222222,
              "#7201a8"
             ],
             [
              0.3333333333333333,
              "#9c179e"
             ],
             [
              0.4444444444444444,
              "#bd3786"
             ],
             [
              0.5555555555555556,
              "#d8576b"
             ],
             [
              0.6666666666666666,
              "#ed7953"
             ],
             [
              0.7777777777777778,
              "#fb9f3a"
             ],
             [
              0.8888888888888888,
              "#fdca26"
             ],
             [
              1,
              "#f0f921"
             ]
            ],
            "type": "heatmap"
           }
          ],
          "heatmapgl": [
           {
            "colorbar": {
             "outlinewidth": 0,
             "ticks": ""
            },
            "colorscale": [
             [
              0,
              "#0d0887"
             ],
             [
              0.1111111111111111,
              "#46039f"
             ],
             [
              0.2222222222222222,
              "#7201a8"
             ],
             [
              0.3333333333333333,
              "#9c179e"
             ],
             [
              0.4444444444444444,
              "#bd3786"
             ],
             [
              0.5555555555555556,
              "#d8576b"
             ],
             [
              0.6666666666666666,
              "#ed7953"
             ],
             [
              0.7777777777777778,
              "#fb9f3a"
             ],
             [
              0.8888888888888888,
              "#fdca26"
             ],
             [
              1,
              "#f0f921"
             ]
            ],
            "type": "heatmapgl"
           }
          ],
          "histogram": [
           {
            "marker": {
             "colorbar": {
              "outlinewidth": 0,
              "ticks": ""
             }
            },
            "type": "histogram"
           }
          ],
          "histogram2d": [
           {
            "colorbar": {
             "outlinewidth": 0,
             "ticks": ""
            },
            "colorscale": [
             [
              0,
              "#0d0887"
             ],
             [
              0.1111111111111111,
              "#46039f"
             ],
             [
              0.2222222222222222,
              "#7201a8"
             ],
             [
              0.3333333333333333,
              "#9c179e"
             ],
             [
              0.4444444444444444,
              "#bd3786"
             ],
             [
              0.5555555555555556,
              "#d8576b"
             ],
             [
              0.6666666666666666,
              "#ed7953"
             ],
             [
              0.7777777777777778,
              "#fb9f3a"
             ],
             [
              0.8888888888888888,
              "#fdca26"
             ],
             [
              1,
              "#f0f921"
             ]
            ],
            "type": "histogram2d"
           }
          ],
          "histogram2dcontour": [
           {
            "colorbar": {
             "outlinewidth": 0,
             "ticks": ""
            },
            "colorscale": [
             [
              0,
              "#0d0887"
             ],
             [
              0.1111111111111111,
              "#46039f"
             ],
             [
              0.2222222222222222,
              "#7201a8"
             ],
             [
              0.3333333333333333,
              "#9c179e"
             ],
             [
              0.4444444444444444,
              "#bd3786"
             ],
             [
              0.5555555555555556,
              "#d8576b"
             ],
             [
              0.6666666666666666,
              "#ed7953"
             ],
             [
              0.7777777777777778,
              "#fb9f3a"
             ],
             [
              0.8888888888888888,
              "#fdca26"
             ],
             [
              1,
              "#f0f921"
             ]
            ],
            "type": "histogram2dcontour"
           }
          ],
          "mesh3d": [
           {
            "colorbar": {
             "outlinewidth": 0,
             "ticks": ""
            },
            "type": "mesh3d"
           }
          ],
          "parcoords": [
           {
            "line": {
             "colorbar": {
              "outlinewidth": 0,
              "ticks": ""
             }
            },
            "type": "parcoords"
           }
          ],
          "pie": [
           {
            "automargin": true,
            "type": "pie"
           }
          ],
          "scatter": [
           {
            "marker": {
             "colorbar": {
              "outlinewidth": 0,
              "ticks": ""
             }
            },
            "type": "scatter"
           }
          ],
          "scatter3d": [
           {
            "line": {
             "colorbar": {
              "outlinewidth": 0,
              "ticks": ""
             }
            },
            "marker": {
             "colorbar": {
              "outlinewidth": 0,
              "ticks": ""
             }
            },
            "type": "scatter3d"
           }
          ],
          "scattercarpet": [
           {
            "marker": {
             "colorbar": {
              "outlinewidth": 0,
              "ticks": ""
             }
            },
            "type": "scattercarpet"
           }
          ],
          "scattergeo": [
           {
            "marker": {
             "colorbar": {
              "outlinewidth": 0,
              "ticks": ""
             }
            },
            "type": "scattergeo"
           }
          ],
          "scattergl": [
           {
            "marker": {
             "colorbar": {
              "outlinewidth": 0,
              "ticks": ""
             }
            },
            "type": "scattergl"
           }
          ],
          "scattermapbox": [
           {
            "marker": {
             "colorbar": {
              "outlinewidth": 0,
              "ticks": ""
             }
            },
            "type": "scattermapbox"
           }
          ],
          "scatterpolar": [
           {
            "marker": {
             "colorbar": {
              "outlinewidth": 0,
              "ticks": ""
             }
            },
            "type": "scatterpolar"
           }
          ],
          "scatterpolargl": [
           {
            "marker": {
             "colorbar": {
              "outlinewidth": 0,
              "ticks": ""
             }
            },
            "type": "scatterpolargl"
           }
          ],
          "scatterternary": [
           {
            "marker": {
             "colorbar": {
              "outlinewidth": 0,
              "ticks": ""
             }
            },
            "type": "scatterternary"
           }
          ],
          "surface": [
           {
            "colorbar": {
             "outlinewidth": 0,
             "ticks": ""
            },
            "colorscale": [
             [
              0,
              "#0d0887"
             ],
             [
              0.1111111111111111,
              "#46039f"
             ],
             [
              0.2222222222222222,
              "#7201a8"
             ],
             [
              0.3333333333333333,
              "#9c179e"
             ],
             [
              0.4444444444444444,
              "#bd3786"
             ],
             [
              0.5555555555555556,
              "#d8576b"
             ],
             [
              0.6666666666666666,
              "#ed7953"
             ],
             [
              0.7777777777777778,
              "#fb9f3a"
             ],
             [
              0.8888888888888888,
              "#fdca26"
             ],
             [
              1,
              "#f0f921"
             ]
            ],
            "type": "surface"
           }
          ],
          "table": [
           {
            "cells": {
             "fill": {
              "color": "#EBF0F8"
             },
             "line": {
              "color": "white"
             }
            },
            "header": {
             "fill": {
              "color": "#C8D4E3"
             },
             "line": {
              "color": "white"
             }
            },
            "type": "table"
           }
          ]
         },
         "layout": {
          "annotationdefaults": {
           "arrowcolor": "#2a3f5f",
           "arrowhead": 0,
           "arrowwidth": 1
          },
          "autotypenumbers": "strict",
          "coloraxis": {
           "colorbar": {
            "outlinewidth": 0,
            "ticks": ""
           }
          },
          "colorscale": {
           "diverging": [
            [
             0,
             "#8e0152"
            ],
            [
             0.1,
             "#c51b7d"
            ],
            [
             0.2,
             "#de77ae"
            ],
            [
             0.3,
             "#f1b6da"
            ],
            [
             0.4,
             "#fde0ef"
            ],
            [
             0.5,
             "#f7f7f7"
            ],
            [
             0.6,
             "#e6f5d0"
            ],
            [
             0.7,
             "#b8e186"
            ],
            [
             0.8,
             "#7fbc41"
            ],
            [
             0.9,
             "#4d9221"
            ],
            [
             1,
             "#276419"
            ]
           ],
           "sequential": [
            [
             0,
             "#0d0887"
            ],
            [
             0.1111111111111111,
             "#46039f"
            ],
            [
             0.2222222222222222,
             "#7201a8"
            ],
            [
             0.3333333333333333,
             "#9c179e"
            ],
            [
             0.4444444444444444,
             "#bd3786"
            ],
            [
             0.5555555555555556,
             "#d8576b"
            ],
            [
             0.6666666666666666,
             "#ed7953"
            ],
            [
             0.7777777777777778,
             "#fb9f3a"
            ],
            [
             0.8888888888888888,
             "#fdca26"
            ],
            [
             1,
             "#f0f921"
            ]
           ],
           "sequentialminus": [
            [
             0,
             "#0d0887"
            ],
            [
             0.1111111111111111,
             "#46039f"
            ],
            [
             0.2222222222222222,
             "#7201a8"
            ],
            [
             0.3333333333333333,
             "#9c179e"
            ],
            [
             0.4444444444444444,
             "#bd3786"
            ],
            [
             0.5555555555555556,
             "#d8576b"
            ],
            [
             0.6666666666666666,
             "#ed7953"
            ],
            [
             0.7777777777777778,
             "#fb9f3a"
            ],
            [
             0.8888888888888888,
             "#fdca26"
            ],
            [
             1,
             "#f0f921"
            ]
           ]
          },
          "colorway": [
           "#636efa",
           "#EF553B",
           "#00cc96",
           "#ab63fa",
           "#FFA15A",
           "#19d3f3",
           "#FF6692",
           "#B6E880",
           "#FF97FF",
           "#FECB52"
          ],
          "font": {
           "color": "#2a3f5f"
          },
          "geo": {
           "bgcolor": "white",
           "lakecolor": "white",
           "landcolor": "#E5ECF6",
           "showlakes": true,
           "showland": true,
           "subunitcolor": "white"
          },
          "hoverlabel": {
           "align": "left"
          },
          "hovermode": "closest",
          "mapbox": {
           "style": "light"
          },
          "paper_bgcolor": "white",
          "plot_bgcolor": "#E5ECF6",
          "polar": {
           "angularaxis": {
            "gridcolor": "white",
            "linecolor": "white",
            "ticks": ""
           },
           "bgcolor": "#E5ECF6",
           "radialaxis": {
            "gridcolor": "white",
            "linecolor": "white",
            "ticks": ""
           }
          },
          "scene": {
           "xaxis": {
            "backgroundcolor": "#E5ECF6",
            "gridcolor": "white",
            "gridwidth": 2,
            "linecolor": "white",
            "showbackground": true,
            "ticks": "",
            "zerolinecolor": "white"
           },
           "yaxis": {
            "backgroundcolor": "#E5ECF6",
            "gridcolor": "white",
            "gridwidth": 2,
            "linecolor": "white",
            "showbackground": true,
            "ticks": "",
            "zerolinecolor": "white"
           },
           "zaxis": {
            "backgroundcolor": "#E5ECF6",
            "gridcolor": "white",
            "gridwidth": 2,
            "linecolor": "white",
            "showbackground": true,
            "ticks": "",
            "zerolinecolor": "white"
           }
          },
          "shapedefaults": {
           "line": {
            "color": "#2a3f5f"
           }
          },
          "ternary": {
           "aaxis": {
            "gridcolor": "white",
            "linecolor": "white",
            "ticks": ""
           },
           "baxis": {
            "gridcolor": "white",
            "linecolor": "white",
            "ticks": ""
           },
           "bgcolor": "#E5ECF6",
           "caxis": {
            "gridcolor": "white",
            "linecolor": "white",
            "ticks": ""
           }
          },
          "title": {
           "x": 0.05
          },
          "xaxis": {
           "automargin": true,
           "gridcolor": "white",
           "linecolor": "white",
           "ticks": "",
           "title": {
            "standoff": 15
           },
           "zerolinecolor": "white",
           "zerolinewidth": 2
          },
          "yaxis": {
           "automargin": true,
           "gridcolor": "white",
           "linecolor": "white",
           "ticks": "",
           "title": {
            "standoff": 15
           },
           "zerolinecolor": "white",
           "zerolinewidth": 2
          }
         }
        },
        "xaxis": {
         "title": {
          "text": "Iterations"
         }
        },
        "yaxis": {
         "title": {
          "text": "Draws"
         }
        }
       }
      },
      "text/html": [
       "<div>                            <div id=\"9c6e2974-1dd9-4ce3-9942-2dbfdaf2e228\" class=\"plotly-graph-div\" style=\"height:525px; width:100%;\"></div>            <script type=\"text/javascript\">                require([\"plotly\"], function(Plotly) {                    window.PLOTLYENV=window.PLOTLYENV || {};                                    if (document.getElementById(\"9c6e2974-1dd9-4ce3-9942-2dbfdaf2e228\")) {                    Plotly.newPlot(                        \"9c6e2974-1dd9-4ce3-9942-2dbfdaf2e228\",                        [{\"mode\": \"lines+markers\", \"name\": \"MCTS draws\", \"type\": \"scatter\", \"x\": [2, 10, 50, 100, 200, 400], \"y\": [0, 9, 35, 53, 60, 80]}, {\"mode\": \"lines+markers\", \"name\": \"AZ draws\", \"type\": \"scatter\", \"x\": [2, 10, 50, 100, 200, 400], \"y\": [79, 90, 86, 87, 85, 92]}],                        {\"template\": {\"data\": {\"bar\": [{\"error_x\": {\"color\": \"#2a3f5f\"}, \"error_y\": {\"color\": \"#2a3f5f\"}, \"marker\": {\"line\": {\"color\": \"#E5ECF6\", \"width\": 0.5}}, \"type\": \"bar\"}], \"barpolar\": [{\"marker\": {\"line\": {\"color\": \"#E5ECF6\", \"width\": 0.5}}, \"type\": \"barpolar\"}], \"carpet\": [{\"aaxis\": {\"endlinecolor\": \"#2a3f5f\", \"gridcolor\": \"white\", \"linecolor\": \"white\", \"minorgridcolor\": \"white\", \"startlinecolor\": \"#2a3f5f\"}, \"baxis\": {\"endlinecolor\": \"#2a3f5f\", \"gridcolor\": \"white\", \"linecolor\": \"white\", \"minorgridcolor\": \"white\", \"startlinecolor\": \"#2a3f5f\"}, \"type\": \"carpet\"}], \"choropleth\": [{\"colorbar\": {\"outlinewidth\": 0, \"ticks\": \"\"}, \"type\": \"choropleth\"}], \"contour\": [{\"colorbar\": {\"outlinewidth\": 0, \"ticks\": \"\"}, \"colorscale\": [[0.0, \"#0d0887\"], [0.1111111111111111, \"#46039f\"], [0.2222222222222222, \"#7201a8\"], [0.3333333333333333, \"#9c179e\"], [0.4444444444444444, \"#bd3786\"], [0.5555555555555556, \"#d8576b\"], [0.6666666666666666, \"#ed7953\"], [0.7777777777777778, \"#fb9f3a\"], [0.8888888888888888, \"#fdca26\"], [1.0, \"#f0f921\"]], \"type\": \"contour\"}], \"contourcarpet\": [{\"colorbar\": {\"outlinewidth\": 0, \"ticks\": \"\"}, \"type\": \"contourcarpet\"}], \"heatmap\": [{\"colorbar\": {\"outlinewidth\": 0, \"ticks\": \"\"}, \"colorscale\": [[0.0, \"#0d0887\"], [0.1111111111111111, \"#46039f\"], [0.2222222222222222, \"#7201a8\"], [0.3333333333333333, \"#9c179e\"], [0.4444444444444444, \"#bd3786\"], [0.5555555555555556, \"#d8576b\"], [0.6666666666666666, \"#ed7953\"], [0.7777777777777778, \"#fb9f3a\"], [0.8888888888888888, \"#fdca26\"], [1.0, \"#f0f921\"]], \"type\": \"heatmap\"}], \"heatmapgl\": [{\"colorbar\": {\"outlinewidth\": 0, \"ticks\": \"\"}, \"colorscale\": [[0.0, \"#0d0887\"], [0.1111111111111111, \"#46039f\"], [0.2222222222222222, \"#7201a8\"], [0.3333333333333333, \"#9c179e\"], [0.4444444444444444, \"#bd3786\"], [0.5555555555555556, \"#d8576b\"], [0.6666666666666666, \"#ed7953\"], [0.7777777777777778, \"#fb9f3a\"], [0.8888888888888888, \"#fdca26\"], [1.0, \"#f0f921\"]], \"type\": \"heatmapgl\"}], \"histogram\": [{\"marker\": {\"colorbar\": {\"outlinewidth\": 0, \"ticks\": \"\"}}, \"type\": \"histogram\"}], \"histogram2d\": [{\"colorbar\": {\"outlinewidth\": 0, \"ticks\": \"\"}, \"colorscale\": [[0.0, \"#0d0887\"], [0.1111111111111111, \"#46039f\"], [0.2222222222222222, \"#7201a8\"], [0.3333333333333333, \"#9c179e\"], [0.4444444444444444, \"#bd3786\"], [0.5555555555555556, \"#d8576b\"], [0.6666666666666666, \"#ed7953\"], [0.7777777777777778, \"#fb9f3a\"], [0.8888888888888888, \"#fdca26\"], [1.0, \"#f0f921\"]], \"type\": \"histogram2d\"}], \"histogram2dcontour\": [{\"colorbar\": {\"outlinewidth\": 0, \"ticks\": \"\"}, \"colorscale\": [[0.0, \"#0d0887\"], [0.1111111111111111, \"#46039f\"], [0.2222222222222222, \"#7201a8\"], [0.3333333333333333, \"#9c179e\"], [0.4444444444444444, \"#bd3786\"], [0.5555555555555556, \"#d8576b\"], [0.6666666666666666, \"#ed7953\"], [0.7777777777777778, \"#fb9f3a\"], [0.8888888888888888, \"#fdca26\"], [1.0, \"#f0f921\"]], \"type\": \"histogram2dcontour\"}], \"mesh3d\": [{\"colorbar\": {\"outlinewidth\": 0, \"ticks\": \"\"}, \"type\": \"mesh3d\"}], \"parcoords\": [{\"line\": {\"colorbar\": {\"outlinewidth\": 0, \"ticks\": \"\"}}, \"type\": \"parcoords\"}], \"pie\": [{\"automargin\": true, \"type\": \"pie\"}], \"scatter\": [{\"marker\": {\"colorbar\": {\"outlinewidth\": 0, \"ticks\": \"\"}}, \"type\": \"scatter\"}], \"scatter3d\": [{\"line\": {\"colorbar\": {\"outlinewidth\": 0, \"ticks\": \"\"}}, \"marker\": {\"colorbar\": {\"outlinewidth\": 0, \"ticks\": \"\"}}, \"type\": \"scatter3d\"}], \"scattercarpet\": [{\"marker\": {\"colorbar\": {\"outlinewidth\": 0, \"ticks\": \"\"}}, \"type\": \"scattercarpet\"}], \"scattergeo\": [{\"marker\": {\"colorbar\": {\"outlinewidth\": 0, \"ticks\": \"\"}}, \"type\": \"scattergeo\"}], \"scattergl\": [{\"marker\": {\"colorbar\": {\"outlinewidth\": 0, \"ticks\": \"\"}}, \"type\": \"scattergl\"}], \"scattermapbox\": [{\"marker\": {\"colorbar\": {\"outlinewidth\": 0, \"ticks\": \"\"}}, \"type\": \"scattermapbox\"}], \"scatterpolar\": [{\"marker\": {\"colorbar\": {\"outlinewidth\": 0, \"ticks\": \"\"}}, \"type\": \"scatterpolar\"}], \"scatterpolargl\": [{\"marker\": {\"colorbar\": {\"outlinewidth\": 0, \"ticks\": \"\"}}, \"type\": \"scatterpolargl\"}], \"scatterternary\": [{\"marker\": {\"colorbar\": {\"outlinewidth\": 0, \"ticks\": \"\"}}, \"type\": \"scatterternary\"}], \"surface\": [{\"colorbar\": {\"outlinewidth\": 0, \"ticks\": \"\"}, \"colorscale\": [[0.0, \"#0d0887\"], [0.1111111111111111, \"#46039f\"], [0.2222222222222222, \"#7201a8\"], [0.3333333333333333, \"#9c179e\"], [0.4444444444444444, \"#bd3786\"], [0.5555555555555556, \"#d8576b\"], [0.6666666666666666, \"#ed7953\"], [0.7777777777777778, \"#fb9f3a\"], [0.8888888888888888, \"#fdca26\"], [1.0, \"#f0f921\"]], \"type\": \"surface\"}], \"table\": [{\"cells\": {\"fill\": {\"color\": \"#EBF0F8\"}, \"line\": {\"color\": \"white\"}}, \"header\": {\"fill\": {\"color\": \"#C8D4E3\"}, \"line\": {\"color\": \"white\"}}, \"type\": \"table\"}]}, \"layout\": {\"annotationdefaults\": {\"arrowcolor\": \"#2a3f5f\", \"arrowhead\": 0, \"arrowwidth\": 1}, \"autotypenumbers\": \"strict\", \"coloraxis\": {\"colorbar\": {\"outlinewidth\": 0, \"ticks\": \"\"}}, \"colorscale\": {\"diverging\": [[0, \"#8e0152\"], [0.1, \"#c51b7d\"], [0.2, \"#de77ae\"], [0.3, \"#f1b6da\"], [0.4, \"#fde0ef\"], [0.5, \"#f7f7f7\"], [0.6, \"#e6f5d0\"], [0.7, \"#b8e186\"], [0.8, \"#7fbc41\"], [0.9, \"#4d9221\"], [1, \"#276419\"]], \"sequential\": [[0.0, \"#0d0887\"], [0.1111111111111111, \"#46039f\"], [0.2222222222222222, \"#7201a8\"], [0.3333333333333333, \"#9c179e\"], [0.4444444444444444, \"#bd3786\"], [0.5555555555555556, \"#d8576b\"], [0.6666666666666666, \"#ed7953\"], [0.7777777777777778, \"#fb9f3a\"], [0.8888888888888888, \"#fdca26\"], [1.0, \"#f0f921\"]], \"sequentialminus\": [[0.0, \"#0d0887\"], [0.1111111111111111, \"#46039f\"], [0.2222222222222222, \"#7201a8\"], [0.3333333333333333, \"#9c179e\"], [0.4444444444444444, \"#bd3786\"], [0.5555555555555556, \"#d8576b\"], [0.6666666666666666, \"#ed7953\"], [0.7777777777777778, \"#fb9f3a\"], [0.8888888888888888, \"#fdca26\"], [1.0, \"#f0f921\"]]}, \"colorway\": [\"#636efa\", \"#EF553B\", \"#00cc96\", \"#ab63fa\", \"#FFA15A\", \"#19d3f3\", \"#FF6692\", \"#B6E880\", \"#FF97FF\", \"#FECB52\"], \"font\": {\"color\": \"#2a3f5f\"}, \"geo\": {\"bgcolor\": \"white\", \"lakecolor\": \"white\", \"landcolor\": \"#E5ECF6\", \"showlakes\": true, \"showland\": true, \"subunitcolor\": \"white\"}, \"hoverlabel\": {\"align\": \"left\"}, \"hovermode\": \"closest\", \"mapbox\": {\"style\": \"light\"}, \"paper_bgcolor\": \"white\", \"plot_bgcolor\": \"#E5ECF6\", \"polar\": {\"angularaxis\": {\"gridcolor\": \"white\", \"linecolor\": \"white\", \"ticks\": \"\"}, \"bgcolor\": \"#E5ECF6\", \"radialaxis\": {\"gridcolor\": \"white\", \"linecolor\": \"white\", \"ticks\": \"\"}}, \"scene\": {\"xaxis\": {\"backgroundcolor\": \"#E5ECF6\", \"gridcolor\": \"white\", \"gridwidth\": 2, \"linecolor\": \"white\", \"showbackground\": true, \"ticks\": \"\", \"zerolinecolor\": \"white\"}, \"yaxis\": {\"backgroundcolor\": \"#E5ECF6\", \"gridcolor\": \"white\", \"gridwidth\": 2, \"linecolor\": \"white\", \"showbackground\": true, \"ticks\": \"\", \"zerolinecolor\": \"white\"}, \"zaxis\": {\"backgroundcolor\": \"#E5ECF6\", \"gridcolor\": \"white\", \"gridwidth\": 2, \"linecolor\": \"white\", \"showbackground\": true, \"ticks\": \"\", \"zerolinecolor\": \"white\"}}, \"shapedefaults\": {\"line\": {\"color\": \"#2a3f5f\"}}, \"ternary\": {\"aaxis\": {\"gridcolor\": \"white\", \"linecolor\": \"white\", \"ticks\": \"\"}, \"baxis\": {\"gridcolor\": \"white\", \"linecolor\": \"white\", \"ticks\": \"\"}, \"bgcolor\": \"#E5ECF6\", \"caxis\": {\"gridcolor\": \"white\", \"linecolor\": \"white\", \"ticks\": \"\"}}, \"title\": {\"x\": 0.05}, \"xaxis\": {\"automargin\": true, \"gridcolor\": \"white\", \"linecolor\": \"white\", \"ticks\": \"\", \"title\": {\"standoff\": 15}, \"zerolinecolor\": \"white\", \"zerolinewidth\": 2}, \"yaxis\": {\"automargin\": true, \"gridcolor\": \"white\", \"linecolor\": \"white\", \"ticks\": \"\", \"title\": {\"standoff\": 15}, \"zerolinecolor\": \"white\", \"zerolinewidth\": 2}}}, \"xaxis\": {\"title\": {\"text\": \"Iterations\"}}, \"yaxis\": {\"title\": {\"text\": \"Draws\"}}},                        {\"responsive\": true}                    ).then(function(){\n",
       "                            \n",
       "var gd = document.getElementById('9c6e2974-1dd9-4ce3-9942-2dbfdaf2e228');\n",
       "var x = new MutationObserver(function (mutations, observer) {{\n",
       "        var display = window.getComputedStyle(gd).display;\n",
       "        if (!display || display === 'none') {{\n",
       "            console.log([gd, 'removed!']);\n",
       "            Plotly.purge(gd);\n",
       "            observer.disconnect();\n",
       "        }}\n",
       "}});\n",
       "\n",
       "// Listen for the removal of the full notebook cells\n",
       "var notebookContainer = gd.closest('#notebook-container');\n",
       "if (notebookContainer) {{\n",
       "    x.observe(notebookContainer, {childList: true});\n",
       "}}\n",
       "\n",
       "// Listen for the clearing of the current output cell\n",
       "var outputEl = gd.closest('.output');\n",
       "if (outputEl) {{\n",
       "    x.observe(outputEl, {childList: true});\n",
       "}}\n",
       "\n",
       "                        })                };                });            </script>        </div>"
      ]
     },
     "metadata": {},
     "output_type": "display_data"
    }
   ],
   "source": [
    "import plotly.graph_objects as go\n",
    "\n",
    "\n",
    "fig = go.Figure()\n",
    "fig.add_trace(go.Scatter(x=iters, y=mcts_draws, mode='lines+markers', name='MCTS draws'))\n",
    "fig.add_trace(go.Scatter(x=iters, y=az_draws, mode='lines+markers', name='AZ draws'))\n",
    "fig.update_xaxes(title_text='Iterations')\n",
    "fig.update_yaxes(title_text='Draws')\n",
    "fig.show()"
   ]
  },
  {
   "cell_type": "code",
   "execution_count": 13,
   "metadata": {},
   "outputs": [
    {
     "name": "stdout",
     "output_type": "stream",
     "text": [
      " | | \n",
      "-+-+-\n",
      " | | \n",
      "-+-+-\n",
      " | | \n",
      "\n",
      "\n",
      "[PLAYER] choose action: 0, 1, 2, 3, 4, 5, 6, 7, 8\n",
      "> 4\n",
      " | | \n",
      "-+-+-\n",
      " |X| \n",
      "-+-+-\n",
      " | | \n",
      "\n",
      " | | \n",
      "-+-+-\n",
      " |X|O\n",
      "-+-+-\n",
      " | | \n",
      "\n",
      "\n",
      "[PLAYER] choose action: 0, 1, 2, 3, 6, 7, 8\n",
      "> 0\n",
      "X| | \n",
      "-+-+-\n",
      " |X|O\n",
      "-+-+-\n",
      " | | \n",
      "\n",
      "X| | \n",
      "-+-+-\n",
      " |X|O\n",
      "-+-+-\n",
      " | |O\n",
      "\n",
      "\n",
      "[PLAYER] choose action: 1, 2, 3, 6, 7\n",
      "> 2\n",
      "X| |X\n",
      "-+-+-\n",
      " |X|O\n",
      "-+-+-\n",
      " | |O\n",
      "\n",
      "X| |X\n",
      "-+-+-\n",
      " |X|O\n",
      "-+-+-\n",
      "O| |O\n",
      "\n",
      "\n",
      "[PLAYER] choose action: 1, 3, 7\n",
      "> 1\n",
      "X|X|X\n",
      "-+-+-\n",
      " |X|O\n",
      "-+-+-\n",
      "O| |O\n",
      "\n",
      "PLAYER 1 WON\n"
     ]
    },
    {
     "data": {
      "text/plain": [
       "(1, 0, 0)"
      ]
     },
     "execution_count": 13,
     "metadata": {},
     "output_type": "execute_result"
    }
   ],
   "source": [
    "from tfg.strategies import HumanStrategy\n",
    "\n",
    "\n",
    "alphazero.set_max_iter(1000)\n",
    "\n",
    "play(game, HumanStrategy(game), alphazero, render=True, print_results=True)"
   ]
  },
  {
   "cell_type": "code",
   "execution_count": 6,
   "metadata": {},
   "outputs": [],
   "source": [
    "model = alphazero.neural_network.model"
   ]
  },
  {
   "cell_type": "code",
   "execution_count": 9,
   "metadata": {},
   "outputs": [
    {
     "data": {
      "text/plain": [
       "(-0.12563615,\n",
       " array([[0.11519483, 0.11831883, 0.09242978],\n",
       "        [0.12356576, 0.11612709, 0.10849004],\n",
       "        [0.10646517, 0.11223781, 0.10717058]], dtype=float32),\n",
       " 3)"
      ]
     },
     "execution_count": 9,
     "metadata": {},
     "output_type": "execute_result"
    }
   ],
   "source": [
    "import numpy as np\n",
    "board = np.array([[\n",
    "    [[1, 0, 0],\n",
    "     [0, 1, 1],\n",
    "     [0, 0, 0]],\n",
    "    [[0, 0, 0],\n",
    "     [1, 0, 0],\n",
    "     [1, 1, 0]],\n",
    "    [[0] * 3] * 3\n",
    "]])\n",
    "v, p = model(board)\n",
    "v = v.numpy()[0, 0]\n",
    "p = p.numpy()[0]\n",
    "v, p[..., 0], np.argmax(p)"
   ]
  },
  {
   "cell_type": "code",
   "execution_count": null,
   "metadata": {},
   "outputs": [],
   "source": []
  }
 ],
 "metadata": {
  "kernelspec": {
   "display_name": "AlphaZero",
   "language": "python",
   "name": "alphazero"
  },
  "language_info": {
   "codemirror_mode": {
    "name": "ipython",
    "version": 3
   },
   "file_extension": ".py",
   "mimetype": "text/x-python",
   "name": "python",
   "nbconvert_exporter": "python",
   "pygments_lexer": "ipython3",
   "version": "3.8.8"
  }
 },
 "nbformat": 4,
 "nbformat_minor": 1
}