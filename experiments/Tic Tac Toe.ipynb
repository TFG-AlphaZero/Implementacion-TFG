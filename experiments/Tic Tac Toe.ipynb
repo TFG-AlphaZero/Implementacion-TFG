{
 "cells": [
  {
   "cell_type": "code",
   "execution_count": 7,
   "metadata": {},
   "outputs": [],
   "source": [
    "from tfg.alphaZero import create_alphazero, AlphaZero\n",
    "from tfg.alphaZeroCallbacks import Checkpoint\n",
    "from tfg.util import enable_gpu, play\n",
    "from tfg.strategies import Minimax, MonteCarloTree\n",
    "from game.tictactoe import TicTacToe"
   ]
  },
  {
   "cell_type": "code",
   "execution_count": 2,
   "metadata": {},
   "outputs": [],
   "source": [
    "enable_gpu()\n",
    "\n",
    "game = TicTacToe()"
   ]
  },
  {
   "cell_type": "code",
   "execution_count": 5,
   "metadata": {
    "scrolled": true
   },
   "outputs": [
    {
     "name": "stdout",
     "output_type": "stream",
     "text": [
      "Epoch 1/10\n",
      "4/4 - 2s - loss: 1.5525 - value_head_loss: 0.5437 - policy_head_loss: 2.4106\n",
      "Epoch 2/10\n",
      "4/4 - 0s - loss: 1.3929 - value_head_loss: 0.4252 - policy_head_loss: 2.1584\n",
      "Epoch 3/10\n",
      "4/4 - 0s - loss: 1.3886 - value_head_loss: 0.4113 - policy_head_loss: 2.1158\n",
      "Epoch 4/10\n",
      "4/4 - 0s - loss: 1.3449 - value_head_loss: 0.3540 - policy_head_loss: 2.0492\n",
      "Epoch 5/10\n",
      "4/4 - 0s - loss: 1.3295 - value_head_loss: 0.3464 - policy_head_loss: 1.9999\n",
      "Epoch 6/10\n",
      "4/4 - 0s - loss: 1.2781 - value_head_loss: 0.3017 - policy_head_loss: 1.9240\n",
      "Epoch 7/10\n",
      "4/4 - 0s - loss: 1.2281 - value_head_loss: 0.2798 - policy_head_loss: 1.8343\n",
      "Epoch 8/10\n",
      "4/4 - 0s - loss: 1.1916 - value_head_loss: 0.2851 - policy_head_loss: 1.7490\n",
      "Epoch 9/10\n",
      "4/4 - 0s - loss: 1.1448 - value_head_loss: 0.2577 - policy_head_loss: 1.6789\n",
      "Epoch 10/10\n",
      "4/4 - 0s - loss: 1.1034 - value_head_loss: 0.2419 - policy_head_loss: 1.6098\n",
      "Games played: 64\n",
      "Epoch 1/10\n",
      "4/4 - 0s - loss: 1.2599 - value_head_loss: 0.3167 - policy_head_loss: 1.8475\n",
      "Epoch 2/10\n",
      "4/4 - 0s - loss: 1.0892 - value_head_loss: 0.3028 - policy_head_loss: 1.5187\n",
      "Epoch 3/10\n",
      "4/4 - 0s - loss: 1.0644 - value_head_loss: 0.2654 - policy_head_loss: 1.5038\n",
      "Epoch 4/10\n",
      "4/4 - 0s - loss: 0.9518 - value_head_loss: 0.2237 - policy_head_loss: 1.3177\n",
      "Epoch 5/10\n",
      "4/4 - 0s - loss: 0.9315 - value_head_loss: 0.2146 - policy_head_loss: 1.2843\n",
      "Epoch 6/10\n",
      "4/4 - 0s - loss: 0.8612 - value_head_loss: 0.2087 - policy_head_loss: 1.1490\n",
      "Epoch 7/10\n",
      "4/4 - 0s - loss: 0.8193 - value_head_loss: 0.1701 - policy_head_loss: 1.1048\n",
      "Epoch 8/10\n",
      "4/4 - 0s - loss: 0.7971 - value_head_loss: 0.1714 - policy_head_loss: 1.0614\n",
      "Epoch 9/10\n",
      "4/4 - 0s - loss: 0.7746 - value_head_loss: 0.1577 - policy_head_loss: 1.0333\n",
      "Epoch 10/10\n",
      "4/4 - 0s - loss: 0.7651 - value_head_loss: 0.1581 - policy_head_loss: 1.0184\n",
      "Games played: 128\n",
      "Epoch 1/10\n",
      "4/4 - 0s - loss: 1.1255 - value_head_loss: 0.4432 - policy_head_loss: 1.4592\n",
      "Epoch 2/10\n",
      "4/4 - 0s - loss: 0.9995 - value_head_loss: 0.3579 - policy_head_loss: 1.2963\n",
      "Epoch 3/10\n",
      "4/4 - 0s - loss: 0.8953 - value_head_loss: 0.3333 - policy_head_loss: 1.1146\n",
      "Epoch 4/10\n",
      "4/4 - 0s - loss: 0.8707 - value_head_loss: 0.3143 - policy_head_loss: 1.0856\n",
      "Epoch 5/10\n",
      "4/4 - 0s - loss: 0.8140 - value_head_loss: 0.2953 - policy_head_loss: 0.9930\n",
      "Epoch 6/10\n",
      "4/4 - 0s - loss: 0.7853 - value_head_loss: 0.2726 - policy_head_loss: 0.9609\n",
      "Epoch 7/10\n",
      "4/4 - 0s - loss: 0.7481 - value_head_loss: 0.2593 - policy_head_loss: 0.9031\n",
      "Epoch 8/10\n",
      "4/4 - 0s - loss: 0.7292 - value_head_loss: 0.2372 - policy_head_loss: 0.8918\n",
      "Epoch 9/10\n",
      "4/4 - 0s - loss: 0.7187 - value_head_loss: 0.2258 - policy_head_loss: 0.8873\n",
      "Epoch 10/10\n",
      "4/4 - 0s - loss: 0.6958 - value_head_loss: 0.1987 - policy_head_loss: 0.8742\n",
      "Games played: 192\n",
      "Epoch 1/10\n",
      "4/4 - 0s - loss: 1.1527 - value_head_loss: 0.3733 - policy_head_loss: 1.6191\n",
      "Epoch 2/10\n",
      "4/4 - 0s - loss: 0.9693 - value_head_loss: 0.2881 - policy_head_loss: 1.3411\n",
      "Epoch 3/10\n",
      "4/4 - 0s - loss: 0.8812 - value_head_loss: 0.2502 - policy_head_loss: 1.2040\n",
      "Epoch 4/10\n",
      "4/4 - 0s - loss: 0.8397 - value_head_loss: 0.2177 - policy_head_loss: 1.1540\n",
      "Epoch 5/10\n",
      "4/4 - 0s - loss: 0.7966 - value_head_loss: 0.1928 - policy_head_loss: 1.0936\n",
      "Epoch 6/10\n",
      "4/4 - 0s - loss: 0.7757 - value_head_loss: 0.1733 - policy_head_loss: 1.0733\n",
      "Epoch 7/10\n",
      "4/4 - 0s - loss: 0.7623 - value_head_loss: 0.1608 - policy_head_loss: 1.0622\n",
      "Epoch 8/10\n",
      "4/4 - 0s - loss: 0.7480 - value_head_loss: 0.1587 - policy_head_loss: 1.0399\n",
      "Epoch 9/10\n",
      "4/4 - 0s - loss: 0.7404 - value_head_loss: 0.1561 - policy_head_loss: 1.0320\n",
      "Epoch 10/10\n",
      "4/4 - 0s - loss: 0.7305 - value_head_loss: 0.1478 - policy_head_loss: 1.0256\n",
      "Games played: 256\n",
      "Epoch 1/10\n",
      "4/4 - 0s - loss: 1.0622 - value_head_loss: 0.3152 - policy_head_loss: 1.5269\n",
      "Epoch 2/10\n",
      "4/4 - 0s - loss: 0.8984 - value_head_loss: 0.2444 - policy_head_loss: 1.2729\n",
      "Epoch 3/10\n",
      "4/4 - 0s - loss: 0.8711 - value_head_loss: 0.2151 - policy_head_loss: 1.2480\n",
      "Epoch 4/10\n",
      "4/4 - 0s - loss: 0.8550 - value_head_loss: 0.2349 - policy_head_loss: 1.1954\n",
      "Epoch 5/10\n",
      "4/4 - 0s - loss: 0.7792 - value_head_loss: 0.1851 - policy_head_loss: 1.0932\n",
      "Epoch 6/10\n",
      "4/4 - 0s - loss: 0.7758 - value_head_loss: 0.1885 - policy_head_loss: 1.0834\n",
      "Epoch 7/10\n",
      "4/4 - 0s - loss: 0.7543 - value_head_loss: 0.1691 - policy_head_loss: 1.0610\n",
      "Epoch 8/10\n",
      "4/4 - 0s - loss: 0.7276 - value_head_loss: 0.1411 - policy_head_loss: 1.0380\n",
      "Epoch 9/10\n",
      "4/4 - 0s - loss: 0.7197 - value_head_loss: 0.1413 - policy_head_loss: 1.0249\n",
      "Epoch 10/10\n",
      "4/4 - 0s - loss: 0.6928 - value_head_loss: 0.1157 - policy_head_loss: 1.0008\n",
      "Games played: 320\n",
      "Epoch 1/10\n",
      "4/4 - 0s - loss: 1.0650 - value_head_loss: 0.2912 - policy_head_loss: 1.5740\n",
      "Epoch 2/10\n",
      "4/4 - 0s - loss: 0.9529 - value_head_loss: 0.2204 - policy_head_loss: 1.4228\n",
      "Epoch 3/10\n",
      "4/4 - 0s - loss: 0.9019 - value_head_loss: 0.1763 - policy_head_loss: 1.3650\n",
      "Epoch 4/10\n",
      "4/4 - 0s - loss: 0.8810 - value_head_loss: 0.1636 - policy_head_loss: 1.3355\n",
      "Epoch 5/10\n",
      "4/4 - 0s - loss: 0.8415 - value_head_loss: 0.1566 - policy_head_loss: 1.2631\n",
      "Epoch 6/10\n",
      "4/4 - 0s - loss: 0.8238 - value_head_loss: 0.1410 - policy_head_loss: 1.2444\n",
      "Epoch 7/10\n",
      "4/4 - 0s - loss: 0.8030 - value_head_loss: 0.1299 - policy_head_loss: 1.2158\n",
      "Epoch 8/10\n",
      "4/4 - 0s - loss: 0.7868 - value_head_loss: 0.1253 - policy_head_loss: 1.1911\n",
      "Epoch 9/10\n",
      "4/4 - 0s - loss: 0.7666 - value_head_loss: 0.1148 - policy_head_loss: 1.1654\n",
      "Epoch 10/10\n",
      "4/4 - 0s - loss: 0.7611 - value_head_loss: 0.1234 - policy_head_loss: 1.1505\n",
      "Games played: 384\n",
      "Epoch 1/10\n",
      "4/4 - 0s - loss: 1.0729 - value_head_loss: 0.3520 - policy_head_loss: 1.5505\n",
      "Epoch 2/10\n",
      "4/4 - 0s - loss: 0.9266 - value_head_loss: 0.2810 - policy_head_loss: 1.3322\n",
      "Epoch 3/10\n",
      "4/4 - 0s - loss: 0.8962 - value_head_loss: 0.2638 - policy_head_loss: 1.2893\n",
      "Epoch 4/10\n",
      "4/4 - 0s - loss: 0.8164 - value_head_loss: 0.2475 - policy_head_loss: 1.1458\n",
      "Epoch 5/10\n",
      "4/4 - 0s - loss: 0.7904 - value_head_loss: 0.2225 - policy_head_loss: 1.1186\n",
      "Epoch 6/10\n",
      "4/4 - 0s - loss: 0.7721 - value_head_loss: 0.2132 - policy_head_loss: 1.0918\n",
      "Epoch 7/10\n",
      "4/4 - 0s - loss: 0.7456 - value_head_loss: 0.1945 - policy_head_loss: 1.0592\n",
      "Epoch 8/10\n",
      "4/4 - 0s - loss: 0.7211 - value_head_loss: 0.1697 - policy_head_loss: 1.0376\n",
      "Epoch 9/10\n",
      "4/4 - 0s - loss: 0.7107 - value_head_loss: 0.1617 - policy_head_loss: 1.0284\n",
      "Epoch 10/10\n",
      "4/4 - 0s - loss: 0.6946 - value_head_loss: 0.1487 - policy_head_loss: 1.0131\n",
      "Games played: 448\n",
      "Epoch 1/10\n",
      "4/4 - 0s - loss: 1.0103 - value_head_loss: 0.4169 - policy_head_loss: 1.3808\n",
      "Epoch 2/10\n",
      "4/4 - 0s - loss: 0.8615 - value_head_loss: 0.3207 - policy_head_loss: 1.1813\n",
      "Epoch 3/10\n",
      "4/4 - 0s - loss: 0.7960 - value_head_loss: 0.2805 - policy_head_loss: 1.0892\n",
      "Epoch 4/10\n",
      "4/4 - 0s - loss: 0.7511 - value_head_loss: 0.2185 - policy_head_loss: 1.0590\n",
      "Epoch 5/10\n",
      "4/4 - 0s - loss: 0.7330 - value_head_loss: 0.2064 - policy_head_loss: 1.0330\n",
      "Epoch 6/10\n",
      "4/4 - 0s - loss: 0.6937 - value_head_loss: 0.1745 - policy_head_loss: 0.9854\n",
      "Epoch 7/10\n",
      "4/4 - 0s - loss: 0.6715 - value_head_loss: 0.1547 - policy_head_loss: 0.9608\n",
      "Epoch 8/10\n",
      "4/4 - 0s - loss: 0.6573 - value_head_loss: 0.1381 - policy_head_loss: 0.9503\n",
      "Epoch 9/10\n",
      "4/4 - 0s - loss: 0.6413 - value_head_loss: 0.1215 - policy_head_loss: 0.9374\n",
      "Epoch 10/10\n",
      "4/4 - 0s - loss: 0.6271 - value_head_loss: 0.1150 - policy_head_loss: 0.9192\n",
      "Games played: 512\n",
      "Epoch 1/10\n",
      "4/4 - 0s - loss: 0.8630 - value_head_loss: 0.2840 - policy_head_loss: 1.2260\n",
      "Epoch 2/10\n",
      "4/4 - 0s - loss: 0.7618 - value_head_loss: 0.1992 - policy_head_loss: 1.1105\n",
      "Epoch 3/10\n",
      "4/4 - 0s - loss: 0.7127 - value_head_loss: 0.1563 - policy_head_loss: 1.0538\n",
      "Epoch 4/10\n",
      "4/4 - 0s - loss: 0.6862 - value_head_loss: 0.1595 - policy_head_loss: 0.9957\n",
      "Epoch 5/10\n",
      "4/4 - 0s - loss: 0.6602 - value_head_loss: 0.1440 - policy_head_loss: 0.9578\n",
      "Epoch 6/10\n",
      "4/4 - 0s - loss: 0.6412 - value_head_loss: 0.1277 - policy_head_loss: 0.9360\n",
      "Epoch 7/10\n",
      "4/4 - 0s - loss: 0.6357 - value_head_loss: 0.1281 - policy_head_loss: 0.9260\n",
      "Epoch 8/10\n",
      "4/4 - 0s - loss: 0.6150 - value_head_loss: 0.1144 - policy_head_loss: 0.9010\n",
      "Epoch 9/10\n",
      "4/4 - 0s - loss: 0.6058 - value_head_loss: 0.1066 - policy_head_loss: 0.8938\n",
      "Epoch 10/10\n",
      "4/4 - 0s - loss: 0.5937 - value_head_loss: 0.0989 - policy_head_loss: 0.8817\n",
      "Games played: 576\n",
      "Epoch 1/10\n",
      "4/4 - 0s - loss: 0.8177 - value_head_loss: 0.3033 - policy_head_loss: 1.1300\n",
      "Epoch 2/10\n",
      "4/4 - 0s - loss: 0.7314 - value_head_loss: 0.2481 - policy_head_loss: 1.0160\n"
     ]
    },
    {
     "name": "stdout",
     "output_type": "stream",
     "text": [
      "Epoch 3/10\n",
      "4/4 - 0s - loss: 0.6835 - value_head_loss: 0.2064 - policy_head_loss: 0.9623\n",
      "Epoch 4/10\n",
      "4/4 - 0s - loss: 0.6579 - value_head_loss: 0.1852 - policy_head_loss: 0.9318\n",
      "Epoch 5/10\n",
      "4/4 - 0s - loss: 0.6378 - value_head_loss: 0.1742 - policy_head_loss: 0.9022\n",
      "Epoch 6/10\n",
      "4/4 - 0s - loss: 0.6204 - value_head_loss: 0.1549 - policy_head_loss: 0.8872\n",
      "Epoch 7/10\n",
      "4/4 - 0s - loss: 0.6043 - value_head_loss: 0.1344 - policy_head_loss: 0.8767\n",
      "Epoch 8/10\n",
      "4/4 - 0s - loss: 0.5904 - value_head_loss: 0.1277 - policy_head_loss: 0.8576\n",
      "Epoch 9/10\n",
      "4/4 - 0s - loss: 0.5854 - value_head_loss: 0.1254 - policy_head_loss: 0.8528\n",
      "Epoch 10/10\n",
      "4/4 - 0s - loss: 0.5634 - value_head_loss: 0.1057 - policy_head_loss: 0.8318\n",
      "Games played: 640\n",
      "Epoch 1/10\n",
      "4/4 - 0s - loss: 0.8493 - value_head_loss: 0.3330 - policy_head_loss: 1.1800\n",
      "Epoch 2/10\n",
      "4/4 - 0s - loss: 0.7221 - value_head_loss: 0.2354 - policy_head_loss: 1.0249\n",
      "Epoch 3/10\n",
      "4/4 - 0s - loss: 0.6910 - value_head_loss: 0.1998 - policy_head_loss: 0.9982\n",
      "Epoch 4/10\n",
      "4/4 - 0s - loss: 0.6800 - value_head_loss: 0.1920 - policy_head_loss: 0.9832\n",
      "Epoch 5/10\n",
      "4/4 - 0s - loss: 0.6557 - value_head_loss: 0.1731 - policy_head_loss: 0.9527\n",
      "Epoch 6/10\n",
      "4/4 - 0s - loss: 0.6333 - value_head_loss: 0.1674 - policy_head_loss: 0.9137\n",
      "Epoch 7/10\n",
      "4/4 - 0s - loss: 0.6290 - value_head_loss: 0.1602 - policy_head_loss: 0.9131\n",
      "Epoch 8/10\n",
      "4/4 - 0s - loss: 0.6123 - value_head_loss: 0.1522 - policy_head_loss: 0.8896\n",
      "Epoch 9/10\n",
      "4/4 - 0s - loss: 0.5957 - value_head_loss: 0.1495 - policy_head_loss: 0.8617\n",
      "Epoch 10/10\n",
      "4/4 - 0s - loss: 0.5899 - value_head_loss: 0.1459 - policy_head_loss: 0.8571\n",
      "Games played: 704\n",
      "Epoch 1/10\n",
      "4/4 - 0s - loss: 0.7530 - value_head_loss: 0.2717 - policy_head_loss: 1.0611\n",
      "Epoch 2/10\n",
      "4/4 - 0s - loss: 0.6583 - value_head_loss: 0.2059 - policy_head_loss: 0.9393\n",
      "Epoch 3/10\n",
      "4/4 - 0s - loss: 0.6149 - value_head_loss: 0.1787 - policy_head_loss: 0.8794\n",
      "Epoch 4/10\n",
      "4/4 - 0s - loss: 0.5908 - value_head_loss: 0.1592 - policy_head_loss: 0.8501\n",
      "Epoch 5/10\n",
      "4/4 - 0s - loss: 0.5776 - value_head_loss: 0.1504 - policy_head_loss: 0.8325\n",
      "Epoch 6/10\n",
      "4/4 - 0s - loss: 0.5563 - value_head_loss: 0.1378 - policy_head_loss: 0.8034\n",
      "Epoch 7/10\n",
      "4/4 - 0s - loss: 0.5450 - value_head_loss: 0.1156 - policy_head_loss: 0.8047\n",
      "Epoch 8/10\n",
      "4/4 - 0s - loss: 0.5360 - value_head_loss: 0.1090 - policy_head_loss: 0.7958\n",
      "Epoch 9/10\n",
      "4/4 - 0s - loss: 0.5282 - value_head_loss: 0.1005 - policy_head_loss: 0.7914\n",
      "Epoch 10/10\n",
      "4/4 - 0s - loss: 0.5195 - value_head_loss: 0.0979 - policy_head_loss: 0.7801\n",
      "Games played: 768\n",
      "Epoch 1/10\n",
      "4/4 - 0s - loss: 0.7514 - value_head_loss: 0.3400 - policy_head_loss: 1.0052\n",
      "Epoch 2/10\n",
      "4/4 - 0s - loss: 0.6441 - value_head_loss: 0.1995 - policy_head_loss: 0.9325\n",
      "Epoch 3/10\n",
      "4/4 - 0s - loss: 0.6149 - value_head_loss: 0.1611 - policy_head_loss: 0.9116\n",
      "Epoch 4/10\n",
      "4/4 - 0s - loss: 0.5818 - value_head_loss: 0.1383 - policy_head_loss: 0.8668\n",
      "Epoch 5/10\n",
      "4/4 - 0s - loss: 0.5710 - value_head_loss: 0.1213 - policy_head_loss: 0.8616\n",
      "Epoch 6/10\n",
      "4/4 - 0s - loss: 0.5551 - value_head_loss: 0.1048 - policy_head_loss: 0.8464\n",
      "Epoch 7/10\n",
      "4/4 - 0s - loss: 0.5497 - value_head_loss: 0.0953 - policy_head_loss: 0.8466\n",
      "Epoch 8/10\n",
      "4/4 - 0s - loss: 0.5498 - value_head_loss: 0.0916 - policy_head_loss: 0.8526\n",
      "Epoch 9/10\n",
      "4/4 - 0s - loss: 0.5408 - value_head_loss: 0.0899 - policy_head_loss: 0.8389\n",
      "Epoch 10/10\n",
      "4/4 - 0s - loss: 0.5332 - value_head_loss: 0.0815 - policy_head_loss: 0.8354\n",
      "Games played: 832\n",
      "Epoch 1/10\n",
      "4/4 - 0s - loss: 0.6858 - value_head_loss: 0.2760 - policy_head_loss: 0.9493\n",
      "Epoch 2/10\n",
      "4/4 - 0s - loss: 0.5767 - value_head_loss: 0.1779 - policy_head_loss: 0.8302\n",
      "Epoch 3/10\n",
      "4/4 - 0s - loss: 0.5489 - value_head_loss: 0.1586 - policy_head_loss: 0.7923\n",
      "Epoch 4/10\n",
      "4/4 - 0s - loss: 0.5297 - value_head_loss: 0.1463 - policy_head_loss: 0.7640\n",
      "Epoch 5/10\n",
      "4/4 - 0s - loss: 0.5100 - value_head_loss: 0.1289 - policy_head_loss: 0.7405\n",
      "Epoch 6/10\n",
      "4/4 - 0s - loss: 0.4926 - value_head_loss: 0.1121 - policy_head_loss: 0.7220\n",
      "Epoch 7/10\n",
      "4/4 - 0s - loss: 0.4866 - value_head_loss: 0.1050 - policy_head_loss: 0.7177\n",
      "Epoch 8/10\n",
      "4/4 - 0s - loss: 0.4772 - value_head_loss: 0.0917 - policy_head_loss: 0.7142\n",
      "Epoch 9/10\n",
      "4/4 - 0s - loss: 0.4648 - value_head_loss: 0.0843 - policy_head_loss: 0.6991\n",
      "Epoch 10/10\n",
      "4/4 - 0s - loss: 0.4586 - value_head_loss: 0.0745 - policy_head_loss: 0.6995\n",
      "Games played: 896\n",
      "Epoch 1/10\n",
      "4/4 - 0s - loss: 0.8079 - value_head_loss: 0.3056 - policy_head_loss: 1.1705\n",
      "Epoch 2/10\n",
      "4/4 - 0s - loss: 0.7209 - value_head_loss: 0.2255 - policy_head_loss: 1.0782\n",
      "Epoch 3/10\n",
      "4/4 - 0s - loss: 0.6756 - value_head_loss: 0.1843 - policy_head_loss: 1.0268\n",
      "Epoch 4/10\n",
      "4/4 - 0s - loss: 0.6375 - value_head_loss: 0.1587 - policy_head_loss: 0.9726\n",
      "Epoch 5/10\n",
      "4/4 - 0s - loss: 0.6288 - value_head_loss: 0.1440 - policy_head_loss: 0.9670\n",
      "Epoch 6/10\n",
      "4/4 - 0s - loss: 0.6107 - value_head_loss: 0.1297 - policy_head_loss: 0.9432\n",
      "Epoch 7/10\n",
      "4/4 - 0s - loss: 0.5977 - value_head_loss: 0.1195 - policy_head_loss: 0.9272\n",
      "Epoch 8/10\n",
      "4/4 - 0s - loss: 0.5927 - value_head_loss: 0.1138 - policy_head_loss: 0.9240\n",
      "Epoch 9/10\n",
      "4/4 - 0s - loss: 0.5901 - value_head_loss: 0.1112 - policy_head_loss: 0.9237\n",
      "Epoch 10/10\n",
      "4/4 - 0s - loss: 0.5768 - value_head_loss: 0.1008 - policy_head_loss: 0.9104\n",
      "Games played: 960\n",
      "Epoch 1/10\n",
      "4/4 - 0s - loss: 0.6640 - value_head_loss: 0.2380 - policy_head_loss: 0.9508\n",
      "Epoch 2/10\n",
      "4/4 - 0s - loss: 0.5865 - value_head_loss: 0.1496 - policy_head_loss: 0.8860\n",
      "Epoch 3/10\n",
      "4/4 - 0s - loss: 0.5501 - value_head_loss: 0.1221 - policy_head_loss: 0.8401\n",
      "Epoch 4/10\n",
      "4/4 - 0s - loss: 0.5304 - value_head_loss: 0.1152 - policy_head_loss: 0.8066\n",
      "Epoch 5/10\n",
      "4/4 - 0s - loss: 0.5162 - value_head_loss: 0.1085 - policy_head_loss: 0.7844\n",
      "Epoch 6/10\n",
      "4/4 - 0s - loss: 0.4983 - value_head_loss: 0.0948 - policy_head_loss: 0.7629\n",
      "Epoch 7/10\n",
      "4/4 - 0s - loss: 0.4868 - value_head_loss: 0.0837 - policy_head_loss: 0.7523\n",
      "Epoch 8/10\n",
      "4/4 - 0s - loss: 0.4826 - value_head_loss: 0.0783 - policy_head_loss: 0.7514\n",
      "Epoch 9/10\n",
      "4/4 - 0s - loss: 0.4718 - value_head_loss: 0.0675 - policy_head_loss: 0.7430\n",
      "Epoch 10/10\n",
      "4/4 - 0s - loss: 0.4649 - value_head_loss: 0.0667 - policy_head_loss: 0.7331\n",
      "Games played: 1024\n",
      "Epoch 1/10\n",
      "4/4 - 0s - loss: 0.7478 - value_head_loss: 0.2870 - policy_head_loss: 1.0815\n",
      "Epoch 2/10\n",
      "4/4 - 0s - loss: 0.6735 - value_head_loss: 0.2038 - policy_head_loss: 1.0168\n",
      "Epoch 3/10\n",
      "4/4 - 0s - loss: 0.6434 - value_head_loss: 0.1797 - policy_head_loss: 0.9787\n",
      "Epoch 4/10\n",
      "4/4 - 0s - loss: 0.6252 - value_head_loss: 0.1729 - policy_head_loss: 0.9462\n",
      "Epoch 5/10\n",
      "4/4 - 0s - loss: 0.5958 - value_head_loss: 0.1500 - policy_head_loss: 0.9078\n",
      "Epoch 6/10\n",
      "4/4 - 0s - loss: 0.5917 - value_head_loss: 0.1497 - policy_head_loss: 0.8985\n",
      "Epoch 7/10\n",
      "4/4 - 0s - loss: 0.5754 - value_head_loss: 0.1401 - policy_head_loss: 0.8753\n",
      "Epoch 8/10\n",
      "4/4 - 0s - loss: 0.5597 - value_head_loss: 0.1179 - policy_head_loss: 0.8667\n",
      "Epoch 9/10\n",
      "4/4 - 0s - loss: 0.5542 - value_head_loss: 0.1114 - policy_head_loss: 0.8636\n",
      "Epoch 10/10\n",
      "4/4 - 0s - loss: 0.5496 - value_head_loss: 0.1046 - policy_head_loss: 0.8632\n",
      "Games played: 1088\n",
      "Epoch 1/10\n",
      "4/4 - 0s - loss: 0.6249 - value_head_loss: 0.1998 - policy_head_loss: 0.9208\n",
      "Epoch 2/10\n",
      "4/4 - 0s - loss: 0.5517 - value_head_loss: 0.1250 - policy_head_loss: 0.8504\n",
      "Epoch 3/10\n",
      "4/4 - 0s - loss: 0.5243 - value_head_loss: 0.1040 - policy_head_loss: 0.8164\n",
      "Epoch 4/10\n",
      "4/4 - 0s - loss: 0.5189 - value_head_loss: 0.1036 - policy_head_loss: 0.8055\n",
      "Epoch 5/10\n",
      "4/4 - 0s - loss: 0.5101 - value_head_loss: 0.0995 - policy_head_loss: 0.7923\n",
      "Epoch 6/10\n",
      "4/4 - 0s - loss: 0.4973 - value_head_loss: 0.0973 - policy_head_loss: 0.7698\n",
      "Epoch 7/10\n",
      "4/4 - 0s - loss: 0.4908 - value_head_loss: 0.0896 - policy_head_loss: 0.7661\n",
      "Epoch 8/10\n",
      "4/4 - 0s - loss: 0.4837 - value_head_loss: 0.0858 - policy_head_loss: 0.7582\n",
      "Epoch 9/10\n",
      "4/4 - 0s - loss: 0.4787 - value_head_loss: 0.0835 - policy_head_loss: 0.7533\n",
      "Epoch 10/10\n",
      "4/4 - 0s - loss: 0.4757 - value_head_loss: 0.0809 - policy_head_loss: 0.7529\n",
      "Games played: 1152\n",
      "Epoch 1/10\n",
      "4/4 - 0s - loss: 0.7123 - value_head_loss: 0.3491 - policy_head_loss: 0.9612\n",
      "Epoch 2/10\n",
      "4/4 - 0s - loss: 0.6325 - value_head_loss: 0.2738 - policy_head_loss: 0.8787\n",
      "Epoch 3/10\n",
      "4/4 - 0s - loss: 0.6093 - value_head_loss: 0.2572 - policy_head_loss: 0.8491\n",
      "Epoch 4/10\n",
      "4/4 - 0s - loss: 0.5933 - value_head_loss: 0.2395 - policy_head_loss: 0.8344\n"
     ]
    },
    {
     "name": "stdout",
     "output_type": "stream",
     "text": [
      "Epoch 5/10\n",
      "4/4 - 0s - loss: 0.5740 - value_head_loss: 0.2205 - policy_head_loss: 0.8143\n",
      "Epoch 6/10\n",
      "4/4 - 0s - loss: 0.5626 - value_head_loss: 0.1957 - policy_head_loss: 0.8162\n",
      "Epoch 7/10\n",
      "4/4 - 0s - loss: 0.5486 - value_head_loss: 0.1828 - policy_head_loss: 0.8013\n",
      "Epoch 8/10\n",
      "4/4 - 0s - loss: 0.5351 - value_head_loss: 0.1718 - policy_head_loss: 0.7855\n",
      "Epoch 9/10\n",
      "4/4 - 0s - loss: 0.5213 - value_head_loss: 0.1472 - policy_head_loss: 0.7829\n",
      "Epoch 10/10\n",
      "4/4 - 0s - loss: 0.5222 - value_head_loss: 0.1512 - policy_head_loss: 0.7815\n",
      "Games played: 1216\n",
      "Epoch 1/10\n",
      "4/4 - 0s - loss: 0.6785 - value_head_loss: 0.2718 - policy_head_loss: 0.9745\n",
      "Epoch 2/10\n",
      "4/4 - 0s - loss: 0.6097 - value_head_loss: 0.1960 - policy_head_loss: 0.9122\n",
      "Epoch 3/10\n",
      "4/4 - 0s - loss: 0.5741 - value_head_loss: 0.1757 - policy_head_loss: 0.8588\n",
      "Epoch 4/10\n",
      "4/4 - 0s - loss: 0.5445 - value_head_loss: 0.1588 - policy_head_loss: 0.8134\n",
      "Epoch 5/10\n",
      "4/4 - 0s - loss: 0.5331 - value_head_loss: 0.1467 - policy_head_loss: 0.8003\n",
      "Epoch 6/10\n",
      "4/4 - 0s - loss: 0.5309 - value_head_loss: 0.1351 - policy_head_loss: 0.8064\n",
      "Epoch 7/10\n",
      "4/4 - 0s - loss: 0.5183 - value_head_loss: 0.1306 - policy_head_loss: 0.7856\n",
      "Epoch 8/10\n",
      "4/4 - 0s - loss: 0.5160 - value_head_loss: 0.1218 - policy_head_loss: 0.7908\n",
      "Epoch 9/10\n",
      "4/4 - 0s - loss: 0.5080 - value_head_loss: 0.1170 - policy_head_loss: 0.7810\n",
      "Epoch 10/10\n",
      "4/4 - 0s - loss: 0.5008 - value_head_loss: 0.1168 - policy_head_loss: 0.7689\n",
      "Games played: 1280\n",
      "Epoch 1/10\n",
      "4/4 - 0s - loss: 0.7314 - value_head_loss: 0.3308 - policy_head_loss: 1.0180\n",
      "Epoch 2/10\n",
      "4/4 - 0s - loss: 0.6165 - value_head_loss: 0.2356 - policy_head_loss: 0.8834\n",
      "Epoch 3/10\n",
      "4/4 - 0s - loss: 0.5804 - value_head_loss: 0.1993 - policy_head_loss: 0.8447\n",
      "Epoch 4/10\n",
      "4/4 - 0s - loss: 0.5520 - value_head_loss: 0.1725 - policy_head_loss: 0.8108\n",
      "Epoch 5/10\n",
      "4/4 - 0s - loss: 0.5390 - value_head_loss: 0.1693 - policy_head_loss: 0.7852\n",
      "Epoch 6/10\n",
      "4/4 - 0s - loss: 0.5305 - value_head_loss: 0.1574 - policy_head_loss: 0.7784\n",
      "Epoch 7/10\n",
      "4/4 - 0s - loss: 0.5195 - value_head_loss: 0.1486 - policy_head_loss: 0.7645\n",
      "Epoch 8/10\n",
      "4/4 - 0s - loss: 0.5116 - value_head_loss: 0.1405 - policy_head_loss: 0.7573\n",
      "Epoch 9/10\n",
      "4/4 - 0s - loss: 0.5050 - value_head_loss: 0.1270 - policy_head_loss: 0.7588\n",
      "Epoch 10/10\n",
      "4/4 - 0s - loss: 0.4999 - value_head_loss: 0.1218 - policy_head_loss: 0.7557\n",
      "Games played: 1344\n",
      "Epoch 1/10\n",
      "4/4 - 0s - loss: 0.6121 - value_head_loss: 0.2184 - policy_head_loss: 0.8857\n",
      "Epoch 2/10\n",
      "4/4 - 0s - loss: 0.4858 - value_head_loss: 0.1287 - policy_head_loss: 0.7230\n",
      "Epoch 3/10\n",
      "4/4 - 0s - loss: 0.4630 - value_head_loss: 0.1127 - policy_head_loss: 0.6919\n",
      "Epoch 4/10\n",
      "4/4 - 0s - loss: 0.4463 - value_head_loss: 0.1026 - policy_head_loss: 0.6672\n",
      "Epoch 5/10\n",
      "4/4 - 0s - loss: 0.4462 - value_head_loss: 0.1013 - policy_head_loss: 0.6678\n",
      "Epoch 6/10\n",
      "4/4 - 0s - loss: 0.4350 - value_head_loss: 0.0954 - policy_head_loss: 0.6517\n",
      "Epoch 7/10\n",
      "4/4 - 0s - loss: 0.4217 - value_head_loss: 0.0796 - policy_head_loss: 0.6420\n",
      "Epoch 8/10\n",
      "4/4 - 0s - loss: 0.4130 - value_head_loss: 0.0729 - policy_head_loss: 0.6333\n",
      "Epoch 9/10\n",
      "4/4 - 0s - loss: 0.4096 - value_head_loss: 0.0673 - policy_head_loss: 0.6341\n",
      "Epoch 10/10\n",
      "4/4 - 0s - loss: 0.4076 - value_head_loss: 0.0650 - policy_head_loss: 0.6352\n",
      "Games played: 1408\n",
      "Epoch 1/10\n",
      "4/4 - 0s - loss: 0.5739 - value_head_loss: 0.1404 - policy_head_loss: 0.8950\n",
      "Epoch 2/10\n",
      "4/4 - 0s - loss: 0.4688 - value_head_loss: 0.0960 - policy_head_loss: 0.7302\n",
      "Epoch 3/10\n",
      "4/4 - 0s - loss: 0.4611 - value_head_loss: 0.0723 - policy_head_loss: 0.7378\n",
      "Epoch 4/10\n",
      "4/4 - 0s - loss: 0.4497 - value_head_loss: 0.0717 - policy_head_loss: 0.7147\n",
      "Epoch 5/10\n",
      "4/4 - 0s - loss: 0.4355 - value_head_loss: 0.0648 - policy_head_loss: 0.6927\n",
      "Epoch 6/10\n",
      "4/4 - 0s - loss: 0.4275 - value_head_loss: 0.0589 - policy_head_loss: 0.6827\n",
      "Epoch 7/10\n",
      "4/4 - 0s - loss: 0.4233 - value_head_loss: 0.0581 - policy_head_loss: 0.6758\n",
      "Epoch 8/10\n",
      "4/4 - 0s - loss: 0.4178 - value_head_loss: 0.0513 - policy_head_loss: 0.6732\n",
      "Epoch 9/10\n",
      "4/4 - 0s - loss: 0.4121 - value_head_loss: 0.0478 - policy_head_loss: 0.6674\n",
      "Epoch 10/10\n",
      "4/4 - 0s - loss: 0.4098 - value_head_loss: 0.0462 - policy_head_loss: 0.6667\n",
      "Games played: 1472\n",
      "Epoch 1/10\n",
      "4/4 - 0s - loss: 0.4958 - value_head_loss: 0.1295 - policy_head_loss: 0.7578\n",
      "Epoch 2/10\n",
      "4/4 - 0s - loss: 0.4689 - value_head_loss: 0.1129 - policy_head_loss: 0.7227\n",
      "Epoch 3/10\n",
      "4/4 - 0s - loss: 0.4623 - value_head_loss: 0.1040 - policy_head_loss: 0.7193\n",
      "Epoch 4/10\n",
      "4/4 - 0s - loss: 0.4389 - value_head_loss: 0.0927 - policy_head_loss: 0.6846\n",
      "Epoch 5/10\n",
      "4/4 - 0s - loss: 0.4382 - value_head_loss: 0.0868 - policy_head_loss: 0.6898\n",
      "Epoch 6/10\n",
      "4/4 - 0s - loss: 0.4319 - value_head_loss: 0.0748 - policy_head_loss: 0.6902\n",
      "Epoch 7/10\n",
      "4/4 - 0s - loss: 0.4284 - value_head_loss: 0.0655 - policy_head_loss: 0.6937\n",
      "Epoch 8/10\n",
      "4/4 - 0s - loss: 0.4201 - value_head_loss: 0.0601 - policy_head_loss: 0.6838\n",
      "Epoch 9/10\n",
      "4/4 - 0s - loss: 0.4137 - value_head_loss: 0.0547 - policy_head_loss: 0.6779\n",
      "Epoch 10/10\n",
      "4/4 - 0s - loss: 0.4074 - value_head_loss: 0.0505 - policy_head_loss: 0.6711\n",
      "Games played: 1536\n",
      "Epoch 1/10\n",
      "4/4 - 0s - loss: 0.5290 - value_head_loss: 0.2130 - policy_head_loss: 0.7532\n",
      "Epoch 2/10\n",
      "4/4 - 0s - loss: 0.4840 - value_head_loss: 0.1782 - policy_head_loss: 0.6985\n",
      "Epoch 3/10\n",
      "4/4 - 0s - loss: 0.4688 - value_head_loss: 0.1682 - policy_head_loss: 0.6778\n",
      "Epoch 4/10\n",
      "4/4 - 0s - loss: 0.4597 - value_head_loss: 0.1446 - policy_head_loss: 0.6827\n",
      "Epoch 5/10\n",
      "4/4 - 0s - loss: 0.4436 - value_head_loss: 0.1394 - policy_head_loss: 0.6554\n",
      "Epoch 6/10\n",
      "4/4 - 0s - loss: 0.4339 - value_head_loss: 0.1293 - policy_head_loss: 0.6462\n",
      "Epoch 7/10\n",
      "4/4 - 0s - loss: 0.4362 - value_head_loss: 0.1241 - policy_head_loss: 0.6566\n",
      "Epoch 8/10\n",
      "4/4 - 0s - loss: 0.4241 - value_head_loss: 0.1141 - policy_head_loss: 0.6433\n",
      "Epoch 9/10\n",
      "4/4 - 0s - loss: 0.4307 - value_head_loss: 0.1068 - policy_head_loss: 0.6650\n",
      "Epoch 10/10\n",
      "4/4 - 0s - loss: 0.4210 - value_head_loss: 0.1061 - policy_head_loss: 0.6477\n",
      "Games played: 1600\n",
      "Epoch 1/10\n",
      "4/4 - 0s - loss: 0.6061 - value_head_loss: 0.2265 - policy_head_loss: 0.8986\n",
      "Epoch 2/10\n",
      "4/4 - 0s - loss: 0.5486 - value_head_loss: 0.1587 - policy_head_loss: 0.8501\n",
      "Epoch 3/10\n",
      "4/4 - 0s - loss: 0.5131 - value_head_loss: 0.1402 - policy_head_loss: 0.7940\n",
      "Epoch 4/10\n",
      "4/4 - 0s - loss: 0.4753 - value_head_loss: 0.1177 - policy_head_loss: 0.7363\n",
      "Epoch 5/10\n",
      "4/4 - 0s - loss: 0.4626 - value_head_loss: 0.1079 - policy_head_loss: 0.7172\n",
      "Epoch 6/10\n",
      "4/4 - 0s - loss: 0.4525 - value_head_loss: 0.0925 - policy_head_loss: 0.7099\n",
      "Epoch 7/10\n",
      "4/4 - 0s - loss: 0.4476 - value_head_loss: 0.0875 - policy_head_loss: 0.7043\n",
      "Epoch 8/10\n",
      "4/4 - 0s - loss: 0.4418 - value_head_loss: 0.0830 - policy_head_loss: 0.6975\n",
      "Epoch 9/10\n",
      "4/4 - 0s - loss: 0.4382 - value_head_loss: 0.0795 - policy_head_loss: 0.6950\n",
      "Epoch 10/10\n",
      "4/4 - 0s - loss: 0.4312 - value_head_loss: 0.0753 - policy_head_loss: 0.6870\n",
      "Games played: 1664\n",
      "Epoch 1/10\n",
      "4/4 - 0s - loss: 0.5532 - value_head_loss: 0.2229 - policy_head_loss: 0.7852\n",
      "Epoch 2/10\n",
      "4/4 - 0s - loss: 0.4904 - value_head_loss: 0.1539 - policy_head_loss: 0.7284\n",
      "Epoch 3/10\n",
      "4/4 - 0s - loss: 0.4624 - value_head_loss: 0.1248 - policy_head_loss: 0.6989\n",
      "Epoch 4/10\n",
      "4/4 - 0s - loss: 0.4476 - value_head_loss: 0.1100 - policy_head_loss: 0.6808\n",
      "Epoch 5/10\n",
      "4/4 - 0s - loss: 0.4471 - value_head_loss: 0.0955 - policy_head_loss: 0.6922\n",
      "Epoch 6/10\n",
      "4/4 - 0s - loss: 0.4401 - value_head_loss: 0.0969 - policy_head_loss: 0.6758\n",
      "Epoch 7/10\n",
      "4/4 - 0s - loss: 0.4317 - value_head_loss: 0.0847 - policy_head_loss: 0.6712\n",
      "Epoch 8/10\n",
      "4/4 - 0s - loss: 0.4240 - value_head_loss: 0.0785 - policy_head_loss: 0.6627\n",
      "Epoch 9/10\n",
      "4/4 - 0s - loss: 0.4137 - value_head_loss: 0.0717 - policy_head_loss: 0.6504\n",
      "Epoch 10/10\n",
      "4/4 - 0s - loss: 0.4098 - value_head_loss: 0.0652 - policy_head_loss: 0.6513\n",
      "Games played: 1728\n",
      "Epoch 1/10\n",
      "4/4 - 0s - loss: 0.5897 - value_head_loss: 0.2677 - policy_head_loss: 0.8108\n",
      "Epoch 2/10\n",
      "4/4 - 0s - loss: 0.5074 - value_head_loss: 0.1734 - policy_head_loss: 0.7404\n",
      "Epoch 3/10\n",
      "4/4 - 0s - loss: 0.4918 - value_head_loss: 0.1490 - policy_head_loss: 0.7320\n",
      "Epoch 4/10\n",
      "4/4 - 0s - loss: 0.4746 - value_head_loss: 0.1400 - policy_head_loss: 0.7050\n",
      "Epoch 5/10\n",
      "4/4 - 0s - loss: 0.4575 - value_head_loss: 0.1234 - policy_head_loss: 0.6862\n",
      "Epoch 6/10\n",
      "4/4 - 0s - loss: 0.4491 - value_head_loss: 0.1136 - policy_head_loss: 0.6793\n"
     ]
    },
    {
     "name": "stdout",
     "output_type": "stream",
     "text": [
      "Epoch 7/10\n",
      "4/4 - 0s - loss: 0.4439 - value_head_loss: 0.1077 - policy_head_loss: 0.6755\n",
      "Epoch 8/10\n",
      "4/4 - 0s - loss: 0.4457 - value_head_loss: 0.1083 - policy_head_loss: 0.6802\n",
      "Epoch 9/10\n",
      "4/4 - 0s - loss: 0.4334 - value_head_loss: 0.0985 - policy_head_loss: 0.6674\n",
      "Epoch 10/10\n",
      "4/4 - 0s - loss: 0.4271 - value_head_loss: 0.0929 - policy_head_loss: 0.6625\n",
      "Games played: 1792\n",
      "Epoch 1/10\n",
      "4/4 - 0s - loss: 0.5613 - value_head_loss: 0.2223 - policy_head_loss: 0.8036\n",
      "Epoch 2/10\n",
      "4/4 - 0s - loss: 0.4822 - value_head_loss: 0.1486 - policy_head_loss: 0.7202\n",
      "Epoch 3/10\n",
      "4/4 - 0s - loss: 0.4570 - value_head_loss: 0.1246 - policy_head_loss: 0.6930\n",
      "Epoch 4/10\n",
      "4/4 - 0s - loss: 0.4457 - value_head_loss: 0.1172 - policy_head_loss: 0.6766\n",
      "Epoch 5/10\n",
      "4/4 - 0s - loss: 0.4342 - value_head_loss: 0.1069 - policy_head_loss: 0.6632\n",
      "Epoch 6/10\n",
      "4/4 - 0s - loss: 0.4215 - value_head_loss: 0.0962 - policy_head_loss: 0.6485\n",
      "Epoch 7/10\n",
      "4/4 - 0s - loss: 0.4156 - value_head_loss: 0.0898 - policy_head_loss: 0.6437\n",
      "Epoch 8/10\n",
      "4/4 - 0s - loss: 0.4101 - value_head_loss: 0.0844 - policy_head_loss: 0.6392\n",
      "Epoch 9/10\n",
      "4/4 - 0s - loss: 0.4082 - value_head_loss: 0.0791 - policy_head_loss: 0.6424\n",
      "Epoch 10/10\n",
      "4/4 - 0s - loss: 0.3996 - value_head_loss: 0.0761 - policy_head_loss: 0.6302\n",
      "Games played: 1856\n",
      "Epoch 1/10\n",
      "4/4 - 0s - loss: 0.4718 - value_head_loss: 0.1063 - policy_head_loss: 0.7465\n",
      "Epoch 2/10\n",
      "4/4 - 0s - loss: 0.4116 - value_head_loss: 0.0615 - policy_head_loss: 0.6722\n",
      "Epoch 3/10\n",
      "4/4 - 0s - loss: 0.4041 - value_head_loss: 0.0486 - policy_head_loss: 0.6699\n",
      "Epoch 4/10\n",
      "4/4 - 0s - loss: 0.3903 - value_head_loss: 0.0429 - policy_head_loss: 0.6480\n",
      "Epoch 5/10\n",
      "4/4 - 0s - loss: 0.3860 - value_head_loss: 0.0385 - policy_head_loss: 0.6439\n",
      "Epoch 6/10\n",
      "4/4 - 0s - loss: 0.3804 - value_head_loss: 0.0356 - policy_head_loss: 0.6366\n",
      "Epoch 7/10\n",
      "4/4 - 0s - loss: 0.3777 - value_head_loss: 0.0340 - policy_head_loss: 0.6341\n",
      "Epoch 8/10\n",
      "4/4 - 0s - loss: 0.3730 - value_head_loss: 0.0300 - policy_head_loss: 0.6304\n",
      "Epoch 9/10\n",
      "4/4 - 0s - loss: 0.3701 - value_head_loss: 0.0291 - policy_head_loss: 0.6275\n",
      "Epoch 10/10\n",
      "4/4 - 0s - loss: 0.3725 - value_head_loss: 0.0298 - policy_head_loss: 0.6340\n",
      "Games played: 1920\n",
      "Epoch 1/10\n",
      "4/4 - 0s - loss: 0.4409 - value_head_loss: 0.1461 - policy_head_loss: 0.6566\n",
      "Epoch 2/10\n",
      "4/4 - 0s - loss: 0.4026 - value_head_loss: 0.1073 - policy_head_loss: 0.6202\n",
      "Epoch 3/10\n",
      "4/4 - 0s - loss: 0.3912 - value_head_loss: 0.1028 - policy_head_loss: 0.6028\n",
      "Epoch 4/10\n",
      "4/4 - 0s - loss: 0.3863 - value_head_loss: 0.0946 - policy_head_loss: 0.6015\n",
      "Epoch 5/10\n",
      "4/4 - 0s - loss: 0.3799 - value_head_loss: 0.0923 - policy_head_loss: 0.5920\n",
      "Epoch 6/10\n",
      "4/4 - 0s - loss: 0.3759 - value_head_loss: 0.0864 - policy_head_loss: 0.5908\n",
      "Epoch 7/10\n",
      "4/4 - 0s - loss: 0.3804 - value_head_loss: 0.0816 - policy_head_loss: 0.6060\n",
      "Epoch 8/10\n",
      "4/4 - 0s - loss: 0.3764 - value_head_loss: 0.0825 - policy_head_loss: 0.5982\n",
      "Epoch 9/10\n",
      "4/4 - 0s - loss: 0.3690 - value_head_loss: 0.0770 - policy_head_loss: 0.5903\n",
      "Epoch 10/10\n",
      "4/4 - 0s - loss: 0.3696 - value_head_loss: 0.0804 - policy_head_loss: 0.5894\n",
      "Games played: 1984\n",
      "Epoch 1/10\n",
      "4/4 - 0s - loss: 0.4014 - value_head_loss: 0.0915 - policy_head_loss: 0.6433\n",
      "Epoch 2/10\n",
      "4/4 - 0s - loss: 0.3814 - value_head_loss: 0.0792 - policy_head_loss: 0.6160\n",
      "Epoch 3/10\n",
      "4/4 - 0s - loss: 0.3610 - value_head_loss: 0.0741 - policy_head_loss: 0.5799\n",
      "Epoch 4/10\n",
      "4/4 - 0s - loss: 0.3540 - value_head_loss: 0.0739 - policy_head_loss: 0.5657\n",
      "Epoch 5/10\n",
      "4/4 - 0s - loss: 0.3502 - value_head_loss: 0.0728 - policy_head_loss: 0.5592\n",
      "Epoch 6/10\n",
      "4/4 - 0s - loss: 0.3455 - value_head_loss: 0.0699 - policy_head_loss: 0.5532\n",
      "Epoch 7/10\n",
      "4/4 - 0s - loss: 0.3434 - value_head_loss: 0.0690 - policy_head_loss: 0.5506\n",
      "Epoch 8/10\n",
      "4/4 - 0s - loss: 0.3467 - value_head_loss: 0.0679 - policy_head_loss: 0.5594\n",
      "Epoch 9/10\n",
      "4/4 - 0s - loss: 0.3410 - value_head_loss: 0.0665 - policy_head_loss: 0.5506\n",
      "Epoch 10/10\n",
      "4/4 - 0s - loss: 0.3379 - value_head_loss: 0.0645 - policy_head_loss: 0.5479\n",
      "Games played: 2048\n"
     ]
    }
   ],
   "source": [
    "callback = Checkpoint('exp_chk', 'models/checkpoints', delay=4)\n",
    "\n",
    "alphazero = create_alphazero(game, max_workers=8, self_play_times=64,\n",
    "                             max_games_counter=2048, buffer_size=1024,\n",
    "                             callbacks=[callback], mcts_iter=100)"
   ]
  },
  {
   "cell_type": "code",
   "execution_count": 5,
   "metadata": {},
   "outputs": [],
   "source": [
    "alphazero = AlphaZero(game, buffer_size=1024, mcts_iter=100)"
   ]
  },
  {
   "cell_type": "code",
   "execution_count": 6,
   "metadata": {},
   "outputs": [],
   "source": [
    "alphazero.load('models/experiment_tictactoe.h5')"
   ]
  },
  {
   "cell_type": "code",
   "execution_count": 8,
   "metadata": {},
   "outputs": [
    {
     "data": {
      "text/plain": [
       "([0, 9, 35, 53, 60, 80], [79, 90, 86, 87, 85, 92])"
      ]
     },
     "execution_count": 8,
     "metadata": {},
     "output_type": "execute_result"
    }
   ],
   "source": [
    "mcts_draws = list()\n",
    "az_draws = list()\n",
    "minimax = Minimax(game)\n",
    "iters = (2, 10, 50, 100, 200, 400)\n",
    "\n",
    "for m in iters:\n",
    "    mcts = MonteCarloTree(game, max_iter=m, reset_tree=False)\n",
    "    _, draws, _ = play(game, minimax, mcts, games=100, max_workers=10)\n",
    "    mcts_draws.append(draws)\n",
    "    \n",
    "    alphazero.set_max_iter(m)\n",
    "    _, draws, _ = play(game, minimax, alphazero, games=100)\n",
    "    az_draws.append(draws)\n",
    "\n",
    "mcts_draws, az_draws"
   ]
  },
  {
   "cell_type": "code",
   "execution_count": 25,
   "metadata": {},
   "outputs": [
    {
     "data": {
      "application/vnd.plotly.v1+json": {
       "config": {
        "plotlyServerURL": "https://plot.ly"
       },
       "data": [
        {
         "mode": "lines+markers",
         "name": "MCTS draws",
         "type": "scatter",
         "x": [
          2,
          10,
          50,
          100,
          200,
          400
         ],
         "y": [
          0,
          9,
          35,
          53,
          60,
          80
         ]
        },
        {
         "mode": "lines+markers",
         "name": "AZ draws",
         "type": "scatter",
         "x": [
          2,
          10,
          50,
          100,
          200,
          400
         ],
         "y": [
          79,
          90,
          86,
          87,
          85,
          92
         ]
        }
       ],
       "layout": {
        "template": {
         "data": {
          "bar": [
           {
            "error_x": {
             "color": "#2a3f5f"
            },
            "error_y": {
             "color": "#2a3f5f"
            },
            "marker": {
             "line": {
              "color": "#E5ECF6",
              "width": 0.5
             }
            },
            "type": "bar"
           }
          ],
          "barpolar": [
           {
            "marker": {
             "line": {
              "color": "#E5ECF6",
              "width": 0.5
             }
            },
            "type": "barpolar"
           }
          ],
          "carpet": [
           {
            "aaxis": {
             "endlinecolor": "#2a3f5f",
             "gridcolor": "white",
             "linecolor": "white",
             "minorgridcolor": "white",
             "startlinecolor": "#2a3f5f"
            },
            "baxis": {
             "endlinecolor": "#2a3f5f",
             "gridcolor": "white",
             "linecolor": "white",
             "minorgridcolor": "white",
             "startlinecolor": "#2a3f5f"
            },
            "type": "carpet"
           }
          ],
          "choropleth": [
           {
            "colorbar": {
             "outlinewidth": 0,
             "ticks": ""
            },
            "type": "choropleth"
           }
          ],
          "contour": [
           {
            "colorbar": {
             "outlinewidth": 0,
             "ticks": ""
            },
            "colorscale": [
             [
              0,
              "#0d0887"
             ],
             [
              0.1111111111111111,
              "#46039f"
             ],
             [
              0.2222222222222222,
              "#7201a8"
             ],
             [
              0.3333333333333333,
              "#9c179e"
             ],
             [
              0.4444444444444444,
              "#bd3786"
             ],
             [
              0.5555555555555556,
              "#d8576b"
             ],
             [
              0.6666666666666666,
              "#ed7953"
             ],
             [
              0.7777777777777778,
              "#fb9f3a"
             ],
             [
              0.8888888888888888,
              "#fdca26"
             ],
             [
              1,
              "#f0f921"
             ]
            ],
            "type": "contour"
           }
          ],
          "contourcarpet": [
           {
            "colorbar": {
             "outlinewidth": 0,
             "ticks": ""
            },
            "type": "contourcarpet"
           }
          ],
          "heatmap": [
           {
            "colorbar": {
             "outlinewidth": 0,
             "ticks": ""
            },
            "colorscale": [
             [
              0,
              "#0d0887"
             ],
             [
              0.1111111111111111,
              "#46039f"
             ],
             [
              0.2222222222222222,
              "#7201a8"
             ],
             [
              0.3333333333333333,
              "#9c179e"
             ],
             [
              0.4444444444444444,
              "#bd3786"
             ],
             [
              0.5555555555555556,
              "#d8576b"
             ],
             [
              0.6666666666666666,
              "#ed7953"
             ],
             [
              0.7777777777777778,
              "#fb9f3a"
             ],
             [
              0.8888888888888888,
              "#fdca26"
             ],
             [
              1,
              "#f0f921"
             ]
            ],
            "type": "heatmap"
           }
          ],
          "heatmapgl": [
           {
            "colorbar": {
             "outlinewidth": 0,
             "ticks": ""
            },
            "colorscale": [
             [
              0,
              "#0d0887"
             ],
             [
              0.1111111111111111,
              "#46039f"
             ],
             [
              0.2222222222222222,
              "#7201a8"
             ],
             [
              0.3333333333333333,
              "#9c179e"
             ],
             [
              0.4444444444444444,
              "#bd3786"
             ],
             [
              0.5555555555555556,
              "#d8576b"
             ],
             [
              0.6666666666666666,
              "#ed7953"
             ],
             [
              0.7777777777777778,
              "#fb9f3a"
             ],
             [
              0.8888888888888888,
              "#fdca26"
             ],
             [
              1,
              "#f0f921"
             ]
            ],
            "type": "heatmapgl"
           }
          ],
          "histogram": [
           {
            "marker": {
             "colorbar": {
              "outlinewidth": 0,
              "ticks": ""
             }
            },
            "type": "histogram"
           }
          ],
          "histogram2d": [
           {
            "colorbar": {
             "outlinewidth": 0,
             "ticks": ""
            },
            "colorscale": [
             [
              0,
              "#0d0887"
             ],
             [
              0.1111111111111111,
              "#46039f"
             ],
             [
              0.2222222222222222,
              "#7201a8"
             ],
             [
              0.3333333333333333,
              "#9c179e"
             ],
             [
              0.4444444444444444,
              "#bd3786"
             ],
             [
              0.5555555555555556,
              "#d8576b"
             ],
             [
              0.6666666666666666,
              "#ed7953"
             ],
             [
              0.7777777777777778,
              "#fb9f3a"
             ],
             [
              0.8888888888888888,
              "#fdca26"
             ],
             [
              1,
              "#f0f921"
             ]
            ],
            "type": "histogram2d"
           }
          ],
          "histogram2dcontour": [
           {
            "colorbar": {
             "outlinewidth": 0,
             "ticks": ""
            },
            "colorscale": [
             [
              0,
              "#0d0887"
             ],
             [
              0.1111111111111111,
              "#46039f"
             ],
             [
              0.2222222222222222,
              "#7201a8"
             ],
             [
              0.3333333333333333,
              "#9c179e"
             ],
             [
              0.4444444444444444,
              "#bd3786"
             ],
             [
              0.5555555555555556,
              "#d8576b"
             ],
             [
              0.6666666666666666,
              "#ed7953"
             ],
             [
              0.7777777777777778,
              "#fb9f3a"
             ],
             [
              0.8888888888888888,
              "#fdca26"
             ],
             [
              1,
              "#f0f921"
             ]
            ],
            "type": "histogram2dcontour"
           }
          ],
          "mesh3d": [
           {
            "colorbar": {
             "outlinewidth": 0,
             "ticks": ""
            },
            "type": "mesh3d"
           }
          ],
          "parcoords": [
           {
            "line": {
             "colorbar": {
              "outlinewidth": 0,
              "ticks": ""
             }
            },
            "type": "parcoords"
           }
          ],
          "pie": [
           {
            "automargin": true,
            "type": "pie"
           }
          ],
          "scatter": [
           {
            "marker": {
             "colorbar": {
              "outlinewidth": 0,
              "ticks": ""
             }
            },
            "type": "scatter"
           }
          ],
          "scatter3d": [
           {
            "line": {
             "colorbar": {
              "outlinewidth": 0,
              "ticks": ""
             }
            },
            "marker": {
             "colorbar": {
              "outlinewidth": 0,
              "ticks": ""
             }
            },
            "type": "scatter3d"
           }
          ],
          "scattercarpet": [
           {
            "marker": {
             "colorbar": {
              "outlinewidth": 0,
              "ticks": ""
             }
            },
            "type": "scattercarpet"
           }
          ],
          "scattergeo": [
           {
            "marker": {
             "colorbar": {
              "outlinewidth": 0,
              "ticks": ""
             }
            },
            "type": "scattergeo"
           }
          ],
          "scattergl": [
           {
            "marker": {
             "colorbar": {
              "outlinewidth": 0,
              "ticks": ""
             }
            },
            "type": "scattergl"
           }
          ],
          "scattermapbox": [
           {
            "marker": {
             "colorbar": {
              "outlinewidth": 0,
              "ticks": ""
             }
            },
            "type": "scattermapbox"
           }
          ],
          "scatterpolar": [
           {
            "marker": {
             "colorbar": {
              "outlinewidth": 0,
              "ticks": ""
             }
            },
            "type": "scatterpolar"
           }
          ],
          "scatterpolargl": [
           {
            "marker": {
             "colorbar": {
              "outlinewidth": 0,
              "ticks": ""
             }
            },
            "type": "scatterpolargl"
           }
          ],
          "scatterternary": [
           {
            "marker": {
             "colorbar": {
              "outlinewidth": 0,
              "ticks": ""
             }
            },
            "type": "scatterternary"
           }
          ],
          "surface": [
           {
            "colorbar": {
             "outlinewidth": 0,
             "ticks": ""
            },
            "colorscale": [
             [
              0,
              "#0d0887"
             ],
             [
              0.1111111111111111,
              "#46039f"
             ],
             [
              0.2222222222222222,
              "#7201a8"
             ],
             [
              0.3333333333333333,
              "#9c179e"
             ],
             [
              0.4444444444444444,
              "#bd3786"
             ],
             [
              0.5555555555555556,
              "#d8576b"
             ],
             [
              0.6666666666666666,
              "#ed7953"
             ],
             [
              0.7777777777777778,
              "#fb9f3a"
             ],
             [
              0.8888888888888888,
              "#fdca26"
             ],
             [
              1,
              "#f0f921"
             ]
            ],
            "type": "surface"
           }
          ],
          "table": [
           {
            "cells": {
             "fill": {
              "color": "#EBF0F8"
             },
             "line": {
              "color": "white"
             }
            },
            "header": {
             "fill": {
              "color": "#C8D4E3"
             },
             "line": {
              "color": "white"
             }
            },
            "type": "table"
           }
          ]
         },
         "layout": {
          "annotationdefaults": {
           "arrowcolor": "#2a3f5f",
           "arrowhead": 0,
           "arrowwidth": 1
          },
          "autotypenumbers": "strict",
          "coloraxis": {
           "colorbar": {
            "outlinewidth": 0,
            "ticks": ""
           }
          },
          "colorscale": {
           "diverging": [
            [
             0,
             "#8e0152"
            ],
            [
             0.1,
             "#c51b7d"
            ],
            [
             0.2,
             "#de77ae"
            ],
            [
             0.3,
             "#f1b6da"
            ],
            [
             0.4,
             "#fde0ef"
            ],
            [
             0.5,
             "#f7f7f7"
            ],
            [
             0.6,
             "#e6f5d0"
            ],
            [
             0.7,
             "#b8e186"
            ],
            [
             0.8,
             "#7fbc41"
            ],
            [
             0.9,
             "#4d9221"
            ],
            [
             1,
             "#276419"
            ]
           ],
           "sequential": [
            [
             0,
             "#0d0887"
            ],
            [
             0.1111111111111111,
             "#46039f"
            ],
            [
             0.2222222222222222,
             "#7201a8"
            ],
            [
             0.3333333333333333,
             "#9c179e"
            ],
            [
             0.4444444444444444,
             "#bd3786"
            ],
            [
             0.5555555555555556,
             "#d8576b"
            ],
            [
             0.6666666666666666,
             "#ed7953"
            ],
            [
             0.7777777777777778,
             "#fb9f3a"
            ],
            [
             0.8888888888888888,
             "#fdca26"
            ],
            [
             1,
             "#f0f921"
            ]
           ],
           "sequentialminus": [
            [
             0,
             "#0d0887"
            ],
            [
             0.1111111111111111,
             "#46039f"
            ],
            [
             0.2222222222222222,
             "#7201a8"
            ],
            [
             0.3333333333333333,
             "#9c179e"
            ],
            [
             0.4444444444444444,
             "#bd3786"
            ],
            [
             0.5555555555555556,
             "#d8576b"
            ],
            [
             0.6666666666666666,
             "#ed7953"
            ],
            [
             0.7777777777777778,
             "#fb9f3a"
            ],
            [
             0.8888888888888888,
             "#fdca26"
            ],
            [
             1,
             "#f0f921"
            ]
           ]
          },
          "colorway": [
           "#636efa",
           "#EF553B",
           "#00cc96",
           "#ab63fa",
           "#FFA15A",
           "#19d3f3",
           "#FF6692",
           "#B6E880",
           "#FF97FF",
           "#FECB52"
          ],
          "font": {
           "color": "#2a3f5f"
          },
          "geo": {
           "bgcolor": "white",
           "lakecolor": "white",
           "landcolor": "#E5ECF6",
           "showlakes": true,
           "showland": true,
           "subunitcolor": "white"
          },
          "hoverlabel": {
           "align": "left"
          },
          "hovermode": "closest",
          "mapbox": {
           "style": "light"
          },
          "paper_bgcolor": "white",
          "plot_bgcolor": "#E5ECF6",
          "polar": {
           "angularaxis": {
            "gridcolor": "white",
            "linecolor": "white",
            "ticks": ""
           },
           "bgcolor": "#E5ECF6",
           "radialaxis": {
            "gridcolor": "white",
            "linecolor": "white",
            "ticks": ""
           }
          },
          "scene": {
           "xaxis": {
            "backgroundcolor": "#E5ECF6",
            "gridcolor": "white",
            "gridwidth": 2,
            "linecolor": "white",
            "showbackground": true,
            "ticks": "",
            "zerolinecolor": "white"
           },
           "yaxis": {
            "backgroundcolor": "#E5ECF6",
            "gridcolor": "white",
            "gridwidth": 2,
            "linecolor": "white",
            "showbackground": true,
            "ticks": "",
            "zerolinecolor": "white"
           },
           "zaxis": {
            "backgroundcolor": "#E5ECF6",
            "gridcolor": "white",
            "gridwidth": 2,
            "linecolor": "white",
            "showbackground": true,
            "ticks": "",
            "zerolinecolor": "white"
           }
          },
          "shapedefaults": {
           "line": {
            "color": "#2a3f5f"
           }
          },
          "ternary": {
           "aaxis": {
            "gridcolor": "white",
            "linecolor": "white",
            "ticks": ""
           },
           "baxis": {
            "gridcolor": "white",
            "linecolor": "white",
            "ticks": ""
           },
           "bgcolor": "#E5ECF6",
           "caxis": {
            "gridcolor": "white",
            "linecolor": "white",
            "ticks": ""
           }
          },
          "title": {
           "x": 0.05
          },
          "xaxis": {
           "automargin": true,
           "gridcolor": "white",
           "linecolor": "white",
           "ticks": "",
           "title": {
            "standoff": 15
           },
           "zerolinecolor": "white",
           "zerolinewidth": 2
          },
          "yaxis": {
           "automargin": true,
           "gridcolor": "white",
           "linecolor": "white",
           "ticks": "",
           "title": {
            "standoff": 15
           },
           "zerolinecolor": "white",
           "zerolinewidth": 2
          }
         }
        },
        "xaxis": {
         "title": {
          "text": "Iterations"
         }
        },
        "yaxis": {
         "title": {
          "text": "Draws"
         }
        }
       }
      },
      "text/html": [
       "<div>                            <div id=\"9c6e2974-1dd9-4ce3-9942-2dbfdaf2e228\" class=\"plotly-graph-div\" style=\"height:525px; width:100%;\"></div>            <script type=\"text/javascript\">                require([\"plotly\"], function(Plotly) {                    window.PLOTLYENV=window.PLOTLYENV || {};                                    if (document.getElementById(\"9c6e2974-1dd9-4ce3-9942-2dbfdaf2e228\")) {                    Plotly.newPlot(                        \"9c6e2974-1dd9-4ce3-9942-2dbfdaf2e228\",                        [{\"mode\": \"lines+markers\", \"name\": \"MCTS draws\", \"type\": \"scatter\", \"x\": [2, 10, 50, 100, 200, 400], \"y\": [0, 9, 35, 53, 60, 80]}, {\"mode\": \"lines+markers\", \"name\": \"AZ draws\", \"type\": \"scatter\", \"x\": [2, 10, 50, 100, 200, 400], \"y\": [79, 90, 86, 87, 85, 92]}],                        {\"template\": {\"data\": {\"bar\": [{\"error_x\": {\"color\": \"#2a3f5f\"}, \"error_y\": {\"color\": \"#2a3f5f\"}, \"marker\": {\"line\": {\"color\": \"#E5ECF6\", \"width\": 0.5}}, \"type\": \"bar\"}], \"barpolar\": [{\"marker\": {\"line\": {\"color\": \"#E5ECF6\", \"width\": 0.5}}, \"type\": \"barpolar\"}], \"carpet\": [{\"aaxis\": {\"endlinecolor\": \"#2a3f5f\", \"gridcolor\": \"white\", \"linecolor\": \"white\", \"minorgridcolor\": \"white\", \"startlinecolor\": \"#2a3f5f\"}, \"baxis\": {\"endlinecolor\": \"#2a3f5f\", \"gridcolor\": \"white\", \"linecolor\": \"white\", \"minorgridcolor\": \"white\", \"startlinecolor\": \"#2a3f5f\"}, \"type\": \"carpet\"}], \"choropleth\": [{\"colorbar\": {\"outlinewidth\": 0, \"ticks\": \"\"}, \"type\": \"choropleth\"}], \"contour\": [{\"colorbar\": {\"outlinewidth\": 0, \"ticks\": \"\"}, \"colorscale\": [[0.0, \"#0d0887\"], [0.1111111111111111, \"#46039f\"], [0.2222222222222222, \"#7201a8\"], [0.3333333333333333, \"#9c179e\"], [0.4444444444444444, \"#bd3786\"], [0.5555555555555556, \"#d8576b\"], [0.6666666666666666, \"#ed7953\"], [0.7777777777777778, \"#fb9f3a\"], [0.8888888888888888, \"#fdca26\"], [1.0, \"#f0f921\"]], \"type\": \"contour\"}], \"contourcarpet\": [{\"colorbar\": {\"outlinewidth\": 0, \"ticks\": \"\"}, \"type\": \"contourcarpet\"}], \"heatmap\": [{\"colorbar\": {\"outlinewidth\": 0, \"ticks\": \"\"}, \"colorscale\": [[0.0, \"#0d0887\"], [0.1111111111111111, \"#46039f\"], [0.2222222222222222, \"#7201a8\"], [0.3333333333333333, \"#9c179e\"], [0.4444444444444444, \"#bd3786\"], [0.5555555555555556, \"#d8576b\"], [0.6666666666666666, \"#ed7953\"], [0.7777777777777778, \"#fb9f3a\"], [0.8888888888888888, \"#fdca26\"], [1.0, \"#f0f921\"]], \"type\": \"heatmap\"}], \"heatmapgl\": [{\"colorbar\": {\"outlinewidth\": 0, \"ticks\": \"\"}, \"colorscale\": [[0.0, \"#0d0887\"], [0.1111111111111111, \"#46039f\"], [0.2222222222222222, \"#7201a8\"], [0.3333333333333333, \"#9c179e\"], [0.4444444444444444, \"#bd3786\"], [0.5555555555555556, \"#d8576b\"], [0.6666666666666666, \"#ed7953\"], [0.7777777777777778, \"#fb9f3a\"], [0.8888888888888888, \"#fdca26\"], [1.0, \"#f0f921\"]], \"type\": \"heatmapgl\"}], \"histogram\": [{\"marker\": {\"colorbar\": {\"outlinewidth\": 0, \"ticks\": \"\"}}, \"type\": \"histogram\"}], \"histogram2d\": [{\"colorbar\": {\"outlinewidth\": 0, \"ticks\": \"\"}, \"colorscale\": [[0.0, \"#0d0887\"], [0.1111111111111111, \"#46039f\"], [0.2222222222222222, \"#7201a8\"], [0.3333333333333333, \"#9c179e\"], [0.4444444444444444, \"#bd3786\"], [0.5555555555555556, \"#d8576b\"], [0.6666666666666666, \"#ed7953\"], [0.7777777777777778, \"#fb9f3a\"], [0.8888888888888888, \"#fdca26\"], [1.0, \"#f0f921\"]], \"type\": \"histogram2d\"}], \"histogram2dcontour\": [{\"colorbar\": {\"outlinewidth\": 0, \"ticks\": \"\"}, \"colorscale\": [[0.0, \"#0d0887\"], [0.1111111111111111, \"#46039f\"], [0.2222222222222222, \"#7201a8\"], [0.3333333333333333, \"#9c179e\"], [0.4444444444444444, \"#bd3786\"], [0.5555555555555556, \"#d8576b\"], [0.6666666666666666, \"#ed7953\"], [0.7777777777777778, \"#fb9f3a\"], [0.8888888888888888, \"#fdca26\"], [1.0, \"#f0f921\"]], \"type\": \"histogram2dcontour\"}], \"mesh3d\": [{\"colorbar\": {\"outlinewidth\": 0, \"ticks\": \"\"}, \"type\": \"mesh3d\"}], \"parcoords\": [{\"line\": {\"colorbar\": {\"outlinewidth\": 0, \"ticks\": \"\"}}, \"type\": \"parcoords\"}], \"pie\": [{\"automargin\": true, \"type\": \"pie\"}], \"scatter\": [{\"marker\": {\"colorbar\": {\"outlinewidth\": 0, \"ticks\": \"\"}}, \"type\": \"scatter\"}], \"scatter3d\": [{\"line\": {\"colorbar\": {\"outlinewidth\": 0, \"ticks\": \"\"}}, \"marker\": {\"colorbar\": {\"outlinewidth\": 0, \"ticks\": \"\"}}, \"type\": \"scatter3d\"}], \"scattercarpet\": [{\"marker\": {\"colorbar\": {\"outlinewidth\": 0, \"ticks\": \"\"}}, \"type\": \"scattercarpet\"}], \"scattergeo\": [{\"marker\": {\"colorbar\": {\"outlinewidth\": 0, \"ticks\": \"\"}}, \"type\": \"scattergeo\"}], \"scattergl\": [{\"marker\": {\"colorbar\": {\"outlinewidth\": 0, \"ticks\": \"\"}}, \"type\": \"scattergl\"}], \"scattermapbox\": [{\"marker\": {\"colorbar\": {\"outlinewidth\": 0, \"ticks\": \"\"}}, \"type\": \"scattermapbox\"}], \"scatterpolar\": [{\"marker\": {\"colorbar\": {\"outlinewidth\": 0, \"ticks\": \"\"}}, \"type\": \"scatterpolar\"}], \"scatterpolargl\": [{\"marker\": {\"colorbar\": {\"outlinewidth\": 0, \"ticks\": \"\"}}, \"type\": \"scatterpolargl\"}], \"scatterternary\": [{\"marker\": {\"colorbar\": {\"outlinewidth\": 0, \"ticks\": \"\"}}, \"type\": \"scatterternary\"}], \"surface\": [{\"colorbar\": {\"outlinewidth\": 0, \"ticks\": \"\"}, \"colorscale\": [[0.0, \"#0d0887\"], [0.1111111111111111, \"#46039f\"], [0.2222222222222222, \"#7201a8\"], [0.3333333333333333, \"#9c179e\"], [0.4444444444444444, \"#bd3786\"], [0.5555555555555556, \"#d8576b\"], [0.6666666666666666, \"#ed7953\"], [0.7777777777777778, \"#fb9f3a\"], [0.8888888888888888, \"#fdca26\"], [1.0, \"#f0f921\"]], \"type\": \"surface\"}], \"table\": [{\"cells\": {\"fill\": {\"color\": \"#EBF0F8\"}, \"line\": {\"color\": \"white\"}}, \"header\": {\"fill\": {\"color\": \"#C8D4E3\"}, \"line\": {\"color\": \"white\"}}, \"type\": \"table\"}]}, \"layout\": {\"annotationdefaults\": {\"arrowcolor\": \"#2a3f5f\", \"arrowhead\": 0, \"arrowwidth\": 1}, \"autotypenumbers\": \"strict\", \"coloraxis\": {\"colorbar\": {\"outlinewidth\": 0, \"ticks\": \"\"}}, \"colorscale\": {\"diverging\": [[0, \"#8e0152\"], [0.1, \"#c51b7d\"], [0.2, \"#de77ae\"], [0.3, \"#f1b6da\"], [0.4, \"#fde0ef\"], [0.5, \"#f7f7f7\"], [0.6, \"#e6f5d0\"], [0.7, \"#b8e186\"], [0.8, \"#7fbc41\"], [0.9, \"#4d9221\"], [1, \"#276419\"]], \"sequential\": [[0.0, \"#0d0887\"], [0.1111111111111111, \"#46039f\"], [0.2222222222222222, \"#7201a8\"], [0.3333333333333333, \"#9c179e\"], [0.4444444444444444, \"#bd3786\"], [0.5555555555555556, \"#d8576b\"], [0.6666666666666666, \"#ed7953\"], [0.7777777777777778, \"#fb9f3a\"], [0.8888888888888888, \"#fdca26\"], [1.0, \"#f0f921\"]], \"sequentialminus\": [[0.0, \"#0d0887\"], [0.1111111111111111, \"#46039f\"], [0.2222222222222222, \"#7201a8\"], [0.3333333333333333, \"#9c179e\"], [0.4444444444444444, \"#bd3786\"], [0.5555555555555556, \"#d8576b\"], [0.6666666666666666, \"#ed7953\"], [0.7777777777777778, \"#fb9f3a\"], [0.8888888888888888, \"#fdca26\"], [1.0, \"#f0f921\"]]}, \"colorway\": [\"#636efa\", \"#EF553B\", \"#00cc96\", \"#ab63fa\", \"#FFA15A\", \"#19d3f3\", \"#FF6692\", \"#B6E880\", \"#FF97FF\", \"#FECB52\"], \"font\": {\"color\": \"#2a3f5f\"}, \"geo\": {\"bgcolor\": \"white\", \"lakecolor\": \"white\", \"landcolor\": \"#E5ECF6\", \"showlakes\": true, \"showland\": true, \"subunitcolor\": \"white\"}, \"hoverlabel\": {\"align\": \"left\"}, \"hovermode\": \"closest\", \"mapbox\": {\"style\": \"light\"}, \"paper_bgcolor\": \"white\", \"plot_bgcolor\": \"#E5ECF6\", \"polar\": {\"angularaxis\": {\"gridcolor\": \"white\", \"linecolor\": \"white\", \"ticks\": \"\"}, \"bgcolor\": \"#E5ECF6\", \"radialaxis\": {\"gridcolor\": \"white\", \"linecolor\": \"white\", \"ticks\": \"\"}}, \"scene\": {\"xaxis\": {\"backgroundcolor\": \"#E5ECF6\", \"gridcolor\": \"white\", \"gridwidth\": 2, \"linecolor\": \"white\", \"showbackground\": true, \"ticks\": \"\", \"zerolinecolor\": \"white\"}, \"yaxis\": {\"backgroundcolor\": \"#E5ECF6\", \"gridcolor\": \"white\", \"gridwidth\": 2, \"linecolor\": \"white\", \"showbackground\": true, \"ticks\": \"\", \"zerolinecolor\": \"white\"}, \"zaxis\": {\"backgroundcolor\": \"#E5ECF6\", \"gridcolor\": \"white\", \"gridwidth\": 2, \"linecolor\": \"white\", \"showbackground\": true, \"ticks\": \"\", \"zerolinecolor\": \"white\"}}, \"shapedefaults\": {\"line\": {\"color\": \"#2a3f5f\"}}, \"ternary\": {\"aaxis\": {\"gridcolor\": \"white\", \"linecolor\": \"white\", \"ticks\": \"\"}, \"baxis\": {\"gridcolor\": \"white\", \"linecolor\": \"white\", \"ticks\": \"\"}, \"bgcolor\": \"#E5ECF6\", \"caxis\": {\"gridcolor\": \"white\", \"linecolor\": \"white\", \"ticks\": \"\"}}, \"title\": {\"x\": 0.05}, \"xaxis\": {\"automargin\": true, \"gridcolor\": \"white\", \"linecolor\": \"white\", \"ticks\": \"\", \"title\": {\"standoff\": 15}, \"zerolinecolor\": \"white\", \"zerolinewidth\": 2}, \"yaxis\": {\"automargin\": true, \"gridcolor\": \"white\", \"linecolor\": \"white\", \"ticks\": \"\", \"title\": {\"standoff\": 15}, \"zerolinecolor\": \"white\", \"zerolinewidth\": 2}}}, \"xaxis\": {\"title\": {\"text\": \"Iterations\"}}, \"yaxis\": {\"title\": {\"text\": \"Draws\"}}},                        {\"responsive\": true}                    ).then(function(){\n",
       "                            \n",
       "var gd = document.getElementById('9c6e2974-1dd9-4ce3-9942-2dbfdaf2e228');\n",
       "var x = new MutationObserver(function (mutations, observer) {{\n",
       "        var display = window.getComputedStyle(gd).display;\n",
       "        if (!display || display === 'none') {{\n",
       "            console.log([gd, 'removed!']);\n",
       "            Plotly.purge(gd);\n",
       "            observer.disconnect();\n",
       "        }}\n",
       "}});\n",
       "\n",
       "// Listen for the removal of the full notebook cells\n",
       "var notebookContainer = gd.closest('#notebook-container');\n",
       "if (notebookContainer) {{\n",
       "    x.observe(notebookContainer, {childList: true});\n",
       "}}\n",
       "\n",
       "// Listen for the clearing of the current output cell\n",
       "var outputEl = gd.closest('.output');\n",
       "if (outputEl) {{\n",
       "    x.observe(outputEl, {childList: true});\n",
       "}}\n",
       "\n",
       "                        })                };                });            </script>        </div>"
      ]
     },
     "metadata": {},
     "output_type": "display_data"
    }
   ],
   "source": [
    "import plotly.graph_objects as go\n",
    "\n",
    "\n",
    "fig = go.Figure()\n",
    "fig.add_trace(go.Scatter(x=iters, y=mcts_draws, mode='lines+markers', name='MCTS draws'))\n",
    "fig.add_trace(go.Scatter(x=iters, y=az_draws, mode='lines+markers', name='AZ draws'))\n",
    "fig.update_xaxes(title_text='Iterations')\n",
    "fig.update_yaxes(title_text='Draws')\n",
    "fig.show()"
   ]
  },
  {
   "cell_type": "code",
   "execution_count": 35,
   "metadata": {},
   "outputs": [
    {
     "name": "stdout",
     "output_type": "stream",
     "text": [
      " | | \n",
      "-+-+-\n",
      " | | \n",
      "-+-+-\n",
      " | | \n",
      "\n",
      "\n",
      "[PLAYER] choose action: 0, 1, 2, 3, 4, 5, 6, 7, 8\n",
      "> 4\n",
      " | | \n",
      "-+-+-\n",
      " |X| \n",
      "-+-+-\n",
      " | | \n",
      "\n",
      " |O| \n",
      "-+-+-\n",
      " |X| \n",
      "-+-+-\n",
      " | | \n",
      "\n",
      "\n",
      "[PLAYER] choose action: 0, 2, 3, 5, 6, 7, 8\n",
      "> 0\n",
      "X|O| \n",
      "-+-+-\n",
      " |X| \n",
      "-+-+-\n",
      " | | \n",
      "\n",
      "X|O| \n",
      "-+-+-\n",
      "O|X| \n",
      "-+-+-\n",
      " | | \n",
      "\n",
      "\n",
      "[PLAYER] choose action: 2, 5, 6, 7, 8\n",
      "> 8\n",
      "X|O| \n",
      "-+-+-\n",
      "O|X| \n",
      "-+-+-\n",
      " | |X\n",
      "\n",
      "PLAYER 1 WON\n"
     ]
    },
    {
     "data": {
      "text/plain": [
       "(1, 0, 0)"
      ]
     },
     "execution_count": 35,
     "metadata": {},
     "output_type": "execute_result"
    }
   ],
   "source": [
    "from tfg.strategies import HumanStrategy\n",
    "\n",
    "\n",
    "alphazero.set_max_iter(1000)\n",
    "\n",
    "play(game, HumanStrategy(game), alphazero, render=True, print_results=True)"
   ]
  },
  {
   "cell_type": "code",
   "execution_count": 36,
   "metadata": {},
   "outputs": [],
   "source": [
    "model = alphazero.neural_network.model"
   ]
  },
  {
   "cell_type": "code",
   "execution_count": 46,
   "metadata": {},
   "outputs": [
    {
     "data": {
      "text/plain": [
       "(0.05857558,\n",
       " array([8.41069698e-01, 9.47743138e-06, 1.65077136e-03, 4.35717553e-02,\n",
       "        1.02105215e-01, 1.15720062e-02, 3.81052564e-06, 6.27960119e-08,\n",
       "        1.71607226e-05], dtype=float32),\n",
       " 0)"
      ]
     },
     "execution_count": 46,
     "metadata": {},
     "output_type": "execute_result"
    }
   ],
   "source": [
    "import numpy as np\n",
    "board = np.array([[\n",
    "    [[0, 0, 0],\n",
    "     [0, 1, 0],\n",
    "     [0, 0, 0]],\n",
    "    [[0, 0, 0],\n",
    "     [0, 0, 0],\n",
    "     [0, 0, 0]],\n",
    "    [[1] * 3] * 3\n",
    "]])\n",
    "v, p = model(board)\n",
    "v = v.numpy()[0, 0]\n",
    "p = p.numpy()[0]\n",
    "v, p, np.argmax(p)"
   ]
  },
  {
   "cell_type": "code",
   "execution_count": null,
   "metadata": {},
   "outputs": [],
   "source": []
  }
 ],
 "metadata": {
  "kernelspec": {
   "display_name": "Python 3",
   "language": "python",
   "name": "python3"
  },
  "language_info": {
   "codemirror_mode": {
    "name": "ipython",
    "version": 3
   },
   "file_extension": ".py",
   "mimetype": "text/x-python",
   "name": "python",
   "nbconvert_exporter": "python",
   "pygments_lexer": "ipython3",
   "version": "3.8.8"
  }
 },
 "nbformat": 4,
 "nbformat_minor": 1
}