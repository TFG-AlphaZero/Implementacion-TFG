{
 "cells": [
  {
   "cell_type": "code",
   "execution_count": 1,
   "id": "immediate-prefix",
   "metadata": {
    "pycharm": {
     "name": "#%%\n"
    }
   },
   "outputs": [],
   "source": [
    "import copy\n",
    "import numpy as np\n",
    "\n",
    "class Node:\n",
    "\n",
    "    def __init__(self, observation, to_play):\n",
    "        x = np.zeros(shape=(3, 3, 3))\n",
    "        x[observation == 1, 0] = 1\n",
    "        x[observation == -1, 1] = 1\n",
    "        x[:, :, 2] = 0 if to_play == 1 else 1\n",
    "\n",
    "        self.x = x\n",
    "        self.value = None\n",
    "        self.policy = None\n",
    "        self.children = dict()\n",
    "\n",
    "\n",
    "class Minimax:\n",
    "\n",
    "    def __init__(self, env):\n",
    "        self._env = env\n",
    "\n",
    "    def move(self, observation):\n",
    "        player = self._env.to_play\n",
    "        root = Node(observation, player)\n",
    "        action, _ = self._minimax(self._env, observation, player, root)\n",
    "        return root\n",
    "\n",
    "    def _minimax(self, env, observation, player, root):\n",
    "        to_play = env.to_play\n",
    "        legal_actions = env.legal_actions()\n",
    "        selected_action = None\n",
    "        value = None\n",
    "        policy = dict()\n",
    "\n",
    "        for action in legal_actions:\n",
    "            env_ = copy.deepcopy(env)\n",
    "            obs, reward, done, _ = env_.step(action)\n",
    "\n",
    "            node = Node(obs, env_.to_play)\n",
    "            root.children[action] = node\n",
    "\n",
    "            if not done:\n",
    "                _, reward = self._minimax(env_, obs, player, node)\n",
    "            else:\n",
    "                node.value = reward * env_.to_play\n",
    "                node.policy = dict()\n",
    "\n",
    "            p = (reward * to_play + 1) / 2\n",
    "            policy[action] = p\n",
    "\n",
    "            if (selected_action is None or\n",
    "                    self._better_value(value, reward, player, to_play)):\n",
    "                selected_action = action\n",
    "                value = reward\n",
    "\n",
    "        den = sum(policy.values())\n",
    "        if den != 0:\n",
    "            for action in policy.keys():\n",
    "                policy[action] /= den\n",
    "        else:\n",
    "            p = 1 / len(policy)\n",
    "            for action in policy.keys():\n",
    "                policy[action] = p\n",
    "\n",
    "        root.value = value * to_play\n",
    "        root.policy = policy\n",
    "\n",
    "        # Return the selected action at the root\n",
    "        return selected_action, value\n",
    "\n",
    "    @staticmethod\n",
    "    def _better_value(current, new, player, to_play):\n",
    "        # Work with (win, >0), (lose, <0)\n",
    "        current = player * current\n",
    "        new = player * new\n",
    "        if player == to_play and new > current:\n",
    "            return True\n",
    "        if player != to_play and new < current:\n",
    "            return True\n",
    "        return False"
   ]
  },
  {
   "cell_type": "code",
   "execution_count": 2,
   "id": "romantic-watch",
   "metadata": {
    "pycharm": {
     "name": "#%%\n"
    }
   },
   "outputs": [],
   "source": [
    "from game.tictactoe import TicTacToe\n",
    "\n",
    "\n",
    "game = TicTacToe()\n",
    "tree = Minimax(game)\n",
    "root = tree.move(game.reset())"
   ]
  },
  {
   "cell_type": "code",
   "execution_count": 3,
   "id": "engaging-petite",
   "metadata": {
    "pycharm": {
     "name": "#%%\n"
    }
   },
   "outputs": [],
   "source": [
    "def generate_dataset(node):\n",
    "\n",
    "    x = list()\n",
    "    v = list()\n",
    "    p = list()\n",
    "\n",
    "    def recursion(n):\n",
    "        for child in n.children.values():\n",
    "            x.append(child.x)\n",
    "            v.append(child.value)\n",
    "            temp = np.zeros(9)\n",
    "            temp[list(child.policy.keys())] = list(child.policy.values())\n",
    "            p.append(temp)\n",
    "            recursion(child)\n",
    "\n",
    "    recursion(node)\n",
    "\n",
    "    return np.array(x), (np.array(v), np.array(p))"
   ]
  },
  {
   "cell_type": "code",
   "execution_count": 4,
   "id": "lesser-bangladesh",
   "metadata": {
    "pycharm": {
     "name": "#%%\n"
    }
   },
   "outputs": [],
   "source": [
    "x, (v, p) = generate_dataset(root)"
   ]
  },
  {
   "cell_type": "code",
   "execution_count": 5,
   "id": "breeding-python",
   "metadata": {
    "pycharm": {
     "name": "#%%\n"
    }
   },
   "outputs": [
    {
     "data": {
      "text/plain": [
       "((549945, 3, 3, 3), (549945,), (549945, 9))"
      ]
     },
     "execution_count": 5,
     "metadata": {},
     "output_type": "execute_result"
    }
   ],
   "source": [
    "x.shape, v.shape, p.shape"
   ]
  },
  {
   "cell_type": "code",
   "execution_count": 6,
   "id": "configured-coordination",
   "metadata": {
    "pycharm": {
     "name": "#%%\n"
    }
   },
   "outputs": [],
   "source": [
    "from tfg.util import enable_gpu\n",
    "\n",
    "enable_gpu()"
   ]
  },
  {
   "cell_type": "code",
   "execution_count": 107,
   "id": "agricultural-resolution",
   "metadata": {
    "pycharm": {
     "name": "#%%\n"
    }
   },
   "outputs": [
    {
     "name": "stdout",
     "output_type": "stream",
     "text": [
      "WARNING:tensorflow:11 out of the last 11 calls to <function Model.make_predict_function.<locals>.predict_function at 0x000002E462F735E0> triggered tf.function retracing. Tracing is expensive and the excessive number of tracings could be due to (1) creating @tf.function repeatedly in a loop, (2) passing tensors with different shapes, (3) passing Python objects instead of tensors. For (1), please define your @tf.function outside of the loop. For (2), @tf.function has experimental_relax_shapes=True option that relaxes argument shapes that can avoid unnecessary retracing. For (3), please refer to https://www.tensorflow.org/guide/function#controlling_retracing and https://www.tensorflow.org/api_docs/python/tf/function for  more details.\n"
     ]
    }
   ],
   "source": [
    "from tfg.alphaZero import AlphaZero\n",
    "import tensorflow as tf\n",
    "from tensorflow.keras.optimizers import Adam\n",
    "\n",
    "az = AlphaZero(game, nn_config=dict(residual_layers=3, kernel_size=(1, 1), regularizer_constant=0))\n",
    "model = az.neural_network.model\n",
    "\n",
    "model.compile(optimizer=Adam(learning_rate=az.neural_network.learning_rate),\n",
    "              loss={\n",
    "                  'value_head': tf.keras.losses.MeanSquaredError(),\n",
    "                  'policy_head': tf.keras.losses.CategoricalCrossentropy()\n",
    "              },\n",
    "              loss_weights={'value_head': 0.5, 'policy_head': 0.5},\n",
    "              metrics=['acc'])"
   ]
  },
  {
   "cell_type": "code",
   "execution_count": 108,
   "id": "moved-sweet",
   "metadata": {
    "pycharm": {
     "name": "#%%\n"
    }
   },
   "outputs": [
    {
     "name": "stdout",
     "output_type": "stream",
     "text": [
      "Epoch 1/15\n",
      "12374/12374 [==============================] - 84s 7ms/step - loss: 0.7057 - value_head_loss: 0.6110 - policy_head_loss: 0.8004 - value_head_acc: 0.2674 - policy_head_acc: 0.3452 - val_loss: 0.5052 - val_value_head_loss: 0.5116 - val_policy_head_loss: 0.4989 - val_value_head_acc: 0.3594 - val_policy_head_acc: 0.3975\n",
      "Epoch 2/15\n",
      "12374/12374 [==============================] - 83s 7ms/step - loss: 0.3915 - value_head_loss: 0.4814 - policy_head_loss: 0.3016 - value_head_acc: 0.3461 - policy_head_acc: 0.4391 - val_loss: 0.3980 - val_value_head_loss: 0.4297 - val_policy_head_loss: 0.3663 - val_value_head_acc: 0.3801 - val_policy_head_acc: 0.4099\n",
      "Epoch 3/15\n",
      "12374/12374 [==============================] - 81s 7ms/step - loss: 0.4219 - value_head_loss: 0.4331 - policy_head_loss: 0.4108 - value_head_acc: 0.3835 - policy_head_acc: 0.4145 - val_loss: 0.4019 - val_value_head_loss: 0.3976 - val_policy_head_loss: 0.4062 - val_value_head_acc: 0.4104 - val_policy_head_acc: 0.4033\n",
      "Epoch 4/15\n",
      "12374/12374 [==============================] - 82s 7ms/step - loss: 0.5088 - value_head_loss: 0.4066 - policy_head_loss: 0.6110 - value_head_acc: 0.4051 - policy_head_acc: 0.4044 - val_loss: 0.8180 - val_value_head_loss: 0.3795 - val_policy_head_loss: 1.2564 - val_value_head_acc: 0.4225 - val_policy_head_acc: 0.3192\n",
      "Epoch 5/15\n",
      "12374/12374 [==============================] - 81s 7ms/step - loss: 0.7157 - value_head_loss: 0.3863 - policy_head_loss: 1.0452 - value_head_acc: 0.4130 - policy_head_acc: 0.3885 - val_loss: 0.6547 - val_value_head_loss: 0.3620 - val_policy_head_loss: 0.9474 - val_value_head_acc: 0.4419 - val_policy_head_acc: 0.4618\n",
      "Epoch 6/15\n",
      "12374/12374 [==============================] - 87s 7ms/step - loss: 0.7992 - value_head_loss: 0.3717 - policy_head_loss: 1.2268 - value_head_acc: 0.4226 - policy_head_acc: 0.3909 - val_loss: 0.9241 - val_value_head_loss: 0.3548 - val_policy_head_loss: 1.4934 - val_value_head_acc: 0.4309 - val_policy_head_acc: 0.3266\n",
      "Epoch 7/15\n",
      "12374/12374 [==============================] - 83s 7ms/step - loss: 0.8677 - value_head_loss: 0.3653 - policy_head_loss: 1.3700 - value_head_acc: 0.4270 - policy_head_acc: 0.3750 - val_loss: 0.9273 - val_value_head_loss: 0.3573 - val_policy_head_loss: 1.4973 - val_value_head_acc: 0.4553 - val_policy_head_acc: 0.3141\n",
      "Epoch 8/15\n",
      "12374/12374 [==============================] - 81s 7ms/step - loss: 0.9127 - value_head_loss: 0.3642 - policy_head_loss: 1.4613 - value_head_acc: 0.4254 - policy_head_acc: 0.3693 - val_loss: 0.5999 - val_value_head_loss: 0.3506 - val_policy_head_loss: 0.8491 - val_value_head_acc: 0.4323 - val_policy_head_acc: 0.3773\n",
      "Epoch 9/15\n",
      "12374/12374 [==============================] - 78s 6ms/step - loss: 1.0365 - value_head_loss: 0.3613 - policy_head_loss: 1.7116 - value_head_acc: 0.4274 - policy_head_acc: 0.3591 - val_loss: 0.8859 - val_value_head_loss: 0.3484 - val_policy_head_loss: 1.4234 - val_value_head_acc: 0.4476 - val_policy_head_acc: 0.3873\n",
      "Epoch 10/15\n",
      "12374/12374 [==============================] - 76s 6ms/step - loss: 1.3315 - value_head_loss: 0.3572 - policy_head_loss: 2.3058 - value_head_acc: 0.4279 - policy_head_acc: 0.3500 - val_loss: 3.4620 - val_value_head_loss: 0.4593 - val_policy_head_loss: 6.4647 - val_value_head_acc: 0.3854 - val_policy_head_acc: 0.2876\n",
      "Epoch 11/15\n",
      "12374/12374 [==============================] - 81s 7ms/step - loss: 1.8444 - value_head_loss: 0.3554 - policy_head_loss: 3.3335 - value_head_acc: 0.4293 - policy_head_acc: 0.3519 - val_loss: 2.4376 - val_value_head_loss: 0.3449 - val_policy_head_loss: 4.5303 - val_value_head_acc: 0.4451 - val_policy_head_acc: 0.2224\n",
      "Epoch 12/15\n",
      "12374/12374 [==============================] - 76s 6ms/step - loss: 2.0165 - value_head_loss: 0.3562 - policy_head_loss: 3.6767 - value_head_acc: 0.4283 - policy_head_acc: 0.3632 - val_loss: 1.4510 - val_value_head_loss: 0.3840 - val_policy_head_loss: 2.5180 - val_value_head_acc: 0.3909 - val_policy_head_acc: 0.4636\n",
      "Epoch 13/15\n",
      "12374/12374 [==============================] - 74s 6ms/step - loss: 2.0631 - value_head_loss: 0.3549 - policy_head_loss: 3.7713 - value_head_acc: 0.4311 - policy_head_acc: 0.3499 - val_loss: 1.4514 - val_value_head_loss: 0.3770 - val_policy_head_loss: 2.5259 - val_value_head_acc: 0.4101 - val_policy_head_acc: 0.3876\n",
      "Epoch 14/15\n",
      "12374/12374 [==============================] - 74s 6ms/step - loss: 2.2026 - value_head_loss: 0.3548 - policy_head_loss: 4.0505 - value_head_acc: 0.4287 - policy_head_acc: 0.3533 - val_loss: 1.7226 - val_value_head_loss: 0.3447 - val_policy_head_loss: 3.1005 - val_value_head_acc: 0.4342 - val_policy_head_acc: 0.3719\n",
      "Epoch 15/15\n",
      "12374/12374 [==============================] - 79s 6ms/step - loss: 2.4047 - value_head_loss: 0.3525 - policy_head_loss: 4.4569 - value_head_acc: 0.4299 - policy_head_acc: 0.3596 - val_loss: 3.6228 - val_value_head_loss: 0.3806 - val_policy_head_loss: 6.8649 - val_value_head_acc: 0.4137 - val_policy_head_acc: 0.2660\n"
     ]
    }
   ],
   "source": [
    "history = dict()\n",
    "\n",
    "size = int(len(x) * .8)\n",
    "\n",
    "indices = np.random.choice(len(x), size=size)\n",
    "x_train = x[indices]\n",
    "y_train = v[indices], p[indices]\n",
    "\n",
    "x_test = x[~indices]\n",
    "y_test = v[~indices], p[~indices]\n",
    "\n",
    "\n",
    "history = model.fit(x_train, y_train, epochs=15, validation_split=.1).history"
   ]
  },
  {
   "cell_type": "code",
   "execution_count": 111,
   "id": "comparable-commerce",
   "metadata": {
    "pycharm": {
     "name": "#%%\n"
    }
   },
   "outputs": [
    {
     "data": {
      "application/vnd.plotly.v1+json": {
       "config": {
        "plotlyServerURL": "https://plot.ly"
       },
       "data": [
        {
         "hovertemplate": "variable=wide_variable_0<br>x=%{x}<br>value=%{y}<extra></extra>",
         "legendgroup": "wide_variable_0",
         "line": {
          "color": "#636efa",
          "dash": "solid"
         },
         "mode": "lines",
         "name": "wide_variable_0",
         "orientation": "v",
         "showlegend": true,
         "type": "scatter",
         "x": [
          1,
          2,
          3,
          4,
          5,
          6,
          7,
          8,
          9,
          10,
          11,
          12,
          13,
          14,
          15
         ],
         "xaxis": "x",
         "y": [
          0.5558850169181824,
          0.46733343601226807,
          0.4235529601573944,
          0.39966481924057007,
          0.3828718066215515,
          0.37033870816230774,
          0.36512917280197144,
          0.3628172278404236,
          0.3602081835269928,
          0.35867246985435486,
          0.35614752769470215,
          0.35571274161338806,
          0.35451650619506836,
          0.35433143377304077,
          0.3536810874938965
         ],
         "yaxis": "y"
        },
        {
         "hovertemplate": "variable=wide_variable_1<br>x=%{x}<br>value=%{y}<extra></extra>",
         "legendgroup": "wide_variable_1",
         "line": {
          "color": "#EF553B",
          "dash": "solid"
         },
         "mode": "lines",
         "name": "wide_variable_1",
         "orientation": "v",
         "showlegend": true,
         "type": "scatter",
         "x": [
          1,
          2,
          3,
          4,
          5,
          6,
          7,
          8,
          9,
          10,
          11,
          12,
          13,
          14,
          15
         ],
         "xaxis": "x",
         "y": [
          0.6927989721298218,
          0.32659220695495605,
          0.45941075682640076,
          0.73846435546875,
          1.0966757535934448,
          1.2485970258712769,
          1.39451265335083,
          1.5036463737487793,
          1.724442958831787,
          2.6150476932525635,
          3.3802530765533447,
          3.8941309452056885,
          3.6729238033294678,
          4.021822452545166,
          4.706464767456055
         ],
         "yaxis": "y"
        }
       ],
       "layout": {
        "legend": {
         "title": {
          "text": "variable"
         },
         "tracegroupgap": 0
        },
        "margin": {
         "t": 60
        },
        "template": {
         "data": {
          "bar": [
           {
            "error_x": {
             "color": "#2a3f5f"
            },
            "error_y": {
             "color": "#2a3f5f"
            },
            "marker": {
             "line": {
              "color": "#E5ECF6",
              "width": 0.5
             }
            },
            "type": "bar"
           }
          ],
          "barpolar": [
           {
            "marker": {
             "line": {
              "color": "#E5ECF6",
              "width": 0.5
             }
            },
            "type": "barpolar"
           }
          ],
          "carpet": [
           {
            "aaxis": {
             "endlinecolor": "#2a3f5f",
             "gridcolor": "white",
             "linecolor": "white",
             "minorgridcolor": "white",
             "startlinecolor": "#2a3f5f"
            },
            "baxis": {
             "endlinecolor": "#2a3f5f",
             "gridcolor": "white",
             "linecolor": "white",
             "minorgridcolor": "white",
             "startlinecolor": "#2a3f5f"
            },
            "type": "carpet"
           }
          ],
          "choropleth": [
           {
            "colorbar": {
             "outlinewidth": 0,
             "ticks": ""
            },
            "type": "choropleth"
           }
          ],
          "contour": [
           {
            "colorbar": {
             "outlinewidth": 0,
             "ticks": ""
            },
            "colorscale": [
             [
              0,
              "#0d0887"
             ],
             [
              0.1111111111111111,
              "#46039f"
             ],
             [
              0.2222222222222222,
              "#7201a8"
             ],
             [
              0.3333333333333333,
              "#9c179e"
             ],
             [
              0.4444444444444444,
              "#bd3786"
             ],
             [
              0.5555555555555556,
              "#d8576b"
             ],
             [
              0.6666666666666666,
              "#ed7953"
             ],
             [
              0.7777777777777778,
              "#fb9f3a"
             ],
             [
              0.8888888888888888,
              "#fdca26"
             ],
             [
              1,
              "#f0f921"
             ]
            ],
            "type": "contour"
           }
          ],
          "contourcarpet": [
           {
            "colorbar": {
             "outlinewidth": 0,
             "ticks": ""
            },
            "type": "contourcarpet"
           }
          ],
          "heatmap": [
           {
            "colorbar": {
             "outlinewidth": 0,
             "ticks": ""
            },
            "colorscale": [
             [
              0,
              "#0d0887"
             ],
             [
              0.1111111111111111,
              "#46039f"
             ],
             [
              0.2222222222222222,
              "#7201a8"
             ],
             [
              0.3333333333333333,
              "#9c179e"
             ],
             [
              0.4444444444444444,
              "#bd3786"
             ],
             [
              0.5555555555555556,
              "#d8576b"
             ],
             [
              0.6666666666666666,
              "#ed7953"
             ],
             [
              0.7777777777777778,
              "#fb9f3a"
             ],
             [
              0.8888888888888888,
              "#fdca26"
             ],
             [
              1,
              "#f0f921"
             ]
            ],
            "type": "heatmap"
           }
          ],
          "heatmapgl": [
           {
            "colorbar": {
             "outlinewidth": 0,
             "ticks": ""
            },
            "colorscale": [
             [
              0,
              "#0d0887"
             ],
             [
              0.1111111111111111,
              "#46039f"
             ],
             [
              0.2222222222222222,
              "#7201a8"
             ],
             [
              0.3333333333333333,
              "#9c179e"
             ],
             [
              0.4444444444444444,
              "#bd3786"
             ],
             [
              0.5555555555555556,
              "#d8576b"
             ],
             [
              0.6666666666666666,
              "#ed7953"
             ],
             [
              0.7777777777777778,
              "#fb9f3a"
             ],
             [
              0.8888888888888888,
              "#fdca26"
             ],
             [
              1,
              "#f0f921"
             ]
            ],
            "type": "heatmapgl"
           }
          ],
          "histogram": [
           {
            "marker": {
             "colorbar": {
              "outlinewidth": 0,
              "ticks": ""
             }
            },
            "type": "histogram"
           }
          ],
          "histogram2d": [
           {
            "colorbar": {
             "outlinewidth": 0,
             "ticks": ""
            },
            "colorscale": [
             [
              0,
              "#0d0887"
             ],
             [
              0.1111111111111111,
              "#46039f"
             ],
             [
              0.2222222222222222,
              "#7201a8"
             ],
             [
              0.3333333333333333,
              "#9c179e"
             ],
             [
              0.4444444444444444,
              "#bd3786"
             ],
             [
              0.5555555555555556,
              "#d8576b"
             ],
             [
              0.6666666666666666,
              "#ed7953"
             ],
             [
              0.7777777777777778,
              "#fb9f3a"
             ],
             [
              0.8888888888888888,
              "#fdca26"
             ],
             [
              1,
              "#f0f921"
             ]
            ],
            "type": "histogram2d"
           }
          ],
          "histogram2dcontour": [
           {
            "colorbar": {
             "outlinewidth": 0,
             "ticks": ""
            },
            "colorscale": [
             [
              0,
              "#0d0887"
             ],
             [
              0.1111111111111111,
              "#46039f"
             ],
             [
              0.2222222222222222,
              "#7201a8"
             ],
             [
              0.3333333333333333,
              "#9c179e"
             ],
             [
              0.4444444444444444,
              "#bd3786"
             ],
             [
              0.5555555555555556,
              "#d8576b"
             ],
             [
              0.6666666666666666,
              "#ed7953"
             ],
             [
              0.7777777777777778,
              "#fb9f3a"
             ],
             [
              0.8888888888888888,
              "#fdca26"
             ],
             [
              1,
              "#f0f921"
             ]
            ],
            "type": "histogram2dcontour"
           }
          ],
          "mesh3d": [
           {
            "colorbar": {
             "outlinewidth": 0,
             "ticks": ""
            },
            "type": "mesh3d"
           }
          ],
          "parcoords": [
           {
            "line": {
             "colorbar": {
              "outlinewidth": 0,
              "ticks": ""
             }
            },
            "type": "parcoords"
           }
          ],
          "pie": [
           {
            "automargin": true,
            "type": "pie"
           }
          ],
          "scatter": [
           {
            "marker": {
             "colorbar": {
              "outlinewidth": 0,
              "ticks": ""
             }
            },
            "type": "scatter"
           }
          ],
          "scatter3d": [
           {
            "line": {
             "colorbar": {
              "outlinewidth": 0,
              "ticks": ""
             }
            },
            "marker": {
             "colorbar": {
              "outlinewidth": 0,
              "ticks": ""
             }
            },
            "type": "scatter3d"
           }
          ],
          "scattercarpet": [
           {
            "marker": {
             "colorbar": {
              "outlinewidth": 0,
              "ticks": ""
             }
            },
            "type": "scattercarpet"
           }
          ],
          "scattergeo": [
           {
            "marker": {
             "colorbar": {
              "outlinewidth": 0,
              "ticks": ""
             }
            },
            "type": "scattergeo"
           }
          ],
          "scattergl": [
           {
            "marker": {
             "colorbar": {
              "outlinewidth": 0,
              "ticks": ""
             }
            },
            "type": "scattergl"
           }
          ],
          "scattermapbox": [
           {
            "marker": {
             "colorbar": {
              "outlinewidth": 0,
              "ticks": ""
             }
            },
            "type": "scattermapbox"
           }
          ],
          "scatterpolar": [
           {
            "marker": {
             "colorbar": {
              "outlinewidth": 0,
              "ticks": ""
             }
            },
            "type": "scatterpolar"
           }
          ],
          "scatterpolargl": [
           {
            "marker": {
             "colorbar": {
              "outlinewidth": 0,
              "ticks": ""
             }
            },
            "type": "scatterpolargl"
           }
          ],
          "scatterternary": [
           {
            "marker": {
             "colorbar": {
              "outlinewidth": 0,
              "ticks": ""
             }
            },
            "type": "scatterternary"
           }
          ],
          "surface": [
           {
            "colorbar": {
             "outlinewidth": 0,
             "ticks": ""
            },
            "colorscale": [
             [
              0,
              "#0d0887"
             ],
             [
              0.1111111111111111,
              "#46039f"
             ],
             [
              0.2222222222222222,
              "#7201a8"
             ],
             [
              0.3333333333333333,
              "#9c179e"
             ],
             [
              0.4444444444444444,
              "#bd3786"
             ],
             [
              0.5555555555555556,
              "#d8576b"
             ],
             [
              0.6666666666666666,
              "#ed7953"
             ],
             [
              0.7777777777777778,
              "#fb9f3a"
             ],
             [
              0.8888888888888888,
              "#fdca26"
             ],
             [
              1,
              "#f0f921"
             ]
            ],
            "type": "surface"
           }
          ],
          "table": [
           {
            "cells": {
             "fill": {
              "color": "#EBF0F8"
             },
             "line": {
              "color": "white"
             }
            },
            "header": {
             "fill": {
              "color": "#C8D4E3"
             },
             "line": {
              "color": "white"
             }
            },
            "type": "table"
           }
          ]
         },
         "layout": {
          "annotationdefaults": {
           "arrowcolor": "#2a3f5f",
           "arrowhead": 0,
           "arrowwidth": 1
          },
          "autotypenumbers": "strict",
          "coloraxis": {
           "colorbar": {
            "outlinewidth": 0,
            "ticks": ""
           }
          },
          "colorscale": {
           "diverging": [
            [
             0,
             "#8e0152"
            ],
            [
             0.1,
             "#c51b7d"
            ],
            [
             0.2,
             "#de77ae"
            ],
            [
             0.3,
             "#f1b6da"
            ],
            [
             0.4,
             "#fde0ef"
            ],
            [
             0.5,
             "#f7f7f7"
            ],
            [
             0.6,
             "#e6f5d0"
            ],
            [
             0.7,
             "#b8e186"
            ],
            [
             0.8,
             "#7fbc41"
            ],
            [
             0.9,
             "#4d9221"
            ],
            [
             1,
             "#276419"
            ]
           ],
           "sequential": [
            [
             0,
             "#0d0887"
            ],
            [
             0.1111111111111111,
             "#46039f"
            ],
            [
             0.2222222222222222,
             "#7201a8"
            ],
            [
             0.3333333333333333,
             "#9c179e"
            ],
            [
             0.4444444444444444,
             "#bd3786"
            ],
            [
             0.5555555555555556,
             "#d8576b"
            ],
            [
             0.6666666666666666,
             "#ed7953"
            ],
            [
             0.7777777777777778,
             "#fb9f3a"
            ],
            [
             0.8888888888888888,
             "#fdca26"
            ],
            [
             1,
             "#f0f921"
            ]
           ],
           "sequentialminus": [
            [
             0,
             "#0d0887"
            ],
            [
             0.1111111111111111,
             "#46039f"
            ],
            [
             0.2222222222222222,
             "#7201a8"
            ],
            [
             0.3333333333333333,
             "#9c179e"
            ],
            [
             0.4444444444444444,
             "#bd3786"
            ],
            [
             0.5555555555555556,
             "#d8576b"
            ],
            [
             0.6666666666666666,
             "#ed7953"
            ],
            [
             0.7777777777777778,
             "#fb9f3a"
            ],
            [
             0.8888888888888888,
             "#fdca26"
            ],
            [
             1,
             "#f0f921"
            ]
           ]
          },
          "colorway": [
           "#636efa",
           "#EF553B",
           "#00cc96",
           "#ab63fa",
           "#FFA15A",
           "#19d3f3",
           "#FF6692",
           "#B6E880",
           "#FF97FF",
           "#FECB52"
          ],
          "font": {
           "color": "#2a3f5f"
          },
          "geo": {
           "bgcolor": "white",
           "lakecolor": "white",
           "landcolor": "#E5ECF6",
           "showlakes": true,
           "showland": true,
           "subunitcolor": "white"
          },
          "hoverlabel": {
           "align": "left"
          },
          "hovermode": "closest",
          "mapbox": {
           "style": "light"
          },
          "paper_bgcolor": "white",
          "plot_bgcolor": "#E5ECF6",
          "polar": {
           "angularaxis": {
            "gridcolor": "white",
            "linecolor": "white",
            "ticks": ""
           },
           "bgcolor": "#E5ECF6",
           "radialaxis": {
            "gridcolor": "white",
            "linecolor": "white",
            "ticks": ""
           }
          },
          "scene": {
           "xaxis": {
            "backgroundcolor": "#E5ECF6",
            "gridcolor": "white",
            "gridwidth": 2,
            "linecolor": "white",
            "showbackground": true,
            "ticks": "",
            "zerolinecolor": "white"
           },
           "yaxis": {
            "backgroundcolor": "#E5ECF6",
            "gridcolor": "white",
            "gridwidth": 2,
            "linecolor": "white",
            "showbackground": true,
            "ticks": "",
            "zerolinecolor": "white"
           },
           "zaxis": {
            "backgroundcolor": "#E5ECF6",
            "gridcolor": "white",
            "gridwidth": 2,
            "linecolor": "white",
            "showbackground": true,
            "ticks": "",
            "zerolinecolor": "white"
           }
          },
          "shapedefaults": {
           "line": {
            "color": "#2a3f5f"
           }
          },
          "ternary": {
           "aaxis": {
            "gridcolor": "white",
            "linecolor": "white",
            "ticks": ""
           },
           "baxis": {
            "gridcolor": "white",
            "linecolor": "white",
            "ticks": ""
           },
           "bgcolor": "#E5ECF6",
           "caxis": {
            "gridcolor": "white",
            "linecolor": "white",
            "ticks": ""
           }
          },
          "title": {
           "x": 0.05
          },
          "xaxis": {
           "automargin": true,
           "gridcolor": "white",
           "linecolor": "white",
           "ticks": "",
           "title": {
            "standoff": 15
           },
           "zerolinecolor": "white",
           "zerolinewidth": 2
          },
          "yaxis": {
           "automargin": true,
           "gridcolor": "white",
           "linecolor": "white",
           "ticks": "",
           "title": {
            "standoff": 15
           },
           "zerolinecolor": "white",
           "zerolinewidth": 2
          }
         }
        },
        "xaxis": {
         "anchor": "y",
         "domain": [
          0,
          1
         ],
         "title": {
          "text": "x"
         }
        },
        "yaxis": {
         "anchor": "x",
         "domain": [
          0,
          1
         ],
         "title": {
          "text": "value"
         }
        }
       }
      },
      "text/html": [
       "<div>                            <div id=\"24808230-3803-4cf0-8021-7179b302754e\" class=\"plotly-graph-div\" style=\"height:525px; width:100%;\"></div>            <script type=\"text/javascript\">                require([\"plotly\"], function(Plotly) {                    window.PLOTLYENV=window.PLOTLYENV || {};                                    if (document.getElementById(\"24808230-3803-4cf0-8021-7179b302754e\")) {                    Plotly.newPlot(                        \"24808230-3803-4cf0-8021-7179b302754e\",                        [{\"hovertemplate\": \"variable=wide_variable_0<br>x=%{x}<br>value=%{y}<extra></extra>\", \"legendgroup\": \"wide_variable_0\", \"line\": {\"color\": \"#636efa\", \"dash\": \"solid\"}, \"mode\": \"lines\", \"name\": \"wide_variable_0\", \"orientation\": \"v\", \"showlegend\": true, \"type\": \"scatter\", \"x\": [1, 2, 3, 4, 5, 6, 7, 8, 9, 10, 11, 12, 13, 14, 15], \"xaxis\": \"x\", \"y\": [0.5558850169181824, 0.46733343601226807, 0.4235529601573944, 0.39966481924057007, 0.3828718066215515, 0.37033870816230774, 0.36512917280197144, 0.3628172278404236, 0.3602081835269928, 0.35867246985435486, 0.35614752769470215, 0.35571274161338806, 0.35451650619506836, 0.35433143377304077, 0.3536810874938965], \"yaxis\": \"y\"}, {\"hovertemplate\": \"variable=wide_variable_1<br>x=%{x}<br>value=%{y}<extra></extra>\", \"legendgroup\": \"wide_variable_1\", \"line\": {\"color\": \"#EF553B\", \"dash\": \"solid\"}, \"mode\": \"lines\", \"name\": \"wide_variable_1\", \"orientation\": \"v\", \"showlegend\": true, \"type\": \"scatter\", \"x\": [1, 2, 3, 4, 5, 6, 7, 8, 9, 10, 11, 12, 13, 14, 15], \"xaxis\": \"x\", \"y\": [0.6927989721298218, 0.32659220695495605, 0.45941075682640076, 0.73846435546875, 1.0966757535934448, 1.2485970258712769, 1.39451265335083, 1.5036463737487793, 1.724442958831787, 2.6150476932525635, 3.3802530765533447, 3.8941309452056885, 3.6729238033294678, 4.021822452545166, 4.706464767456055], \"yaxis\": \"y\"}],                        {\"legend\": {\"title\": {\"text\": \"variable\"}, \"tracegroupgap\": 0}, \"margin\": {\"t\": 60}, \"template\": {\"data\": {\"bar\": [{\"error_x\": {\"color\": \"#2a3f5f\"}, \"error_y\": {\"color\": \"#2a3f5f\"}, \"marker\": {\"line\": {\"color\": \"#E5ECF6\", \"width\": 0.5}}, \"type\": \"bar\"}], \"barpolar\": [{\"marker\": {\"line\": {\"color\": \"#E5ECF6\", \"width\": 0.5}}, \"type\": \"barpolar\"}], \"carpet\": [{\"aaxis\": {\"endlinecolor\": \"#2a3f5f\", \"gridcolor\": \"white\", \"linecolor\": \"white\", \"minorgridcolor\": \"white\", \"startlinecolor\": \"#2a3f5f\"}, \"baxis\": {\"endlinecolor\": \"#2a3f5f\", \"gridcolor\": \"white\", \"linecolor\": \"white\", \"minorgridcolor\": \"white\", \"startlinecolor\": \"#2a3f5f\"}, \"type\": \"carpet\"}], \"choropleth\": [{\"colorbar\": {\"outlinewidth\": 0, \"ticks\": \"\"}, \"type\": \"choropleth\"}], \"contour\": [{\"colorbar\": {\"outlinewidth\": 0, \"ticks\": \"\"}, \"colorscale\": [[0.0, \"#0d0887\"], [0.1111111111111111, \"#46039f\"], [0.2222222222222222, \"#7201a8\"], [0.3333333333333333, \"#9c179e\"], [0.4444444444444444, \"#bd3786\"], [0.5555555555555556, \"#d8576b\"], [0.6666666666666666, \"#ed7953\"], [0.7777777777777778, \"#fb9f3a\"], [0.8888888888888888, \"#fdca26\"], [1.0, \"#f0f921\"]], \"type\": \"contour\"}], \"contourcarpet\": [{\"colorbar\": {\"outlinewidth\": 0, \"ticks\": \"\"}, \"type\": \"contourcarpet\"}], \"heatmap\": [{\"colorbar\": {\"outlinewidth\": 0, \"ticks\": \"\"}, \"colorscale\": [[0.0, \"#0d0887\"], [0.1111111111111111, \"#46039f\"], [0.2222222222222222, \"#7201a8\"], [0.3333333333333333, \"#9c179e\"], [0.4444444444444444, \"#bd3786\"], [0.5555555555555556, \"#d8576b\"], [0.6666666666666666, \"#ed7953\"], [0.7777777777777778, \"#fb9f3a\"], [0.8888888888888888, \"#fdca26\"], [1.0, \"#f0f921\"]], \"type\": \"heatmap\"}], \"heatmapgl\": [{\"colorbar\": {\"outlinewidth\": 0, \"ticks\": \"\"}, \"colorscale\": [[0.0, \"#0d0887\"], [0.1111111111111111, \"#46039f\"], [0.2222222222222222, \"#7201a8\"], [0.3333333333333333, \"#9c179e\"], [0.4444444444444444, \"#bd3786\"], [0.5555555555555556, \"#d8576b\"], [0.6666666666666666, \"#ed7953\"], [0.7777777777777778, \"#fb9f3a\"], [0.8888888888888888, \"#fdca26\"], [1.0, \"#f0f921\"]], \"type\": \"heatmapgl\"}], \"histogram\": [{\"marker\": {\"colorbar\": {\"outlinewidth\": 0, \"ticks\": \"\"}}, \"type\": \"histogram\"}], \"histogram2d\": [{\"colorbar\": {\"outlinewidth\": 0, \"ticks\": \"\"}, \"colorscale\": [[0.0, \"#0d0887\"], [0.1111111111111111, \"#46039f\"], [0.2222222222222222, \"#7201a8\"], [0.3333333333333333, \"#9c179e\"], [0.4444444444444444, \"#bd3786\"], [0.5555555555555556, \"#d8576b\"], [0.6666666666666666, \"#ed7953\"], [0.7777777777777778, \"#fb9f3a\"], [0.8888888888888888, \"#fdca26\"], [1.0, \"#f0f921\"]], \"type\": \"histogram2d\"}], \"histogram2dcontour\": [{\"colorbar\": {\"outlinewidth\": 0, \"ticks\": \"\"}, \"colorscale\": [[0.0, \"#0d0887\"], [0.1111111111111111, \"#46039f\"], [0.2222222222222222, \"#7201a8\"], [0.3333333333333333, \"#9c179e\"], [0.4444444444444444, \"#bd3786\"], [0.5555555555555556, \"#d8576b\"], [0.6666666666666666, \"#ed7953\"], [0.7777777777777778, \"#fb9f3a\"], [0.8888888888888888, \"#fdca26\"], [1.0, \"#f0f921\"]], \"type\": \"histogram2dcontour\"}], \"mesh3d\": [{\"colorbar\": {\"outlinewidth\": 0, \"ticks\": \"\"}, \"type\": \"mesh3d\"}], \"parcoords\": [{\"line\": {\"colorbar\": {\"outlinewidth\": 0, \"ticks\": \"\"}}, \"type\": \"parcoords\"}], \"pie\": [{\"automargin\": true, \"type\": \"pie\"}], \"scatter\": [{\"marker\": {\"colorbar\": {\"outlinewidth\": 0, \"ticks\": \"\"}}, \"type\": \"scatter\"}], \"scatter3d\": [{\"line\": {\"colorbar\": {\"outlinewidth\": 0, \"ticks\": \"\"}}, \"marker\": {\"colorbar\": {\"outlinewidth\": 0, \"ticks\": \"\"}}, \"type\": \"scatter3d\"}], \"scattercarpet\": [{\"marker\": {\"colorbar\": {\"outlinewidth\": 0, \"ticks\": \"\"}}, \"type\": \"scattercarpet\"}], \"scattergeo\": [{\"marker\": {\"colorbar\": {\"outlinewidth\": 0, \"ticks\": \"\"}}, \"type\": \"scattergeo\"}], \"scattergl\": [{\"marker\": {\"colorbar\": {\"outlinewidth\": 0, \"ticks\": \"\"}}, \"type\": \"scattergl\"}], \"scattermapbox\": [{\"marker\": {\"colorbar\": {\"outlinewidth\": 0, \"ticks\": \"\"}}, \"type\": \"scattermapbox\"}], \"scatterpolar\": [{\"marker\": {\"colorbar\": {\"outlinewidth\": 0, \"ticks\": \"\"}}, \"type\": \"scatterpolar\"}], \"scatterpolargl\": [{\"marker\": {\"colorbar\": {\"outlinewidth\": 0, \"ticks\": \"\"}}, \"type\": \"scatterpolargl\"}], \"scatterternary\": [{\"marker\": {\"colorbar\": {\"outlinewidth\": 0, \"ticks\": \"\"}}, \"type\": \"scatterternary\"}], \"surface\": [{\"colorbar\": {\"outlinewidth\": 0, \"ticks\": \"\"}, \"colorscale\": [[0.0, \"#0d0887\"], [0.1111111111111111, \"#46039f\"], [0.2222222222222222, \"#7201a8\"], [0.3333333333333333, \"#9c179e\"], [0.4444444444444444, \"#bd3786\"], [0.5555555555555556, \"#d8576b\"], [0.6666666666666666, \"#ed7953\"], [0.7777777777777778, \"#fb9f3a\"], [0.8888888888888888, \"#fdca26\"], [1.0, \"#f0f921\"]], \"type\": \"surface\"}], \"table\": [{\"cells\": {\"fill\": {\"color\": \"#EBF0F8\"}, \"line\": {\"color\": \"white\"}}, \"header\": {\"fill\": {\"color\": \"#C8D4E3\"}, \"line\": {\"color\": \"white\"}}, \"type\": \"table\"}]}, \"layout\": {\"annotationdefaults\": {\"arrowcolor\": \"#2a3f5f\", \"arrowhead\": 0, \"arrowwidth\": 1}, \"autotypenumbers\": \"strict\", \"coloraxis\": {\"colorbar\": {\"outlinewidth\": 0, \"ticks\": \"\"}}, \"colorscale\": {\"diverging\": [[0, \"#8e0152\"], [0.1, \"#c51b7d\"], [0.2, \"#de77ae\"], [0.3, \"#f1b6da\"], [0.4, \"#fde0ef\"], [0.5, \"#f7f7f7\"], [0.6, \"#e6f5d0\"], [0.7, \"#b8e186\"], [0.8, \"#7fbc41\"], [0.9, \"#4d9221\"], [1, \"#276419\"]], \"sequential\": [[0.0, \"#0d0887\"], [0.1111111111111111, \"#46039f\"], [0.2222222222222222, \"#7201a8\"], [0.3333333333333333, \"#9c179e\"], [0.4444444444444444, \"#bd3786\"], [0.5555555555555556, \"#d8576b\"], [0.6666666666666666, \"#ed7953\"], [0.7777777777777778, \"#fb9f3a\"], [0.8888888888888888, \"#fdca26\"], [1.0, \"#f0f921\"]], \"sequentialminus\": [[0.0, \"#0d0887\"], [0.1111111111111111, \"#46039f\"], [0.2222222222222222, \"#7201a8\"], [0.3333333333333333, \"#9c179e\"], [0.4444444444444444, \"#bd3786\"], [0.5555555555555556, \"#d8576b\"], [0.6666666666666666, \"#ed7953\"], [0.7777777777777778, \"#fb9f3a\"], [0.8888888888888888, \"#fdca26\"], [1.0, \"#f0f921\"]]}, \"colorway\": [\"#636efa\", \"#EF553B\", \"#00cc96\", \"#ab63fa\", \"#FFA15A\", \"#19d3f3\", \"#FF6692\", \"#B6E880\", \"#FF97FF\", \"#FECB52\"], \"font\": {\"color\": \"#2a3f5f\"}, \"geo\": {\"bgcolor\": \"white\", \"lakecolor\": \"white\", \"landcolor\": \"#E5ECF6\", \"showlakes\": true, \"showland\": true, \"subunitcolor\": \"white\"}, \"hoverlabel\": {\"align\": \"left\"}, \"hovermode\": \"closest\", \"mapbox\": {\"style\": \"light\"}, \"paper_bgcolor\": \"white\", \"plot_bgcolor\": \"#E5ECF6\", \"polar\": {\"angularaxis\": {\"gridcolor\": \"white\", \"linecolor\": \"white\", \"ticks\": \"\"}, \"bgcolor\": \"#E5ECF6\", \"radialaxis\": {\"gridcolor\": \"white\", \"linecolor\": \"white\", \"ticks\": \"\"}}, \"scene\": {\"xaxis\": {\"backgroundcolor\": \"#E5ECF6\", \"gridcolor\": \"white\", \"gridwidth\": 2, \"linecolor\": \"white\", \"showbackground\": true, \"ticks\": \"\", \"zerolinecolor\": \"white\"}, \"yaxis\": {\"backgroundcolor\": \"#E5ECF6\", \"gridcolor\": \"white\", \"gridwidth\": 2, \"linecolor\": \"white\", \"showbackground\": true, \"ticks\": \"\", \"zerolinecolor\": \"white\"}, \"zaxis\": {\"backgroundcolor\": \"#E5ECF6\", \"gridcolor\": \"white\", \"gridwidth\": 2, \"linecolor\": \"white\", \"showbackground\": true, \"ticks\": \"\", \"zerolinecolor\": \"white\"}}, \"shapedefaults\": {\"line\": {\"color\": \"#2a3f5f\"}}, \"ternary\": {\"aaxis\": {\"gridcolor\": \"white\", \"linecolor\": \"white\", \"ticks\": \"\"}, \"baxis\": {\"gridcolor\": \"white\", \"linecolor\": \"white\", \"ticks\": \"\"}, \"bgcolor\": \"#E5ECF6\", \"caxis\": {\"gridcolor\": \"white\", \"linecolor\": \"white\", \"ticks\": \"\"}}, \"title\": {\"x\": 0.05}, \"xaxis\": {\"automargin\": true, \"gridcolor\": \"white\", \"linecolor\": \"white\", \"ticks\": \"\", \"title\": {\"standoff\": 15}, \"zerolinecolor\": \"white\", \"zerolinewidth\": 2}, \"yaxis\": {\"automargin\": true, \"gridcolor\": \"white\", \"linecolor\": \"white\", \"ticks\": \"\", \"title\": {\"standoff\": 15}, \"zerolinecolor\": \"white\", \"zerolinewidth\": 2}}}, \"xaxis\": {\"anchor\": \"y\", \"domain\": [0.0, 1.0], \"title\": {\"text\": \"x\"}}, \"yaxis\": {\"anchor\": \"x\", \"domain\": [0.0, 1.0], \"title\": {\"text\": \"value\"}}},                        {\"responsive\": true}                    ).then(function(){\n",
       "                            \n",
       "var gd = document.getElementById('24808230-3803-4cf0-8021-7179b302754e');\n",
       "var x = new MutationObserver(function (mutations, observer) {{\n",
       "        var display = window.getComputedStyle(gd).display;\n",
       "        if (!display || display === 'none') {{\n",
       "            console.log([gd, 'removed!']);\n",
       "            Plotly.purge(gd);\n",
       "            observer.disconnect();\n",
       "        }}\n",
       "}});\n",
       "\n",
       "// Listen for the removal of the full notebook cells\n",
       "var notebookContainer = gd.closest('#notebook-container');\n",
       "if (notebookContainer) {{\n",
       "    x.observe(notebookContainer, {childList: true});\n",
       "}}\n",
       "\n",
       "// Listen for the clearing of the current output cell\n",
       "var outputEl = gd.closest('.output');\n",
       "if (outputEl) {{\n",
       "    x.observe(outputEl, {childList: true});\n",
       "}}\n",
       "\n",
       "                        })                };                });            </script>        </div>"
      ]
     },
     "metadata": {},
     "output_type": "display_data"
    }
   ],
   "source": [
    "import plotly.express as px\n",
    "\n",
    "axis = list(range(1, len(history['value_head_loss']) + 1))\n",
    "px.line(x=axis, y=[history['value_head_loss'], history['policy_head_loss']])"
   ]
  },
  {
   "cell_type": "code",
   "execution_count": 110,
   "id": "functional-distributor",
   "metadata": {},
   "outputs": [
    {
     "name": "stdout",
     "output_type": "stream",
     "text": [
      "13749/13749 [==============================] - 39s 3ms/step - loss: 3.6336 - value_head_loss: 0.3785 - policy_head_loss: 6.8887 - value_head_acc: 0.4107 - policy_head_acc: 0.2631\n"
     ]
    },
    {
     "data": {
      "text/plain": [
       "[3.633585214614868,\n",
       " 0.37848958373069763,\n",
       " 6.888680458068848,\n",
       " 0.4106842577457428,\n",
       " 0.2630922198295593]"
      ]
     },
     "execution_count": 110,
     "metadata": {},
     "output_type": "execute_result"
    }
   ],
   "source": [
    "model.evaluate(x_test, y_test)"
   ]
  },
  {
   "cell_type": "code",
   "execution_count": 112,
   "id": "worst-winning",
   "metadata": {
    "pycharm": {
     "name": "#%%\n"
    }
   },
   "outputs": [],
   "source": [
    "def print_example():\n",
    "    i = np.random.choice(len(x))\n",
    "    x_ = x[i:i+1]\n",
    "    v_, p_ = v[i], p[i]\n",
    "\n",
    "    predictions = tuple(map(lambda y: y.numpy(), model(x_)))\n",
    "    \n",
    "    board = np.zeros(shape=(3, 3))\n",
    "    board[x_[0, ..., 0] == 1] = 1\n",
    "    board[x_[0, ..., 1] == 1] = -1\n",
    "    \n",
    "    print(board)\n",
    "    print()\n",
    "    print(x_[..., 0], x_[..., 1], x_[..., 2], sep='\\n\\n')\n",
    "    print()\n",
    "    print(\"Expected values:\")\n",
    "    print(v_, p_, sep=' \\n')\n",
    "    print()\n",
    "    print(\"Predicted values\")\n",
    "    print(*predictions, sep='\\n')\n",
    "    print(np.argmax(predictions[1]))"
   ]
  },
  {
   "cell_type": "code",
   "execution_count": 123,
   "id": "interracial-meeting",
   "metadata": {
    "pycharm": {
     "name": "#%%\n"
    }
   },
   "outputs": [
    {
     "name": "stdout",
     "output_type": "stream",
     "text": [
      "[[ 0. -1.  0.]\n",
      " [ 0. -1.  1.]\n",
      " [ 1.  1. -1.]]\n",
      "\n",
      "[[[0. 0. 0.]\n",
      "  [0. 0. 1.]\n",
      "  [1. 1. 0.]]]\n",
      "\n",
      "[[[0. 1. 0.]\n",
      "  [0. 1. 0.]\n",
      "  [0. 0. 1.]]]\n",
      "\n",
      "[[[0. 0. 0.]\n",
      "  [0. 0. 0.]\n",
      "  [0. 0. 0.]]]\n",
      "\n",
      "Expected values:\n",
      "0.0 \n",
      "[1. 0. 0. 0. 0. 0. 0. 0. 0.]\n",
      "\n",
      "Predicted values\n",
      "[[0.66630834]]\n",
      "[[1.9943116e-06 3.2732897e-10 9.9978834e-01 2.0906444e-04 1.9628066e-08\n",
      "  3.6516185e-10 1.0458939e-12 3.3853132e-07 2.0452914e-07]]\n",
      "2\n"
     ]
    }
   ],
   "source": [
    "print_example()"
   ]
  },
  {
   "cell_type": "code",
   "execution_count": 88,
   "id": "sound-status",
   "metadata": {},
   "outputs": [
    {
     "name": "stdout",
     "output_type": "stream",
     "text": [
      " | | \n",
      "-+-+-\n",
      " | | \n",
      "-+-+-\n",
      " | | \n",
      "\n"
     ]
    }
   ],
   "source": [
    "game.reset()\n",
    "game.render()"
   ]
  },
  {
   "cell_type": "code",
   "execution_count": 98,
   "id": "relevant-oregon",
   "metadata": {},
   "outputs": [
    {
     "name": "stdout",
     "output_type": "stream",
     "text": [
      "X|X|O\n",
      "-+-+-\n",
      "X|X| \n",
      "-+-+-\n",
      "O|O| \n",
      "\n"
     ]
    }
   ],
   "source": [
    "observation, _, _, _ = game.step(4)\n",
    "game.render()"
   ]
  },
  {
   "cell_type": "code",
   "execution_count": 99,
   "id": "cognitive-girlfriend",
   "metadata": {},
   "outputs": [
    {
     "data": {
      "text/plain": [
       "(array([[0.934794]], dtype=float32),\n",
       " array([[0.00608047, 0.30944157, 0.0160199 , 0.00049814, 0.00040816,\n",
       "         0.17290425, 0.14250521, 0.1662804 , 0.18586186]], dtype=float32),\n",
       " 1)"
      ]
     },
     "execution_count": 99,
     "metadata": {},
     "output_type": "execute_result"
    }
   ],
   "source": [
    "n = Node(observation, game.to_play)\n",
    "v_, p_ = model(n.x.reshape(1, 3, 3, 3))\n",
    "v_.numpy(), p_.numpy(), np.argmax(p_)"
   ]
  },
  {
   "cell_type": "code",
   "execution_count": null,
   "id": "blond-harvey",
   "metadata": {},
   "outputs": [],
   "source": []
  }
 ],
 "metadata": {
  "kernelspec": {
   "display_name": "AlphaZero",
   "language": "python",
   "name": "alphazero"
  },
  "language_info": {
   "codemirror_mode": {
    "name": "ipython",
    "version": 3
   },
   "file_extension": ".py",
   "mimetype": "text/x-python",
   "name": "python",
   "nbconvert_exporter": "python",
   "pygments_lexer": "ipython3",
   "version": "3.8.8"
  }
 },
 "nbformat": 4,
 "nbformat_minor": 5
}